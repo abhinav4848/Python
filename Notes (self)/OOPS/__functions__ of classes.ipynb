{
 "cells": [
  {
   "cell_type": "markdown",
   "metadata": {},
   "source": [
    "# `__class__`\n",
    "The point of both an interface and an abstract class is to provide an API which has to be implemented in a concrete class.\n",
    "\n",
    "`self.__class__` is a reference to the type of the current instance.\n",
    "\n",
    "For instances of abstract1, that'd be the abstract1 class itself, which is what you don't want with an abstract class. Abstract classes are only meant to be subclassed, not to create instances directly.\\\n",
    "\n",
    "https://stackoverflow.com/a/20688458/2365231"
   ]
  },
  {
   "cell_type": "code",
   "execution_count": 6,
   "metadata": {},
   "outputs": [],
   "source": [
    "class abstract1(object):\n",
    "    def __init__(self):\n",
    "        \n",
    "        # non-pythonic way\n",
    "        # if self.__class__ == abstract1: \n",
    "        #     raise NotImplementedError(\"Interfaces can't be instantiated\")\n",
    "        \n",
    "        # pythonic way\n",
    "        if type(self) is abstract1: \n",
    "            raise NotImplementedError(\"Interfaces can't be instantiated\")\n",
    "\n",
    "class Foo(abstract1): pass"
   ]
  },
  {
   "cell_type": "code",
   "execution_count": 7,
   "metadata": {},
   "outputs": [
    {
     "ename": "NotImplementedError",
     "evalue": "Interfaces can't be instantiated",
     "output_type": "error",
     "traceback": [
      "\u001b[1;31m---------------------------------------------------------------------------\u001b[0m",
      "\u001b[1;31mNotImplementedError\u001b[0m                       Traceback (most recent call last)",
      "\u001b[1;32m<ipython-input-7-af83d90c2d53>\u001b[0m in \u001b[0;36m<module>\u001b[1;34m\u001b[0m\n\u001b[1;32m----> 1\u001b[1;33m \u001b[0mabstract\u001b[0m \u001b[1;33m=\u001b[0m \u001b[0mabstract1\u001b[0m\u001b[1;33m(\u001b[0m\u001b[1;33m)\u001b[0m\u001b[1;33m\u001b[0m\u001b[1;33m\u001b[0m\u001b[0m\n\u001b[0m",
      "\u001b[1;32m<ipython-input-6-7d2da3d50fe6>\u001b[0m in \u001b[0;36m__init__\u001b[1;34m(self)\u001b[0m\n\u001b[0;32m      8\u001b[0m         \u001b[1;31m# pythonic way\u001b[0m\u001b[1;33m\u001b[0m\u001b[1;33m\u001b[0m\u001b[1;33m\u001b[0m\u001b[0m\n\u001b[0;32m      9\u001b[0m         \u001b[1;32mif\u001b[0m \u001b[0mtype\u001b[0m\u001b[1;33m(\u001b[0m\u001b[0mself\u001b[0m\u001b[1;33m)\u001b[0m \u001b[1;32mis\u001b[0m \u001b[0mabstract1\u001b[0m\u001b[1;33m:\u001b[0m\u001b[1;33m\u001b[0m\u001b[1;33m\u001b[0m\u001b[0m\n\u001b[1;32m---> 10\u001b[1;33m             \u001b[1;32mraise\u001b[0m \u001b[0mNotImplementedError\u001b[0m\u001b[1;33m(\u001b[0m\u001b[1;34m\"Interfaces can't be instantiated\"\u001b[0m\u001b[1;33m)\u001b[0m\u001b[1;33m\u001b[0m\u001b[1;33m\u001b[0m\u001b[0m\n\u001b[0m\u001b[0;32m     11\u001b[0m \u001b[1;33m\u001b[0m\u001b[0m\n\u001b[0;32m     12\u001b[0m \u001b[1;32mclass\u001b[0m \u001b[0mFoo\u001b[0m\u001b[1;33m(\u001b[0m\u001b[0mabstract1\u001b[0m\u001b[1;33m)\u001b[0m\u001b[1;33m:\u001b[0m \u001b[1;32mpass\u001b[0m\u001b[1;33m\u001b[0m\u001b[1;33m\u001b[0m\u001b[0m\n",
      "\u001b[1;31mNotImplementedError\u001b[0m: Interfaces can't be instantiated"
     ]
    }
   ],
   "source": [
    "abstract = abstract1()"
   ]
  },
  {
   "cell_type": "code",
   "execution_count": 11,
   "metadata": {},
   "outputs": [],
   "source": [
    "concrete = Foo() # no errors"
   ]
  },
  {
   "cell_type": "markdown",
   "metadata": {},
   "source": [
    "# `__eq__`"
   ]
  },
  {
   "cell_type": "code",
   "execution_count": 64,
   "metadata": {},
   "outputs": [
    {
     "name": "stdout",
     "output_type": "stream",
     "text": [
      "t1 is same as t2\n",
      "t1:  4:5:22\n",
      "t2:  4:5:22\n"
     ]
    }
   ],
   "source": [
    "class Time: \n",
    "    def __init__(self, hours=0, minutes=0, seconds=0): \n",
    "        self.hours = hours \n",
    "        self.minutes = minutes \n",
    "        self.seconds = seconds\n",
    "    \n",
    "    def __eq__(self, other):\n",
    "        # assume both are of same class\n",
    "        if ((self.hours == other.hours) and (self.minutes == other.minutes) and (self.seconds == other.seconds)): \n",
    "            return True \n",
    "        else:\n",
    "            return False\n",
    "    \n",
    "    def __str__(self):\n",
    "        return str(self.hours) + \":\" + str(self.minutes) + \":\" + str(self.seconds) \n",
    "\n",
    "t1 = Time(4,5,22) \n",
    "t2 = Time(4,5,22)\n",
    "\n",
    "if (t1 == t2):\n",
    "    print(\"t1 is same as t2\")\n",
    "else:\n",
    "    print(\"t1 is different from t2\")\n",
    "\n",
    "print(\"t1: \",t1)\n",
    "print(\"t2: \",t2)"
   ]
  },
  {
   "cell_type": "code",
   "execution_count": 70,
   "metadata": {},
   "outputs": [
    {
     "name": "stdout",
     "output_type": "stream",
     "text": [
      "A __eq__ called. <__main__.A object at 0x0000019658B2D198> == <__main__.B object at 0x0000019658ABF668>\n",
      "B __eq__ called. <__main__.B object at 0x0000019658ABF668> == 4\n"
     ]
    },
    {
     "data": {
      "text/plain": [
       "False"
      ]
     },
     "execution_count": 70,
     "metadata": {},
     "output_type": "execute_result"
    }
   ],
   "source": [
    "# confused about why second {other} works (gives 4) but first {other} doesn't (gives memory space)\n",
    "class A():\n",
    "    def __init__(self,value):\n",
    "        self.value = value\n",
    "        \n",
    "    def __eq__(self, other):\n",
    "        print(f\"A __eq__ called. {self} == {other}\")\n",
    "        return self.value == other\n",
    "    \n",
    "class B():\n",
    "    def __init__(self,value):\n",
    "        self.value = value\n",
    "        \n",
    "    def __eq__(self, other):\n",
    "        print(f\"B __eq__ called. {self} == {other}\")\n",
    "        return self.value == other\n",
    "\n",
    "a = A(4)\n",
    "b = B(5)\n",
    "a == b"
   ]
  },
  {
   "cell_type": "markdown",
   "metadata": {},
   "source": [
    "#### Box != Ball\n",
    "use of `isinstance()` to better calculate `__eq__`\n",
    "\n",
    "https://devinpractice.com/2016/11/29/python-objects-comparison/"
   ]
  },
  {
   "cell_type": "code",
   "execution_count": 33,
   "metadata": {},
   "outputs": [
    {
     "name": "stdout",
     "output_type": "stream",
     "text": [
      "True\n",
      "False\n"
     ]
    }
   ],
   "source": [
    "class Ball(object):\n",
    "\n",
    "    def __init__(self, color, size):\n",
    "        self.color = color\n",
    "        self.size = size\n",
    "\n",
    "    def __eq__(self, other):\n",
    "        \"\"\"Override the default Equals behavior\"\"\"\n",
    "        return self.color == other.color and self.size == other.size\n",
    "\n",
    "ball1 = Ball('blue', 'small')\n",
    "ball2 = Ball('blue', 'small')\n",
    "ball3 = Ball('green', 'small')\n",
    "\n",
    "print(ball1 == ball2) # Prints True \n",
    "print(ball1 == ball3) # Prints False"
   ]
  },
  {
   "cell_type": "code",
   "execution_count": 34,
   "metadata": {},
   "outputs": [
    {
     "name": "stdout",
     "output_type": "stream",
     "text": [
      "True\n"
     ]
    }
   ],
   "source": [
    "class Box(object):\n",
    "    # everything same as for ball\n",
    "    def __init__(self, color, size):\n",
    "        self.color = color\n",
    "        self.size = size\n",
    "\n",
    "    def __eq__(self, other):\n",
    "        \"\"\"Override the default Equals behavior\"\"\"\n",
    "        return self.color == other.color and self.size == other.size\n",
    "\n",
    "ball1 = Ball('red', 'small')\n",
    "box1 = Box('red', 'small')\n",
    "\n",
    "print(ball1 == box1)"
   ]
  },
  {
   "cell_type": "markdown",
   "metadata": {},
   "source": [
    "But a box is not a ball so we add `isinstance()`"
   ]
  },
  {
   "cell_type": "code",
   "execution_count": 40,
   "metadata": {},
   "outputs": [
    {
     "name": "stdout",
     "output_type": "stream",
     "text": [
      "box __eq__ is executed\n",
      "False\n",
      "ball __eq__ is executed\n",
      "False\n"
     ]
    }
   ],
   "source": [
    "class Ball(object):\n",
    "\n",
    "    def __init__(self, color, size):\n",
    "        self.color = color\n",
    "        self.size = size\n",
    "        \n",
    "    def __eq__(self, other):\n",
    "        \"\"\"Override the default Equals behavior\"\"\"\n",
    "        print(\"ball __eq__ is executed\")\n",
    "        if isinstance(other, self.__class__):\n",
    "            return self.color == other.color and self.size == other.size\n",
    "        return False\n",
    "\n",
    "class Box(object):\n",
    "\n",
    "    def __init__(self, color, size):\n",
    "        self.color = color\n",
    "        self.size = size\n",
    "\n",
    "    def __eq__(self, other):\n",
    "        \"\"\"Override the default Equals behavior\"\"\"\n",
    "        print(\"box __eq__ is executed\")\n",
    "        if isinstance(other, self.__class__):\n",
    "            return self.color == other.color and self.size == other.size\n",
    "        return False\n",
    "\n",
    "ball1 = Ball('red', 'small')\n",
    "box1 = Box('red', 'small')\n",
    "\n",
    "print(box1 == ball1)\n",
    "print(ball1 == box1)"
   ]
  },
  {
   "cell_type": "code",
   "execution_count": null,
   "metadata": {},
   "outputs": [],
   "source": []
  }
 ],
 "metadata": {
  "kernelspec": {
   "display_name": "Python 3",
   "language": "python",
   "name": "python3"
  },
  "language_info": {
   "codemirror_mode": {
    "name": "ipython",
    "version": 3
   },
   "file_extension": ".py",
   "mimetype": "text/x-python",
   "name": "python",
   "nbconvert_exporter": "python",
   "pygments_lexer": "ipython3",
   "version": "3.7.1"
  }
 },
 "nbformat": 4,
 "nbformat_minor": 2
}
