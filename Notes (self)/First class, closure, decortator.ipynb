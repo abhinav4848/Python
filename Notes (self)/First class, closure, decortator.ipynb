{
 "cells": [
  {
   "cell_type": "markdown",
   "metadata": {},
   "source": [
    "# First clas Functions\n",
    "i.e. A function can be used as an object.\n",
    "\n",
    "**Higher order Function**: if a function accepts a function as argument or returns a function, it's called a higher order function. Eg: `map()`\n",
    "\n",
    "**Free Variable**: \n",
    "```python\n",
    ">>> def bar():\n",
    "...   x = 1\n",
    "...   def foo():\n",
    "...     print(x)\n",
    "...     print(locals())\n",
    "...   foo()\n",
    "... \n",
    ">>> bar()\n",
    "1\n",
    "{'x':1}\n",
    "```\n",
    "In code above, x is a free variable cuz it's not defined within the inner function, but we still have access to it in the inner function\n",
    "\n",
    "A free variable is not defined in the current environment, (i.e. collection of local variables), and is also not a global variable! Therefore it must be defined elsewhere. And this is the concept of closures. In Code above, `foo()` closes on x defined in `bar()`.- [Source](https://stackoverflow.com/a/12919351/2365231)\n",
    "\n",
    "### Videos\n",
    "* [First Class Function](https://www.youtube.com/watch?v=kr0mpwqttM0)\n",
    "* [Closures](https://www.youtube.com/watch?v=swU3c34d2NQ)\n",
    "* [Decorators](https://youtu.be/FsAPt_9Bf3U)"
   ]
  },
  {
   "cell_type": "code",
   "execution_count": 1,
   "metadata": {},
   "outputs": [
    {
     "name": "stdout",
     "output_type": "stream",
     "text": [
      "<function square at 0x0000021AD4506BF8>\n",
      "25\n"
     ]
    }
   ],
   "source": [
    "# normal\n",
    "def square(x):\n",
    "    return x*x\n",
    "\n",
    "f = square(5)\n",
    "\n",
    "print(square)\n",
    "print(f)"
   ]
  },
  {
   "cell_type": "code",
   "execution_count": 3,
   "metadata": {},
   "outputs": [
    {
     "name": "stdout",
     "output_type": "stream",
     "text": [
      "<function square at 0x0000021AD4506730>\n",
      "<function square at 0x0000021AD4506730>\n",
      "25\n"
     ]
    }
   ],
   "source": [
    "# assign a function to a variable\n",
    "def square(x):\n",
    "    return x*x\n",
    "\n",
    "f = square\n",
    "\n",
    "print(square)\n",
    "print(f)\n",
    "print(f(5))"
   ]
  },
  {
   "cell_type": "code",
   "execution_count": 4,
   "metadata": {},
   "outputs": [
    {
     "name": "stdout",
     "output_type": "stream",
     "text": [
      "[1, 4, 9, 16, 25]\n"
     ]
    }
   ],
   "source": [
    "def square(x):\n",
    "    return x*x\n",
    "\n",
    "# custom built map function\n",
    "def my_map(func, arg_list):\n",
    "    result = []\n",
    "    for i in arg_list:\n",
    "        result.append(func(i))\n",
    "    return result\n",
    "\n",
    "squares = my_map(square, [1,2,3,4,5])\n",
    "print(squares)"
   ]
  },
  {
   "cell_type": "markdown",
   "metadata": {},
   "source": [
    "# Closures"
   ]
  },
  {
   "cell_type": "code",
   "execution_count": 25,
   "metadata": {},
   "outputs": [
    {
     "name": "stdout",
     "output_type": "stream",
     "text": [
      "Hi\n",
      "Hi\n",
      "None\n"
     ]
    }
   ],
   "source": [
    "def outer_func():\n",
    "    \n",
    "    msg = 'Hi'\n",
    "    # msg is a free variable\n",
    "    \n",
    "    def inner_func():\n",
    "        print(msg)\n",
    "    \n",
    "    return inner_func() # with executing\n",
    "\n",
    "outer_func()\n",
    "my_func = outer_func()\n",
    "print(my_func)"
   ]
  },
  {
   "cell_type": "code",
   "execution_count": 34,
   "metadata": {},
   "outputs": [
    {
     "name": "stdout",
     "output_type": "stream",
     "text": [
      "<function outer_func.<locals>.inner_func at 0x0000021AD496E6A8>\n",
      "inner_func\n",
      "inner_func\n",
      "Hi\n"
     ]
    }
   ],
   "source": [
    "def outer_func():\n",
    "    \n",
    "    msg = 'Hi'\n",
    "    # msg is a free variable\n",
    "    \n",
    "    def inner_func():\n",
    "        print(msg)\n",
    "    \n",
    "    return inner_func # without executing\n",
    "\n",
    "my_func = outer_func()\n",
    "print(my_func) # gives memory address of returned func\n",
    "print(my_func.__name__) # name of returned func\n",
    "print(outer_func().__name__) # name of returned func\n",
    "\n",
    "my_func() # execute returned func"
   ]
  },
  {
   "cell_type": "code",
   "execution_count": 35,
   "metadata": {},
   "outputs": [
    {
     "name": "stdout",
     "output_type": "stream",
     "text": [
      "Hi\n",
      "Hello\n"
     ]
    }
   ],
   "source": [
    "def outer_func(msg):\n",
    "    \n",
    "    def inner_func():\n",
    "        print(msg)\n",
    "    \n",
    "    return inner_func # without executing\n",
    "\n",
    "hi_func = outer_func('Hi')\n",
    "hello_func = outer_func('Hello')\n",
    "\n",
    "hi_func()\n",
    "hello_func()"
   ]
  },
  {
   "cell_type": "code",
   "execution_count": 41,
   "metadata": {},
   "outputs": [
    {
     "name": "stdout",
     "output_type": "stream",
     "text": [
      "<h1>Test Headline!</h1>\n",
      "<h1>Another Headline!</h1>\n",
      "<p>Test Paragraph!</p>\n"
     ]
    }
   ],
   "source": [
    "# when the inner func also takes parameters\n",
    "def html_tag(tag):\n",
    "\n",
    "    def wrap_text(msg):\n",
    "        print('<{0}>{1}</{0}>'.format(tag, msg))\n",
    "\n",
    "    return wrap_text\n",
    "\n",
    "print_h1 = html_tag('h1')\n",
    "print_h1('Test Headline!')\n",
    "print_h1('Another Headline!')\n",
    "\n",
    "print_p = html_tag('p')\n",
    "print_p('Test Paragraph!')"
   ]
  },
  {
   "cell_type": "code",
   "execution_count": 40,
   "metadata": {},
   "outputs": [
    {
     "name": "stdout",
     "output_type": "stream",
     "text": [
      "Log: Hi\n"
     ]
    }
   ],
   "source": [
    "def logger(msg):\n",
    "    \n",
    "    # msg is a free variable \n",
    "    def log_message():\n",
    "        print('Log:',msg)\n",
    "    \n",
    "    return log_message\n",
    "\n",
    "# log_hi = logger('Hi')\n",
    "# log_hi()\n",
    "\n",
    "logger('Hi')()"
   ]
  },
  {
   "cell_type": "code",
   "execution_count": 45,
   "metadata": {},
   "outputs": [
    {
     "name": "stdout",
     "output_type": "stream",
     "text": [
      "6\n",
      "9\n",
      "5\n",
      "10\n"
     ]
    }
   ],
   "source": [
    "# Example of a decorator\n",
    "import logging\n",
    "logging.basicConfig(filename='closures.log', level=logging.INFO)\n",
    "\n",
    "\n",
    "def logger(func):\n",
    "    # *args allows for passing arbitrary number of arguments to func\n",
    "    def log_func(*args):\n",
    "        logging.info(\n",
    "            'Running \"{}\" with arguments {}'.format(func.__name__, args))\n",
    "        print(func(*args))\n",
    "    return log_func\n",
    "\n",
    "\n",
    "def add(x, y):\n",
    "    return x+y\n",
    "\n",
    "\n",
    "def sub(x, y):\n",
    "    return x-y\n",
    "\n",
    "add_logger = logger(add)\n",
    "sub_logger = logger(sub)\n",
    "\n",
    "add_logger(3, 3)\n",
    "add_logger(4, 5)\n",
    "\n",
    "sub_logger(10, 5)\n",
    "sub_logger(20, 10)"
   ]
  },
  {
   "cell_type": "markdown",
   "metadata": {},
   "source": [
    "# Decorators\n",
    "```python\n",
    "@decorator_function\n",
    "def display():\n",
    "    print('display function ran')\n",
    "display()\n",
    "```\n",
    "is same as\n",
    "```python\n",
    "def display():\n",
    "    print('display function ran') \n",
    "display = decorator_function(display)\n",
    "display()\n",
    "```"
   ]
  },
  {
   "cell_type": "code",
   "execution_count": 57,
   "metadata": {},
   "outputs": [
    {
     "name": "stdout",
     "output_type": "stream",
     "text": [
      "Wrapper executed this before \"display\"\n",
      "display function ran\n"
     ]
    }
   ],
   "source": [
    "def decorator_function(original_function):\n",
    "    def wrapper_function():\n",
    "        print(f'Wrapper executed this before \"{original_function.__name__}\"')\n",
    "        return original_function()\n",
    "    return wrapper_function\n",
    "\n",
    "@decorator_function\n",
    "def display():\n",
    "    print('display function ran')\n",
    "    \n",
    "# display = decorator_function(display)\n",
    "\n",
    "display()"
   ]
  },
  {
   "cell_type": "markdown",
   "metadata": {},
   "source": [
    "## `*args`, `**kwargs`\n",
    "Create a deocrator function which can take misc number of arguments `*args`, `**kwargs`"
   ]
  },
  {
   "cell_type": "code",
   "execution_count": 65,
   "metadata": {},
   "outputs": [
    {
     "name": "stdout",
     "output_type": "stream",
     "text": [
      "Wrapper executed this before \"display_info\"\n",
      "Display info ran with arguments (John, 25)\n",
      "Wrapper executed this before \"display\"\n",
      "display function ran\n"
     ]
    }
   ],
   "source": [
    "def decorator_function(original_function):\n",
    "    def wrapper_function(*args, **kwargs):\n",
    "        print(f'Wrapper executed this before \"{original_function.__name__}\"')\n",
    "        return original_function(*args, **kwargs)\n",
    "    return wrapper_function\n",
    "\n",
    "@decorator_function\n",
    "def display():\n",
    "    print('display function ran')\n",
    "    \n",
    "@decorator_function\n",
    "def display_info(name, age):\n",
    "    print(f'Display info ran with arguments ({name}, {age})')\n",
    "\n",
    "display_info('John', 25)\n",
    "display()"
   ]
  },
  {
   "cell_type": "markdown",
   "metadata": {},
   "source": [
    "# Class decorators\n",
    "Converting below `decorator function` to `decorator class`\n",
    "```python\n",
    "def decorator_function(original_function):\n",
    "    def wrapper_function(*args, **kwargs):\n",
    "        print(f'Wrapper executed this before \"{original_function.__name__}\"')\n",
    "        return original_function(*args, **kwargs)\n",
    "    return wrapper_function\n",
    "```"
   ]
  },
  {
   "cell_type": "code",
   "execution_count": 68,
   "metadata": {},
   "outputs": [
    {
     "name": "stdout",
     "output_type": "stream",
     "text": [
      "Call method executed this before \"display_info\"\n",
      "Display info ran with arguments (John, 25)\n",
      "Call method executed this before \"display\"\n",
      "display function ran\n"
     ]
    }
   ],
   "source": [
    "class decorator_class():\n",
    "    def __init__(self, original_function):\n",
    "        self.original_function = original_function\n",
    "    \n",
    "    def __call__(self, *args, **kwargs):\n",
    "        print(f'Call method executed this before \"{self.original_function.__name__}\"')\n",
    "        return self.original_function(*args, **kwargs)\n",
    "\n",
    "@decorator_class\n",
    "def display():\n",
    "    print('display function ran')\n",
    "    \n",
    "@decorator_class\n",
    "def display_info(name, age):\n",
    "    print(f'Display info ran with arguments ({name}, {age})')\n",
    "\n",
    "display_info('John', 25)\n",
    "display()"
   ]
  },
  {
   "cell_type": "markdown",
   "metadata": {},
   "source": [
    "## Practical example for decorators"
   ]
  },
  {
   "cell_type": "code",
   "execution_count": 2,
   "metadata": {},
   "outputs": [
    {
     "name": "stdout",
     "output_type": "stream",
     "text": [
      "Display info ran with arguments (John, 25)\n"
     ]
    }
   ],
   "source": [
    "def my_logger(orig_func):\n",
    "    import logging\n",
    "    logging.basicConfig(filename='{}.log'.format(orig_func.__name__), level=logging.INFO)\n",
    "\n",
    "    def wrapper(*args, **kwargs):\n",
    "        logging.info('Ran with args: {}, and kwargs: {}'.format(args, kwargs))\n",
    "        return orig_func(*args, **kwargs)\n",
    "\n",
    "    return wrapper\n",
    "\n",
    "@my_logger\n",
    "def display_info(name, age):\n",
    "    print(f'Display info ran with arguments ({name}, {age})')\n",
    "\n",
    "display_info('John', 25)"
   ]
  },
  {
   "cell_type": "code",
   "execution_count": 6,
   "metadata": {},
   "outputs": [
    {
     "name": "stdout",
     "output_type": "stream",
     "text": [
      "Display info ran with arguments (John, 25)\n",
      "display_info ran in: 1.0009632110595703 sec\n"
     ]
    }
   ],
   "source": [
    "def my_timer(orig_func):\n",
    "    import time\n",
    "\n",
    "    # @wraps(orig_func)\n",
    "    def wrapper(*args, **kwargs):\n",
    "        t1 = time.time()\n",
    "        result = orig_func(*args, **kwargs)\n",
    "        t2 = time.time() - t1\n",
    "        print('{} ran in: {} sec'.format(orig_func.__name__, t2))\n",
    "        return result\n",
    "\n",
    "    return wrapper\n",
    "\n",
    "import time\n",
    "\n",
    "@my_timer\n",
    "def display_info(name, age):\n",
    "    time.sleep(1)\n",
    "    print(f'Display info ran with arguments ({name}, {age})')\n",
    "\n",
    "display_info('John', 25)"
   ]
  },
  {
   "cell_type": "markdown",
   "metadata": {},
   "source": [
    "## Chaining Decorators"
   ]
  },
  {
   "cell_type": "markdown",
   "metadata": {},
   "source": [
    "```python\n",
    "@my_logger\n",
    "@my_timer\n",
    "def display_info:\n",
    "    pass\n",
    "```\n",
    "is same as \n",
    "```python\n",
    "display_info = my_logger(my_timer(display_info))\n",
    "```\n",
    "\n",
    "Therefore, it's a good idea to preserve the information of our original function when we use decorators"
   ]
  },
  {
   "cell_type": "code",
   "execution_count": 7,
   "metadata": {},
   "outputs": [
    {
     "name": "stdout",
     "output_type": "stream",
     "text": [
      "display_info ran with arguments (Tom, 22)\n",
      "display_info ran in: 1.0012564659118652 sec\n"
     ]
    }
   ],
   "source": [
    "from functools import wraps\n",
    "\n",
    "\n",
    "def my_logger(orig_func):\n",
    "    import logging\n",
    "    logging.basicConfig(filename='{}.log'.format(orig_func.__name__), level=logging.INFO)\n",
    "\n",
    "    @wraps(orig_func)\n",
    "    def wrapper(*args, **kwargs):\n",
    "        logging.info(\n",
    "            'Ran with args: {}, and kwargs: {}'.format(args, kwargs))\n",
    "        return orig_func(*args, **kwargs)\n",
    "\n",
    "    return wrapper\n",
    "\n",
    "\n",
    "def my_timer(orig_func):\n",
    "    import time\n",
    "\n",
    "    @wraps(orig_func)\n",
    "    def wrapper(*args, **kwargs):\n",
    "        t1 = time.time()\n",
    "        result = orig_func(*args, **kwargs)\n",
    "        t2 = time.time() - t1\n",
    "        print('{} ran in: {} sec'.format(orig_func.__name__, t2))\n",
    "        return result\n",
    "\n",
    "    return wrapper\n",
    "\n",
    "import time\n",
    "\n",
    "\n",
    "@my_logger\n",
    "@my_timer\n",
    "def display_info(name, age):\n",
    "    time.sleep(1)\n",
    "    print('display_info ran with arguments ({}, {})'.format(name, age))\n",
    "\n",
    "display_info('Tom', 22)"
   ]
  },
  {
   "cell_type": "code",
   "execution_count": null,
   "metadata": {},
   "outputs": [],
   "source": []
  }
 ],
 "metadata": {
  "kernelspec": {
   "display_name": "Python 3",
   "language": "python",
   "name": "python3"
  },
  "language_info": {
   "codemirror_mode": {
    "name": "ipython",
    "version": 3
   },
   "file_extension": ".py",
   "mimetype": "text/x-python",
   "name": "python",
   "nbconvert_exporter": "python",
   "pygments_lexer": "ipython3",
   "version": "3.7.1"
  }
 },
 "nbformat": 4,
 "nbformat_minor": 2
}
