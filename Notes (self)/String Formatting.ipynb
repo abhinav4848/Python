{
 "cells": [
  {
   "cell_type": "markdown",
   "metadata": {},
   "source": [
    "# String Formatting\n",
    "https://stackoverflow.com/a/50340297/2365231\n",
    "\n",
    "https://docs.python.org/3/library/string.html#format-specification-mini-language\n",
    "\n",
    "[How do I create a multiline Python string with inline variables?](https://stackoverflow.com/a/10112665/2365231)"
   ]
  },
  {
   "cell_type": "code",
   "execution_count": 1,
   "metadata": {},
   "outputs": [
    {
     "name": "stdout",
     "output_type": "stream",
     "text": [
      "342,245.34\n"
     ]
    }
   ],
   "source": [
    "print(\"{:,.2f}\".format(342245.3423))"
   ]
  },
  {
   "cell_type": "code",
   "execution_count": 2,
   "metadata": {},
   "outputs": [
    {
     "name": "stdout",
     "output_type": "stream",
     "text": [
      "9,223,372,036,854,775,807\n"
     ]
    }
   ],
   "source": [
    "import sys\n",
    "print('{:,}'.format(sys.maxsize))"
   ]
  },
  {
   "cell_type": "code",
   "execution_count": 3,
   "metadata": {},
   "outputs": [
    {
     "data": {
      "text/plain": [
       "'20.00000'"
      ]
     },
     "execution_count": 3,
     "metadata": {},
     "output_type": "execute_result"
    }
   ],
   "source": [
    "'%.*f' % (5, 20)"
   ]
  },
  {
   "cell_type": "code",
   "execution_count": 4,
   "metadata": {},
   "outputs": [
    {
     "name": "stdout",
     "output_type": "stream",
     "text": [
      "my fav number is 3 . How nice 4\n"
     ]
    }
   ],
   "source": [
    "x = '3'\n",
    "y=4\n",
    "print(\"my fav number is\",x,'.','How nice',y)"
   ]
  },
  {
   "cell_type": "code",
   "execution_count": 2,
   "metadata": {},
   "outputs": [
    {
     "name": "stdout",
     "output_type": "stream",
     "text": [
      "hello hi you are invited to bye at time: 6pm\n"
     ]
    }
   ],
   "source": [
    "name =\"hi\"\n",
    "place=\"bye\"\n",
    "time = \"6pm\"\n",
    "print('hello %s you are invited to %s at time: %s' % (name, place, time))"
   ]
  },
  {
   "cell_type": "code",
   "execution_count": 5,
   "metadata": {},
   "outputs": [
    {
     "data": {
      "text/plain": [
       "1.0"
      ]
     },
     "execution_count": 5,
     "metadata": {},
     "output_type": "execute_result"
    }
   ],
   "source": [
    "import math\n",
    "math.cos(3.4)**2+math.sin(3.4)**2"
   ]
  },
  {
   "cell_type": "markdown",
   "metadata": {},
   "source": [
    "# Multi line print"
   ]
  },
  {
   "cell_type": "code",
   "execution_count": 2,
   "metadata": {},
   "outputs": [
    {
     "name": "stdout",
     "output_type": "stream",
     "text": [
      "\n",
      "Hi there.\n",
      "This is a multi\n",
      "line\n",
      "print\n",
      "==========\n",
      "|        |\n",
      "|        |\n",
      "|   BOX  |\n",
      "|        |\n",
      "|        |\n",
      "==========\n",
      "\n"
     ]
    }
   ],
   "source": [
    "print('''\n",
    "Hi there.\n",
    "This is a multi\n",
    "line\n",
    "print\n",
    "==========\n",
    "|        |\n",
    "|        |\n",
    "|   BOX  |\n",
    "|        |\n",
    "|        |\n",
    "==========\n",
    "''')"
   ]
  },
  {
   "cell_type": "code",
   "execution_count": 1,
   "metadata": {},
   "outputs": [
    {
     "name": "stdout",
     "output_type": "stream",
     "text": [
      "Hi, this is some text with more text and more.\n"
     ]
    }
   ],
   "source": [
    "print(\"Hi, this is some text \"\n",
    "     \"with more text \"\n",
    "     \"and more.\")"
   ]
  },
  {
   "cell_type": "code",
   "execution_count": 1,
   "metadata": {},
   "outputs": [
    {
     "name": "stdout",
     "output_type": "stream",
     "text": [
      ">>> "
     ]
    }
   ],
   "source": [
    "print (\">>> \", end='')"
   ]
  },
  {
   "cell_type": "code",
   "execution_count": 2,
   "metadata": {},
   "outputs": [
    {
     "name": "stdout",
     "output_type": "stream",
     "text": [
      ">>> more text\n"
     ]
    }
   ],
   "source": [
    "print (\">>> \", end='')\n",
    "print('more text')"
   ]
  },
  {
   "cell_type": "code",
   "execution_count": 3,
   "metadata": {},
   "outputs": [
    {
     "name": "stdout",
     "output_type": "stream",
     "text": [
      ">>> \n",
      "more text\n"
     ]
    }
   ],
   "source": [
    "print (\">>> \")\n",
    "print('more text')"
   ]
  },
  {
   "cell_type": "code",
   "execution_count": null,
   "metadata": {},
   "outputs": [],
   "source": []
  }
 ],
 "metadata": {
  "kernelspec": {
   "display_name": "Python 3",
   "language": "python",
   "name": "python3"
  },
  "language_info": {
   "codemirror_mode": {
    "name": "ipython",
    "version": 3
   },
   "file_extension": ".py",
   "mimetype": "text/x-python",
   "name": "python",
   "nbconvert_exporter": "python",
   "pygments_lexer": "ipython3",
   "version": "3.7.1"
  }
 },
 "nbformat": 4,
 "nbformat_minor": 2
}
