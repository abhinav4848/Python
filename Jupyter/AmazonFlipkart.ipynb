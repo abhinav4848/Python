{
 "cells": [
  {
   "cell_type": "code",
   "execution_count": 4,
   "metadata": {},
   "outputs": [
    {
     "name": "stdout",
     "output_type": "stream",
     "text": [
      "Enter the Amazon/Flipkart url: https://www.amazon.in/MSI-GP63-8RE-442IN-15-6-inch-i7-8750H/dp/B07BQ1LP8T/ref=sr_1_4/258-7000067-9363351?s=computers&ie=UTF8&qid=1552768189&sr=1-4&keywords=gtx+1080+laptop\n",
      "MSI Gaming MSI GP63 8RE-442IN 2018 15.6-inch Laptop (8th Gen Core i7-8750H/16GB/1TB/256GB SSD/Windows 10/6GB Graphics), Black costs Rs. 129,500.00\n"
     ]
    }
   ],
   "source": [
    "import bs4, requests\n",
    "\n",
    "def allocator(url):\n",
    "    #common task between both the sites\n",
    "    # Pass a header to not get blocked\n",
    "    headers = {\n",
    "        'User-Agent': 'Mozilla/5.0 (Windows NT 6.1) AppleWebKit/537.36 (KHTML, like Gecko) Chrome/41.0.2228.0 Safari/537.36',\n",
    "    }\n",
    "    res = requests.get(url, headers=headers) # downloads the page\n",
    "    res.raise_for_status() # will throw error if not 200\n",
    "    soup = bs4.BeautifulSoup(res.text, 'html.parser') # parse\n",
    "\n",
    "    #decide if amazon or flipkart\n",
    "    destination = url.split('/')[2].split('.')[1]\n",
    "    if destination == 'amazon':\n",
    "        price = getAmazonPrice(soup)\n",
    "    elif destination == 'flipkart':\n",
    "        price = getFlipkartPrice(soup)\n",
    "    return price\n",
    "\n",
    "def getAmazonPrice(soup):\n",
    "    # only select based on css selector.\n",
    "    # \"select\" creates a list with all values matching the selector\n",
    "    # containing the desired selector\n",
    "    # Looks like [<span class=\"a-size-medium a-color-price\" id=\"priceblock_ourprice\"><span class=\"currencyINR\">  </span> 51,990.00</span>]\n",
    "    price = soup.select('#priceblock_ourprice') \n",
    "    name = soup.select('#productTitle')\n",
    "    #pick a value using the list index given by select(), take out its text.\n",
    "    #looks like: '\\xa0\\xa0 51,990.00'\n",
    "    #strip to remove empty spaces like \\xa0, etc\n",
    "    return {'price':price[0].text.strip(), 'name':name[0].text.strip()}\n",
    "\n",
    "def getFlipkartPrice(soup):\n",
    "    price = soup.select('._1vC4OE') \n",
    "    name = soup.select('._35KyD6')\n",
    "    return {'price':price[0].text.strip(), 'name':name[0].text.strip()}\n",
    "\n",
    "url = input('Enter the Amazon/Flipkart url: ')\n",
    "# https://www.amazon.in/dp/B07M9FDGJQ/\n",
    "# http://dl.flipkart.com/dl/honor-9n-sapphire-blue-64-gb/p/itmf9pgsehv6nmss\n",
    "price = allocator(url)\n",
    "print(price.get('name', 'Undefined')+' costs Rs. '+price.get('price','Undefined'))"
   ]
  },
  {
   "cell_type": "code",
   "execution_count": null,
   "metadata": {},
   "outputs": [],
   "source": []
  }
 ],
 "metadata": {
  "kernelspec": {
   "display_name": "Python 3",
   "language": "python",
   "name": "python3"
  },
  "language_info": {
   "codemirror_mode": {
    "name": "ipython",
    "version": 3
   },
   "file_extension": ".py",
   "mimetype": "text/x-python",
   "name": "python",
   "nbconvert_exporter": "python",
   "pygments_lexer": "ipython3",
   "version": "3.7.1"
  }
 },
 "nbformat": 4,
 "nbformat_minor": 2
}
