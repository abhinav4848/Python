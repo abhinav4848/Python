{
 "cells": [
  {
   "cell_type": "code",
   "execution_count": 14,
   "metadata": {},
   "outputs": [
    {
     "name": "stdout",
     "output_type": "stream",
     "text": [
      "Overwriting example.txt\n"
     ]
    }
   ],
   "source": [
    "%%writefile example.txt\n",
    "{\n",
    "    \"glossary\": {\n",
    "        \"title\": \"example glossary\",\n",
    "        \"GlossDiv\": {\n",
    "            \"title\": \"S\",\n",
    "            \"GlossList\": {\n",
    "                \"GlossEntry\": {\n",
    "                    \"ID\": \"SGML\",\n",
    "                    \"bool1\": true,\n",
    "                    \"bool2\": false,\n",
    "                    \"empty\": null,\n",
    "                    \"GlossDef\": {\n",
    "                        \"para\": \"A meta-markup language, used to create markup languages such as DocBook.\",\n",
    "                        \"GlossSeeAlso\": [\"GML\", \"XML\"]\n",
    "                    },\n",
    "                    \"GlossSee\": \"markup\",\n",
    "                    \"non-ascii\": \"ł\"\n",
    "                }\n",
    "            }\n",
    "        }\n",
    "    }\n",
    "}"
   ]
  },
  {
   "cell_type": "code",
   "execution_count": 15,
   "metadata": {
    "scrolled": true
   },
   "outputs": [
    {
     "data": {
      "text/plain": [
       "['JSONDecodeError',\n",
       " 'JSONDecoder',\n",
       " 'JSONEncoder',\n",
       " '__all__',\n",
       " '__author__',\n",
       " '__builtins__',\n",
       " '__cached__',\n",
       " '__doc__',\n",
       " '__file__',\n",
       " '__loader__',\n",
       " '__name__',\n",
       " '__package__',\n",
       " '__path__',\n",
       " '__spec__',\n",
       " '__version__',\n",
       " '_default_decoder',\n",
       " '_default_encoder',\n",
       " 'codecs',\n",
       " 'decoder',\n",
       " 'detect_encoding',\n",
       " 'dump',\n",
       " 'dumps',\n",
       " 'encoder',\n",
       " 'load',\n",
       " 'loads',\n",
       " 'scanner']"
      ]
     },
     "execution_count": 15,
     "metadata": {},
     "output_type": "execute_result"
    }
   ],
   "source": [
    "import json\n",
    "dir(json)"
   ]
  },
  {
   "cell_type": "markdown",
   "metadata": {},
   "source": [
    "# Examples\n",
    "`json.load(filename)`: Load JSON data from file (or file-like object)\n",
    "\n",
    "`json.loads(string)`: Load JSON data from a string \n",
    "\n",
    "`json.dump(dictionary,filename)`: Write JSON object to file (or file-like object)\n",
    "\n",
    "`json.dumps(dictionary)`: Output JSON object with python notation, as string with javascript notation\n",
    "\n",
    "By default, `dumps` converts all non ascii to ascii characters (eg: \\\\u0142). So you gotta mention json.dumps(dict,ensure_ascii=False)\n",
    "\n",
    "---\n",
    "\n",
    "During parsing, `true`, `false`,`null` of javascript are converted to `True`,`False`,`None` of python\n",
    "\n",
    "# `Json.loads` example"
   ]
  },
  {
   "cell_type": "code",
   "execution_count": 29,
   "metadata": {},
   "outputs": [
    {
     "name": "stdout",
     "output_type": "stream",
     "text": [
      "{'glossary': {'title': 'example glossary', 'GlossDiv': {'title': 'S', 'GlossList': {'GlossEntry': {'ID': 'SGML', 'bool1': True, 'bool2': False, 'empty': None, 'GlossDef': {'para': 'A meta-markup language, used to create markup languages such as DocBook.', 'GlossSeeAlso': ['GML', 'XML']}, 'GlossSee': 'markup', 'non-ascii': 'ł'}}}}}\n",
      "\n",
      "<class 'dict'>\n",
      "\n",
      "S\n"
     ]
    }
   ],
   "source": [
    "with open('example.txt','r',encoding=\"utf-8\") as f:\n",
    "    glossary = json.load(f)\n",
    "\n",
    "print(glossary)\n",
    "print()\n",
    "print(type(glossary))\n",
    "print()\n",
    "print(glossary['glossary']['GlossDiv']['title'])"
   ]
  },
  {
   "cell_type": "code",
   "execution_count": 19,
   "metadata": {},
   "outputs": [
    {
     "data": {
      "text/plain": [
       "{'title': 'Tron Legacy',\n",
       " 'composer': 'Daft Punk',\n",
       " 'budger': 1700000,\n",
       " 'actors': None,\n",
       " 'won_oscar': False}"
      ]
     },
     "execution_count": 19,
     "metadata": {},
     "output_type": "execute_result"
    }
   ],
   "source": [
    "# Now using loads for case when json comes as string as in over the internet\n",
    "value=\"\"\"{\n",
    "\"title\":\"Tron Legacy\",\n",
    "\"composer\":\"Daft Punk\",\n",
    "\"budger\":1700000,\n",
    "\"actors\":null,\n",
    "\"won_oscar\":false\n",
    "}\"\"\"\n",
    "\n",
    "tron=json.loads(value)\n",
    "tron"
   ]
  },
  {
   "cell_type": "markdown",
   "metadata": {},
   "source": [
    "# `JSON.dumps` example"
   ]
  },
  {
   "cell_type": "code",
   "execution_count": 22,
   "metadata": {},
   "outputs": [
    {
     "data": {
      "text/plain": [
       "'{\"glossary\": {\"title\": \"example glossary\", \"GlossDiv\": {\"title\": \"S\", \"GlossList\": {\"GlossEntry\": {\"ID\": \"SGML\", \"bool1\": true, \"bool2\": false, \"empty\": null, \"GlossDef\": {\"para\": \"A meta-markup language, used to create markup languages such as DocBook.\", \"GlossSeeAlso\": [\"GML\", \"XML\"]}, \"GlossSee\": \"markup\", \"non-ascii\": \"\\\\u0142\"}}}}}'"
      ]
     },
     "execution_count": 22,
     "metadata": {},
     "output_type": "execute_result"
    }
   ],
   "source": [
    "json.dumps(glossary) # notice the \\\\u1042 from \"ł\""
   ]
  },
  {
   "cell_type": "code",
   "execution_count": 21,
   "metadata": {},
   "outputs": [
    {
     "data": {
      "text/plain": [
       "'{\"glossary\": {\"title\": \"example glossary\", \"GlossDiv\": {\"title\": \"S\", \"GlossList\": {\"GlossEntry\": {\"ID\": \"SGML\", \"bool1\": true, \"bool2\": false, \"empty\": null, \"GlossDef\": {\"para\": \"A meta-markup language, used to create markup languages such as DocBook.\", \"GlossSeeAlso\": [\"GML\", \"XML\"]}, \"GlossSee\": \"markup\", \"non-ascii\": \"ł\"}}}}}'"
      ]
     },
     "execution_count": 21,
     "metadata": {},
     "output_type": "execute_result"
    }
   ],
   "source": [
    "json.dumps(glossary,ensure_ascii=False)"
   ]
  },
  {
   "cell_type": "markdown",
   "metadata": {},
   "source": [
    "### encoding"
   ]
  },
  {
   "cell_type": "code",
   "execution_count": 35,
   "metadata": {},
   "outputs": [
    {
     "data": {
      "text/plain": [
       "{'non-ascii': 'ł',\n",
       " 'ascii': 'ń',\n",
       " 'movie': {'name': 'Minority Report',\n",
       "  'actor': {'names': ['Tom Cruise', 'Colin Farrell']}}}"
      ]
     },
     "execution_count": 35,
     "metadata": {},
     "output_type": "execute_result"
    }
   ],
   "source": [
    "dict_demo = {}\n",
    "dict_demo['non-ascii'] = \"ł\"\n",
    "dict_demo['ascii'] = \"\\u0144\"\n",
    "dict_demo['movie'] = {}\n",
    "dict_demo['movie']['name'] = \"Minority Report\"\n",
    "dict_demo['movie']['actor'] = {}\n",
    "dict_demo['movie']['actor']['names'] = [\"Tom Cruise\",\"Colin Farrell\"]\n",
    "\n",
    "dict_demo"
   ]
  },
  {
   "cell_type": "code",
   "execution_count": 44,
   "metadata": {},
   "outputs": [
    {
     "name": "stdout",
     "output_type": "stream",
     "text": [
      "{\"non-ascii\": \"\\u0142\", \"ascii\": \"\\u0144\", \"movie\": {\"name\": \"Minority Report\", \"actor\": {\"names\": [\"Tom Cruise\", \"Colin Farrell\"]}}}\n"
     ]
    }
   ],
   "source": [
    "with open('dumps_ascii.txt','w',encoding=\"utf-8\") as f:\n",
    "    json.dump(dict_demo,f,ensure_ascii=True)\n",
    "\n",
    "print(open('dumps_ascii.txt','r',encoding=\"utf-8\").read())"
   ]
  },
  {
   "cell_type": "code",
   "execution_count": 46,
   "metadata": {},
   "outputs": [
    {
     "name": "stdout",
     "output_type": "stream",
     "text": [
      "{\"non-ascii\": \"ł\", \"ascii\": \"ń\", \"movie\": {\"name\": \"Minority Report\", \"actor\": {\"names\": [\"Tom Cruise\", \"Colin Farrell\"]}}}\n"
     ]
    }
   ],
   "source": [
    "with open('dumps_non-ascii.txt','w',encoding=\"utf-8\") as f:\n",
    "    json.dump(dict_demo,f,ensure_ascii=False)\n",
    "\n",
    "print(open('dumps_non-ascii.txt','r',encoding=\"utf-8\").read())"
   ]
  }
 ],
 "metadata": {
  "kernelspec": {
   "display_name": "Python 3",
   "language": "python",
   "name": "python3"
  },
  "language_info": {
   "codemirror_mode": {
    "name": "ipython",
    "version": 3
   },
   "file_extension": ".py",
   "mimetype": "text/x-python",
   "name": "python",
   "nbconvert_exporter": "python",
   "pygments_lexer": "ipython3",
   "version": "3.7.1"
  }
 },
 "nbformat": 4,
 "nbformat_minor": 2
}
