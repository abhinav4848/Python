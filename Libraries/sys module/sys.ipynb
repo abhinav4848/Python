{
 "cells": [
  {
   "cell_type": "code",
   "execution_count": 4,
   "metadata": {},
   "outputs": [
    {
     "name": "stderr",
     "output_type": "stream",
     "text": [
      "This is stderr text\n"
     ]
    },
    {
     "name": "stdout",
     "output_type": "stream",
     "text": [
      "This is stdout text\n"
     ]
    }
   ],
   "source": [
    "import sys\n",
    "sys.stderr.write('This is stderr text\\n')\n",
    "sys.stderr.flush()\n",
    "sys.stdout.write('This is stdout text\\n')"
   ]
  },
  {
   "cell_type": "markdown",
   "metadata": {},
   "source": [
    "# Sys.argv\n",
    "create a file that accepts sys.argv\n",
    "\n",
    "The sys.argv **list** has 0th index as its own filename"
   ]
  },
  {
   "cell_type": "code",
   "execution_count": 61,
   "metadata": {},
   "outputs": [
    {
     "name": "stdout",
     "output_type": "stream",
     "text": [
      "Overwriting sysargv.py\n"
     ]
    }
   ],
   "source": [
    "%%writefile sysargv.py\n",
    "import sys\n",
    "\n",
    "if len(sys.argv)>1:\n",
    "    print('Arguments:',sys.argv[1:])\n",
    "\n",
    "print('Full:',sys.argv)"
   ]
  },
  {
   "cell_type": "code",
   "execution_count": 62,
   "metadata": {},
   "outputs": [
    {
     "name": "stdout",
     "output_type": "stream",
     "text": [
      "Full: ['sysargv.py']\n"
     ]
    }
   ],
   "source": [
    "! python sysargv.py"
   ]
  },
  {
   "cell_type": "code",
   "execution_count": 63,
   "metadata": {},
   "outputs": [
    {
     "name": "stdout",
     "output_type": "stream",
     "text": [
      "Arguments: ['hi', 'hello']\n",
      "Full: ['sysargv.py', 'hi', 'hello']\n"
     ]
    }
   ],
   "source": [
    "! python sysargv.py hi hello"
   ]
  },
  {
   "cell_type": "code",
   "execution_count": 64,
   "metadata": {},
   "outputs": [
    {
     "name": "stdout",
     "output_type": "stream",
     "text": [
      "Arguments: ['hi hello']\n",
      "Full: ['sysargv.py', 'hi hello']\n"
     ]
    }
   ],
   "source": [
    "! python sysargv.py \"hi hello\""
   ]
  },
  {
   "cell_type": "code",
   "execution_count": null,
   "metadata": {},
   "outputs": [],
   "source": []
  }
 ],
 "metadata": {
  "kernelspec": {
   "display_name": "Python 3",
   "language": "python",
   "name": "python3"
  },
  "language_info": {
   "codemirror_mode": {
    "name": "ipython",
    "version": 3
   },
   "file_extension": ".py",
   "mimetype": "text/x-python",
   "name": "python",
   "nbconvert_exporter": "python",
   "pygments_lexer": "ipython3",
   "version": "3.7.1"
  }
 },
 "nbformat": 4,
 "nbformat_minor": 2
}
