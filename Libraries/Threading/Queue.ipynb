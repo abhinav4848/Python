{
 "cells": [
  {
   "cell_type": "code",
   "execution_count": 1,
   "metadata": {},
   "outputs": [
    {
     "name": "stdout",
     "output_type": "stream",
     "text": [
      "5\n",
      "True\n"
     ]
    }
   ],
   "source": [
    "import queue\n",
    "\n",
    "# It represents FIFO kind of queue (which is the default)\n",
    "q = queue.Queue() \n",
    "q.put(5)\n",
    "print(q.get()) # 5\n",
    "\n",
    "print(q.empty()) # True"
   ]
  },
  {
   "cell_type": "code",
   "execution_count": 2,
   "metadata": {},
   "outputs": [
    {
     "name": "stdout",
     "output_type": "stream",
     "text": [
      "0\n",
      "1\n",
      "2\n",
      "3\n",
      "4\n"
     ]
    }
   ],
   "source": [
    "# FIFO Example\n",
    "for i in range(5):\n",
    "    q.put(i)\n",
    "    \n",
    "while not q.empty():\n",
    "    print(q.get())"
   ]
  },
  {
   "cell_type": "code",
   "execution_count": 1,
   "metadata": {},
   "outputs": [
    {
     "name": "stdout",
     "output_type": "stream",
     "text": [
      "Running multi-thread.\n",
      "Put something in main thread. \n",
      "1\n",
      "First item gotten. \n",
      "Put something in function. 5\n",
      "Finished! \n",
      "\n",
      "Running multi-thread.\n",
      "Put something in function. \n",
      "Running multi-thread.\n",
      "Put something in function. \n",
      "Running multi-thread.\n"
     ]
    }
   ],
   "source": [
    "import queue\n",
    "import threading\n",
    "import time\n",
    "\n",
    "def putting_thread(q):\n",
    "    while True:\n",
    "        print('Running multi-thread.')\n",
    "        time.sleep(5)\n",
    "        q.put(5)\n",
    "        print('Put something in function. ')\n",
    "\n",
    "q = queue.Queue()\n",
    "t = threading.Thread(target = putting_thread, args = (q,), daemon=True)\n",
    "t.start()\n",
    "\n",
    "q.put(1)\n",
    "print('Put something in main thread. ')\n",
    "\n",
    "print(q.get())\n",
    "print('First item gotten. ')\n",
    "\n",
    "print(q.get()) # will keep the thread blocked till q.get() returns a value\n",
    "# q.get(block = False) # will not block, but throw an error saying \"Empty\"\n",
    "print('Finished! ')"
   ]
  },
  {
   "cell_type": "markdown",
   "metadata": {},
   "source": [
    "Daemon thread should be killed but it didn't, so kernal had to be shutdown. In CMD, this would run just fine, and end when program ended"
   ]
  },
  {
   "cell_type": "markdown",
   "metadata": {},
   "source": [
    "# LIFO\n",
    "```python\n",
    "q = queue.LifoQueue()\n",
    "```\n",
    "\n",
    "# Priority"
   ]
  },
  {
   "cell_type": "code",
   "execution_count": 4,
   "metadata": {},
   "outputs": [
    {
     "name": "stdout",
     "output_type": "stream",
     "text": [
      "1\n",
      "2\n",
      "3\n",
      "4\n"
     ]
    }
   ],
   "source": [
    "import queue\n",
    "import time\n",
    "\n",
    "q = queue.PriorityQueue()\n",
    "# for integers, this is fine\n",
    "q.put(1)\n",
    "q.put(3)\n",
    "q.put(4)\n",
    "q.put(2)\n",
    "\n",
    "for i in range(q.qsize()):\n",
    "    print(q.get())"
   ]
  },
  {
   "cell_type": "code",
   "execution_count": 2,
   "metadata": {},
   "outputs": [
    {
     "name": "stdout",
     "output_type": "stream",
     "text": [
      "Priority 1\n",
      "Priority 2\n",
      "Priority 3\n",
      "Priority 4\n"
     ]
    }
   ],
   "source": [
    "import queue\n",
    "import time\n",
    "\n",
    "q = queue.PriorityQueue()\n",
    "# for strings, make tuples\n",
    "q.put((1, 'Priority 1'))\n",
    "q.put((3, 'Priority 3'))\n",
    "q.put((4, 'Priority 4'))\n",
    "q.put((2, 'Priority 2'))\n",
    "\n",
    "for i in range(q.qsize()):\n",
    "    print(q.get()[1])"
   ]
  },
  {
   "cell_type": "code",
   "execution_count": null,
   "metadata": {},
   "outputs": [],
   "source": []
  }
 ],
 "metadata": {
  "kernelspec": {
   "display_name": "Python 3",
   "language": "python",
   "name": "python3"
  },
  "language_info": {
   "codemirror_mode": {
    "name": "ipython",
    "version": 3
   },
   "file_extension": ".py",
   "mimetype": "text/x-python",
   "name": "python",
   "nbconvert_exporter": "python",
   "pygments_lexer": "ipython3",
   "version": "3.7.1"
  }
 },
 "nbformat": 4,
 "nbformat_minor": 2
}
