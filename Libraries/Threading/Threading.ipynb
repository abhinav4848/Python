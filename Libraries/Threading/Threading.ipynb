{
 "cells": [
  {
   "cell_type": "markdown",
   "metadata": {},
   "source": [
    "# Sentdex video\n",
    "https://www.youtube.com/watch?v=NwH0HvMI4EA&t=539s"
   ]
  },
  {
   "cell_type": "code",
   "execution_count": 3,
   "metadata": {},
   "outputs": [
    {
     "name": "stdout",
     "output_type": "stream",
     "text": [
      "Thread-28 2\n",
      "Thread-29 3\n",
      "Thread-31 5\n",
      "Thread-34 9\n",
      "Thread-30 4\n",
      "Thread-35 8\n",
      "Thread-33 7\n",
      "Thread-32 6\n",
      "Thread-27 1\n",
      "Thread-26 0\n",
      "Thread-28 10\n",
      "Thread-29 11\n",
      "Thread-31 12\n",
      "Thread-34 13\n",
      "Thread-30 14\n",
      "Thread-35 15\n",
      "Thread-33 16\n",
      "Thread-32 17\n",
      "Thread-27 18\n",
      "Thread-26 19\n",
      "Entire job took: 1.012166976928711\n"
     ]
    }
   ],
   "source": [
    "# 10 threads, 20 Jobs. Each Job takes 0.5 seconds\n",
    "# Normally, should've taken 10 secs total\n",
    "# But it actually took very less.\n",
    "\n",
    "import threading\n",
    "from queue import Queue\n",
    "import time # to mimic processing time only. so just time.sleep()\n",
    "\n",
    "print_lock = threading.Lock() # to lock printing\n",
    "\n",
    "def exampleJob(worker):\n",
    "    # mimics computing time\n",
    "    time.sleep(0.5)\n",
    "    \n",
    "    with print_lock:\n",
    "        print(threading.current_thread().name, worker)\n",
    "\n",
    "def threader():\n",
    "    while True:\n",
    "        worker = q.get()\n",
    "        exampleJob(worker)\n",
    "        q.task_done() # release that thread/daemon back to do other tasks\n",
    "        \n",
    "q = Queue()\n",
    "\n",
    "for x in range(10):\n",
    "    # to make 10 threads\n",
    "    t = threading.Thread(target = threader)\n",
    "    t.daemon = True # so it dies when the main thread dies\n",
    "    t.start()\n",
    "\n",
    "start = time.time()\n",
    "\n",
    "for worker in range(20):\n",
    "    # 20 jobs to be done by 10 workers\n",
    "    q.put(worker)\n",
    "    \n",
    "q.join()\n",
    "\n",
    "print('Entire job took:',time.time()-start)"
   ]
  },
  {
   "cell_type": "markdown",
   "metadata": {},
   "source": [
    "```python\n",
    "t = threading.Thread(target=threader) \n",
    "t.start()\n",
    "```\n",
    "This creates different threads and tell them to execute a command called \"threader\" (confusing name, but he could have called it \"banana\"), and puts it in an object called t. But first, you have to start the thread by using the `<thread object>.start()` command \n",
    "\n",
    "Since this runs on a loop 10 times - it means 10 different threads are created and are executing \"threader\"/\"banana\" - command (and this is the important part) simultaneously! (!!!) Meaning, the 2nd loop thread does not wait until the first loop thread finishes before it executes - it runs off to do the command side by side. \n",
    "\n",
    "```python\n",
    "t.daemon = True\n",
    "```\n",
    "\n",
    "is defining the thread as a daemon, meaning it is not the main thread. I don't see the significance of that in this program, and maybe you can take it off. \n",
    "\n",
    "Now what does the threader command/function do?\n",
    "First - it gives the thread an index from 0-19, and then it tells him to do exampleJob, which is just to wait 1/2 a second, and print the thread name, and the index. \n",
    "\n",
    "```python\n",
    "print_lock = threading.Lock()\n",
    "with print_lock:\n",
    "    print...\n",
    "```\n",
    "are used to lock the other threads from stepping on each other while printing. Meaning - if thread #9 is now printing, all the other threads that currently arrived at this command have to wait until it finishes. \n",
    "\n",
    "So you will get printed a random arrangement of the 10 different threads names, and the \"index\" they were executing. Each thread will get 2 \"indexes\", resulting in 20 instances of the printed command.  \n",
    "\n",
    "This (above) is the important code for threading. Down below is using the queue code \n",
    "\n",
    "Why 2? Why 20?\n",
    "\n",
    "```python\n",
    "for worker in range(20):\n",
    "    q.put(worker)\n",
    "```\n",
    "    \n",
    "the reason it will happen 20 times, is because there are 20 \"indexes\" being sent to the threading/banana command, and-\n",
    "\n",
    "```python\n",
    "worker = q.get()\n",
    "exampleJob(worker)\n",
    "```\n",
    "The ten threads created are reaching here basically at the same time, are assigned an \"index\", and execute exampleJob with that index (here \"worker\" is actually a new local variable, that gets the other \"worker\" variable out of the main code, again a bit confusing, but he could have called it a different name). This is looped until-\n",
    "\n",
    "```python\n",
    "q.task_done()\n",
    "q.join()\n",
    "```\n",
    "All the \"indexes\" are \"returned\". \n",
    "\n",
    "Then the program continues to its last command (print...) and finishes. Since there are 20 \"indexes\", there will be 20 times exampleJob will be executed, but since there are 10 threads, they will do simultaneously the first 10 exampleJob, come back and do the second 10 exampleJob (this is why, \"index\"-wise, the first 10 indexes will always be 0-9, and the last 10 indexes will always be 10-19). \n",
    "\n",
    "Since every time the 10 threads execute exampleJob they have to wait 1/2 a second, and they do this twice, the whole thing takes around 1 second, in total."
   ]
  },
  {
   "cell_type": "markdown",
   "metadata": {},
   "source": [
    "# PyMoondra\n",
    "\n",
    "https://www.youtube.com/watch?v=2ZwuKeL0aHs&list=PLGKQkV4guDKEv1DoK4LYdo2ZPLo6cyLbm\n",
    "## Single thread making example"
   ]
  },
  {
   "cell_type": "code",
   "execution_count": 10,
   "metadata": {},
   "outputs": [
    {
     "name": "stdout",
     "output_type": "stream",
     "text": [
      "Hi, I am Thread #1, going to sleep for 5 secs.\n",
      "\n",
      "This will print even before \"t\" finishes its task.\n",
      "So the main thread carries on while threading works.\n",
      "This is called \"concurrency\"\n",
      "\n",
      "Thread #1 has woken up from sleep.\n",
      "\n",
      "t.join() (aka blocking call), blocks the interpreter from accessing the main thread till t finishes\n"
     ]
    }
   ],
   "source": [
    "import threading\n",
    "import time\n",
    "\n",
    "def sleeper(n, name):\n",
    "    print(f'Hi, I am {name}, going to sleep for {n} secs.\\n')\n",
    "    time.sleep(n)\n",
    "    print(f'{name} has woken up from sleep.\\n')\n",
    "\n",
    "# Need to call the Thread() class\n",
    "# target parameter needs a function\n",
    "# name is just to give a unique name to this thread\n",
    "# args for the function specified by target\n",
    "# t.start() to actually start the thread\n",
    "t = threading.Thread(target=sleeper, name='thread1', args = (5, 'Thread #1'))\n",
    "\n",
    "t.start()\n",
    "\n",
    "print('This will print even before \"t\" finishes its task.')\n",
    "print('So the main thread carries on while threading works.')\n",
    "print('This is called \"concurrency\"\\n')\n",
    "\n",
    "t.join() # this actually starts the thread\n",
    "print('t.join() (aka blocking call), blocks the interpreter from accessing the main thread till t finishes')"
   ]
  },
  {
   "cell_type": "markdown",
   "metadata": {},
   "source": [
    "## Multiple threads that run concurrently"
   ]
  },
  {
   "cell_type": "code",
   "execution_count": 8,
   "metadata": {
    "scrolled": false
   },
   "outputs": [
    {
     "name": "stdout",
     "output_type": "stream",
     "text": [
      "Hi, I am Thread #0, going to sleep for 5 secs.\n",
      "Thread #0 has started.\n",
      "\n",
      "Hi, I am Thread #1, going to sleep for 5 secs.\n",
      "Thread #1 has started.\n",
      "\n",
      "Hi, I am Thread #2, going to sleep for 5 secs.\n",
      "Thread #2 has started.\n",
      "\n",
      "Hi, I am Thread #3, going to sleep for 5 secs.\n",
      "Thread #3 has started.\n",
      "\n",
      "Hi, I am Thread #4, going to sleep for 5 secs.\n",
      "Thread #4 has started.\n",
      "\n",
      "Thread #0 has woken up from sleep.\n",
      "<Thread(Thread #0, stopped 7004)> has joined.\n",
      "\n",
      "Thread #1 has woken up from sleep.\n",
      "<Thread(Thread #1, stopped 11748)> has joined.\n",
      "\n",
      "Thread #2 has woken up from sleep.\n",
      "<Thread(Thread #2, stopped 1880)> has joined.\n",
      "\n",
      "Thread #3 has woken up from sleep.\n",
      "<Thread(Thread #3, stopped 3296)> has joined.\n",
      "\n",
      "Thread #4 has woken up from sleep.\n",
      "<Thread(Thread #4, stopped 11260)> has joined.\n",
      "\n",
      "\n",
      "Time taken: 5.009905099868774\n",
      "All 5 threads have finished their jobs.\n"
     ]
    }
   ],
   "source": [
    "import threading\n",
    "import time\n",
    "\n",
    "def sleeper(n, name):\n",
    "    print(f'Hi, I am {name}, going to sleep for {n} secs.')\n",
    "    time.sleep(n)\n",
    "    print(f'{name} has woken up from sleep.')\n",
    "\n",
    "threads_list = []\n",
    "\n",
    "start = time.time()\n",
    "\n",
    "for i in range(5):\n",
    "    t = threading.Thread(target = sleeper, \n",
    "                         name = f'Thread #{i}', \n",
    "                         args = (5, f'Thread #{i}'))\n",
    "    threads_list.append(t)\n",
    "    t.start() \n",
    "    print(f'{t.name} has started.\\n')\n",
    "\n",
    "for t in threads_list:\n",
    "    # make sure all 5 threads end before we move back to main thread\n",
    "    t.join()\n",
    "    print(f'{t} has joined.\\n')\n",
    "\n",
    "end = time.time()\n",
    "\n",
    "print(f'\\nTime taken: {end-start}')\n",
    "\n",
    "print('All 5 threads have finished their jobs.')"
   ]
  },
  {
   "cell_type": "markdown",
   "metadata": {},
   "source": [
    "## Locks\n",
    "https://www.youtube.com/watch?v=8BMPW49DadA&list=PLGKQkV4guDKEv1DoK4LYdo2ZPLo6cyLbm&index=6\n",
    "\n",
    "use the `with` statement to lock the stuff, then as we know, it auto unlocks the stuff once its use is over.\n",
    "\n",
    "`lock = threading.Lock()` to make a lock using the Lock class.\n",
    "\n",
    "use `with lock:` then whatever variables/functions you write inside, never 2 simultaneous threads can use it at once.\n",
    "\n",
    "without `with`, you'd use `lock.acquire()` and `lock.release()`"
   ]
  },
  {
   "cell_type": "code",
   "execution_count": 5,
   "metadata": {},
   "outputs": [
    {
     "name": "stdout",
     "output_type": "stream",
     "text": [
      "Help on function join in module threading:\n",
      "\n",
      "join(self, timeout=None)\n",
      "    Wait until the thread terminates.\n",
      "    \n",
      "    This blocks the calling thread until the thread whose join() method is\n",
      "    called terminates -- either normally or through an unhandled exception\n",
      "    or until the optional timeout occurs.\n",
      "    \n",
      "    When the timeout argument is present and not None, it should be a\n",
      "    floating point number specifying a timeout for the operation in seconds\n",
      "    (or fractions thereof). As join() always returns None, you must call\n",
      "    isAlive() after join() to decide whether a timeout happened -- if the\n",
      "    thread is still alive, the join() call timed out.\n",
      "    \n",
      "    When the timeout argument is not present or None, the operation will\n",
      "    block until the thread terminates.\n",
      "    \n",
      "    A thread can be join()ed many times.\n",
      "    \n",
      "    join() raises a RuntimeError if an attempt is made to join the current\n",
      "    thread as that would cause a deadlock. It is also an error to join() a\n",
      "    thread before it has been started and attempts to do so raises the same\n",
      "    exception.\n",
      "\n"
     ]
    }
   ],
   "source": [
    "import threading\n",
    "help(threading.Thread.join)"
   ]
  },
  {
   "cell_type": "code",
   "execution_count": 9,
   "metadata": {},
   "outputs": [
    {
     "name": "stdout",
     "output_type": "stream",
     "text": [
      "Help on function join in module queue:\n",
      "\n",
      "join(self)\n",
      "    Blocks until all items in the Queue have been gotten and processed.\n",
      "    \n",
      "    The count of unfinished tasks goes up whenever an item is added to the\n",
      "    queue. The count goes down whenever a consumer thread calls task_done()\n",
      "    to indicate the item was retrieved and all work on it is complete.\n",
      "    \n",
      "    When the count of unfinished tasks drops to zero, join() unblocks.\n",
      "\n"
     ]
    }
   ],
   "source": [
    "import queue\n",
    "help(queue.Queue.join)"
   ]
  },
  {
   "cell_type": "code",
   "execution_count": null,
   "metadata": {},
   "outputs": [],
   "source": []
  }
 ],
 "metadata": {
  "kernelspec": {
   "display_name": "Python 3",
   "language": "python",
   "name": "python3"
  },
  "language_info": {
   "codemirror_mode": {
    "name": "ipython",
    "version": 3
   },
   "file_extension": ".py",
   "mimetype": "text/x-python",
   "name": "python",
   "nbconvert_exporter": "python",
   "pygments_lexer": "ipython3",
   "version": "3.7.1"
  }
 },
 "nbformat": 4,
 "nbformat_minor": 2
}
