{
 "cells": [
  {
   "cell_type": "markdown",
   "metadata": {},
   "source": [
    "# PyMoondra's videos\n",
    "https://www.youtube.com/watch?v=YSjIisKdgD0&list=PLGKQkV4guDKEv1DoK4LYdo2ZPLo6cyLbm&index=9\n",
    "\n",
    "Allows threads to communicate with each other using Event objects which communicate with each other through flags and switches."
   ]
  },
  {
   "cell_type": "code",
   "execution_count": 1,
   "metadata": {},
   "outputs": [
    {
     "data": {
      "text/plain": [
       "False"
      ]
     },
     "execution_count": 1,
     "metadata": {},
     "output_type": "execute_result"
    }
   ],
   "source": [
    "import threading\n",
    "\n",
    "event = threading.Event()\n",
    "event.set() # sets the flag to true\n",
    "\n",
    "event.wait() # blocks the thread from moving forward till the event is set to true\n",
    "event.clear() # sets the flag false\n",
    "\n",
    "event.is_set() # to see what event is set to"
   ]
  },
  {
   "cell_type": "code",
   "execution_count": 6,
   "metadata": {},
   "outputs": [
    {
     "name": "stdout",
     "output_type": "stream",
     "text": [
      "Starting countdown\n",
      "Starting random integer task. \n",
      "Starting random integer task. \n",
      "Starting random integer task. \n",
      "Starting random integer task. \n",
      "Starting random integer task. \n",
      "Starting random integer task. \n",
      "Starting random integer task. \n",
      "Starting random integer task. \n",
      "True\n",
      "Starting random integer task. \n",
      "Starting random integer task. \n",
      "Starting random integer task. \n",
      "Starting random integer task. \n",
      "Starting random integer task. \n",
      "Starting random integer task. \n",
      "Event is cleared.\n",
      "Event has been cleared. Random operation has been stopped.\n"
     ]
    }
   ],
   "source": [
    "import queue, threading, numpy as np, time\n",
    "\n",
    "def flag():\n",
    "    time.sleep(3)\n",
    "    event.set()\n",
    "    print('Starting countdown')\n",
    "    time.sleep(7)\n",
    "    event.clear()\n",
    "    print('Event is cleared.')\n",
    "\n",
    "def start_operations():\n",
    "    event.wait()\n",
    "    while event.is_set():\n",
    "        print('Starting random integer task. ')\n",
    "        x = np.random.randint(1,30)\n",
    "        time.sleep(0.5)\n",
    "        if x == 29:\n",
    "            print('True')\n",
    "    print('Event has been cleared. Random operation has been stopped.')\n",
    "    \n",
    "event = threading.Event()\n",
    "t1 = threading.Thread(target = flag)\n",
    "t2 = threading.Thread(target = start_operations)\n",
    "\n",
    "t1.start()\n",
    "t2.start()"
   ]
  },
  {
   "cell_type": "code",
   "execution_count": null,
   "metadata": {},
   "outputs": [],
   "source": []
  }
 ],
 "metadata": {
  "kernelspec": {
   "display_name": "Python 3",
   "language": "python",
   "name": "python3"
  },
  "language_info": {
   "codemirror_mode": {
    "name": "ipython",
    "version": 3
   },
   "file_extension": ".py",
   "mimetype": "text/x-python",
   "name": "python",
   "nbconvert_exporter": "python",
   "pygments_lexer": "ipython3",
   "version": "3.7.1"
  }
 },
 "nbformat": 4,
 "nbformat_minor": 2
}
