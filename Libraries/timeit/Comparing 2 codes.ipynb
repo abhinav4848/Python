{
 "cells": [
  {
   "cell_type": "markdown",
   "metadata": {},
   "source": [
    "## Exchange values between 2 variables using 3rd variable"
   ]
  },
  {
   "cell_type": "code",
   "execution_count": 2,
   "metadata": {},
   "outputs": [
    {
     "name": "stdout",
     "output_type": "stream",
     "text": [
      "0.20361169999999618\n"
     ]
    }
   ],
   "source": [
    "import timeit\n",
    "\n",
    "# code snippet to be executed only once\n",
    "mysetup = '''\n",
    "a = 5\n",
    "b = 7\n",
    "'''\n",
    "\n",
    "# code snippet whose execution time is to be measured\n",
    "mycode = ''' \n",
    "c=a\n",
    "a=b\n",
    "b=c\n",
    "'''\n",
    "\n",
    "# timeit statement\n",
    "print(timeit.timeit(setup=mysetup,\n",
    "                    stmt=mycode,\n",
    "                    number=10000000))"
   ]
  },
  {
   "cell_type": "markdown",
   "metadata": {},
   "source": [
    "## Exchange values between 2 variables without using 3rd variable"
   ]
  },
  {
   "cell_type": "code",
   "execution_count": 3,
   "metadata": {},
   "outputs": [
    {
     "name": "stdout",
     "output_type": "stream",
     "text": [
      "0.6671228000000013\n"
     ]
    }
   ],
   "source": [
    "import timeit\n",
    "\n",
    "# code snippet to be executed only once\n",
    "mysetup = '''\n",
    "a = 5\n",
    "b = 7\n",
    "'''\n",
    "\n",
    "# code snippet whose execution time is to be measured\n",
    "mycode = ''' \n",
    "a = a+b\n",
    "b = a-b\n",
    "a = a-b\n",
    "'''\n",
    "\n",
    "# timeit statement\n",
    "print(timeit.timeit(setup=mysetup,\n",
    "                    stmt=mycode,\n",
    "                    number=10000000))"
   ]
  },
  {
   "cell_type": "code",
   "execution_count": null,
   "metadata": {},
   "outputs": [],
   "source": []
  }
 ],
 "metadata": {
  "kernelspec": {
   "display_name": "Python 3",
   "language": "python",
   "name": "python3"
  },
  "language_info": {
   "codemirror_mode": {
    "name": "ipython",
    "version": 3
   },
   "file_extension": ".py",
   "mimetype": "text/x-python",
   "name": "python",
   "nbconvert_exporter": "python",
   "pygments_lexer": "ipython3",
   "version": "3.7.1"
  }
 },
 "nbformat": 4,
 "nbformat_minor": 2
}
