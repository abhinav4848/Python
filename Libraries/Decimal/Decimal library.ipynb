{
 "cells": [
  {
   "cell_type": "markdown",
   "id": "068af4d2",
   "metadata": {},
   "source": [
    "# Floating point Problem\n",
    "We'll get an error when we do `.1+.1+.1 - .3`. The 'Precision' will be to 17 decimal places but it'll come at the cost of accuracy, which is the true value of a calculation. "
   ]
  },
  {
   "cell_type": "code",
   "execution_count": 1,
   "id": "9e259598",
   "metadata": {},
   "outputs": [
    {
     "data": {
      "text/plain": [
       "5.551115123125783e-17"
      ]
     },
     "execution_count": 1,
     "metadata": {},
     "output_type": "execute_result"
    }
   ],
   "source": [
    "a = .1\n",
    "b = .3\n",
    "\n",
    "a+a+a-b"
   ]
  },
  {
   "cell_type": "markdown",
   "id": "795acc07",
   "metadata": {},
   "source": [
    "# Solution\n",
    "We use a python library called `decimal` which accepts string (not float... cuz floats are stored at poor accuracy) and converts it to actual value it should be. Then do calculations with these values. This is useful especially in handling money. "
   ]
  },
  {
   "cell_type": "code",
   "execution_count": 8,
   "id": "faf6a95d",
   "metadata": {},
   "outputs": [
    {
     "name": "stdout",
     "output_type": "stream",
     "text": [
      "x is 0.0\n",
      "<class 'decimal.Decimal'>\n"
     ]
    },
    {
     "data": {
      "text/plain": [
       "Decimal('0.0')"
      ]
     },
     "execution_count": 8,
     "metadata": {},
     "output_type": "execute_result"
    }
   ],
   "source": [
    "from decimal import * \n",
    "\n",
    "a = Decimal('.1')\n",
    "b = Decimal('.3')\n",
    "\n",
    "x = a+a+a-b\n",
    "\n",
    "print ('x is {}'.format(x))\n",
    "print(type(x))\n",
    "\n",
    "x"
   ]
  },
  {
   "cell_type": "code",
   "execution_count": null,
   "id": "30e81d2f",
   "metadata": {},
   "outputs": [],
   "source": []
  }
 ],
 "metadata": {
  "kernelspec": {
   "display_name": "Python 3",
   "language": "python",
   "name": "python3"
  },
  "language_info": {
   "codemirror_mode": {
    "name": "ipython",
    "version": 3
   },
   "file_extension": ".py",
   "mimetype": "text/x-python",
   "name": "python",
   "nbconvert_exporter": "python",
   "pygments_lexer": "ipython3",
   "version": "3.8.8"
  }
 },
 "nbformat": 4,
 "nbformat_minor": 5
}
