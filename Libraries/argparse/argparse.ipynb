{
 "cells": [
  {
   "cell_type": "markdown",
   "metadata": {},
   "source": [
    "`argparse` was added to python 2.7 as a replacement to `optparse`\n",
    "\n",
    "`dest=\"verb\"` replaces the variable name used to store the value\n",
    "\n",
    "The return value from `parse_args()` is a Namespace containing the arguments to the command. The object holds the argument values as attributes, so if the argument’s dest is set to \"myoption\", the value is accessible as args.myoption.\n",
    "\n",
    "`type=int` converts the value to int before storing it\n",
    "\n",
    "`add_mutually_exclusive_group`: can choose only one option of the group\n",
    "\n",
    "`-`: short forms can be combined and written as `-vo`\n",
    "\n",
    "`--`: long forms need to be written independently\n",
    "\n",
    "`-h`: is a built in function\n",
    "\n",
    "[Read More](https://pymotw.com/3/argparse/)"
   ]
  },
  {
   "cell_type": "markdown",
   "metadata": {},
   "source": [
    "## Argument Actions\n",
    "Any of six built-in actions can be triggered when an argument is encountered.\n",
    "\n",
    "1. **store**: Save the value, after optionally converting it to a different type. This is the default action taken if none is specified explicitly.\n",
    "2. **store_const**: Save a value defined as part of the argument specification, rather than a value that comes from the arguments being parsed. This is typically used to implement command-line flags that are not Booleans.\n",
    "3. **store_true / store_false**: Save the appropriate Boolean value. These actions are used to implement Boolean switches.\n",
    "\n",
    "    `action=\"store_true\"` makes default value as \"false\" and vice versa ([Source](https://stackoverflow.com/a/8203679/2365231)). So if we mention the argument, we \"switch\" the state.\n",
    "4. **append**: Save the value to a list. Multiple values are saved if the argument is repeated.\n",
    "5. **append_const**: Save a value defined in the argument specification to a list.\n",
    "6. **version**: Prints version details about the program and then exits. "
   ]
  },
  {
   "cell_type": "code",
   "execution_count": 282,
   "metadata": {},
   "outputs": [
    {
     "name": "stdout",
     "output_type": "stream",
     "text": [
      "Overwriting fibn.py\n"
     ]
    }
   ],
   "source": [
    "%%writefile fibn.py\n",
    "import argparse\n",
    "def fib(n):\n",
    "    a,b=0,1\n",
    "    for i in range(n):\n",
    "        a,b=b,a+b\n",
    "    return a\n",
    "\n",
    "def Main():\n",
    "    parser = argparse.ArgumentParser(description='This is a fibonacci generator.')\n",
    "    \n",
    "    group = parser.add_mutually_exclusive_group()\n",
    "    group.add_argument(\"-v\",\"--verbose\", action=\"store_true\", dest=\"verb\")\n",
    "    group.add_argument(\"-q\",\"--quiet\", action=\"store_true\")\n",
    "    \n",
    "    group2 = parser.add_argument_group('authentication')\n",
    "    group2.add_argument('--user', help=\"Doesn't do anything\")\n",
    "    group2.add_argument('--password', action=\"store\",default=\"meh\",help=\"Doesn't do anything\")\n",
    "    \n",
    "    parser.add_argument(\"num\", help=\"The fibonacci number you wish to calculate.\", type=int)\n",
    "    # parser.add_argument(\"name\", help=\"Doesn't do anything.\")\n",
    "    # these are positional arguments and always need to be passed.\n",
    "    parser.add_argument(\"-o\",\"--output\",help=\"Output the result to a file\", action=\"store_true\")\n",
    "    \n",
    "    args=parser.parse_args()\n",
    "    print(\"Args:\",args)\n",
    "    \n",
    "    result=fib(args.num)\n",
    "    \n",
    "    if args.verb:\n",
    "        print(\"The\", args.num, \"fib number is\",result)\n",
    "    elif args.quiet:\n",
    "        print(result)\n",
    "    else:\n",
    "        print(\"Fib (\"+ str(args.num)+ \"):\",result)\n",
    "        \n",
    "        \n",
    "    if args.output:\n",
    "        f=open(\"fibonacci.txt\",'a')\n",
    "        f.write(str(result)+'\\n')\n",
    "        f.close()\n",
    "        print('Output to file \"fibonacci.txt\"')\n",
    "            \n",
    "if __name__ == '__main__':\n",
    "    Main()"
   ]
  },
  {
   "cell_type": "code",
   "execution_count": 283,
   "metadata": {},
   "outputs": [
    {
     "name": "stderr",
     "output_type": "stream",
     "text": [
      "usage: fibn.py [-h] [-v | -q] [--user USER] [--password PASSWORD] [-o] num\n",
      "fibn.py: error: the following arguments are required: num\n"
     ]
    }
   ],
   "source": [
    "! python fibn.py"
   ]
  },
  {
   "cell_type": "code",
   "execution_count": 284,
   "metadata": {},
   "outputs": [
    {
     "name": "stdout",
     "output_type": "stream",
     "text": [
      "usage: fibn.py [-h] [-v | -q] [--user USER] [--password PASSWORD] [-o] num\n",
      "\n",
      "This is a fibonacci generator.\n",
      "\n",
      "positional arguments:\n",
      "  num                  The fibonacci number you wish to calculate.\n",
      "\n",
      "optional arguments:\n",
      "  -h, --help           show this help message and exit\n",
      "  -v, --verbose\n",
      "  -q, --quiet\n",
      "  -o, --output         Output the result to a file\n",
      "\n",
      "authentication:\n",
      "  --user USER          Doesn't do anything\n",
      "  --password PASSWORD  Doesn't do anything\n"
     ]
    }
   ],
   "source": [
    "! python fibn.py -h"
   ]
  },
  {
   "cell_type": "code",
   "execution_count": 285,
   "metadata": {},
   "outputs": [
    {
     "name": "stderr",
     "output_type": "stream",
     "text": [
      "usage: fibn.py [-h] [-v | -q] [--user USER] [--password PASSWORD] [-o] num\n",
      "fibn.py: error: argument -q/--quiet: not allowed with argument -v/--verbose\n"
     ]
    }
   ],
   "source": [
    "! python fibn.py 10 -vq "
   ]
  },
  {
   "cell_type": "code",
   "execution_count": 286,
   "metadata": {},
   "outputs": [
    {
     "name": "stderr",
     "output_type": "stream",
     "text": [
      "usage: fibn.py [-h] [-v | -q] [--user USER] [--password PASSWORD] [-o] num\n",
      "fibn.py: error: argument -q/--quiet: not allowed with argument -v/--verbose\n"
     ]
    }
   ],
   "source": [
    "! python fibn.py 10 --verbose --quiet"
   ]
  },
  {
   "cell_type": "code",
   "execution_count": 287,
   "metadata": {},
   "outputs": [
    {
     "name": "stderr",
     "output_type": "stream",
     "text": [
      "usage: fibn.py [-h] [-v | -q] [--user USER] [--password PASSWORD] [-o] num\n",
      "fibn.py: error: unrecognized arguments: Abh\n"
     ]
    }
   ],
   "source": [
    "! python fibn.py 10 Abh -v --user Abhinav"
   ]
  },
  {
   "cell_type": "code",
   "execution_count": 288,
   "metadata": {},
   "outputs": [
    {
     "name": "stdout",
     "output_type": "stream",
     "text": [
      "Args: Namespace(num=10, output=False, password='meh', quiet=False, user=None, verb=True)\n",
      "The 10 fib number is 55\n"
     ]
    }
   ],
   "source": [
    "! python fibn.py 10 --verbose"
   ]
  },
  {
   "cell_type": "code",
   "execution_count": 289,
   "metadata": {},
   "outputs": [
    {
     "name": "stdout",
     "output_type": "stream",
     "text": [
      "Args: Namespace(num=10, output=False, password='meh', quiet=True, user=None, verb=False)\n",
      "55\n"
     ]
    }
   ],
   "source": [
    "! python fibn.py 10 --quiet"
   ]
  },
  {
   "cell_type": "code",
   "execution_count": 290,
   "metadata": {},
   "outputs": [
    {
     "name": "stdout",
     "output_type": "stream",
     "text": [
      "Args: Namespace(num=10, output=False, password='meh', quiet=True, user=None, verb=False)\n",
      "55\n"
     ]
    }
   ],
   "source": [
    "! python fibn.py 10 -q"
   ]
  },
  {
   "cell_type": "code",
   "execution_count": 291,
   "metadata": {},
   "outputs": [
    {
     "name": "stdout",
     "output_type": "stream",
     "text": [
      "Args: Namespace(num=10, output=False, password='meh', quiet=False, user=None, verb=False)\n",
      "Fib (10): 55\n"
     ]
    }
   ],
   "source": [
    "! python fibn.py 10"
   ]
  },
  {
   "cell_type": "code",
   "execution_count": 292,
   "metadata": {},
   "outputs": [
    {
     "name": "stdout",
     "output_type": "stream",
     "text": [
      "Args: Namespace(num=10, output=True, password='meh', quiet=False, user=None, verb=False)\n",
      "Fib (10): 55\n",
      "Output to file \"fibonacci.txt\"\n"
     ]
    }
   ],
   "source": [
    "! python fibn.py 10 -o"
   ]
  },
  {
   "cell_type": "code",
   "execution_count": 293,
   "metadata": {},
   "outputs": [
    {
     "name": "stdout",
     "output_type": "stream",
     "text": [
      "Args: Namespace(num=10, output=True, password='meh', quiet=True, user=None, verb=False)\n",
      "55\n",
      "Output to file \"fibonacci.txt\"\n"
     ]
    }
   ],
   "source": [
    "! python fibn.py 10 -oq"
   ]
  },
  {
   "cell_type": "code",
   "execution_count": 294,
   "metadata": {},
   "outputs": [
    {
     "name": "stdout",
     "output_type": "stream",
     "text": [
      "usage: fibn.py [-h] [-v | -q] [--user USER] [--password PASSWORD] [-o] num\n",
      "\n",
      "This is a fibonacci generator.\n",
      "\n",
      "positional arguments:\n",
      "  num                  The fibonacci number you wish to calculate.\n",
      "\n",
      "optional arguments:\n",
      "  -h, --help           show this help message and exit\n",
      "  -v, --verbose\n",
      "  -q, --quiet\n",
      "  -o, --output         Output the result to a file\n",
      "\n",
      "authentication:\n",
      "  --user USER          Doesn't do anything\n",
      "  --password PASSWORD  Doesn't do anything\n"
     ]
    }
   ],
   "source": [
    "! python fibn.py 10 -oqh"
   ]
  },
  {
   "cell_type": "code",
   "execution_count": 295,
   "metadata": {},
   "outputs": [
    {
     "name": "stdout",
     "output_type": "stream",
     "text": [
      "Args: Namespace(num=10, output=True, password='meh', quiet=False, user=None, verb=True)\n",
      "The 10 fib number is 55\n",
      "Output to file \"fibonacci.txt\"\n"
     ]
    }
   ],
   "source": [
    "! python fibn.py 10 --output --verbose"
   ]
  },
  {
   "cell_type": "code",
   "execution_count": null,
   "metadata": {},
   "outputs": [],
   "source": []
  }
 ],
 "metadata": {
  "kernelspec": {
   "display_name": "Python 3",
   "language": "python",
   "name": "python3"
  },
  "language_info": {
   "codemirror_mode": {
    "name": "ipython",
    "version": 3
   },
   "file_extension": ".py",
   "mimetype": "text/x-python",
   "name": "python",
   "nbconvert_exporter": "python",
   "pygments_lexer": "ipython3",
   "version": "3.7.1"
  }
 },
 "nbformat": 4,
 "nbformat_minor": 2
}
