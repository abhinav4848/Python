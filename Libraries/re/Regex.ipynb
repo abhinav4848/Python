{
 "cells": [
  {
   "cell_type": "markdown",
   "metadata": {},
   "source": [
    "# Learn basic regex\n",
    "Use this massive FAQ at [Stack Overflow](https://stackoverflow.com/questions/22937618/reference-what-does-this-regex-mean/22944075#22944075).\n",
    "\n",
    "Use [Regex101](https://regex101.com/) for live testing of a regex\n",
    "\n",
    "# Python specific info\n",
    "use the `r` at the start of the pattern string, that designates a python `raw` string which passes through backslashes\n",
    "\n",
    "`re.findall` finds all"
   ]
  },
  {
   "cell_type": "markdown",
   "metadata": {},
   "source": [
    "## Search\n",
    "`re.search` finds just first instance. \n",
    "\n",
    "If match is found, a **matchobject** is returned else, **None** is returned"
   ]
  },
  {
   "cell_type": "code",
   "execution_count": 59,
   "metadata": {},
   "outputs": [
    {
     "name": "stdout",
     "output_type": "stream",
     "text": [
      "Found... word:cat\n"
     ]
    }
   ],
   "source": [
    "import re\n",
    "\n",
    "string = 'an example word:cat!! another word:dog'\n",
    "match = re.search(r'(word):(\\w+)', string, re.IGNORECASE)\n",
    "\n",
    "if match:                      \n",
    "    print('Found... '+ match.group())\n",
    "else:\n",
    "    print('Did not find')"
   ]
  },
  {
   "cell_type": "code",
   "execution_count": 60,
   "metadata": {},
   "outputs": [
    {
     "data": {
      "text/plain": [
       "<re.Match object; span=(11, 19), match='word:cat'>"
      ]
     },
     "execution_count": 60,
     "metadata": {},
     "output_type": "execute_result"
    }
   ],
   "source": [
    "match"
   ]
  },
  {
   "cell_type": "code",
   "execution_count": 61,
   "metadata": {},
   "outputs": [
    {
     "data": {
      "text/plain": [
       "re.Match"
      ]
     },
     "execution_count": 61,
     "metadata": {},
     "output_type": "execute_result"
    }
   ],
   "source": [
    "type(match)"
   ]
  },
  {
   "cell_type": "code",
   "execution_count": 62,
   "metadata": {},
   "outputs": [
    {
     "data": {
      "text/plain": [
       "11"
      ]
     },
     "execution_count": 62,
     "metadata": {},
     "output_type": "execute_result"
    }
   ],
   "source": [
    "# starting index of the matching term\n",
    "match.start()"
   ]
  },
  {
   "cell_type": "code",
   "execution_count": 63,
   "metadata": {},
   "outputs": [
    {
     "data": {
      "text/plain": [
       "19"
      ]
     },
     "execution_count": 63,
     "metadata": {},
     "output_type": "execute_result"
    }
   ],
   "source": [
    "# end index of the matching term\n",
    "match.end()"
   ]
  },
  {
   "cell_type": "code",
   "execution_count": 64,
   "metadata": {},
   "outputs": [
    {
     "data": {
      "text/plain": [
       "(11, 19)"
      ]
     },
     "execution_count": 64,
     "metadata": {},
     "output_type": "execute_result"
    }
   ],
   "source": [
    "match.span()"
   ]
  },
  {
   "cell_type": "code",
   "execution_count": 70,
   "metadata": {},
   "outputs": [
    {
     "name": "stdout",
     "output_type": "stream",
     "text": [
      "word:cat\n",
      "word:cat\n",
      "word\n",
      "cat\n"
     ]
    }
   ],
   "source": [
    "# group(0) is the full match and works same as group()\n",
    "print(match.group())\n",
    "print(match.group(0))\n",
    "print(match.group(1))\n",
    "print(match.group(2))"
   ]
  },
  {
   "cell_type": "markdown",
   "metadata": {},
   "source": [
    "## Splitting with regex"
   ]
  },
  {
   "cell_type": "code",
   "execution_count": 37,
   "metadata": {},
   "outputs": [
    {
     "data": {
      "text/plain": [
       "['What is the domain name of someone with the email: hello', 'gmail.com']"
      ]
     },
     "execution_count": 37,
     "metadata": {},
     "output_type": "execute_result"
    }
   ],
   "source": [
    "# Term to split on\n",
    "split_term = '@'\n",
    "\n",
    "phrase = 'What is the domain name of someone with the email: hello@gmail.com'\n",
    "\n",
    "# Split the phrase\n",
    "re.split(split_term, phrase)"
   ]
  },
  {
   "cell_type": "markdown",
   "metadata": {},
   "source": [
    "## Findall"
   ]
  },
  {
   "cell_type": "code",
   "execution_count": 43,
   "metadata": {},
   "outputs": [
    {
     "name": "stdout",
     "output_type": "stream",
     "text": [
      "2 emails found.\n",
      "alice@google.com\n",
      "bob@abc.com\n"
     ]
    }
   ],
   "source": [
    "demotext = '''purple alice@google.com, blah monkey bob@abc.com blah dishwasher'''\n",
    "\n",
    "## Here re.findall() returns a list of all the found email strings\n",
    "emails = re.findall(r'[\\w.-]+@[\\w.-]+', demotext)\n",
    "## ['alice@google.com', 'bob@abc.com']\n",
    "\n",
    "print(len(emails), 'emails found.')\n",
    "\n",
    "for email in emails:\n",
    "    print(email)"
   ]
  },
  {
   "cell_type": "code",
   "execution_count": 47,
   "metadata": {},
   "outputs": [
    {
     "name": "stdout",
     "output_type": "stream",
     "text": [
      "['21', '82', '53'] ['Abhinav', 'Bill', 'Gates', 'Jezz', 'Bezos']\n"
     ]
    }
   ],
   "source": [
    "string='''\n",
    "hi there Abhinav, 21 years old, \n",
    "Bill Gates 82 years old, \n",
    "Jezz Bezos 53 yo\n",
    "'''\n",
    "ages = re.findall(r'\\d{1,3}',string)\n",
    "names = re.findall(r'[A-Z][a-z]*',string)\n",
    "print(ages, names)"
   ]
  },
  {
   "cell_type": "code",
   "execution_count": 45,
   "metadata": {},
   "outputs": [
    {
     "name": "stdout",
     "output_type": "stream",
     "text": [
      "['888-444-1344', '432-334-4444']\n"
     ]
    }
   ],
   "source": [
    "message = 'call me at 888-444-1344 tom or at 432-334-4444 today'\n",
    "phonereg = re.compile(r'\\d\\d\\d-\\d\\d\\d-\\d\\d\\d\\d')\n",
    "matchobject = phonereg.findall(message)\n",
    "print(matchobject)"
   ]
  },
  {
   "cell_type": "markdown",
   "metadata": {},
   "source": [
    "# Replace\n",
    "`re.sub(pat, replacement, str)` -- returns new string with all replacements,"
   ]
  },
  {
   "cell_type": "code",
   "execution_count": 58,
   "metadata": {},
   "outputs": [
    {
     "name": "stdout",
     "output_type": "stream",
     "text": [
      "purple alice@yo-yo-dyne.com, blah monkey bob@yo-yo-dyne.com blah dishwasher\n"
     ]
    }
   ],
   "source": [
    "string = 'purple alice@google.com, blah monkey bob@abc.com blah dishwasher' \n",
    "\n",
    "## \\g<0> is the full match, \\g<1> is group(1), \\g<2> group(2) in the replacement\n",
    "\n",
    "print(re.sub(r'([\\w.-]+)@([\\w.-]+)', r'\\g<1>@yo-yo-dyne.com', string))"
   ]
  },
  {
   "cell_type": "markdown",
   "metadata": {},
   "source": [
    "# Long Regex can be compiled separately\n",
    "A `verbose regular expression` is different from a compact regular expression in two ways:\n",
    "\n",
    "1. Whitespace is ignored. Spaces, tabs, and carriage returns are not matched as spaces, tabs, and carriage returns. They're not matched at all. (If you want to match a space in a verbose regular expression, you'll need to escape it by putting a backslash in front of it.)\n",
    "\n",
    "2. Comments are ignored. A comment in a verbose regular expression is just like a comment in Python code: it starts with a # character and goes until the end of the line. In this case it's a comment within a multi-line string instead of within your source code, but it works the same wa"
   ]
  },
  {
   "cell_type": "code",
   "execution_count": 71,
   "metadata": {},
   "outputs": [
    {
     "name": "stdout",
     "output_type": "stream",
     "text": [
      "800.420.7240\n",
      "415.863.9900\n",
      "415.863.9950\n",
      "info@nostarch.com\n",
      "media@nostarch.com\n",
      "academic@nostarch.com\n",
      "info@nostarch.com\n"
     ]
    }
   ],
   "source": [
    "import re, pyperclip\n",
    "\n",
    "# Create a regex for phone numbers\n",
    "phoneRegex = re.compile(r'''\n",
    "# 133-544-3333, 444-44444, (432)-445-8888, 555-0000 ext 23455, ext. 12345, x12354\n",
    "(\n",
    "((\\d{3})|(\\(\\d{3}\\)))?    # area code (optionl)\n",
    "(\\s|-|\\.)                 # first separator\n",
    "(\\d{3})                   # first 3 digits\n",
    "(\\s|-|\\.)                 # separator\n",
    "(\\d{4})                   # last 4 digits\n",
    "(((ext(\\.)?\\s)|x)         # extension-word part (optional)\n",
    "(\\d{2,5}))?               # extension-number part (optional)\n",
    ")\n",
    "''',re.VERBOSE|re.MULTILINE)\n",
    "\n",
    "# create a regex for emails\n",
    "emailRegex = re.compile(r'''\n",
    "[a-zA-Z0-9-.+]+           # name part\n",
    "@                         # @\n",
    "[a-zA-Z0-9-.+]+           # domain-name part\n",
    "''', re.VERBOSE|re.MULTILINE)\n",
    "\n",
    "# get the text off the clipboard\n",
    "# text = pyperclip.paste()\n",
    "text = '''No Starch Press, Inc.\n",
    "245 8th Street\n",
    "San Francisco, CA 94103 USA\n",
    "Phone: 800.420.7240 or +1 415.863.9900 (9 a.m. to 5 p.m., M-F, PST)\n",
    "Fax: +1 415.863.9950\n",
    "\n",
    "Reach Us by Email\n",
    "General inquiries: info@nostarch.com\n",
    "Media requests: media@nostarch.com\n",
    "Academic requests: academic@nostarch.com (Please see this page for academic review requests)\n",
    "Help with your order: info@nostarch.com'''\n",
    "\n",
    "# Extract the email/phone from this text\n",
    "extractedPhone = phoneRegex.findall(text,re.IGNORECASE)\n",
    "extractedEmail = emailRegex.findall(text,re.IGNORECASE)\n",
    "\n",
    "# extractedPhone is a list with tuple of all matched data [('full match','group 1','g2'...),('full match','group 1'...),...]\n",
    "# so we run a for loop to take the first value (the full match) of every list item and append to allPhoneNumbers\n",
    "allPhoneNumbers = []\n",
    "for phoneNumbers in extractedPhone:\n",
    "    allPhoneNumbers.append(phoneNumbers[0])\n",
    "\n",
    "results = '\\n'.join(allPhoneNumbers)+'\\n'+'\\n'.join(extractedEmail)\n",
    "# pyperclip.copy(results)\n",
    "print(results)"
   ]
  },
  {
   "cell_type": "code",
   "execution_count": 74,
   "metadata": {},
   "outputs": [
    {
     "name": "stdout",
     "output_type": "stream",
     "text": [
      "('800.420.7240', '800', '800', '', '.', '420', '.', '7240', '', '', '', '', '')\n",
      "('415.863.9900', '415', '415', '', '.', '863', '.', '9900', '', '', '', '', '')\n",
      "('415.863.9950', '415', '415', '', '.', '863', '.', '9950', '', '', '', '', '')\n"
     ]
    },
    {
     "data": {
      "text/plain": [
       "[('800.420.7240',\n",
       "  '800',\n",
       "  '800',\n",
       "  '',\n",
       "  '.',\n",
       "  '420',\n",
       "  '.',\n",
       "  '7240',\n",
       "  '',\n",
       "  '',\n",
       "  '',\n",
       "  '',\n",
       "  ''),\n",
       " ('415.863.9900',\n",
       "  '415',\n",
       "  '415',\n",
       "  '',\n",
       "  '.',\n",
       "  '863',\n",
       "  '.',\n",
       "  '9900',\n",
       "  '',\n",
       "  '',\n",
       "  '',\n",
       "  '',\n",
       "  ''),\n",
       " ('415.863.9950',\n",
       "  '415',\n",
       "  '415',\n",
       "  '',\n",
       "  '.',\n",
       "  '863',\n",
       "  '.',\n",
       "  '9950',\n",
       "  '',\n",
       "  '',\n",
       "  '',\n",
       "  '',\n",
       "  '')]"
      ]
     },
     "execution_count": 74,
     "metadata": {},
     "output_type": "execute_result"
    }
   ],
   "source": [
    "allPhoneNumbers = []\n",
    "for phoneNumbers in extractedPhone:\n",
    "    #allPhoneNumbers.append(phoneNumbers[0])\n",
    "    print(phoneNumbers)\n",
    "\n",
    "extractedPhone"
   ]
  },
  {
   "cell_type": "markdown",
   "metadata": {},
   "source": [
    "# Using regex to check phone number"
   ]
  },
  {
   "cell_type": "code",
   "execution_count": 88,
   "metadata": {},
   "outputs": [
    {
     "name": "stdout",
     "output_type": "stream",
     "text": [
      "Please, enter your phone: fsa\n",
      "Please enter your phone correctly!\n",
      "Please, enter your phone: +91-9535059840\n"
     ]
    }
   ],
   "source": [
    "phone_check = re.compile(r'[^0-9\\s\\-()+]')\n",
    "\n",
    "phone = input (\"Please, enter your phone: \")\n",
    "\n",
    "while phone_check.search(phone):\n",
    "    print(\"Please enter your phone correctly!\")\n",
    "    phone = input (\"Please, enter your phone: \")"
   ]
  },
  {
   "cell_type": "markdown",
   "metadata": {},
   "source": [
    "# Using regex on a file\n",
    "```python\n",
    "# Open file\n",
    "f = open('test.txt', 'r')\n",
    "\n",
    "# Feed the file text into findall(); it returns a list of all the found strings\n",
    "strings = re.findall(r'some pattern', f.read())\n",
    "```"
   ]
  }
 ],
 "metadata": {
  "kernelspec": {
   "display_name": "Python 3",
   "language": "python",
   "name": "python3"
  },
  "language_info": {
   "codemirror_mode": {
    "name": "ipython",
    "version": 3
   },
   "file_extension": ".py",
   "mimetype": "text/x-python",
   "name": "python",
   "nbconvert_exporter": "python",
   "pygments_lexer": "ipython3",
   "version": "3.7.1"
  }
 },
 "nbformat": 4,
 "nbformat_minor": 2
}
