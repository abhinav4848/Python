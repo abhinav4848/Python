{
 "cells": [
  {
   "cell_type": "markdown",
   "metadata": {},
   "source": [
    "When importing the package, Python searches through the directories on <code>sys.path</code> looking for the package subdirectory.\n",
    "https://docs.python.org/3/tutorial/modules.html#packages"
   ]
  },
  {
   "cell_type": "code",
   "execution_count": 19,
   "metadata": {},
   "outputs": [],
   "source": [
    "import os"
   ]
  },
  {
   "cell_type": "code",
   "execution_count": 20,
   "metadata": {},
   "outputs": [
    {
     "data": {
      "text/plain": [
       "'C:\\\\Users\\\\abhin\\\\Desktop\\\\os module'"
      ]
     },
     "execution_count": 20,
     "metadata": {},
     "output_type": "execute_result"
    }
   ],
   "source": [
    "# Get current working directory\n",
    "os.getcwd()"
   ]
  },
  {
   "cell_type": "markdown",
   "metadata": {},
   "source": [
    "#### File Paths\n",
    "\n",
    "The .\\ folder is current folder.\n",
    "\n",
    "the ..\\ folder is the one folder above"
   ]
  },
  {
   "cell_type": "code",
   "execution_count": 21,
   "metadata": {},
   "outputs": [
    {
     "data": {
      "text/plain": [
       "['.ipynb_checkpoints', 'os module doc.ipynb']"
      ]
     },
     "execution_count": 21,
     "metadata": {},
     "output_type": "execute_result"
    }
   ],
   "source": [
    "# List directory, you can pass a path, but by default it is in the current directory\n",
    "os.listdir()"
   ]
  },
  {
   "cell_type": "code",
   "execution_count": 22,
   "metadata": {},
   "outputs": [
    {
     "data": {
      "text/plain": [
       "['.ipynb_checkpoints', 'hi', 'hola', 'new', 'os module doc.ipynb']"
      ]
     },
     "execution_count": 22,
     "metadata": {},
     "output_type": "execute_result"
    }
   ],
   "source": [
    "# Multiple options for creating directories\n",
    "os.mkdir('hi')  # Use for making one directory only\n",
    "os.makedirs('hola/nice') # Use if you want to create the full path of directories. Works with any slash (/, //)\n",
    "os.makedirs('new\\\\interesting\\\\haha') \n",
    "os.listdir()"
   ]
  },
  {
   "cell_type": "code",
   "execution_count": 23,
   "metadata": {},
   "outputs": [
    {
     "name": "stdout",
     "output_type": "stream",
     "text": [
      "Current Path: C:\\Users\\abhin\\Desktop\\os module\n",
      "Directories: ['.ipynb_checkpoints', 'hi', 'hola', 'new']\n",
      "Files: ['os module doc.ipynb']\n",
      "\n",
      "Current Path: C:\\Users\\abhin\\Desktop\\os module\\.ipynb_checkpoints\n",
      "Directories: []\n",
      "Files: ['os module doc-checkpoint.ipynb']\n",
      "\n",
      "Current Path: C:\\Users\\abhin\\Desktop\\os module\\hi\n",
      "Directories: []\n",
      "Files: []\n",
      "\n",
      "Current Path: C:\\Users\\abhin\\Desktop\\os module\\hola\n",
      "Directories: ['nice']\n",
      "Files: []\n",
      "\n",
      "Current Path: C:\\Users\\abhin\\Desktop\\os module\\hola\\nice\n",
      "Directories: []\n",
      "Files: []\n",
      "\n",
      "Current Path: C:\\Users\\abhin\\Desktop\\os module\\new\n",
      "Directories: ['interesting']\n",
      "Files: []\n",
      "\n",
      "Current Path: C:\\Users\\abhin\\Desktop\\os module\\new\\interesting\n",
      "Directories: ['haha']\n",
      "Files: []\n",
      "\n",
      "Current Path: C:\\Users\\abhin\\Desktop\\os module\\new\\interesting\\haha\n",
      "Directories: []\n",
      "Files: []\n",
      "\n"
     ]
    }
   ],
   "source": [
    "# To see entire directory tree and files within\n",
    "# os.walk is a generator that yields a tuple of 3 values as it walks the directory tree\n",
    "\n",
    "routepath = os.getcwd()\n",
    "for dirpath, dirnames, filenames in os.walk(routepath): \n",
    "    print('Current Path:', dirpath)\n",
    "    print('Directories:', dirnames)\n",
    "    print('Files:', filenames)\n",
    "    print()\n",
    "\n",
    "# This is useful for locating a file that you can’t remember where it was\n",
    "# If you had a web app, and you wanted to keep track of the file info within a certain directory structure, \n",
    "# then you could go thru the os.walk method and go thru all files and folders and collect file information."
   ]
  },
  {
   "cell_type": "code",
   "execution_count": 24,
   "metadata": {},
   "outputs": [
    {
     "data": {
      "text/plain": [
       "['.ipynb_checkpoints', 'os module doc.ipynb']"
      ]
     },
     "execution_count": 24,
     "metadata": {},
     "output_type": "execute_result"
    }
   ],
   "source": [
    "# Remove directories\n",
    "os.rmdir('hi') # Recommended use case\n",
    "os.removedirs('hola/nice')  \n",
    "os.removedirs('new\\\\interesting\\\\haha') \n",
    "# Removes intermediate directories also, but only \n",
    "# if it became empty after deleting the subfolder\n",
    "os.listdir()"
   ]
  },
  {
   "cell_type": "code",
   "execution_count": 25,
   "metadata": {},
   "outputs": [
    {
     "data": {
      "text/plain": [
       "'C:\\\\Users\\\\abhin\\\\Desktop\\\\os module\\\\hi'"
      ]
     },
     "execution_count": 25,
     "metadata": {},
     "output_type": "execute_result"
    }
   ],
   "source": [
    "# Change directory, this requires a path to change to\n",
    "os.mkdir('hi')\n",
    "os.chdir('C:\\\\Users\\\\abhin\\\\Desktop\\\\os module\\\\hi')\n",
    "os.getcwd()"
   ]
  },
  {
   "cell_type": "code",
   "execution_count": 26,
   "metadata": {},
   "outputs": [
    {
     "ename": "PermissionError",
     "evalue": "[WinError 32] The process cannot access the file because it is being used by another process: '..\\\\hi'",
     "output_type": "error",
     "traceback": [
      "\u001b[1;31m---------------------------------------------------------------------------\u001b[0m",
      "\u001b[1;31mPermissionError\u001b[0m                           Traceback (most recent call last)",
      "\u001b[1;32m<ipython-input-26-5397ad42540b>\u001b[0m in \u001b[0;36m<module>\u001b[1;34m\u001b[0m\n\u001b[0;32m      1\u001b[0m \u001b[1;31m# you can't delete your current working directory\u001b[0m\u001b[1;33m\u001b[0m\u001b[1;33m\u001b[0m\u001b[1;33m\u001b[0m\u001b[0m\n\u001b[1;32m----> 2\u001b[1;33m \u001b[0mos\u001b[0m\u001b[1;33m.\u001b[0m\u001b[0mrmdir\u001b[0m\u001b[1;33m(\u001b[0m\u001b[1;34m'..\\\\hi'\u001b[0m\u001b[1;33m)\u001b[0m\u001b[1;33m\u001b[0m\u001b[1;33m\u001b[0m\u001b[0m\n\u001b[0m",
      "\u001b[1;31mPermissionError\u001b[0m: [WinError 32] The process cannot access the file because it is being used by another process: '..\\\\hi'"
     ]
    }
   ],
   "source": [
    "# you can't delete your current working directory\n",
    "os.rmdir('..\\\\hi')"
   ]
  },
  {
   "cell_type": "code",
   "execution_count": 27,
   "metadata": {},
   "outputs": [
    {
     "data": {
      "text/plain": [
       "['.ipynb_checkpoints', 'os module doc.ipynb']"
      ]
     },
     "execution_count": 27,
     "metadata": {},
     "output_type": "execute_result"
    }
   ],
   "source": [
    "os.chdir('C:\\\\Users\\\\abhin\\\\Desktop\\\\os module\\\\')\n",
    "os.rmdir('hi')\n",
    "os.listdir()"
   ]
  },
  {
   "cell_type": "markdown",
   "metadata": {},
   "source": [
    "### For next example, we're creating a file using jupyter notebook's magic"
   ]
  },
  {
   "cell_type": "code",
   "execution_count": 28,
   "metadata": {},
   "outputs": [
    {
     "name": "stdout",
     "output_type": "stream",
     "text": [
      "Writing demofile.txt\n"
     ]
    }
   ],
   "source": [
    "%%writefile demofile.txt\n",
    "stuff inside the file\n",
    "2 lines of stuff"
   ]
  },
  {
   "cell_type": "markdown",
   "metadata": {},
   "source": [
    "Another Jupyter magic is using <code>! </code> to run command line instruction. Eg: <code>! python run.py</code>\n",
    "But that's not the topic "
   ]
  },
  {
   "cell_type": "code",
   "execution_count": 29,
   "metadata": {},
   "outputs": [
    {
     "data": {
      "text/plain": [
       "['.ipynb_checkpoints', 'demofile.txt', 'os module doc.ipynb']"
      ]
     },
     "execution_count": 29,
     "metadata": {},
     "output_type": "execute_result"
    }
   ],
   "source": [
    "os.listdir()"
   ]
  },
  {
   "cell_type": "code",
   "execution_count": 30,
   "metadata": {},
   "outputs": [
    {
     "data": {
      "text/plain": [
       "['.ipynb_checkpoints', 'os module doc.ipynb', 'test.txt']"
      ]
     },
     "execution_count": 30,
     "metadata": {},
     "output_type": "execute_result"
    }
   ],
   "source": [
    "# Rename a file or folder\n",
    "os.rename('demofile.txt', 'test.txt') # This renames demofile.txt to demo.txt\n",
    "os.listdir()"
   ]
  },
  {
   "cell_type": "code",
   "execution_count": 18,
   "metadata": {},
   "outputs": [
    {
     "data": {
      "text/plain": [
       "os.stat_result(st_mode=33206, st_ino=12103423998569533, st_dev=1177342024, st_nlink=1, st_uid=0, st_gid=0, st_size=41, st_atime=1553368141, st_mtime=1553368141, st_ctime=1553368141)"
      ]
     },
     "execution_count": 18,
     "metadata": {},
     "output_type": "execute_result"
    }
   ],
   "source": [
    "# Look at info about files\n",
    "os.stat('test.txt')\n",
    "# Useful stat results: st_size (bytes), st_mtime (time stamp)"
   ]
  },
  {
   "cell_type": "markdown",
   "metadata": {},
   "source": [
    "## Other Stuff"
   ]
  },
  {
   "cell_type": "code",
   "execution_count": 31,
   "metadata": {},
   "outputs": [
    {
     "data": {
      "text/plain": [
       "'C:\\\\Users\\\\abhin'"
      ]
     },
     "execution_count": 31,
     "metadata": {},
     "output_type": "execute_result"
    }
   ],
   "source": [
    "# Access home directory location by grabbing home environment variable\n",
    "# Returns a path\n",
    "os.environ.get('USERPROFILE') # Windows\n",
    "# os.environ.get('HOME') # Linux"
   ]
  },
  {
   "cell_type": "code",
   "execution_count": 32,
   "metadata": {},
   "outputs": [
    {
     "data": {
      "text/plain": [
       "'C:\\\\Users\\\\abhin\\\\test.txt'"
      ]
     },
     "execution_count": 32,
     "metadata": {},
     "output_type": "execute_result"
    }
   ],
   "source": [
    "# To properly join two files together use os.path.join()\n",
    "os.path.join(os.environ.get('USERPROFILE'), 'test.txt')\n",
    "# paths on Windows use \\\n",
    "# paths on Linux are /"
   ]
  },
  {
   "cell_type": "code",
   "execution_count": 33,
   "metadata": {},
   "outputs": [
    {
     "data": {
      "text/plain": [
       "'\\\\'"
      ]
     },
     "execution_count": 33,
     "metadata": {},
     "output_type": "execute_result"
    }
   ],
   "source": [
    "# The separator type for os.path.join() is saved as\n",
    "os.path.sep # Windows \\, Linux /"
   ]
  },
  {
   "cell_type": "code",
   "execution_count": 35,
   "metadata": {},
   "outputs": [
    {
     "data": {
      "text/plain": [
       "'C:\\\\Users\\\\abhin\\\\Desktop\\\\os module\\\\spam.png'"
      ]
     },
     "execution_count": 35,
     "metadata": {},
     "output_type": "execute_result"
    }
   ],
   "source": [
    "# returns absolute path wrt current working directory\n",
    "# the file does not need to exist\n",
    "os.path.abspath('spam.png')"
   ]
  },
  {
   "cell_type": "code",
   "execution_count": 37,
   "metadata": {},
   "outputs": [
    {
     "data": {
      "text/plain": [
       "'C:\\\\Users\\\\abhin\\\\spam.png'"
      ]
     },
     "execution_count": 37,
     "metadata": {},
     "output_type": "execute_result"
    }
   ],
   "source": [
    "os.path.abspath('..\\\\..\\\\spam.png')\n",
    "# this prints full path after going up 2 folders from current working directory"
   ]
  },
  {
   "cell_type": "code",
   "execution_count": 38,
   "metadata": {},
   "outputs": [
    {
     "data": {
      "text/plain": [
       "True"
      ]
     },
     "execution_count": 38,
     "metadata": {},
     "output_type": "execute_result"
    }
   ],
   "source": [
    "# Returns true if path given path is absolute, false if relative\n",
    "os.path.isabs('C:\\\\Users\\\\abhin\\\\Desktop\\\\GitHub\\\\spam.png')"
   ]
  },
  {
   "cell_type": "code",
   "execution_count": 40,
   "metadata": {},
   "outputs": [
    {
     "data": {
      "text/plain": [
       "'..\\\\Desktop\\\\os module\\\\spam.png'"
      ]
     },
     "execution_count": 40,
     "metadata": {},
     "output_type": "execute_result"
    }
   ],
   "source": [
    "# os.path.relpath('ending path', 'starting path')\n",
    "os.path.relpath('C:\\\\Users\\\\abhin\\\\Desktop\\\\os module\\\\spam.png', 'C:\\\\Users\\\\abhin\\\\spam.png')"
   ]
  },
  {
   "cell_type": "code",
   "execution_count": 42,
   "metadata": {},
   "outputs": [
    {
     "data": {
      "text/plain": [
       "'..\\\\Python\\\\Complete-Python-Bootcamp'"
      ]
     },
     "execution_count": 42,
     "metadata": {},
     "output_type": "execute_result"
    }
   ],
   "source": [
    "# returns full path without filename\n",
    "os.path.dirname('..\\\\Python\\\\Complete-Python-Bootcamp\\\\spam.png')"
   ]
  },
  {
   "cell_type": "code",
   "execution_count": 43,
   "metadata": {},
   "outputs": [
    {
     "data": {
      "text/plain": [
       "'spam.png'"
      ]
     },
     "execution_count": 43,
     "metadata": {},
     "output_type": "execute_result"
    }
   ],
   "source": [
    "# returns only the filename or lowest item\n",
    "os.path.basename('..\\\\Python\\\\Complete-Python-Bootcamp\\\\spam.png')"
   ]
  },
  {
   "cell_type": "code",
   "execution_count": 44,
   "metadata": {},
   "outputs": [
    {
     "data": {
      "text/plain": [
       "'Complete-Python-Bootcamp'"
      ]
     },
     "execution_count": 44,
     "metadata": {},
     "output_type": "execute_result"
    }
   ],
   "source": [
    "os.path.basename('..\\\\Python\\\\Complete-Python-Bootcamp')"
   ]
  },
  {
   "cell_type": "code",
   "execution_count": 45,
   "metadata": {},
   "outputs": [
    {
     "data": {
      "text/plain": [
       "True"
      ]
     },
     "execution_count": 45,
     "metadata": {},
     "output_type": "execute_result"
    }
   ],
   "source": [
    "# Returns Boolen based on whether given path actually exists on computer\n",
    "# works for both file and folder\n",
    "os.path.exists(os.getcwd())"
   ]
  },
  {
   "cell_type": "code",
   "execution_count": 47,
   "metadata": {},
   "outputs": [
    {
     "data": {
      "text/plain": [
       "True"
      ]
     },
     "execution_count": 47,
     "metadata": {},
     "output_type": "execute_result"
    }
   ],
   "source": [
    "# checks if there is an actual file at the given location\n",
    "os.path.isfile('os module doc.ipynb')"
   ]
  },
  {
   "cell_type": "code",
   "execution_count": 48,
   "metadata": {},
   "outputs": [
    {
     "data": {
      "text/plain": [
       "True"
      ]
     },
     "execution_count": 48,
     "metadata": {},
     "output_type": "execute_result"
    }
   ],
   "source": [
    "os.path.isdir(os.getcwd())"
   ]
  },
  {
   "cell_type": "code",
   "execution_count": 49,
   "metadata": {},
   "outputs": [
    {
     "data": {
      "text/plain": [
       "16702"
      ]
     },
     "execution_count": 49,
     "metadata": {},
     "output_type": "execute_result"
    }
   ],
   "source": [
    "# size in bytes, as an integer\n",
    "os.path.getsize('os module doc.ipynb')"
   ]
  },
  {
   "cell_type": "code",
   "execution_count": 51,
   "metadata": {},
   "outputs": [
    {
     "data": {
      "text/plain": [
       "['.ipynb_checkpoints', 'os module doc.ipynb', 'test.txt']"
      ]
     },
     "execution_count": 51,
     "metadata": {},
     "output_type": "execute_result"
    }
   ],
   "source": [
    "os.listdir(os.getcwd())"
   ]
  },
  {
   "cell_type": "code",
   "execution_count": 52,
   "metadata": {},
   "outputs": [
    {
     "name": "stdout",
     "output_type": "stream",
     "text": [
      "16692\n"
     ]
    }
   ],
   "source": [
    "totalsize=0\n",
    "for filename in os.listdir(os.getcwd()):\n",
    "    if os.path.isfile(os.path.join(os.getcwd(), filename)):\n",
    "        totalsize+= os.path.getsize(os.path.join(os.getcwd(), filename))\n",
    "print(totalsize)"
   ]
  },
  {
   "cell_type": "code",
   "execution_count": 53,
   "metadata": {},
   "outputs": [
    {
     "data": {
      "text/plain": [
       "('/tmp/test', '.txt')"
      ]
     },
     "execution_count": 53,
     "metadata": {},
     "output_type": "execute_result"
    }
   ],
   "source": [
    "os.path.splitext('/tmp/test.txt')\n",
    "# Splits file route of the path and the extension\n",
    "# returns (‘/tmp/test’, ‘.txt’)\n",
    "# This is alot easier than parsing out the extension. Splitting off and taking the first value is much better.\n",
    "# Very useful for file manipulation."
   ]
  },
  {
   "cell_type": "markdown",
   "metadata": {},
   "source": [
    "# Moving Files is done by renaming "
   ]
  },
  {
   "cell_type": "code",
   "execution_count": 2,
   "metadata": {},
   "outputs": [],
   "source": [
    "os.mkdir('hi')\n",
    "os.rename('test.txt','hi/test.txt')"
   ]
  },
  {
   "cell_type": "markdown",
   "metadata": {},
   "source": [
    "# Printing out a full path"
   ]
  },
  {
   "cell_type": "code",
   "execution_count": 4,
   "metadata": {},
   "outputs": [
    {
     "data": {
      "text/plain": [
       "'C:\\\\Users\\\\abhin\\\\Desktop\\\\GitHub\\\\Python\\\\Library Docs\\\\os module\\\\hi'"
      ]
     },
     "execution_count": 4,
     "metadata": {},
     "output_type": "execute_result"
    }
   ],
   "source": [
    "os.path.join(os.getcwd(), 'hi')"
   ]
  },
  {
   "cell_type": "markdown",
   "metadata": {},
   "source": [
    "### Using files to demonstrate some properties"
   ]
  },
  {
   "cell_type": "code",
   "execution_count": 4,
   "metadata": {},
   "outputs": [
    {
     "name": "stdout",
     "output_type": "stream",
     "text": [
      "Overwriting pathOS.py\n"
     ]
    }
   ],
   "source": [
    "%%writefile pathOS.py\n",
    "import os\n",
    "\n",
    "print(__name__)\n",
    "print(__file__)\n",
    "print(os.path.realpath(__file__))\n",
    "print(os.path.dirname(os.path.realpath(__file__)))"
   ]
  },
  {
   "cell_type": "code",
   "execution_count": 5,
   "metadata": {},
   "outputs": [
    {
     "name": "stdout",
     "output_type": "stream",
     "text": [
      "__main__\n",
      "pathOS.py\n",
      "C:\\Users\\abhin\\Desktop\\GitHub\\Python\\Libraries\\os module\\pathOS.py\n",
      "C:\\Users\\abhin\\Desktop\\GitHub\\Python\\Libraries\\os module\n"
     ]
    }
   ],
   "source": [
    "! python pathOS.py"
   ]
  },
  {
   "cell_type": "code",
   "execution_count": 2,
   "metadata": {},
   "outputs": [
    {
     "name": "stdout",
     "output_type": "stream",
     "text": [
      "Writing globalpy.py\n"
     ]
    }
   ],
   "source": [
    "%%writefile globalpy.py\n",
    "print(globals())"
   ]
  },
  {
   "cell_type": "code",
   "execution_count": 3,
   "metadata": {},
   "outputs": [
    {
     "name": "stdout",
     "output_type": "stream",
     "text": [
      "{'__name__': '__main__', '__doc__': None, '__package__': None, '__loader__': <_frozen_importlib_external.SourceFileLoader object at 0x000001E6ED845908>, '__spec__': None, '__annotations__': {}, '__builtins__': <module 'builtins' (built-in)>, '__file__': 'globalpy.py', '__cached__': None}\n"
     ]
    }
   ],
   "source": [
    "! python globalpy.py"
   ]
  },
  {
   "cell_type": "code",
   "execution_count": null,
   "metadata": {},
   "outputs": [],
   "source": []
  }
 ],
 "metadata": {
  "kernelspec": {
   "display_name": "Python 3",
   "language": "python",
   "name": "python3"
  },
  "language_info": {
   "codemirror_mode": {
    "name": "ipython",
    "version": 3
   },
   "file_extension": ".py",
   "mimetype": "text/x-python",
   "name": "python",
   "nbconvert_exporter": "python",
   "pygments_lexer": "ipython3",
   "version": "3.7.1"
  }
 },
 "nbformat": 4,
 "nbformat_minor": 2
}
