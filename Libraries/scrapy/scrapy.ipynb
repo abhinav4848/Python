{
 "cells": [
  {
   "cell_type": "markdown",
   "metadata": {},
   "source": [
    "Usually use virtualenv.\n",
    "\n",
    "https://www.youtube.com/watch?v=2osL98z3w-Q&list=PLhTjy8cBISEqkN-5Ku_kXG4QW33sxQo0t&index=6\n",
    "\n",
    "Site to be scraped: http://quotes.toscrape.com"
   ]
  },
  {
   "cell_type": "code",
   "execution_count": 17,
   "metadata": {},
   "outputs": [
    {
     "name": "stdout",
     "output_type": "stream",
     "text": [
      "New Scrapy project 'quotes', using template directory 'C:\\\\Users\\\\abhin\\\\AppData\\\\Local\\\\Continuum\\\\anaconda3\\\\lib\\\\site-packages\\\\scrapy\\\\templates\\\\project', created in:\n",
      "    C:\\Users\\abhin\\Desktop\\GitHub\\Python\\Libraries\\scrapy\\quotes\n",
      "\n",
      "You can start your first spider with:\n",
      "    cd quotes\n",
      "    scrapy genspider example example.com\n"
     ]
    }
   ],
   "source": [
    "! scrapy startproject quotes"
   ]
  },
  {
   "cell_type": "markdown",
   "metadata": {},
   "source": [
    "write your python code inside `spiders` folder"
   ]
  },
  {
   "cell_type": "code",
   "execution_count": null,
   "metadata": {},
   "outputs": [],
   "source": []
  }
 ],
 "metadata": {
  "kernelspec": {
   "display_name": "Python 3",
   "language": "python",
   "name": "python3"
  },
  "language_info": {
   "codemirror_mode": {
    "name": "ipython",
    "version": 3
   },
   "file_extension": ".py",
   "mimetype": "text/x-python",
   "name": "python",
   "nbconvert_exporter": "python",
   "pygments_lexer": "ipython3",
   "version": "3.7.1"
  }
 },
 "nbformat": 4,
 "nbformat_minor": 2
}
