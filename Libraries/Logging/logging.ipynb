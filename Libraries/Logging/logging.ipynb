{
 "cells": [
  {
   "cell_type": "markdown",
   "metadata": {},
   "source": [
    "[Log Record Attributes](https://docs.python.org/3/library/logging.html#logrecord-attributes)\n",
    "\n",
    "`CRITICAL`: 50\n",
    "\n",
    "`ERROR`: 40\n",
    "\n",
    "`WARNING`: 30\n",
    "\n",
    "`INFO`: 20\n",
    "\n",
    "`DEBUG`: 10\n",
    "\n",
    "`NOTSET`: 0\n",
    "\n",
    "basicConfig sets default level to `warning`"
   ]
  },
  {
   "cell_type": "markdown",
   "metadata": {},
   "source": [
    "# Basics"
   ]
  },
  {
   "cell_type": "code",
   "execution_count": 8,
   "metadata": {},
   "outputs": [
    {
     "name": "stdout",
     "output_type": "stream",
     "text": [
      "10\n"
     ]
    }
   ],
   "source": [
    "import logging\n",
    "\n",
    "LOG_FORMAT=\"%(levelname)s %(asctime)s - %(message)s\"\n",
    "# create and configure logger\n",
    "logging.basicConfig(filename=\"log.txt\", \n",
    "                    level=logging.DEBUG, \n",
    "                    format= LOG_FORMAT,\n",
    "                    filemode=\"w\")\n",
    "logger = logging.getLogger()\n",
    "\n",
    "# Test the logger\n",
    "logger.info(\"Our Second Message\")\n",
    "print(logger.level)"
   ]
  },
  {
   "cell_type": "code",
   "execution_count": 9,
   "metadata": {},
   "outputs": [
    {
     "name": "stdout",
     "output_type": "stream",
     "text": [
      "INFO 2019-05-09 19:50:32,493 - Our First Message\n",
      "INFO 2019-05-09 19:50:42,761 - Our First Message\n",
      "INFO 2019-05-09 19:51:04,544 - Our Second Message\n",
      "INFO 2019-05-09 19:51:17,657 - Our Second Message\n",
      "\n"
     ]
    }
   ],
   "source": [
    "print(open(\"log.txt\",\"r\").read())\n",
    "#level: name of logger: message"
   ]
  },
  {
   "cell_type": "code",
   "execution_count": 16,
   "metadata": {},
   "outputs": [
    {
     "name": "stdout",
     "output_type": "stream",
     "text": [
      "C:\\Users\\abhin\\Desktop\\GitHub\\Python\\Libraries\\Logging\n"
     ]
    }
   ],
   "source": [
    "! cd"
   ]
  },
  {
   "cell_type": "code",
   "execution_count": null,
   "metadata": {},
   "outputs": [],
   "source": []
  }
 ],
 "metadata": {
  "kernelspec": {
   "display_name": "Python 3",
   "language": "python",
   "name": "python3"
  },
  "language_info": {
   "codemirror_mode": {
    "name": "ipython",
    "version": 3
   },
   "file_extension": ".py",
   "mimetype": "text/x-python",
   "name": "python",
   "nbconvert_exporter": "python",
   "pygments_lexer": "ipython3",
   "version": "3.7.1"
  }
 },
 "nbformat": 4,
 "nbformat_minor": 2
}
