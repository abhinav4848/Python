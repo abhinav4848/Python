{
 "cells": [
  {
   "cell_type": "code",
   "execution_count": 1,
   "metadata": {},
   "outputs": [
    {
     "name": "stdout",
     "output_type": "stream",
     "text": [
      "Overwriting quick_google.py\n"
     ]
    }
   ],
   "source": [
    "%%writefile quick_google.py\n",
    "#! python3\n",
    "# http://automatetheboringstuff.com/chapter11/\n",
    "# quick_google.py - Opens several Google search results.\n",
    "\n",
    "import sys, requests, webbrowser, bs4\n",
    "\n",
    "print('Googling...') # display text while downloading the Google page\n",
    "res = requests.get('http://google.com/search?q=' + ' '.join(sys.argv[1:]))\n",
    "res.raise_for_status()\n",
    "\n",
    "# Retrieve top search result links.\n",
    "soup = bs4.BeautifulSoup(res.text, 'html.parser')\n",
    "\n",
    "# Identify all results.\n",
    "linkElems = soup.select('.r a')\n",
    "\n",
    "# Open a browser tab for top 5 results\n",
    "numOpen = min(5, len(linkElems))\n",
    "for i in range(numOpen):\n",
    "    webbrowser.open('http://google.com' + linkElems[i].get('href'))"
   ]
  },
  {
   "cell_type": "code",
   "execution_count": 4,
   "metadata": {},
   "outputs": [
    {
     "name": "stdout",
     "output_type": "stream",
     "text": [
      "Googling...\n"
     ]
    }
   ],
   "source": [
    "! python quick_google.py yahoo"
   ]
  },
  {
   "cell_type": "code",
   "execution_count": null,
   "metadata": {},
   "outputs": [],
   "source": []
  }
 ],
 "metadata": {
  "kernelspec": {
   "display_name": "Python 3",
   "language": "python",
   "name": "python3"
  },
  "language_info": {
   "codemirror_mode": {
    "name": "ipython",
    "version": 3
   },
   "file_extension": ".py",
   "mimetype": "text/x-python",
   "name": "python",
   "nbconvert_exporter": "python",
   "pygments_lexer": "ipython3",
   "version": "3.7.1"
  }
 },
 "nbformat": 4,
 "nbformat_minor": 2
}
