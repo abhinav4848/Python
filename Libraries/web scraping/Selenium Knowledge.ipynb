{
 "cells": [
  {
   "cell_type": "markdown",
   "metadata": {},
   "source": [
    "# Web Parsing is done via Selenium when browser is to be used"
   ]
  },
  {
   "cell_type": "markdown",
   "metadata": {},
   "source": [
    "| Method name                                                                                          | WebElement object/list returned                                                                  |\n",
    "|------------------------------------------------------------------------------------------------------|--------------------------------------------------------------------------------------------------|\n",
    "| Elements that use the CSS class name                                                                 | browser.find_element_by_class_name(name) browser.find_elements_by_class_name(name)               |\n",
    "| Elements that match the CSS selector                                                                 | browser.find_element_by_css_selector(selector) browser.find_elements_by_css_selector(selector)   |\n",
    "| Elements with a matching id attribute value                                                          | browser.find_element_by_id(id) browser.find_elements_by_id(id)                                   |\n",
    "| &lt;a&gt; elements that completely match the text provided                                           | browser.find_element_by_link_text(text) browser.find_elements_by_link_text(text)                 |\n",
    "| &lt;a&gt; elements that contain the text provided                                                    | browser.find_element_by_partial_link_text(text) browser.find_elements_by_partial_link_text(text) |\n",
    "| Elements with a matching name attribute value                                                        | browser.find_element_by_name(name) browser.find_elements_by_name(name)                           |\n",
    "| Elements with a matching tag name (case insensitive; an &lt;a&gt; element is matched by 'a' and 'A') | browser.find_element_by_tag_name(name) browser.find_elements_by_tag_name(name)                   |\n",
    "\n",
    "created by https://www.tablesgenerator.com/markdown_tables using source https://automatetheboringstuff.com/chapter11/#calibre_link-2983"
   ]
  },
  {
   "cell_type": "markdown",
   "metadata": {},
   "source": [
    "| Attribute or method | Description                                                                                             |\n",
    "|---------------------|---------------------------------------------------------------------------------------------------------|\n",
    "| tag_name            | The tag name, such as 'a' for an &lt;a&gt; element                                                      |\n",
    "| get_attribute(name) | The value for the element’s name attribute                                                              |\n",
    "| text                | The text within the element, such as 'hello' in &lt;span&gt;hello&lt;/span&gt;                          |\n",
    "| clear()             | For text field or text area elements, clears the text typed into it                                     |\n",
    "| is_displayed()      | Returns True if the element is visible; otherwise returns False                                         |\n",
    "| is_enabled()        | For input elements, returns True if the element is enabled; otherwise returns False                     |\n",
    "| is_selected()       | For checkbox or radio button elements, returns True if the element is selected; otherwise returns False |\n",
    "| location            | A dictionary with keys 'x' and 'y' for the position of the element in the page                         "
   ]
  },
  {
   "cell_type": "code",
   "execution_count": 1,
   "metadata": {},
   "outputs": [],
   "source": [
    "import os\n",
    "from selenium import webdriver\n",
    "browser = webdriver.Chrome(executable_path=os.path.join(os.getcwd(),'webdriver','chromedriver.exe'))\n",
    "browser.get('https://abhinavkr.ga/')\n",
    "\n",
    "elem = browser.find_element_by_css_selector('body > div:nth-child(5) > div > div > div.col-md-4.mt-sm-2 > div > div > p.card-text > a:nth-child(11)')\n",
    "elem.click()"
   ]
  },
  {
   "cell_type": "markdown",
   "metadata": {},
   "source": [
    "# Read all the text in page\n",
    "```python\n",
    "elem = browser.find_element_by_css_selector('html').text\n",
    "print(elem)\n",
    "```"
   ]
  },
  {
   "cell_type": "markdown",
   "metadata": {},
   "source": [
    "# Send data to form\n",
    "```python\n",
    "field = browser.find_element_by_name('regno')\n",
    "field.send_keys(roll)\n",
    "field.submit()\n",
    "```"
   ]
  },
  {
   "cell_type": "code",
   "execution_count": null,
   "metadata": {},
   "outputs": [],
   "source": []
  }
 ],
 "metadata": {
  "kernelspec": {
   "display_name": "Python 3",
   "language": "python",
   "name": "python3"
  },
  "language_info": {
   "codemirror_mode": {
    "name": "ipython",
    "version": 3
   },
   "file_extension": ".py",
   "mimetype": "text/x-python",
   "name": "python",
   "nbconvert_exporter": "python",
   "pygments_lexer": "ipython3",
   "version": "3.7.1"
  }
 },
 "nbformat": 4,
 "nbformat_minor": 2
}
