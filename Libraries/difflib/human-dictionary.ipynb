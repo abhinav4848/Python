{
 "cells": [
  {
   "cell_type": "code",
   "execution_count": 1,
   "metadata": {},
   "outputs": [],
   "source": [
    "from difflib import SequenceMatcher, get_close_matches\n",
    "import json\n",
    "\n",
    "data = json.load(open(\"data.json\"))"
   ]
  },
  {
   "cell_type": "code",
   "execution_count": 3,
   "metadata": {},
   "outputs": [
    {
     "name": "stdout",
     "output_type": "stream",
     "text": [
      "Enter a word: usa\n",
      "A country and federal republic in North America located north of Mexico and south of Canada, including Alaska, Hawaii and overseas territories.\n"
     ]
    }
   ],
   "source": [
    "# no check for wrong word\n",
    "def meaning(word):\n",
    "    try:\n",
    "        if word in data:\n",
    "            return data[word]\n",
    "        elif word.lower() in data:\n",
    "            return data[word.lower()]\n",
    "        elif word.title() in data:\n",
    "            return data[word.title()]\n",
    "        elif word.upper() in data:\n",
    "            return data[word.upper()]\n",
    "        elif len(get_close_matches(word,data.keys())) > 0:\n",
    "            print(\"Did you mean %s instead?\" % get_close_matches(word,data.keys())[0])\n",
    "            print(\"Similarity:\",round(SequenceMatcher(None,word,get_close_matches(word,data.keys())[0]).ratio(),4)*100,\"%\")\n",
    "            choice = ''\n",
    "            while choice!='y' and choice!='n':\n",
    "                choice = input(\"Enter Y or N: \").lower()\n",
    "                if choice == 'y':\n",
    "                    return data[get_close_matches(word,data.keys())[0]]\n",
    "                elif choice == 'n':\n",
    "                    raise Exception('So we don\\'t have your word in dictionary')\n",
    "                else:\n",
    "                    print(\"We didn't understand that choice\")\n",
    "        else:\n",
    "            raise Exception('No word like that. Not even similar words exist')\n",
    "    except Exception as e:\n",
    "        return e\n",
    "    \n",
    "word = input(\"Enter a word: \")\n",
    "\n",
    "output = meaning(word)\n",
    "if type(output) == list:\n",
    "    for word in output:\n",
    "        print(word)\n",
    "else:\n",
    "    print(output)"
   ]
  }
 ],
 "metadata": {
  "kernelspec": {
   "display_name": "Python 3",
   "language": "python",
   "name": "python3"
  },
  "language_info": {
   "codemirror_mode": {
    "name": "ipython",
    "version": 3
   },
   "file_extension": ".py",
   "mimetype": "text/x-python",
   "name": "python",
   "nbconvert_exporter": "python",
   "pygments_lexer": "ipython3",
   "version": "3.7.1"
  }
 },
 "nbformat": 4,
 "nbformat_minor": 2
}
