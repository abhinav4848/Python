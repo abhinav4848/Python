{
 "cells": [
  {
   "cell_type": "markdown",
   "metadata": {},
   "source": [
    "Security\n",
    "-------------\n",
    "\n",
    "**Caesar cipher** - Implement a Caesar cipher, both encoding and decoding. The key is an integer from 1 to 25. This cipher rotates the letters of the alphabet (A to Z). The encoding replaces each letter with the 1st to 25th next letter in the alphabet (wrapping Z to A). So key 2 encrypts \"HI\" to \"JK\", but key 20 encrypts \"HI\" to \"BC\". This simple \"monoalphabetic substitution cipher\" provides almost no security, because an attacker who has the encoded message can either use frequency analysis to guess the key, or just try all 25 keys. [[shyamsalimkumar (Python)]](https://github.com/shyamsalimkumar/Projects/blob/master/Security/caesar_cipher.py) [[sriniavireddy (python)]](https://github.com/sriniavireddy/scripts-and-solutions/blob/master/CaesarCipher.py) \n"
   ]
  },
  {
   "cell_type": "code",
   "execution_count": 1,
   "metadata": {},
   "outputs": [
    {
     "name": "stdout",
     "output_type": "stream",
     "text": [
      "Text  : g fmnc wms bgblr rpylqjyrc gr zw fylb. rfyrq ufyr amknsrcpq ypc dmp. bmgle gr gl zw fylb gq glcddgagclr ylb rfyr'q ufw rfgq rcvr gq qm jmle. sqgle qrpgle.kyicrpylq() gq pcamkkclbcb. lmu ynnjw ml rfc spj\n",
      "Shift : 2\n",
      "Cipher: i hope you didnt translate it by hand. thats what computers are for. doing it in by hand is inefficient and that's why this text is so long. using string.maketrans() is recommended. now apply on the url\n"
     ]
    }
   ],
   "source": [
    "# caesar cypher\n",
    "def encrypt(text,s): \n",
    "    result = \"\" \n",
    "  \n",
    "    # traverse text \n",
    "    for i in range(len(text)): \n",
    "        char = text[i] \n",
    "  \n",
    "        # Encrypt uppercase characters \n",
    "        if (char.isupper()): \n",
    "            result += chr((ord(char) + s-65) % 26 + 65) \n",
    "  \n",
    "        # Encrypt lowercase characters \n",
    "        elif (char.islower()): \n",
    "            result += chr((ord(char) + s - 97) % 26 + 97)\n",
    "        \n",
    "        # leave the rest as is\n",
    "        else:\n",
    "            result +=char\n",
    "  \n",
    "    return result \n",
    "  \n",
    "#check the above function \n",
    "text = \"g fmnc wms bgblr rpylqjyrc gr zw fylb. rfyrq ufyr amknsrcpq ypc dmp. bmgle gr gl zw fylb gq glcddgagclr ylb rfyr'q ufw rfgq rcvr gq qm jmle. sqgle qrpgle.kyicrpylq() gq pcamkkclbcb. lmu ynnjw ml rfc spj\"\n",
    "s = 2\n",
    "print(\"Text  : \" + text )\n",
    "print(\"Shift : \" + str(s))\n",
    "print(\"Cipher: \" + encrypt(text,s))"
   ]
  },
  {
   "cell_type": "code",
   "execution_count": null,
   "metadata": {},
   "outputs": [],
   "source": []
  }
 ],
 "metadata": {
  "kernelspec": {
   "display_name": "Python 3",
   "language": "python",
   "name": "python3"
  },
  "language_info": {
   "codemirror_mode": {
    "name": "ipython",
    "version": 3
   },
   "file_extension": ".py",
   "mimetype": "text/x-python",
   "name": "python",
   "nbconvert_exporter": "python",
   "pygments_lexer": "ipython3",
   "version": "3.7.1"
  }
 },
 "nbformat": 4,
 "nbformat_minor": 2
}
