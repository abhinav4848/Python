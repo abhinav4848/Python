{
 "cells": [
  {
   "cell_type": "markdown",
   "metadata": {},
   "source": [
    "# Finding Pi\n",
    "\n",
    "**Find PI to the Nth Digit** - Enter a number and have the program generate &pi; (pi) up to that many decimal places. Keep a 1\n",
    "limit to how far the program will go.\n",
    "\n",
    "## Own"
   ]
  },
  {
   "cell_type": "code",
   "execution_count": 1,
   "metadata": {},
   "outputs": [
    {
     "name": "stdout",
     "output_type": "stream",
     "text": [
      "Would you like for pi or e? (max 15): pi\n",
      "How many digits of pi would you like after decimal? (max 15): 10\n",
      "Pi value up to 10 places is 3.1415926536\n",
      "Created by Abhinav, 2019\n"
     ]
    }
   ],
   "source": [
    "import math\n",
    "while True:\n",
    "    try:\n",
    "        p_or_e = input('Would you like for pi or e? (max 15): ')\n",
    "        limit= int(input(f'How many digits of {p_or_e} would you like after decimal? (max 15): '))\n",
    "    except:\n",
    "        print('Sorry, not valid input. Try again')\n",
    "        continue\n",
    "    else:\n",
    "        if p_or_e[0] != 'p' and p_or_e[0] != 'e':\n",
    "            print('please enter pi or e')\n",
    "            continue\n",
    "        elif limit>50 or limit<1:\n",
    "            print('Your choice is out of range. Please choose between 1 and 15.')\n",
    "            continue\n",
    "        else:\n",
    "            if p_or_e[0] =='p':\n",
    "                print('Pi value up to {} places is {:.{}f}'.format(limit, math.pi, limit))\n",
    "            elif p_or_e[0] == 'e':\n",
    "                print('e value up to {} places is {:.{}f}'.format(limit, math.e, limit))\n",
    "            break\n",
    "    finally:\n",
    "        print('Created by Abhinav, 2019')"
   ]
  },
  {
   "cell_type": "markdown",
   "metadata": {},
   "source": [
    "## [Wikipedia](https://en.wikipedia.org/w/index.php?title=Chudnovsky_algorithm&oldid=887860952)"
   ]
  },
  {
   "cell_type": "code",
   "execution_count": 2,
   "metadata": {},
   "outputs": [
    {
     "name": "stdout",
     "output_type": "stream",
     "text": [
      "PI(maxK=70 iterations, gc().prec=1008, disp=1007 digits) =\n",
      "3.141592653589793238462643383279502884197169399375105820974944592307816406286208998628034825342117067982148086513282306647093844609550582231725359408128481117450284102701938521105559644622948954930381964428810975665933446128475648233786783165271201909145648566923460348610454326648213393607260249141273724587006606315588174881520920962829254091715364367892590360011330530548820466521384146951941511609433057270365759591953092186117381932611793105118548074462379962749567351885752724891227938183011949129833673362440656643086021394946395224737190702179860943702770539217176293176752384674818467669405132000568127145263560827785771342757789609173637178721468440901224953430146549585371050792279689258923542019956112129021960864034418159813629774771309960518707211349999998372978049951059731732816096318595024459455346908302642522308253344685035261931188171010003137838752886587533208381420617177669147303598253490428755468731159562863882353787593751957781857780532171226806613001927876611195909216420198938095\n",
      "\n",
      "For greater precision and more digits (takes a few extra seconds) - Try\n",
      "Pi = PI(317,4501,4500)\n",
      "Pi = PI(353,5022,5020)\n"
     ]
    }
   ],
   "source": [
    "from decimal import Decimal as Dec, getcontext as gc\n",
    "\n",
    "def PI(maxK=70, prec=1008, disp=1007): # parameter defaults chosen to gain 1000+ digits within a few seconds\n",
    "    gc().prec = prec\n",
    "    K, M, L, X, S = 6, 1, 13591409, 1, 13591409\n",
    "    for k in range(1, maxK+1):\n",
    "        M = (K**3 - 16*K) * M // k**3 \n",
    "        L += 545140134\n",
    "        X *= -262537412640768000\n",
    "        S += Dec(M * L) / X\n",
    "        K += 12\n",
    "    pi = 426880 * Dec(10005).sqrt() / S\n",
    "    pi = Dec(str(pi)[:disp]) # drop few digits of precision for accuracy\n",
    "    print(\"PI(maxK=%d iterations, gc().prec=%d, disp=%d digits) =\\n%s\" % (maxK, prec, disp, pi))\n",
    "    return pi\n",
    "\n",
    "Pi = PI()\n",
    "print(\"\\nFor greater precision and more digits (takes a few extra seconds) - Try\")\n",
    "print(\"Pi = PI(317,4501,4500)\") \n",
    "print(\"Pi = PI(353,5022,5020)\")"
   ]
  },
  {
   "cell_type": "markdown",
   "metadata": {},
   "source": [
    "## [geekpradd](https://github.com/geekpradd/PythonPi/blob/master/PythonPi.py)"
   ]
  },
  {
   "cell_type": "code",
   "execution_count": 3,
   "metadata": {},
   "outputs": [
    {
     "name": "stdout",
     "output_type": "stream",
     "text": [
      "Welcome to Pi Calculator. In the shell below Enter the number of digits upto which the value of Pi should be calculated or enter quit to exit\n",
      ">>> 21\n",
      "3.141592653589674961834\n",
      ">>> 100\n",
      "3.1415926535896749618344472523936367445289018303831227095206649458770837381153457373282472370877155750\n",
      ">>> quit\n"
     ]
    }
   ],
   "source": [
    "\"\"\"\n",
    "Name: pi.py\n",
    "Purpose: Get the value of Pi to n number of decimal places\n",
    "Author: Pradipta (geekpradd)\n",
    "Algorithm: Chudnovsky Algorithm\n",
    "License: MIT\n",
    "\n",
    "Module Dependencies:\n",
    "\n",
    "Math provides fast square rooting\n",
    "Decimal gives the Decimal data type which is much better than Float\n",
    "sys is needed to set the depth for recursion.\n",
    "\"\"\"\n",
    "from __future__ import print_function\n",
    "import math, sys\n",
    "from decimal import *\n",
    "getcontext().rounding = ROUND_FLOOR\n",
    "sys.setrecursionlimit(100000)\n",
    "\n",
    "python2 = sys.version_info[0] == 2\n",
    "if python2:\n",
    "    input = raw_input\n",
    "\n",
    "def factorial(n):\n",
    "    \"\"\"\n",
    "    Return the Factorial of a number using recursion\n",
    "\n",
    "    Parameters:\n",
    "    n -- Number to get factorial of\n",
    "    \"\"\"\n",
    "    if not n:\n",
    "        return 1\n",
    "    return n*factorial(n-1)\n",
    "\n",
    "\n",
    "def getIteratedValue(k):\n",
    "    \"\"\"\n",
    "    Return the Iterations as given in the Chudnovsky Algorithm.\n",
    "    k iterations gives k-1 decimal places.. Since we need k decimal places\n",
    "    make iterations equal to k+1\n",
    "    \n",
    "    Parameters:\n",
    "    k  -- Number of Decimal Digits to get\n",
    "    \"\"\"\n",
    "    k = k+1\n",
    "    getcontext().prec = k\n",
    "    sum=0\n",
    "    for k in range(k):\n",
    "        first = factorial(6*k)*(13591409+545140134*k)\n",
    "        down = factorial(3*k)*(factorial(k))**3*(640320**(3*k))\n",
    "        sum += first/down \n",
    "    return Decimal(sum) \n",
    "\n",
    "def getValueOfPi(k):\n",
    "    \"\"\"\n",
    "    Returns the calculated value of Pi using the iterated value of the loop\n",
    "    and some division as given in the Chudnovsky Algorithm\n",
    "\n",
    "    Parameters:\n",
    "    k -- Number of Decimal Digits upto which the value of Pi should be calculated\n",
    "    \"\"\"\n",
    "    iter = getIteratedValue(k)\n",
    "    up = 426880*math.sqrt(10005)\n",
    "    pi = Decimal(up)/iter \n",
    "    \n",
    "    return pi\n",
    "\n",
    "\n",
    "def shell():\n",
    "    \"\"\"\n",
    "    Console Function to create the interactive Shell.\n",
    "    Runs only when __name__ == __main__ that is when the script is being called directly\n",
    "\n",
    "    No return value and Parameters\n",
    "    \"\"\"\n",
    "    print (\"Welcome to Pi Calculator. In the shell below Enter the number of digits upto which the value of Pi should be calculated or enter quit to exit\")\n",
    "\n",
    "    while True:\n",
    "        print (\">>> \", end='')\n",
    "        entry = input()\n",
    "        if entry == \"quit\":\n",
    "            break\n",
    "        if not entry.isdigit():\n",
    "            print (\"You did not enter a number. Try again\")\n",
    "        else:\n",
    "            print (getValueOfPi(int(entry)))\n",
    "\n",
    "if __name__=='__main__':\n",
    "    shell()"
   ]
  },
  {
   "cell_type": "markdown",
   "metadata": {},
   "source": [
    "## Another attempt at solving Pi"
   ]
  },
  {
   "cell_type": "code",
   "execution_count": 4,
   "metadata": {},
   "outputs": [
    {
     "name": "stdout",
     "output_type": "stream",
     "text": [
      "Enter the number of decimals to calculate to: 150\n",
      "3.14159265358979323846264338327950288419\n",
      "7169399375105820974944592307816406286208\n",
      "9986280348253421170679821480865132823066\n",
      "47093844609550582231725359408128\n"
     ]
    }
   ],
   "source": [
    "#!/usr/bin/env python3\n",
    "\n",
    "# Find PI to the Nth Digit\n",
    "# Have the user enter a number 'n'\n",
    "# and print out PI to the 'n'th digit\n",
    "\n",
    "# https://rosettacode.org/wiki/Pi#Python\n",
    "\n",
    "def calcPi(limit):  # Generator function\n",
    "    \"\"\"\n",
    "    Prints out the digits of PI\n",
    "    until it reaches the given limit\n",
    "    \"\"\"\n",
    "\n",
    "    q, r, t, k, n, l = 1, 0, 1, 1, 3, 3\n",
    "\n",
    "    decimal = limit\n",
    "    counter = 0\n",
    "\n",
    "    while counter != decimal + 1:\n",
    "            if 4 * q + r - t < n * t:\n",
    "                    # yield digit\n",
    "                    yield n\n",
    "                    # insert period after first digit\n",
    "                    if counter == 0:\n",
    "                            yield '.'\n",
    "                    # end\n",
    "                    if decimal == counter:\n",
    "                            print('')\n",
    "                            break\n",
    "                    counter += 1\n",
    "                    nr = 10 * (r - n * t)\n",
    "                    n = ((10 * (3 * q + r)) // t) - 10 * n\n",
    "                    q *= 10\n",
    "                    r = nr\n",
    "            else:\n",
    "                    nr = (2 * q + r) * l\n",
    "                    nn = (q * (7 * k) + 2 + (r * l)) // (t * l)\n",
    "                    q *= k\n",
    "                    t *= l\n",
    "                    l += 2\n",
    "                    k += 1\n",
    "                    n = nn\n",
    "                    r = nr\n",
    "\n",
    "\n",
    "def main():  # Wrapper function\n",
    "\n",
    "    # Calls CalcPi with the given limit\n",
    "    pi_digits = calcPi(int(input(\n",
    "        \"Enter the number of decimals to calculate to: \")))\n",
    "\n",
    "    i = 0\n",
    "\n",
    "    # Prints the output of calcPi generator function\n",
    "    # Inserts a newline after every 40th number\n",
    "    for d in pi_digits:\n",
    "            print(d, end='')\n",
    "            i += 1\n",
    "            if i == 40:\n",
    "                print(\"\")\n",
    "                i = 0\n",
    "\n",
    "if __name__ == '__main__':\n",
    "    main()"
   ]
  },
  {
   "cell_type": "code",
   "execution_count": null,
   "metadata": {},
   "outputs": [],
   "source": []
  }
 ],
 "metadata": {
  "kernelspec": {
   "display_name": "Python 3",
   "language": "python",
   "name": "python3"
  },
  "language_info": {
   "codemirror_mode": {
    "name": "ipython",
    "version": 3
   },
   "file_extension": ".py",
   "mimetype": "text/x-python",
   "name": "python",
   "nbconvert_exporter": "python",
   "pygments_lexer": "ipython3",
   "version": "3.7.1"
  }
 },
 "nbformat": 4,
 "nbformat_minor": 2
}
