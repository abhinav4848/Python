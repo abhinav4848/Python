{
 "cells": [
  {
   "cell_type": "markdown",
   "metadata": {},
   "source": [
    "# Fibonacci Sequence \n",
    "Enter a number and have the program generate the Fibonacci sequence to that number or to the Nth number."
   ]
  },
  {
   "cell_type": "code",
   "execution_count": 7,
   "metadata": {},
   "outputs": [
    {
     "name": "stdout",
     "output_type": "stream",
     "text": [
      "How many numbers do you need? 77\n",
      "1, 1, 2, 3, 5, 8, 13, 21, 34, 55, 89, 144, 233, 377, 610, 987, 1597, 2584, 4181, 6765, 10946, 17711, 28657, 46368, 75025, 121393, 196418, 317811, 514229, 832040, 1346269, 2178309, 3524578, 5702887, 9227465, 14930352, 24157817, 39088169, 63245986, 102334155, 165580141, 267914296, 433494437, 701408733, 1134903170, 1836311903, 2971215073, 4807526976, 7778742049, 12586269025, 20365011074, 32951280099, 53316291173, 86267571272, 139583862445, 225851433717, 365435296162, 591286729879, 956722026041, 1548008755920, 2504730781961, 4052739537881, 6557470319842, 10610209857723, 17167680177565, 27777890035288, 44945570212853, 72723460248141, 117669030460994, 190392490709135, 308061521170129, 498454011879264, 806515533049393, 1304969544928657, 2111485077978050, 3416454622906707, 5527939700884757\n"
     ]
    }
   ],
   "source": [
    "#!/usr/bin/env python3\n",
    "\n",
    "# Fibonacci Sequence Generator\n",
    "# Have the user enter a number and\n",
    "# generate a fibonacci sequence\n",
    "# which size is equivalent to that number.\n",
    "\n",
    "\n",
    "def fibSequence(n):\n",
    "    \"\"\"\n",
    "    Generates a fibonacci sequence\n",
    "    with the size of n\n",
    "    \"\"\"\n",
    "    assert n > 0\n",
    "\n",
    "    series = [1]\n",
    "\n",
    "    while len(series) < n:\n",
    "        if len(series) == 1:\n",
    "            series.append(1)\n",
    "        else:\n",
    "            series.append(series[-1] + series[-2])\n",
    "\n",
    "    for i in range(len(series)):  # Convert the numbers to strings\n",
    "        series[i] = str(series[i])\n",
    "\n",
    "    return(', '.join(series))  # Return the sequence seperated by commas\n",
    "    \n",
    "\n",
    "\n",
    "def main():  # Wrapper function\n",
    "\n",
    "    print(fibSequence(int(input('How many numbers do you need? '))))\n",
    "\n",
    "if __name__ == '__main__':\n",
    "    main()"
   ]
  },
  {
   "cell_type": "code",
   "execution_count": 4,
   "metadata": {},
   "outputs": [
    {
     "data": {
      "text/plain": [
       "Context(prec=28, rounding=ROUND_HALF_EVEN, Emin=-999999, Emax=999999, capitals=1, clamp=0, flags=[], traps=[InvalidOperation, DivisionByZero, Overflow])"
      ]
     },
     "execution_count": 4,
     "metadata": {},
     "output_type": "execute_result"
    }
   ],
   "source": [
    "from decimal import *\n",
    "getcontext()"
   ]
  },
  {
   "cell_type": "code",
   "execution_count": 1,
   "metadata": {},
   "outputs": [
    {
     "name": "stdout",
     "output_type": "stream",
     "text": [
      "0.01600000000325963\n"
     ]
    }
   ],
   "source": [
    "# first fibonacci number is '1'. Not 0\n",
    "class Fib():\n",
    "    def __init__(self):\n",
    "        self.fibs=[0,1]\n",
    "    def __call__(self,n):\n",
    "        fibs=self.fibs\n",
    "        try:\n",
    "            f = fibs[n]\n",
    "        except IndexError:\n",
    "            m = len(fibs)\n",
    "            for i in range(m, n+1):\n",
    "                fibs.append(fibs[-1] + fibs[-2])\n",
    "            f = fibs[-1]\n",
    "        return f\n",
    "lastingfib=Fib()\n",
    "\n",
    "import time\n",
    "t0=time.monotonic();\n",
    "lastingfib(9999)\n",
    "print(time.monotonic()-t0)"
   ]
  },
  {
   "cell_type": "markdown",
   "metadata": {},
   "source": [
    "# Fast Fib"
   ]
  },
  {
   "cell_type": "code",
   "execution_count": 8,
   "metadata": {},
   "outputs": [
    {
     "data": {
      "text/plain": [
       "12586269025"
      ]
     },
     "execution_count": 8,
     "metadata": {},
     "output_type": "execute_result"
    }
   ],
   "source": [
    "import math\n",
    "def fib(n):\n",
    "    return round((1/(math.sqrt(5))*(((1+math.sqrt(5))/2)**n-((1-math.sqrt(5))/2)**n)))\n",
    "fib(50)"
   ]
  },
  {
   "cell_type": "code",
   "execution_count": null,
   "metadata": {},
   "outputs": [],
   "source": []
  }
 ],
 "metadata": {
  "kernelspec": {
   "display_name": "Python 3",
   "language": "python",
   "name": "python3"
  },
  "language_info": {
   "codemirror_mode": {
    "name": "ipython",
    "version": 3
   },
   "file_extension": ".py",
   "mimetype": "text/x-python",
   "name": "python",
   "nbconvert_exporter": "python",
   "pygments_lexer": "ipython3",
   "version": "3.7.1"
  }
 },
 "nbformat": 4,
 "nbformat_minor": 2
}
