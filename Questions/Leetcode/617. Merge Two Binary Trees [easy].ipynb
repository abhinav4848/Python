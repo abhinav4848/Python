{
 "cells": [
  {
   "cell_type": "markdown",
   "metadata": {},
   "source": [
    "# TreeNode class\n",
    "Definition for a binary tree node.\n",
    "\n",
    "[Problem](https://leetcode.com/problems/merge-two-binary-trees/), \n",
    "[Article](https://leetcode.com/articles/merge-two-binary-trees/), \n",
    "[Learn about Trees](https://medium.com/the-renaissance-developer/learning-tree-data-structure-27c6bb363051)"
   ]
  },
  {
   "cell_type": "code",
   "execution_count": 2,
   "metadata": {},
   "outputs": [],
   "source": [
    "class TreeNode:\n",
    "    def __init__(self, value):\n",
    "        self.value = value\n",
    "        self.left_child = None\n",
    "        self.right_child = None\n",
    "    \n",
    "    def insert_left(self, value):\n",
    "        if self.left_child == None:\n",
    "            self.left_child = TreeNode(value)\n",
    "        else:\n",
    "            new_node = TreeNode(value)\n",
    "            new_node.left_child = self.left_child\n",
    "            self.left_child = new_node\n",
    "    \n",
    "    def insert_right(self, value):\n",
    "        if self.right_child == None:\n",
    "            self.right_child = TreeNode(value)\n",
    "        else:\n",
    "            new_node = TreeNode(value)\n",
    "            new_node.right_child = self.right_child\n",
    "            self.right_child = new_node\n",
    "    \n",
    "    def pre_order(self):\n",
    "        print(self.value)\n",
    "\n",
    "        if self.left_child:\n",
    "            self.left_child.pre_order()\n",
    "\n",
    "        if self.right_child:\n",
    "            self.right_child.pre_order()\n",
    "    \n",
    "    def in_order(self):\n",
    "        if self.left_child:\n",
    "            self.left_child.in_order()\n",
    "\n",
    "        print(self.value)\n",
    "\n",
    "        if self.right_child:\n",
    "            self.right_child.in_order()\n",
    "    \n",
    "    def post_order(self):\n",
    "        if self.left_child:\n",
    "            self.left_child.post_order()\n",
    "\n",
    "        if self.right_child:\n",
    "            self.right_child.post_order()\n",
    "\n",
    "        print(self.value)\n",
    "    \n",
    "    def bfs(self):\n",
    "        from queue import Queue\n",
    "        queue = Queue(maxsize=0)\n",
    "        queue.put(self)\n",
    "\n",
    "        while not queue.empty():\n",
    "            current_node = queue.get()\n",
    "            print(current_node.value)\n",
    "\n",
    "            if current_node.left_child:\n",
    "                queue.put(current_node.left_child)\n",
    "\n",
    "            if current_node.right_child:\n",
    "                queue.put(current_node.right_child)"
   ]
  },
  {
   "cell_type": "code",
   "execution_count": 3,
   "metadata": {},
   "outputs": [],
   "source": [
    "# Making a tree\n",
    "\n",
    "a_node = TreeNode('a')\n",
    "a_node.insert_left('b')\n",
    "a_node.insert_right('e')\n",
    "\n",
    "b_node = a_node.left_child\n",
    "b_node.insert_left('c')\n",
    "b_node.insert_right('d')\n",
    "\n",
    "c_node = a_node.right_child\n",
    "c_node.insert_left('f')\n",
    "c_node.insert_right('g')\n",
    "\n",
    "d_node = b_node.left_child\n",
    "e_node = b_node.right_child\n",
    "f_node = c_node.left_child\n",
    "g_node = c_node.right_child\n",
    "\n",
    "# print(a_node.value) # a\n",
    "# print(b_node.value) # b\n",
    "# print(c_node.value) # c\n",
    "# print(d_node.value) # d\n",
    "# print(e_node.value) # e\n",
    "# print(f_node.value) # f "
   ]
  },
  {
   "cell_type": "markdown",
   "metadata": {},
   "source": [
    "![Tree](https://www.geeksforgeeks.org/wp-content/uploads/Preorder-from-Inorder-and-Postorder-traversals.jpg)"
   ]
  },
  {
   "cell_type": "markdown",
   "metadata": {},
   "source": [
    "# Question\n",
    "\n",
    "TreeNode 1: `[1,3,2,5]`,\n",
    "\n",
    "TreeNode 2: `[2,1,3,null,4,null,7]`,\n",
    "\n",
    "Expected Output: `[3,4,5,5,4,7]` (in breadth first pattern)"
   ]
  },
  {
   "cell_type": "code",
   "execution_count": 131,
   "metadata": {},
   "outputs": [],
   "source": [
    "a_node = TreeNode(1)\n",
    "a_node.insert_left(3)\n",
    "a_node.insert_right(2)\n",
    "\n",
    "b_node = a_node.left_child\n",
    "b_node.insert_left(5)\n",
    "\n",
    "c_node = TreeNode(2)\n",
    "c_node.insert_left(1)\n",
    "c_node.insert_right(3)\n",
    "\n",
    "d_node = c_node.left_child\n",
    "e_node = c_node.right_child\n",
    "\n",
    "d_node.insert_right(4)\n",
    "e_node.insert_right(7)"
   ]
  },
  {
   "cell_type": "markdown",
   "metadata": {},
   "source": [
    "## Recursive"
   ]
  },
  {
   "cell_type": "code",
   "execution_count": 110,
   "metadata": {},
   "outputs": [],
   "source": [
    "class Solution_Recursive:\n",
    "    def mergeTrees(self, t1: TreeNode, t2: TreeNode) -> TreeNode:\n",
    "        if not t1 or not t2:\n",
    "            return t1 or t2\n",
    "    \n",
    "        t1.value += t2.value\n",
    "        t1.left_child = self.mergeTrees(t1.left_child, t2.left_child)\n",
    "        t1.right_child = self.mergeTrees(t1.right_child, t2.right_child)\n",
    "        return t1"
   ]
  },
  {
   "cell_type": "code",
   "execution_count": 111,
   "metadata": {},
   "outputs": [
    {
     "name": "stdout",
     "output_type": "stream",
     "text": [
      "3\n",
      "4\n",
      "5\n",
      "5\n",
      "4\n",
      "7\n"
     ]
    }
   ],
   "source": [
    "a = Solution_Recursive()\n",
    "answer = a.mergeTrees(a_node, c_node)\n",
    "answer.bfs()"
   ]
  },
  {
   "cell_type": "markdown",
   "metadata": {},
   "source": [
    "## Iterative"
   ]
  },
  {
   "cell_type": "code",
   "execution_count": 133,
   "metadata": {},
   "outputs": [],
   "source": [
    "class Solution_Iterative:\n",
    "    def mergeTrees(self, t1: TreeNode, t2: TreeNode) -> TreeNode:\n",
    "        if not t1 or not t2:\n",
    "            return t1 or t2\n",
    "\n",
    "        stack = [(t1, t2)]\n",
    "        head = t2\n",
    "\n",
    "        while stack:\n",
    "            t1, t2 = stack.pop()\n",
    "            t2.value += t1.value\n",
    "\n",
    "            # process the left child\n",
    "            if t1.left_child and t2.left_child:\n",
    "                stack.append((t1.left_child, t2.left_child))\n",
    "            elif t1.left_child:\n",
    "                t2.left_child = t1.left_child\n",
    "\n",
    "            # process the right child\n",
    "            if t1.right_child and t2.right_child:\n",
    "                stack.append((t1.right_child, t2.right_child))\n",
    "            elif t1.right_child:\n",
    "                t2.right_child = t1.right_child\n",
    "\n",
    "        return head"
   ]
  },
  {
   "cell_type": "code",
   "execution_count": 134,
   "metadata": {},
   "outputs": [
    {
     "name": "stdout",
     "output_type": "stream",
     "text": [
      "3\n",
      "4\n",
      "5\n",
      "5\n",
      "4\n",
      "7\n"
     ]
    }
   ],
   "source": [
    "a = Solution_Iterative()\n",
    "answer = a.mergeTrees(a_node, c_node)\n",
    "answer.bfs()"
   ]
  },
  {
   "cell_type": "code",
   "execution_count": null,
   "metadata": {},
   "outputs": [],
   "source": []
  }
 ],
 "metadata": {
  "kernelspec": {
   "display_name": "Python 3",
   "language": "python",
   "name": "python3"
  },
  "language_info": {
   "codemirror_mode": {
    "name": "ipython",
    "version": 3
   },
   "file_extension": ".py",
   "mimetype": "text/x-python",
   "name": "python",
   "nbconvert_exporter": "python",
   "pygments_lexer": "ipython3",
   "version": "3.7.1"
  }
 },
 "nbformat": 4,
 "nbformat_minor": 2
}
