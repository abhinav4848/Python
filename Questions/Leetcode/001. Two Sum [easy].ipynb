{
 "cells": [
  {
   "cell_type": "markdown",
   "metadata": {},
   "source": [
    "https://leetcode.com/problems/two-sum/"
   ]
  },
  {
   "cell_type": "code",
   "execution_count": 1,
   "metadata": {},
   "outputs": [
    {
     "data": {
      "text/plain": [
       "[0, 1]"
      ]
     },
     "execution_count": 1,
     "metadata": {},
     "output_type": "execute_result"
    }
   ],
   "source": [
    "def twoSum(nums, target):\n",
    "    n = len(nums)\n",
    "    for i in range(n):\n",
    "        for j in range(i+1,n):\n",
    "            if nums[i]+nums[j] == target:\n",
    "                return [i,j]\n",
    "twoSum([2,7,11,15], 9)"
   ]
  },
  {
   "cell_type": "code",
   "execution_count": 10,
   "metadata": {},
   "outputs": [],
   "source": [
    "# hashmapping\n",
    "class Solution:\n",
    "    def twoSum(self, nums, target):\n",
    "\n",
    "        # Numbers that are needed to meet the target will be stored here along with an index of a complementary number.\n",
    "        wanted_nums = {} # empty dictionary\n",
    "\n",
    "        # Interating through numbers list\n",
    "        for i in range(len(nums)):\n",
    "\n",
    "            # If number in wanted_nums it means we've got the sum!\n",
    "            # returns the largest index for a number that has repeated in nums[]\n",
    "            if nums[i] in wanted_nums:\n",
    "                return [wanted_nums[nums[i]], i]\n",
    "\n",
    "            # If not, we store the difference (so the number we seek) as key, along with an index as its value\n",
    "            else:\n",
    "                wanted_nums[target - nums[i]] = i\n",
    "                # eg: if we need 1 at 8th index--> we make 1 the key, 8 its value\n",
    "                print(wanted_nums)"
   ]
  },
  {
   "cell_type": "code",
   "execution_count": 11,
   "metadata": {},
   "outputs": [
    {
     "name": "stdout",
     "output_type": "stream",
     "text": [
      "{1: 0}\n",
      "{1: 0, -4: 1}\n",
      "{1: 0, -4: 1, -8: 2}\n",
      "{1: 0, -4: 1, -8: 2, -12: 3}\n",
      "{1: 0, -4: 1, -8: 2, -12: 3, -29: 4}\n",
      "{1: 0, -4: 1, -8: 2, -12: 3, -29: 4, -40: 5}\n",
      "{1: 0, -4: 1, -8: 2, -12: 3, -29: 4, -40: 5, -53: 6}\n",
      "{1: 0, -4: 1, -8: 2, -12: 3, -29: 4, -40: 5, -53: 6, -9: 7}\n",
      "{1: 0, -4: 1, -8: 2, -12: 3, -29: 4, -40: 5, -53: 6, -9: 7, -31: 8}\n",
      "{1: 0, -4: 1, -8: 2, -12: 3, -29: 4, -40: 5, -53: 6, -9: 7, -31: 8, -51: 9}\n"
     ]
    },
    {
     "data": {
      "text/plain": [
       "[0, 10]"
      ]
     },
     "execution_count": 11,
     "metadata": {},
     "output_type": "execute_result"
    }
   ],
   "source": [
    "a = Solution()\n",
    "a.twoSum([2,7,11,15,32,43,56,12,34,54,1], 3)"
   ]
  },
  {
   "cell_type": "code",
   "execution_count": 9,
   "metadata": {},
   "outputs": [
    {
     "name": "stdout",
     "output_type": "stream",
     "text": [
      "{2: 0}\n",
      "{2: 0, 7: 1}\n",
      "{2: 0, 7: 1, 11: 2}\n"
     ]
    },
    {
     "data": {
      "text/plain": [
       "[1, 3]"
      ]
     },
     "execution_count": 9,
     "metadata": {},
     "output_type": "execute_result"
    }
   ],
   "source": [
    "# also hashmapping\n",
    "from typing import List\n",
    "\n",
    "def twoSum(nums: List[int], target: int) -> List[int]:\n",
    "    '''\n",
    "    Time complexity O(n)\n",
    "    Space complexity O(n)\n",
    "    '''\n",
    "    hashmap = {}\n",
    "    for i in range(len(nums)):\n",
    "        k = target - nums[i]\n",
    "        if k in hashmap:\n",
    "            return [hashmap[k], i]\n",
    "        else:\n",
    "            hashmap[nums[i]] = i\n",
    "            print(hashmap)\n",
    "    return False\n",
    "        \n",
    "twoSum([2,7,11,15],22)"
   ]
  },
  {
   "cell_type": "code",
   "execution_count": null,
   "metadata": {},
   "outputs": [],
   "source": []
  }
 ],
 "metadata": {
  "kernelspec": {
   "display_name": "Python 3",
   "language": "python",
   "name": "python3"
  },
  "language_info": {
   "codemirror_mode": {
    "name": "ipython",
    "version": 3
   },
   "file_extension": ".py",
   "mimetype": "text/x-python",
   "name": "python",
   "nbconvert_exporter": "python",
   "pygments_lexer": "ipython3",
   "version": "3.7.1"
  }
 },
 "nbformat": 4,
 "nbformat_minor": 2
}
