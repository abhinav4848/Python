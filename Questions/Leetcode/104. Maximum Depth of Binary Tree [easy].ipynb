{
 "cells": [
  {
   "cell_type": "markdown",
   "metadata": {},
   "source": [
    "# TreeNode class\n",
    "Definition for a binary tree node. Learn more in `problem 617`.\n",
    "\n",
    "[Problem](https://leetcode.com/problems/maximum-depth-of-binary-tree/), \n",
    "[Learn about Trees](https://medium.com/the-renaissance-developer/learning-tree-data-structure-27c6bb363051)"
   ]
  },
  {
   "cell_type": "code",
   "execution_count": 1,
   "metadata": {},
   "outputs": [],
   "source": [
    "class TreeNode:\n",
    "    def __init__(self, value):\n",
    "        self.value = value\n",
    "        self.left_child = None\n",
    "        self.right_child = None\n",
    "    \n",
    "    def insert_left(self, value):\n",
    "        if self.left_child == None:\n",
    "            self.left_child = TreeNode(value)\n",
    "        else:\n",
    "            new_node = TreeNode(value)\n",
    "            new_node.left_child = self.left_child\n",
    "            self.left_child = new_node\n",
    "    \n",
    "    def insert_right(self, value):\n",
    "        if self.right_child == None:\n",
    "            self.right_child = TreeNode(value)\n",
    "        else:\n",
    "            new_node = TreeNode(value)\n",
    "            new_node.right_child = self.right_child\n",
    "            self.right_child = new_node\n",
    "    \n",
    "    def pre_order(self):\n",
    "        print(self.value)\n",
    "\n",
    "        if self.left_child:\n",
    "            self.left_child.pre_order()\n",
    "\n",
    "        if self.right_child:\n",
    "            self.right_child.pre_order()\n",
    "    \n",
    "    def in_order(self):\n",
    "        if self.left_child:\n",
    "            self.left_child.in_order()\n",
    "\n",
    "        print(self.value)\n",
    "\n",
    "        if self.right_child:\n",
    "            self.right_child.in_order()\n",
    "    \n",
    "    def post_order(self):\n",
    "        if self.left_child:\n",
    "            self.left_child.post_order()\n",
    "\n",
    "        if self.right_child:\n",
    "            self.right_child.post_order()\n",
    "\n",
    "        print(self.value)\n",
    "    \n",
    "    def bfs(self):\n",
    "        from queue import Queue\n",
    "        queue = Queue(maxsize=0)\n",
    "        queue.put(self)\n",
    "\n",
    "        while not queue.empty():\n",
    "            current_node = queue.get()\n",
    "            print(current_node.value)\n",
    "\n",
    "            if current_node.left_child:\n",
    "                queue.put(current_node.left_child)\n",
    "\n",
    "            if current_node.right_child:\n",
    "                queue.put(current_node.right_child)"
   ]
  },
  {
   "cell_type": "markdown",
   "metadata": {},
   "source": [
    "# Question\n",
    "input: `[3,9,20,null,null,15,7]`\n",
    "\n",
    "output: `3`"
   ]
  },
  {
   "cell_type": "code",
   "execution_count": 3,
   "metadata": {},
   "outputs": [],
   "source": [
    "# creating the input\n",
    "a_node = TreeNode(3)\n",
    "a_node.insert_left(9)\n",
    "a_node.insert_right(20)\n",
    "\n",
    "b_node = a_node.right_child\n",
    "b_node.insert_left(15)\n",
    "b_node.insert_right(7)"
   ]
  },
  {
   "cell_type": "code",
   "execution_count": null,
   "metadata": {},
   "outputs": [],
   "source": [
    "class Solution:\n",
    "    def maxDepth(self, root: TreeNode) -> int:\n",
    "        "
   ]
  }
 ],
 "metadata": {
  "kernelspec": {
   "display_name": "Python 3",
   "language": "python",
   "name": "python3"
  },
  "language_info": {
   "codemirror_mode": {
    "name": "ipython",
    "version": 3
   },
   "file_extension": ".py",
   "mimetype": "text/x-python",
   "name": "python",
   "nbconvert_exporter": "python",
   "pygments_lexer": "ipython3",
   "version": "3.7.1"
  }
 },
 "nbformat": 4,
 "nbformat_minor": 2
}
