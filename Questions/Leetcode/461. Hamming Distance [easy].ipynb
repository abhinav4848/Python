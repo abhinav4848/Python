{
 "cells": [
  {
   "cell_type": "markdown",
   "metadata": {},
   "source": [
    "https://leetcode.com/problems/hamming-distance/\n",
    "\n",
    "Padding (ljust, rjust): https://stackoverflow.com/a/45120812/2365231\n",
    "\n",
    "## learn about itwise operations with good examples: \n",
    "https://www.hackerearth.com/practice/basic-programming/bit-manipulation/basics-of-bit-manipulation/tutorial/"
   ]
  },
  {
   "cell_type": "code",
   "execution_count": 11,
   "metadata": {},
   "outputs": [
    {
     "name": "stdout",
     "output_type": "stream",
     "text": [
      "0b1010\n",
      "0b1100100\n"
     ]
    }
   ],
   "source": [
    "print(bin(10))\n",
    "print(bin(100))"
   ]
  },
  {
   "cell_type": "markdown",
   "metadata": {},
   "source": [
    "the prefix `0b` usually means \"binary,\" \n",
    "\n",
    "the prefix `0` usually means \"octal,\" and \n",
    "\n",
    "the prefix `0x` usually means \"hexadecimal.\""
   ]
  },
  {
   "cell_type": "code",
   "execution_count": 57,
   "metadata": {},
   "outputs": [
    {
     "name": "stdout",
     "output_type": "stream",
     "text": [
      "i: 0, j: 1\n",
      "i: 1, j: 0\n",
      "i: 1, j: 1\n",
      "2\n"
     ]
    }
   ],
   "source": [
    "a = bin(3)[2:]\n",
    "b = bin(5)[2:]\n",
    "\n",
    "maxlen = max(len(a),len(b))\n",
    "\n",
    "a = a.rjust(maxlen, '0')\n",
    "b = b.rjust(maxlen, '0')\n",
    "\n",
    "diffcount = 0\n",
    "for i,j in zip(a,b):\n",
    "    if i!=j:\n",
    "        diffcount+=1\n",
    "    print('i: {}, j: {}'.format(i,j))\n",
    "    \n",
    "print(diffcount)"
   ]
  },
  {
   "cell_type": "code",
   "execution_count": 103,
   "metadata": {},
   "outputs": [
    {
     "data": {
      "text/plain": [
       "2"
      ]
     },
     "execution_count": 103,
     "metadata": {},
     "output_type": "execute_result"
    }
   ],
   "source": [
    "# my answer\n",
    "# https://leetcode.com/problems/hamming-distance/discuss/314394/Absolutely-noob-solution-in-python-(Runtime:-36-ms-Memory-Usage:-13.3-MB)\n",
    "\n",
    "class Solution:\n",
    "    def hammingDistance(self, x: int, y: int) -> int:\n",
    "        # bin() returns a string like '0b1011' so we splice out the first 2 characters from string\n",
    "        a = bin(x)[2:]\n",
    "        b = bin(y)[2:]\n",
    "        \n",
    "        # check which string is longer\n",
    "        maxlen = max(len(a),len(b))\n",
    "        \n",
    "        # and make both strings equal length by appending 0s on the left\n",
    "        a = a.rjust(maxlen, '0')\n",
    "        b = b.rjust(maxlen, '0')\n",
    "        \n",
    "        # Now compare all corresponding indices of string to know if same or different. \n",
    "        # increment diffcount if different\n",
    "        diffcount = 0\n",
    "        for i,j in zip(a,b):\n",
    "            if i!=j:\n",
    "                diffcount+=1\n",
    "\n",
    "        return diffcount\n",
    "\n",
    "test = Solution()\n",
    "test.hammingDistance(3,5)"
   ]
  },
  {
   "cell_type": "markdown",
   "metadata": {},
   "source": [
    "# Online answers\n",
    "\n",
    "Binary reference {3: `011`, 5: `101`, 6: `110`}\n",
    "\n",
    "#### XOR truth table\n",
    "![XOR truth table](https://www.electronicshub.org/wp-content/uploads/2015/07/TRUTH-TABLE-1.jpg)"
   ]
  },
  {
   "cell_type": "code",
   "execution_count": 7,
   "metadata": {},
   "outputs": [
    {
     "data": {
      "text/plain": [
       "2"
      ]
     },
     "execution_count": 7,
     "metadata": {},
     "output_type": "execute_result"
    }
   ],
   "source": [
    "# do an XOR on 3&5 (it's a bitwise manipulation, so happens on the binary values), \n",
    "# then count the number of 1s since xor returns 1 when binary values are different\n",
    "\n",
    "bin(3^5).count('1')"
   ]
  },
  {
   "cell_type": "code",
   "execution_count": 8,
   "metadata": {},
   "outputs": [
    {
     "name": "stdout",
     "output_type": "stream",
     "text": [
      "6\n",
      "4\n"
     ]
    },
    {
     "data": {
      "text/plain": [
       "2"
      ]
     },
     "execution_count": 8,
     "metadata": {},
     "output_type": "execute_result"
    }
   ],
   "source": [
    "# https://leetcode.com/problems/hamming-distance/discuss/94789/Beats-100-Python\n",
    "\n",
    "def hammingDistance(x, y):\n",
    "    \"\"\"\n",
    "    :type x: int\n",
    "    :type y: int\n",
    "    :rtype: int\n",
    "    \"\"\"\n",
    "    x = x ^ y\n",
    "    \n",
    "    y = 0 # reusing variables to save a few ms\n",
    "    while x:\n",
    "        print(x)\n",
    "        y += 1\n",
    "        x = x & (x - 1) \n",
    "        \n",
    "        # x & (x-1) will unset the least significant set bit.\n",
    "        # x>>=1 unsets least significant bit. set or unset\n",
    "        \n",
    "    return y\n",
    "\n",
    "hammingDistance(3,5)"
   ]
  },
  {
   "cell_type": "code",
   "execution_count": 9,
   "metadata": {},
   "outputs": [
    {
     "data": {
      "text/plain": [
       "2"
      ]
     },
     "execution_count": 9,
     "metadata": {},
     "output_type": "execute_result"
    }
   ],
   "source": [
    "# https://leetcode.com/problems/hamming-distance/discuss/94697/Python-1-line-49ms/99186\n",
    "\n",
    "def hammingDistance(x, y):\n",
    "    \"\"\"\n",
    "    :type x: int\n",
    "    :type y: int\n",
    "    :rtype: int\n",
    "    \"\"\"\n",
    "    xor = x ^ y # 3^5 is 6. (3: 011, 5: 101, 6: 110)\n",
    "    count = 0\n",
    "    for _ in range(32):\n",
    "        # range(32) cuz the question says input numbers are smaller than 2**32\n",
    "        \n",
    "        count += xor & 1\n",
    "        # say xor = 6 (b'110'), then \"&\" compares 110 with 001 and returns b'000' = integer 0\n",
    "        # next loop, xor = 3 (b'11'), then \"&\" compatres 11 with 01 and returns b'01' = integer 1\n",
    "        # next loop, xor = 1 (b'1'), then \"&\" compatres 1 with 1 and returns b'1' = integer 1\n",
    "        \n",
    "        xor = xor >> 1\n",
    "    return count\n",
    "\n",
    "hammingDistance(3,5)"
   ]
  },
  {
   "cell_type": "code",
   "execution_count": 14,
   "metadata": {},
   "outputs": [
    {
     "data": {
      "text/plain": [
       "2"
      ]
     },
     "execution_count": 14,
     "metadata": {},
     "output_type": "execute_result"
    }
   ],
   "source": [
    "6&2"
   ]
  },
  {
   "cell_type": "code",
   "execution_count": 3,
   "metadata": {},
   "outputs": [
    {
     "data": {
      "text/plain": [
       "4"
      ]
     },
     "execution_count": 3,
     "metadata": {},
     "output_type": "execute_result"
    }
   ],
   "source": [
    "6&5"
   ]
  },
  {
   "cell_type": "code",
   "execution_count": 4,
   "metadata": {},
   "outputs": [
    {
     "data": {
      "text/plain": [
       "0"
      ]
     },
     "execution_count": 4,
     "metadata": {},
     "output_type": "execute_result"
    }
   ],
   "source": [
    "4&3"
   ]
  },
  {
   "cell_type": "code",
   "execution_count": 10,
   "metadata": {},
   "outputs": [
    {
     "data": {
      "text/plain": [
       "3"
      ]
     },
     "execution_count": 10,
     "metadata": {},
     "output_type": "execute_result"
    }
   ],
   "source": [
    "6>>1"
   ]
  },
  {
   "cell_type": "code",
   "execution_count": 11,
   "metadata": {},
   "outputs": [
    {
     "data": {
      "text/plain": [
       "1"
      ]
     },
     "execution_count": 11,
     "metadata": {},
     "output_type": "execute_result"
    }
   ],
   "source": [
    "3>>1"
   ]
  }
 ],
 "metadata": {
  "kernelspec": {
   "display_name": "Python 3",
   "language": "python",
   "name": "python3"
  },
  "language_info": {
   "codemirror_mode": {
    "name": "ipython",
    "version": 3
   },
   "file_extension": ".py",
   "mimetype": "text/x-python",
   "name": "python",
   "nbconvert_exporter": "python",
   "pygments_lexer": "ipython3",
   "version": "3.7.1"
  }
 },
 "nbformat": 4,
 "nbformat_minor": 2
}
