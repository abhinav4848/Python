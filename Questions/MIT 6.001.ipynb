{
 "cells": [
  {
   "cell_type": "markdown",
   "metadata": {},
   "source": [
    "# Convert Text to Number"
   ]
  },
  {
   "cell_type": "code",
   "execution_count": 53,
   "metadata": {},
   "outputs": [],
   "source": [
    "from string import ascii_lowercase\n",
    "LETTERS = {letter: str(index) for index, letter in enumerate(ascii_lowercase, start=1)} \n",
    "\n",
    "def alphabet_position(text):\n",
    "    text = text.lower()\n",
    "\n",
    "    numbers = [LETTERS[character] for character in text if character in LETTERS]\n",
    "\n",
    "    return ' '.join(numbers) # numbers is of type 'list'"
   ]
  },
  {
   "cell_type": "code",
   "execution_count": 54,
   "metadata": {},
   "outputs": [
    {
     "data": {
      "text/plain": [
       "'20 8 5 19 21 14 19 5 20 19 5 20 19 1 20 20 23 5 12 22 5 15 3 12 15 3 11'"
      ]
     },
     "execution_count": 54,
     "metadata": {},
     "output_type": "execute_result"
    }
   ],
   "source": [
    "alphabet_position(\"The sunset sets at twelve o' clock.\")"
   ]
  },
  {
   "cell_type": "code",
   "execution_count": 45,
   "metadata": {
    "scrolled": true
   },
   "outputs": [
    {
     "data": {
      "text/plain": [
       "{'a': '1',\n",
       " 'b': '2',\n",
       " 'c': '3',\n",
       " 'd': '4',\n",
       " 'e': '5',\n",
       " 'f': '6',\n",
       " 'g': '7',\n",
       " 'h': '8',\n",
       " 'i': '9',\n",
       " 'j': '10',\n",
       " 'k': '11',\n",
       " 'l': '12',\n",
       " 'm': '13',\n",
       " 'n': '14',\n",
       " 'o': '15',\n",
       " 'p': '16',\n",
       " 'q': '17',\n",
       " 'r': '18',\n",
       " 's': '19',\n",
       " 't': '20',\n",
       " 'u': '21',\n",
       " 'v': '22',\n",
       " 'w': '23',\n",
       " 'x': '24',\n",
       " 'y': '25',\n",
       " 'z': '26'}"
      ]
     },
     "execution_count": 45,
     "metadata": {},
     "output_type": "execute_result"
    }
   ],
   "source": [
    "LETTERS"
   ]
  },
  {
   "cell_type": "code",
   "execution_count": 41,
   "metadata": {},
   "outputs": [
    {
     "name": "stdout",
     "output_type": "stream",
     "text": [
      "{'a': '1', 'b': '2', 'c': '3', 'd': '4', 'e': '5', 'f': '6', 'g': '7', 'h': '8', 'i': '9', 'j': '10', 'k': '11', 'l': '12', 'm': '13', 'n': '14', 'o': '15', 'p': '16', 'q': '17', 'r': '18', 's': '19', 't': '20', 'u': '21', 'v': '22', 'w': '23', 'x': '24', 'y': '25', 'z': '26'}\n"
     ]
    }
   ],
   "source": [
    "dicti={}\n",
    "for index, letter in enumerate(ascii_lowercase, start=1):\n",
    "    dicti[letter]=str(index)\n",
    "print(dicti)"
   ]
  },
  {
   "cell_type": "code",
   "execution_count": 64,
   "metadata": {},
   "outputs": [
    {
     "name": "stdout",
     "output_type": "stream",
     "text": [
      "8 9 20 8 5 18 5 8 15 23 4 15 25 15 21 4 15\n",
      "8 9 20 8 5 18 5 8 15 23 4 15 25 15 21 4 15\n"
     ]
    }
   ],
   "source": [
    "text='hi there how do you do'\n",
    "print(' '.join(str(ord(c) - 96) for c in text.lower() if c.isalpha())) # generator type\n",
    "\n",
    "# better practice\n",
    "# saves effort on lowercasing every character in every loop\n",
    "# avoids use of magic number 96\n",
    "print(\" \".join([str(ord(l.lower()) - ord('a') + 1) for l in text if l.isalpha()]))"
   ]
  },
  {
   "cell_type": "markdown",
   "metadata": {},
   "source": [
    "# Find total number of vowels"
   ]
  },
  {
   "cell_type": "code",
   "execution_count": 77,
   "metadata": {},
   "outputs": [
    {
     "name": "stdout",
     "output_type": "stream",
     "text": [
      "16\n"
     ]
    }
   ],
   "source": [
    "s='dgawsenufinasv ufnvf PAFUWEGFDuiuaeufwenvsd'\n",
    "length = 0\n",
    "for i in s:\n",
    "    i=i.lower()\n",
    "    if i =='a' or i =='e' or i =='i' or i =='o' or i =='u':\n",
    "        length+=1\n",
    "print(length)"
   ]
  },
  {
   "cell_type": "markdown",
   "metadata": {},
   "source": [
    "# Find occurence of a sequence of characters"
   ]
  },
  {
   "cell_type": "code",
   "execution_count": 179,
   "metadata": {},
   "outputs": [
    {
     "name": "stdout",
     "output_type": "stream",
     "text": [
      "2\n"
     ]
    }
   ],
   "source": [
    "s='azcbobobegghakl'\n",
    "times = 0\n",
    "for i in range(len(s)):\n",
    "    if s[i:i+3:1] == 'bob':\n",
    "        times+=1\n",
    "print(times)"
   ]
  },
  {
   "cell_type": "markdown",
   "metadata": {},
   "source": [
    "# Find longest alphabetical substring"
   ]
  },
  {
   "cell_type": "code",
   "execution_count": 177,
   "metadata": {},
   "outputs": [
    {
     "name": "stdout",
     "output_type": "stream",
     "text": [
      "beggh\n"
     ]
    }
   ],
   "source": [
    "s = 'azcbobobegghakl'\n",
    "longest = ''\n",
    "for i in range(len(s)):\n",
    "    temp_longest=s[i]\n",
    "    for j in range(i+1,len(s)):\n",
    "        if s[i]<=s[j]:\n",
    "            temp_longest+=s[j]\n",
    "            i+=1\n",
    "        else:\n",
    "            break\n",
    "    if len(temp_longest)>len(longest):\n",
    "        longest = temp_longest\n",
    "print(longest)"
   ]
  },
  {
   "cell_type": "markdown",
   "metadata": {},
   "source": [
    "# Square Root Guesser"
   ]
  },
  {
   "cell_type": "code",
   "execution_count": 11,
   "metadata": {},
   "outputs": [
    {
     "name": "stdout",
     "output_type": "stream",
     "text": [
      "succeeded: 4.999999999999998\n"
     ]
    }
   ],
   "source": [
    "x = 25\n",
    "epsilon = 0.01\n",
    "step = 0.1\n",
    "guess = 0.0\n",
    "\n",
    "while abs(guess**2-x) >= epsilon:\n",
    "    if guess <= x:\n",
    "        guess += step\n",
    "    else:\n",
    "        break\n",
    "\n",
    "if abs(guess**2 - x) >= epsilon:\n",
    "    print('failed')\n",
    "else:\n",
    "    print('succeeded: ' + str(guess))"
   ]
  },
  {
   "cell_type": "markdown",
   "metadata": {},
   "source": [
    "# Bisection search"
   ]
  },
  {
   "cell_type": "code",
   "execution_count": 9,
   "metadata": {},
   "outputs": [
    {
     "name": "stdout",
     "output_type": "stream",
     "text": [
      "Please think of a number between 0 and 100!\n",
      "Is your secret number 50 ?\n",
      "Enter 'h' to indicate the guess is too high. Enter 'l' to indicate the guess is too low. Enter 'c' to indicate I guessed correctly. h\n",
      "Is your secret number 25 ?\n",
      "Enter 'h' to indicate the guess is too high. Enter 'l' to indicate the guess is too low. Enter 'c' to indicate I guessed correctly. l\n",
      "Is your secret number 37 ?\n",
      "Enter 'h' to indicate the guess is too high. Enter 'l' to indicate the guess is too low. Enter 'c' to indicate I guessed correctly. \n",
      "Retry\n",
      "Is your secret number 37 ?\n",
      "Enter 'h' to indicate the guess is too high. Enter 'l' to indicate the guess is too low. Enter 'c' to indicate I guessed correctly. l\n",
      "Is your secret number 43 ?\n",
      "Enter 'h' to indicate the guess is too high. Enter 'l' to indicate the guess is too low. Enter 'c' to indicate I guessed correctly. c\n",
      "Game over. Your secret number was:  43\n"
     ]
    }
   ],
   "source": [
    "print('Please think of a number between 0 and 100!')\n",
    "l=0\n",
    "h=100\n",
    "checker=''\n",
    "while checker!='c':\n",
    "    guess=int((l+h)/2)\n",
    "    print('Is your secret number',guess,'?')\n",
    "    checker=input(\"Enter 'h' to indicate the guess is too high. Enter 'l' to indicate the guess is too low. Enter 'c' to indicate I guessed correctly. \")\n",
    "    if checker =='l':\n",
    "        l=guess\n",
    "    elif checker == 'h':\n",
    "        h=guess\n",
    "    elif checker=='c':\n",
    "        print('Game over. Your secret number was: ',guess)\n",
    "    else:\n",
    "        print('Retry')"
   ]
  },
  {
   "cell_type": "markdown",
   "metadata": {},
   "source": [
    "# Tower of Hanoi"
   ]
  },
  {
   "cell_type": "code",
   "execution_count": 61,
   "metadata": {},
   "outputs": [
    {
     "name": "stdout",
     "output_type": "stream",
     "text": [
      "Moving from A to C\n",
      "Moving from A to B\n",
      "Moving from C to B\n",
      "Moving from A to C\n",
      "Moving from B to A\n",
      "Moving from B to C\n",
      "Moving from A to C\n"
     ]
    }
   ],
   "source": [
    "def printMove(fr,to):\n",
    "    print('Moving from',fr,'to',to)\n",
    "def Towers(n,fr,to,spare):\n",
    "    if n==1:\n",
    "        printMove(fr,to)\n",
    "    else:\n",
    "        Towers(n-1,fr,spare,to)\n",
    "        Towers(1,fr,to,spare)\n",
    "        Towers(n-1,spare,to,fr)\n",
    "Towers(3,'A','C','B')"
   ]
  },
  {
   "cell_type": "markdown",
   "metadata": {},
   "source": [
    "# Greatest Common Divisor"
   ]
  },
  {
   "cell_type": "code",
   "execution_count": 100,
   "metadata": {},
   "outputs": [],
   "source": [
    "def gcdIter(a, b):\n",
    "    '''\n",
    "    a, b: positive integers\n",
    "    \n",
    "    returns: a positive integer, the greatest common divisor of a & b.\n",
    "    '''\n",
    "    gcd = a if a<b else b\n",
    "    \n",
    "    \n",
    "#     for n in range(gcd,0,-1):\n",
    "#         if a%n==0 and b%n==0:\n",
    "#             return n\n",
    "    \n",
    "    while not(a%gcd==0 and b%gcd==0):\n",
    "        gcd -=1\n",
    "    return gcd\n",
    "\n",
    "def gcdRecur(a, b):\n",
    "    '''\n",
    "    a, b: positive integers\n",
    "    \n",
    "    returns: a positive integer, the greatest common divisor of a & b.\n",
    "    '''\n",
    "    if b==0:\n",
    "        return a\n",
    "    return gcdRecur(b,a%b)\n",
    "    "
   ]
  },
  {
   "cell_type": "code",
   "execution_count": 101,
   "metadata": {},
   "outputs": [
    {
     "data": {
      "text/plain": [
       "1"
      ]
     },
     "execution_count": 101,
     "metadata": {},
     "output_type": "execute_result"
    }
   ],
   "source": [
    "gcdIter(933,7912)"
   ]
  },
  {
   "cell_type": "code",
   "execution_count": 103,
   "metadata": {},
   "outputs": [
    {
     "data": {
      "text/plain": [
       "3"
      ]
     },
     "execution_count": 103,
     "metadata": {},
     "output_type": "execute_result"
    }
   ],
   "source": [
    "gcdRecur(933,7914)"
   ]
  },
  {
   "cell_type": "markdown",
   "metadata": {},
   "source": [
    "# Recursive Bisection Sort"
   ]
  },
  {
   "cell_type": "code",
   "execution_count": 123,
   "metadata": {},
   "outputs": [
    {
     "data": {
      "text/plain": [
       "True"
      ]
     },
     "execution_count": 123,
     "metadata": {},
     "output_type": "execute_result"
    }
   ],
   "source": [
    "import string\n",
    "def isIn(char, aStr):\n",
    "    '''\n",
    "    char: a single character\n",
    "    aStr: an alphabetized string\n",
    "    \n",
    "    returns: True if char is in aStr; False otherwise\n",
    "    '''\n",
    "    if aStr =='':\n",
    "        return False\n",
    "    else:\n",
    "        length=len(aStr)\n",
    "        current=aStr[length//2]\n",
    "        \n",
    "    if length==1:\n",
    "        return char==aStr\n",
    "    \n",
    "    if current == char:\n",
    "        return True\n",
    "    \n",
    "    elif current<char:\n",
    "        return isIn(char,aStr[(length//2)+1::])\n",
    "    elif current>char:\n",
    "        return isIn(char,aStr[:(length//2):])\n",
    "    else:\n",
    "        return False\n",
    "\n",
    "isIn('e',string.ascii_lowercase)"
   ]
  },
  {
   "cell_type": "code",
   "execution_count": 132,
   "metadata": {},
   "outputs": [],
   "source": [
    "from math import *\n",
    "def polysum(n,s):\n",
    "    '''\n",
    "    n: number of sides\n",
    "    s: length of side\n",
    "    \n",
    "    output: sum of area and perimeter\n",
    "    '''\n",
    "    areaCalc=(0.25*n*s*s)/tan(pi/n)\n",
    "    perimeter=(n*s)**2\n",
    "    return round(areaCalc+perimeter,4)"
   ]
  },
  {
   "cell_type": "code",
   "execution_count": 133,
   "metadata": {},
   "outputs": [
    {
     "data": {
      "text/plain": [
       "37.7321"
      ]
     },
     "execution_count": 133,
     "metadata": {},
     "output_type": "execute_result"
    }
   ],
   "source": [
    "polysum(3,2)"
   ]
  },
  {
   "cell_type": "markdown",
   "metadata": {},
   "source": [
    "# Debt calculate"
   ]
  },
  {
   "cell_type": "markdown",
   "metadata": {},
   "source": [
    "## Minimum monthly payments made"
   ]
  },
  {
   "cell_type": "code",
   "execution_count": 145,
   "metadata": {},
   "outputs": [
    {
     "name": "stdout",
     "output_type": "stream",
     "text": [
      "472.38\n",
      "461.05\n",
      "449.98\n",
      "439.18\n",
      "428.64\n",
      "418.35\n",
      "408.31\n",
      "398.51\n",
      "388.95\n",
      "379.62\n",
      "370.5\n",
      "361.61\n"
     ]
    }
   ],
   "source": [
    "balance = 484\n",
    "annualInterestRate = 0.2\n",
    "monthlyPaymentRate = 0.04\n",
    "\n",
    "monthlyinterestRate=annualInterestRate/12\n",
    "\n",
    "for i in range(12):\n",
    "    # calculate how much is the payment for the month\n",
    "    payment = balance*monthlyPaymentRate\n",
    "    #subtract that payment from balance\n",
    "    balance = balance-payment\n",
    "    #on the remaining balance, calculate the monthly interest\n",
    "    interestAccrued = balance*monthlyinterestRate\n",
    "    # add that interest to the balance\n",
    "    balance = balance+interestAccrued\n",
    "     \n",
    "    print(round(balance,2))"
   ]
  },
  {
   "cell_type": "markdown",
   "metadata": {},
   "source": [
    "## Fixed Monthly payments to clear debt in 12 months"
   ]
  },
  {
   "cell_type": "code",
   "execution_count": 1,
   "metadata": {},
   "outputs": [
    {
     "name": "stdout",
     "output_type": "stream",
     "text": [
      "310\n"
     ]
    }
   ],
   "source": [
    "balance = 3329\n",
    "annualInterestRate = 0.2\n",
    "\n",
    "monthlyinterestRate=annualInterestRate/12\n",
    "payment =0\n",
    "\n",
    "while True:\n",
    "    payment+=10\n",
    "    temp_balance=balance\n",
    "    \n",
    "    for i in range(12):\n",
    "        temp_balance=temp_balance-payment\n",
    "        interestAccrued=temp_balance*monthlyinterestRate\n",
    "        temp_balance=temp_balance+interestAccrued\n",
    "    if temp_balance <=0:\n",
    "        break\n",
    "        \n",
    "print(payment)"
   ]
  },
  {
   "cell_type": "markdown",
   "metadata": {},
   "source": [
    "# Fixed payments using bisection search\n",
    "https://courses.edx.org/courses/course-v1:MITx+6.00.1x+2T2017_2/courseware/0de4fecc5a9a4749923133fcf4de181f/e137765987514da7851a59dedeb5ecec/?child=first"
   ]
  },
  {
   "cell_type": "code",
   "execution_count": 203,
   "metadata": {},
   "outputs": [
    {
     "name": "stdout",
     "output_type": "stream",
     "text": [
      "90324.99\n"
     ]
    }
   ],
   "source": [
    "balance = 999999\n",
    "annualInterestRate = 0.18\n",
    "\n",
    "monthlyinterestRate=annualInterestRate/12\n",
    "l=balance/12\n",
    "h=(balance*(1+monthlyinterestRate)**12)/12.0\n",
    "\n",
    "while True:\n",
    "    temp_balance=balance\n",
    "    guess_pay=(l+h)/2\n",
    "    # print('>>> L,H,Guess',l,h,guess_pay)\n",
    "    for i in range(12):\n",
    "        # subtract that payment from balance\n",
    "        temp_balance = temp_balance-guess_pay\n",
    "        # on the remaining balance, calculate the monthly interest\n",
    "        interestAccrued = temp_balance*monthlyinterestRate\n",
    "        # add that interest to the balance\n",
    "        temp_balance = temp_balance+interestAccrued\n",
    "    \n",
    "    # print('temp',temp_balance)\n",
    "    \n",
    "    # the smaller the compared with value, the faster the code.\n",
    "    # in this case, an error between 0 & 1 is acceptable. \n",
    "    # meaning, year end amount remaining to be paid can be between 0-1 dollars, for the given guess_pay\n",
    "    \n",
    "    if temp_balance>1:\n",
    "        l=guess_pay\n",
    "        # print('l',l)\n",
    "    elif temp_balance<0:\n",
    "        h=guess_pay\n",
    "        # print('h',h)\n",
    "    else:\n",
    "        # print('guess',guess_pay)\n",
    "        print(round(guess_pay,2))\n",
    "        break\n",
    "        \n",
    "#expected: 90325.03"
   ]
  },
  {
   "cell_type": "markdown",
   "metadata": {},
   "source": [
    "# Odd Tuples returner"
   ]
  },
  {
   "cell_type": "code",
   "execution_count": 238,
   "metadata": {},
   "outputs": [
    {
     "name": "stdout",
     "output_type": "stream",
     "text": [
      "('1', 'a', 'tuple')\n",
      "('2', 'a', 'tuple')\n",
      "('3', 'a', 'tuple')\n"
     ]
    }
   ],
   "source": [
    "def oddTuples1(aTup):\n",
    "    '''\n",
    "    aTup: a tuple\n",
    "    \n",
    "    returns: tuple, every other element of aTup. \n",
    "    '''\n",
    "    newTup=()\n",
    "    for index,val in enumerate(aTup):\n",
    "        if index%2==0:\n",
    "            newTup+=(val,)\n",
    "    return newTup\n",
    "\n",
    "def oddTuples2(aTup):\n",
    "    '''\n",
    "    aTup: a tuple\n",
    "    \n",
    "    returns: tuple, every other element of aTup. \n",
    "    '''\n",
    "    # a placeholder to gather our response\n",
    "    rTup = ()\n",
    "    index = 0\n",
    "\n",
    "    # Idea: Iterate over the elements in aTup, counting by 2\n",
    "    #  (every other element) and adding that element to \n",
    "    #  the result\n",
    "    while index < len(aTup):\n",
    "        rTup += (aTup[index],)\n",
    "        index += 2\n",
    "    return rTup\n",
    "\n",
    "def oddTuples3(aTup):\n",
    "    '''\n",
    "    Another way to solve the problem.\n",
    " \n",
    "    aTup: a tuple\n",
    "     \n",
    "    returns: tuple, every other element of aTup. \n",
    "    '''\n",
    "    # Here is another solution to the problem that uses tuple \n",
    "    #  slicing by 2 to achieve the same result\n",
    "    return aTup[::2]\n",
    "\n",
    "print(oddTuples1(('1', 'am', 'a', 'test', 'tuple')))\n",
    "print(oddTuples2(('2', 'am', 'a', 'test', 'tuple')))\n",
    "print(oddTuples3(('3', 'am', 'a', 'test', 'tuple')))"
   ]
  },
  {
   "cell_type": "markdown",
   "metadata": {},
   "source": [
    "# Song Dictionary"
   ]
  },
  {
   "cell_type": "code",
   "execution_count": 16,
   "metadata": {
    "scrolled": true
   },
   "outputs": [
    {
     "data": {
      "text/plain": [
       "{'i': 30,\n",
       " 'miss': 26,\n",
       " 'you': 30,\n",
       " 'hello': 1,\n",
       " 'there': 1,\n",
       " 'the': 16,\n",
       " 'angel': 1,\n",
       " 'from': 2,\n",
       " 'my': 7,\n",
       " 'nightmare': 1,\n",
       " 'shadow': 1,\n",
       " 'in': 3,\n",
       " 'background': 1,\n",
       " 'of': 3,\n",
       " 'morgue': 1,\n",
       " 'unsuspecting': 1,\n",
       " 'victim': 1,\n",
       " 'darkness': 2,\n",
       " 'valley': 1,\n",
       " 'we': 2,\n",
       " 'can': 2,\n",
       " 'live': 1,\n",
       " 'like': 2,\n",
       " 'jack': 1,\n",
       " 'and': 9,\n",
       " 'sally': 1,\n",
       " 'if': 1,\n",
       " 'want': 1,\n",
       " 'where': 2,\n",
       " 'always': 2,\n",
       " 'find': 1,\n",
       " 'me': 7,\n",
       " \"we'll\": 3,\n",
       " 'have': 1,\n",
       " 'halloween': 1,\n",
       " 'on': 8,\n",
       " 'christmas': 1,\n",
       " 'night': 1,\n",
       " 'wish': 2,\n",
       " 'this': 4,\n",
       " 'never': 2,\n",
       " 'ends': 2,\n",
       " 'are': 1,\n",
       " \"i'm\": 1,\n",
       " 'so': 2,\n",
       " 'sorry': 1,\n",
       " 'cannot': 2,\n",
       " 'sleep': 1,\n",
       " 'dream': 1,\n",
       " 'tonight': 3,\n",
       " 'need': 1,\n",
       " 'somebody': 1,\n",
       " 'sick': 1,\n",
       " 'strange': 1,\n",
       " 'comes': 1,\n",
       " 'creeping': 1,\n",
       " 'haunting': 1,\n",
       " 'every': 1,\n",
       " 'time': 7,\n",
       " 'as': 1,\n",
       " 'stared': 1,\n",
       " 'counted': 1,\n",
       " 'webs': 1,\n",
       " 'all': 1,\n",
       " 'spiders': 1,\n",
       " 'catching': 1,\n",
       " 'things': 1,\n",
       " 'eating': 1,\n",
       " 'their': 1,\n",
       " 'insides': 1,\n",
       " 'indecision': 1,\n",
       " 'to': 1,\n",
       " 'call': 1,\n",
       " 'hear': 1,\n",
       " 'your': 7,\n",
       " 'voice': 7,\n",
       " 'treason': 1,\n",
       " 'will': 1,\n",
       " 'come': 1,\n",
       " 'home': 1,\n",
       " 'stop': 2,\n",
       " 'pain': 2,\n",
       " \"don't\": 6,\n",
       " 'waste': 6,\n",
       " \"you're\": 6,\n",
       " 'already': 6,\n",
       " 'inside': 6,\n",
       " 'head': 6}"
      ]
     },
     "execution_count": 16,
     "metadata": {},
     "output_type": "execute_result"
    }
   ],
   "source": [
    "# make a string into a list of words\n",
    "import re\n",
    "\n",
    "song_str = \"\"\"I miss you, miss you\n",
    "Hello there \n",
    "The angel from my nightmare\n",
    "The shadow in the background of the morgue\n",
    "The unsuspecting victim \n",
    "Of darkness in the valley\n",
    "We can live like Jack and Sally if we want\n",
    "Where you can always find me\n",
    "And we'll have Halloween on Christmas\n",
    "And in the night we'll wish this never ends\n",
    "We'll wish this never ends\n",
    "I miss you, I miss you\n",
    "I miss you I miss you\n",
    "Where are you?\n",
    "And I'm so sorry\n",
    "I cannot sleep I cannot dream tonight\n",
    "I need somebody and always\n",
    "This sick strange darkness\n",
    "Comes creeping on so haunting every time\n",
    "And as I stared I counted\n",
    "The Webs from all the spiders\n",
    "Catching things and eating their insides\n",
    "Like indecision to call you\n",
    "And hear your voice of treason\n",
    "Will you come home and stop the pain tonight\n",
    "Stop this pain tonight\n",
    "Don't waste your time on me \n",
    "You're already the voice inside my head (I miss you, I miss you)\n",
    "Don't waste your time on me \n",
    "You're already the voice inside my head (I miss you, I miss you)\n",
    "Don't waste your time on me \n",
    "You're already the voice inside my head (I miss you, I miss you)\n",
    "Don't waste your time on me \n",
    "You're already the voice inside my head (I miss you, I miss you)\n",
    "Don't waste your time on me \n",
    "You're already the voice inside my head (I miss you, I miss you)\n",
    "Don't waste your time on me \n",
    "You're already the voice inside my head (I miss you, I miss you)\n",
    "I miss you, I miss you\n",
    "I miss you, I miss you\n",
    "I miss you, I miss you\n",
    "I miss you, I miss you\"\"\"\n",
    "song_List = re.sub(\"[^\\w\\']\", \" \",  song_str.lower()).split()\n",
    "\n",
    "frequency={}\n",
    "for word in song_List:\n",
    "    if word in frequency:\n",
    "        frequency[word]+=1\n",
    "    else:\n",
    "        frequency[word]=1\n",
    "frequency\n",
    "    "
   ]
  },
  {
   "cell_type": "code",
   "execution_count": 28,
   "metadata": {},
   "outputs": [
    {
     "data": {
      "text/plain": [
       "[1, 7, 5, 4, '3', '18d', 10, 0]"
      ]
     },
     "execution_count": 28,
     "metadata": {},
     "output_type": "execute_result"
    }
   ],
   "source": [
    "def biggest(aDict):\n",
    "    '''\n",
    "    aDict: A dictionary, where all the values are lists.\n",
    "\n",
    "    returns: The key with the largest number of values associated with it\n",
    "    '''\n",
    "#     longestlength=0\n",
    "#     for key, value in aDict.items():\n",
    "#         if len(value)>longestlength:\n",
    "#             longestlength=len(value)\n",
    "#             longestkey=key     \n",
    "#     return (longestkey)\n",
    "\n",
    "#     return max(aDict)\n",
    "\n",
    "    for i in aDict:\n",
    "        if aDict[i] == max(aDict.values()):\n",
    "            break\n",
    "    return max(aDict.values())\n",
    "\n",
    "\n",
    "biggest({'b': [1, 7, 5, 4, '3', '18d', 10, 0], 'a': []})"
   ]
  }
 ],
 "metadata": {
  "kernelspec": {
   "display_name": "Python 3",
   "language": "python",
   "name": "python3"
  },
  "language_info": {
   "codemirror_mode": {
    "name": "ipython",
    "version": 3
   },
   "file_extension": ".py",
   "mimetype": "text/x-python",
   "name": "python",
   "nbconvert_exporter": "python",
   "pygments_lexer": "ipython3",
   "version": "3.7.1"
  }
 },
 "nbformat": 4,
 "nbformat_minor": 2
}
