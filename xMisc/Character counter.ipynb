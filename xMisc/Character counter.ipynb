{
 "cells": [
  {
   "cell_type": "code",
   "execution_count": 9,
   "metadata": {},
   "outputs": [
    {
     "name": "stdout",
     "output_type": "stream",
     "text": [
      "{' ': 90,\n",
      " \"'\": 1,\n",
      " ',': 4,\n",
      " '.': 4,\n",
      " '0': 3,\n",
      " '1': 2,\n",
      " '5': 1,\n",
      " '6': 1,\n",
      " '9': 1,\n",
      " 'A': 29,\n",
      " 'B': 5,\n",
      " 'C': 10,\n",
      " 'D': 16,\n",
      " 'E': 59,\n",
      " 'F': 6,\n",
      " 'G': 11,\n",
      " 'H': 14,\n",
      " 'I': 38,\n",
      " 'K': 7,\n",
      " 'L': 22,\n",
      " 'M': 19,\n",
      " 'N': 38,\n",
      " 'O': 25,\n",
      " 'P': 19,\n",
      " 'R': 24,\n",
      " 'S': 39,\n",
      " 'T': 43,\n",
      " 'U': 17,\n",
      " 'V': 5,\n",
      " 'W': 6,\n",
      " 'X': 2,\n",
      " 'Y': 13}\n"
     ]
    }
   ],
   "source": [
    "import pprint\n",
    "message = '''Lorem Ipsum is simply dummy text of the printing and typesetting industry. Lorem Ipsum has been the industry\\'s standard dummy text ever since the 1500s, when an unknown printer took a galley of type and scrambled it to make a type specimen book. It has survived not only five centuries, but also the leap into electronic typesetting, remaining essentially unchanged. It was popularised in the 1960s with the release of Letraset sheets containing Lorem Ipsum passages, and more recently with desktop publishing software like Aldus PageMaker including versions of Lorem Ipsum.'''\n",
    "count = {}\n",
    "for character in message.upper():\n",
    "    count.setdefault(character,0)\n",
    "    count[character]+=1\n",
    "#print(pprint.pformat(count))\n",
    "pprint.pprint(count)"
   ]
  }
 ],
 "metadata": {
  "kernelspec": {
   "display_name": "Python 3",
   "language": "python",
   "name": "python3"
  },
  "language_info": {
   "codemirror_mode": {
    "name": "ipython",
    "version": 3
   },
   "file_extension": ".py",
   "mimetype": "text/x-python",
   "name": "python",
   "nbconvert_exporter": "python",
   "pygments_lexer": "ipython3",
   "version": "3.7.1"
  }
 },
 "nbformat": 4,
 "nbformat_minor": 2
}
