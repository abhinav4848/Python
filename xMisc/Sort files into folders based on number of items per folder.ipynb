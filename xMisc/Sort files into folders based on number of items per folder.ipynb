{
 "cells": [
  {
   "cell_type": "markdown",
   "id": "3860b8b2",
   "metadata": {},
   "source": [
    "# Sort files into folders based on number of items per folder\n",
    "\n",
    "Put the full path into `workingfolder` variable.\n",
    "\n",
    "Files are put into folders alphabetically."
   ]
  },
  {
   "cell_type": "code",
   "execution_count": 1,
   "id": "d6a4d36e",
   "metadata": {},
   "outputs": [],
   "source": [
    "import os\n",
    "\n",
    "i = 0\n",
    "\n",
    "# adjust these 2 params\n",
    "workingfolder = 'insert full path to folder'\n",
    "number_of_files_per_folder = 100\n",
    "\n",
    "if not os.path.basename(os.getcwd()) == workingfolder:\n",
    "    os.chdir(os.path.join(os.getcwd(), workingfolder))\n",
    "\n",
    "\n",
    "files = [f for f in os.listdir() if os.path.isfile(f)]\n",
    "\n",
    "for count, filename in enumerate(files):\n",
    "\n",
    "    if count % number_of_files_per_folder == 0:\n",
    "        try:\n",
    "            i += 1\n",
    "            os.makedirs('set-' + str(i))\n",
    "\n",
    "        except Exception as e:\n",
    "            pass\n",
    "\n",
    "    # print(count, filename)\n",
    "\n",
    "    try:\n",
    "        startpath = os.path.join(os.getcwd(), filename)\n",
    "        endpath = os.path.join(\n",
    "            os.getcwd(), os.path.join(\"set-\"+str(i), filename))\n",
    "        os.rename(startpath, endpath)\n",
    "\n",
    "    except:\n",
    "        pass"
   ]
  }
 ],
 "metadata": {
  "kernelspec": {
   "display_name": "Python 3",
   "language": "python",
   "name": "python3"
  },
  "language_info": {
   "codemirror_mode": {
    "name": "ipython",
    "version": 3
   },
   "file_extension": ".py",
   "mimetype": "text/x-python",
   "name": "python",
   "nbconvert_exporter": "python",
   "pygments_lexer": "ipython3",
   "version": "3.8.8"
  }
 },
 "nbformat": 4,
 "nbformat_minor": 5
}
