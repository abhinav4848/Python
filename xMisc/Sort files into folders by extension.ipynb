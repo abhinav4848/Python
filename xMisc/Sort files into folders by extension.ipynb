{
 "cells": [
  {
   "cell_type": "markdown",
   "metadata": {},
   "source": [
    "# Put the full path into `path` variable."
   ]
  },
  {
   "cell_type": "code",
   "execution_count": 1,
   "metadata": {},
   "outputs": [],
   "source": [
    "import os\n",
    "import shutil\n",
    "\n",
    "# Write the name of the directory here,\n",
    "# that needs to get sorted\n",
    "# path = os.getcwd() + '/sort'\n",
    "path = 'insert full path to folder'\n",
    "\n",
    "\n",
    "# This will create a properly organized\n",
    "# list with all the filename that is\n",
    "# there in the directory\n",
    "list_ = os.listdir(path)\n",
    "\n",
    "# This will go through each and every file\n",
    "for file_ in list_:\n",
    "    name, ext = os.path.splitext(file_)\n",
    "\n",
    "    # This is going to store the extension type\n",
    "    ext = ext[1:]\n",
    "\n",
    "    # This forces the next iteration,\n",
    "    # if it is the directory\n",
    "    if ext == '':\n",
    "        continue\n",
    "\n",
    "    # This will move the file to the directory\n",
    "    # where the name 'ext' already exists\n",
    "    if os.path.exists(path+'/'+ext):\n",
    "        shutil.move(path+'/'+file_, path+'/'+ext+'/'+file_)\n",
    "\n",
    "    # This will create a new directory,\n",
    "    # if the directory does not already exist\n",
    "    else:\n",
    "        os.makedirs(path+'/'+ext)\n",
    "        shutil.move(path+'/'+file_, path+'/'+ext+'/'+file_)"
   ]
  }
 ],
 "metadata": {
  "kernelspec": {
   "display_name": "Python 3",
   "language": "python",
   "name": "python3"
  },
  "language_info": {
   "codemirror_mode": {
    "name": "ipython",
    "version": 3
   },
   "file_extension": ".py",
   "mimetype": "text/x-python",
   "name": "python",
   "nbconvert_exporter": "python",
   "pygments_lexer": "ipython3",
   "version": "3.8.8"
  }
 },
 "nbformat": 4,
 "nbformat_minor": 2
}
