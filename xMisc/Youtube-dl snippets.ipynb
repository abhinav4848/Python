{
 "cells": [
  {
   "cell_type": "code",
   "execution_count": 1,
   "metadata": {},
   "outputs": [
    {
     "name": "stdout",
     "output_type": "stream",
     "text": [
      "Enter Video URL\n",
      "youtube_url\n"
     ]
    }
   ],
   "source": [
    "youtube_url = input(\"Enter Video URL\\n\")\n",
    "\n",
    "youtube_dl_path = 'youtube-dl -f bestaudio \"'+youtube_url+'\" --exec \"ffmpeg -i {}  -codec:a libmp3lame -qscale:a 0 {}.mp3 && del {} \"'"
   ]
  },
  {
   "cell_type": "code",
   "execution_count": 3,
   "metadata": {},
   "outputs": [
    {
     "name": "stdout",
     "output_type": "stream",
     "text": [
      "Enter Video URL\n",
      "http://www.youtube.com/watch?v=ZHWZf1Z4B5k\n",
      "[youtube] ZHWZf1Z4B5k: Downloading webpage\n",
      "[youtube] ZHWZf1Z4B5k: Downloading video info webpage\n",
      "[youtube] Downloading just video ZHWZf1Z4B5k because of --no-playlist\n",
      "[download] Destination: Bunny shower_ZHWZf1Z4B5k.m4a\n",
      "[download] 100% of 436.45KiB in 00:00                  \n",
      "[ffmpeg] Correcting container in \"Bunny shower_ZHWZf1Z4B5k.m4a\"\n",
      "Created by Abhinav, 2019\n"
     ]
    }
   ],
   "source": [
    "import youtube_dl\n",
    "\n",
    "options = {\n",
    "  'format': 'bestaudio/best',\n",
    "  'extractaudio' : True,  # only keep the audio\n",
    "  'audioformat' : \"mp3\",  # convert to mp3 \n",
    "  'outtmpl': '%(title)s_%(id)s.%(ext)s',    # name the file the ID of the video, then ext\n",
    "  'noplaylist' : True,    # only download single song, not playlist\n",
    "}\n",
    "\n",
    "while True:\n",
    "    try:\n",
    "        youtube_url = input(\"Enter Video URL\\n\")\n",
    "    except:\n",
    "        print('Sorry, not valid input. Try again')\n",
    "        continue\n",
    "    else:\n",
    "        if youtube_url == '':\n",
    "            continue\n",
    "        else:\n",
    "            with youtube_dl.YoutubeDL(options) as ydl:\n",
    "                ydl.download([youtube_url])\n",
    "            break\n",
    "    finally:\n",
    "        print('Created by Abhinav, 2019')"
   ]
  },
  {
   "cell_type": "code",
   "execution_count": null,
   "metadata": {},
   "outputs": [],
   "source": []
  }
 ],
 "metadata": {
  "kernelspec": {
   "display_name": "Python 3",
   "language": "python",
   "name": "python3"
  },
  "language_info": {
   "codemirror_mode": {
    "name": "ipython",
    "version": 3
   },
   "file_extension": ".py",
   "mimetype": "text/x-python",
   "name": "python",
   "nbconvert_exporter": "python",
   "pygments_lexer": "ipython3",
   "version": "3.7.1"
  }
 },
 "nbformat": 4,
 "nbformat_minor": 2
}
