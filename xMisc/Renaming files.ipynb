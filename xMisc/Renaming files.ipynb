{
 "cells": [
  {
   "cell_type": "markdown",
   "metadata": {},
   "source": [
    "# Create an example directory with files"
   ]
  },
  {
   "cell_type": "code",
   "execution_count": 37,
   "metadata": {},
   "outputs": [
    {
     "data": {
      "text/plain": [
       "['Earth - Our Solar System - #3.mp4',\n",
       " 'Eris - Our Solar System - #10.mp4',\n",
       " 'Jupiter - Our Solar System - #5.mp4',\n",
       " 'Mars - Our Solar System - #4.mp4',\n",
       " 'Mercury - Our Solar System - #1.mp4',\n",
       " 'Neptune - Our Solar System - #8.mp4',\n",
       " 'Pluto - Our Solar System - #9.mp4',\n",
       " 'Saturn - Our Solar System - #6.mp4',\n",
       " 'Uranus - Our Solar System - #7.mp4',\n",
       " 'Venus - Our Solar System - #2.mp4']"
      ]
     },
     "execution_count": 37,
     "metadata": {},
     "output_type": "execute_result"
    }
   ],
   "source": [
    "import os\n",
    "\n",
    "if not os.path.exists('renaming'):\n",
    "    os.makedirs('renaming')\n",
    "\n",
    "os.chdir('renaming')\n",
    "\n",
    "planets =['Mercury','Venus','Earth','Mars','Jupiter','Saturn','Uranus','Neptune','Pluto','Eris']\n",
    "\n",
    "for num,val in enumerate(planets,1):\n",
    "    open(val+\" - Our Solar System - #\"+str(num)+\".mp4\",'a')\n",
    "\n",
    "os.listdir()"
   ]
  },
  {
   "cell_type": "markdown",
   "metadata": {},
   "source": [
    "# Go back one directory"
   ]
  },
  {
   "cell_type": "code",
   "execution_count": 40,
   "metadata": {},
   "outputs": [
    {
     "data": {
      "text/plain": [
       "'C:\\\\Users\\\\abhin\\\\Desktop\\\\GitHub\\\\Python\\\\working-codes'"
      ]
     },
     "execution_count": 40,
     "metadata": {},
     "output_type": "execute_result"
    }
   ],
   "source": [
    "os.chdir('../')\n",
    "os.getcwd()"
   ]
  },
  {
   "cell_type": "markdown",
   "metadata": {},
   "source": [
    "# Run renaming script"
   ]
  },
  {
   "cell_type": "code",
   "execution_count": 39,
   "metadata": {},
   "outputs": [
    {
     "name": "stdout",
     "output_type": "stream",
     "text": [
      "03- Earth.mp4\n",
      "10- Eris.mp4\n",
      "05- Jupiter.mp4\n",
      "04- Mars.mp4\n",
      "01- Mercury.mp4\n",
      "08- Neptune.mp4\n",
      "09- Pluto.mp4\n",
      "06- Saturn.mp4\n",
      "07- Uranus.mp4\n",
      "02- Venus.mp4\n",
      "10 files in the directory\n"
     ]
    }
   ],
   "source": [
    "import os\n",
    "\n",
    "if not os.path.basename(os.getcwd())=='renaming':\n",
    "    os.chdir(os.path.join(os.getcwd(), 'renaming'))\n",
    "\n",
    "# Am I in the correct directory?\n",
    "# print(os.getcwd())\n",
    "\n",
    "# Print all the current file names (f=file)\n",
    "for f in os.listdir():\n",
    "    # eg: f = Earth - Our Solar System - #3.mp4\n",
    "    \n",
    "    # If .DS_Store file is created, ignore it\n",
    "    if f == '.DS_Store':\n",
    "        continue\n",
    "\n",
    "    # get a tuple of filename and extension, and unpack it\n",
    "    # splitext splits apart extension and creates ('Earth - Our Solar System - #3','.mp4')\n",
    "    f_name, f_ext = os.path.splitext(f)\n",
    "    \n",
    "    \n",
    "    # split('-') creates ['Earth ', ' Our Solar System ', ' #3']\n",
    "    f_title, f_course, f_number = f_name.split('-')\n",
    "\n",
    "    # print('{}-{}-{}{}'.format(f_number, f_course, f_title, f_ext))\n",
    "    ## prints '#3- Our Solar System -Earth .mp4'\n",
    "\n",
    "    # Need to remove whitespace\n",
    "    f_number = f_number.strip()\n",
    "    f_course = f_course.strip()\n",
    "    f_title = f_title.strip()\n",
    "    f_ext = f_ext.strip()\n",
    "\n",
    "    # Want to remove the number (#) sign?\n",
    "    f_number = f_number[1:]\n",
    "    \n",
    "    # print('{}- {}- {}{}'.format(f_number, f_course, f_title, f_ext))\n",
    "    ## prints '3- Our Solar System- Earth.mp4'\n",
    "\n",
    "    # One thing I noticed about this output is that if it was sorted by filename\n",
    "    # then the 1 and 10 would be next to each other. How do we fix this? One way we can fix this is to pad\n",
    "    # the numbers. So instead of 1, we'll make it 01. If we had hundreds of files then this would maybe need to be 001.\n",
    "    # We can do this in Python with zfill\n",
    "    f_number = f_number.zfill(2)\n",
    "    \n",
    "    # all operations on f_number can be summarised as f_number.strip()[1:].zfill(2)\n",
    "\n",
    "    # print('{}- {}- {}{}'.format(f_number, f_course, f_title, f_ext))\n",
    "    ## prints 03- Our Solar System- Earth.mp4\n",
    "\n",
    "    # You have the power to reformat in any way you see fit\n",
    "    new_name = '{}- {}{}'.format(f_number, f_title, f_ext)\n",
    "    print(new_name)\n",
    "\n",
    "    os.rename(f, new_name)\n",
    "\n",
    "\n",
    "print(len(os.listdir()), 'files in the directory')"
   ]
  },
  {
   "cell_type": "code",
   "execution_count": null,
   "metadata": {},
   "outputs": [],
   "source": []
  }
 ],
 "metadata": {
  "kernelspec": {
   "display_name": "Python 3",
   "language": "python",
   "name": "python3"
  },
  "language_info": {
   "codemirror_mode": {
    "name": "ipython",
    "version": 3
   },
   "file_extension": ".py",
   "mimetype": "text/x-python",
   "name": "python",
   "nbconvert_exporter": "python",
   "pygments_lexer": "ipython3",
   "version": "3.8.8"
  }
 },
 "nbformat": 4,
 "nbformat_minor": 2
}
