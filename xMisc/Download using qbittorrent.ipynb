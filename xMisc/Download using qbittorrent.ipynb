{
 "cells": [
  {
   "cell_type": "markdown",
   "metadata": {},
   "source": [
    "https://www.thepythoncode.com/article/download-torrent-files-in-python"
   ]
  },
  {
   "cell_type": "code",
   "execution_count": 2,
   "metadata": {
    "scrolled": true
   },
   "outputs": [
    {
     "name": "stdout",
     "output_type": "stream",
     "text": [
      "Collecting python-qbittorrent\n",
      "  Downloading https://files.pythonhosted.org/packages/c2/91/102ac8eeb6c4292132279f5d24ad1bd974d55d29a9c3599b13664f525587/python-qbittorrent-0.4.2.tar.gz\n",
      "Requirement already satisfied: requests in c:\\users\\abhin\\appdata\\local\\continuum\\anaconda3\\lib\\site-packages (from python-qbittorrent) (2.21.0)\n",
      "Requirement already satisfied: idna<2.9,>=2.5 in c:\\users\\abhin\\appdata\\local\\continuum\\anaconda3\\lib\\site-packages (from requests->python-qbittorrent) (2.8)\n",
      "Requirement already satisfied: chardet<3.1.0,>=3.0.2 in c:\\users\\abhin\\appdata\\local\\continuum\\anaconda3\\lib\\site-packages (from requests->python-qbittorrent) (3.0.4)\n",
      "Requirement already satisfied: certifi>=2017.4.17 in c:\\users\\abhin\\appdata\\local\\continuum\\anaconda3\\lib\\site-packages (from requests->python-qbittorrent) (2018.11.29)\n",
      "Requirement already satisfied: urllib3<1.25,>=1.21.1 in c:\\users\\abhin\\appdata\\local\\continuum\\anaconda3\\lib\\site-packages (from requests->python-qbittorrent) (1.24.1)\n",
      "Building wheels for collected packages: python-qbittorrent\n",
      "  Running setup.py bdist_wheel for python-qbittorrent: started\n",
      "  Running setup.py bdist_wheel for python-qbittorrent: finished with status 'done'\n",
      "  Stored in directory: C:\\Users\\abhin\\AppData\\Local\\pip\\Cache\\wheels\\cb\\fc\\eb\\9282ebab24ece0b84773fe8b08866389ff53fede2da9f4bc3c\n",
      "Successfully built python-qbittorrent\n",
      "Installing collected packages: python-qbittorrent\n",
      "Successfully installed python-qbittorrent-0.4.2\n"
     ]
    }
   ],
   "source": [
    "!pip install python-qbittorrent"
   ]
  },
  {
   "cell_type": "code",
   "execution_count": 3,
   "metadata": {},
   "outputs": [],
   "source": [
    "from qbittorrent import Client\n",
    "\n",
    "# connect to the qbittorent Web UI\n",
    "qb = Client(\"http://127.0.0.1:8080/\")\n",
    "\n",
    "# put the credentials (as you configured)\n",
    "qb.login(\"admin\", \"adminadmin\")"
   ]
  },
  {
   "cell_type": "code",
   "execution_count": 4,
   "metadata": {},
   "outputs": [
    {
     "data": {
      "text/plain": [
       "'Ok.'"
      ]
     },
     "execution_count": 4,
     "metadata": {},
     "output_type": "execute_result"
    }
   ],
   "source": [
    "magnet_link = \"magnet:?xt=urn:btih:7B2FE88B526705B652AD339927E90387DDAF5C54&dn=Happiest+Season+%282020%29+%5B1080p%5D+%5BYTS.MX%5D&tr=udp%3A%2F%2Ftracker.opentrackr.org%3A1337%2Fannounce&tr=udp%3A%2F%2Ftracker.leechers-paradise.org%3A6969%2Fannounce&tr=udp%3A%2F%2F9.rarbg.to%3A2710%2Fannounce&tr=udp%3A%2F%2Fp4p.arenabg.ch%3A1337%2Fannounce&tr=udp%3A%2F%2Ftracker.cyberia.is%3A6969%2Fannounce&tr=http%3A%2F%2Fp4p.arenabg.com%3A1337%2Fannounce&tr=udp%3A%2F%2Ftracker.internetwarriors.net%3A1337%2Fannounce\"\n",
    "qb.download_from_link(magnet_link)"
   ]
  },
  {
   "cell_type": "code",
   "execution_count": 5,
   "metadata": {},
   "outputs": [],
   "source": [
    "# open the torrent file of the file you wanna download\n",
    "# torrent_file = open(\"debian-10.2.0-amd64-netinst.iso.torrent\", \"rb\")\n",
    "# start downloading\n",
    "# qb.download_from_file(torrent_file)\n",
    "\n",
    "# Or use magnet link\n",
    "# magnet_link = \"magnet:?xt=urn:btih:e334ab9ddd91c10938a7.....\"\n",
    "# qb.download_from_link(magnet_link)\n",
    "\n",
    "# Optionally, you can mention save location as well\n",
    "# you can specify the save path for downloads\n",
    "# qb.download_from_file(torrent_file, savepath=\"/the/path/you/want/to/save\")"
   ]
  },
  {
   "cell_type": "code",
   "execution_count": 12,
   "metadata": {},
   "outputs": [
    {
     "name": "stdout",
     "output_type": "stream",
     "text": [
      "Torrent name: Oslo, August 31st (2011) (1080p BluRay x265 HEVC 10bit AAC 5.1 Norwegian Bokmal r00t)\n",
      "hash: fdf9bb9e2e4b504c7172246b57ebb1a430fb8811\n",
      "Seeds: 0\n",
      "File size: 3.24GB\n",
      "Download speed: 0.00B/s\n",
      "\n",
      "---------------\n",
      "\n",
      "Torrent name: [TTC Video] Kenneth R. Bartlett - The Great Tours. Experiencing Medieval Europe\n",
      "hash: 2928c5eb6b105421a35ddbf96f39e1984100844e\n",
      "Seeds: 0\n",
      "File size: 18.68GB\n",
      "Download speed: 0.00B/s\n",
      "\n",
      "---------------\n",
      "\n",
      "Torrent name: Red Giant Universe 3.3.1 x64 incl Serial key [CrackingPatching]\n",
      "hash: 23843fc2fde0761049ece6b5ffc75661f73346c0\n",
      "Seeds: 0\n",
      "File size: 1.81GB\n",
      "Download speed: 0.00B/s\n",
      "\n",
      "---------------\n",
      "\n",
      "Torrent name: +++ [HD] JUFE-093 online gonzo the document too thick to devour us fluid download sweaty fuck Mifune from it\n",
      "hash: 381663063654c05ece7106ef4e2c4cfe30ab3751\n",
      "Seeds: 0\n",
      "File size: 4.93GB\n",
      "Download speed: 0.00B/s\n",
      "\n",
      "---------------\n",
      "\n",
      "Torrent name: [FreeCoursesOnline.Me] ATHLEANX - Special TactiX - Jeff Cavaliere\n",
      "hash: ccf08fdfda98484453ae96b04545397cce84a113\n",
      "Seeds: 0\n",
      "File size: 1.10GB\n",
      "Download speed: 0.00B/s\n",
      "\n",
      "---------------\n",
      "\n",
      "Torrent name: Metropolis (1927) [BluRay] [720p] [YTS.AM]\n",
      "hash: 184e129f70b28af0f7b337bfaa6c2b0cbcc35c21\n",
      "Seeds: 0\n",
      "File size: 1.24GB\n",
      "Download speed: 0.00B/s\n",
      "\n",
      "---------------\n",
      "\n",
      "Torrent name: [TTC Video] Thomas A. Shippey - Heroes and Legends. The Most Influential Characters of Literature\n",
      "hash: daa84e24d954cf6f950a3bae9e6b7af48e7816b4\n",
      "Seeds: 0\n",
      "File size: 19.37GB\n",
      "Download speed: 0.00B/s\n",
      "\n",
      "---------------\n",
      "\n",
      "Torrent name:  HD SSNI-431 rookie NO. 1STYLE  The AV debut 1 Limited AV ban\n",
      "hash: 9b71e0330d3f50395ad82885b3c4adee9118889e\n",
      "Seeds: 1\n",
      "File size: 4.38GB\n",
      "Download speed: 0.00B/s\n",
      "\n",
      "---------------\n",
      "\n",
      "Torrent name: Red Giant Trapcode Suite 15.1.7 (x64) + Serial Keys [SadeemPC]\n",
      "hash: a7a7e23d18b27efe7161f19eebfaf310d25ed01e\n",
      "Seeds: 0\n",
      "File size: 775.71MB\n",
      "Download speed: 0.00B/s\n",
      "\n",
      "---------------\n",
      "\n",
      "Torrent name: [TTC Video] Hans-Friedrich Mueller - Latin 101: Learning a Classical Language\n",
      "hash: cf62262064500e0d1930368019364c4d0f57ebc3\n",
      "Seeds: 0\n",
      "File size: 28.25GB\n",
      "Download speed: 0.00B/s\n",
      "\n",
      "---------------\n",
      "\n",
      "Torrent name: [FreeCoursesOnline.Me] ATHLEAN-X - Wolverine BeastMode [Jeff Cavaliere]\n",
      "hash: c682082724cadc2a23e4d9e6ba0df80d37cc5aa9\n",
      "Seeds: 0\n",
      "File size: 733.27MB\n",
      "Download speed: 0.00B/s\n",
      "\n",
      "---------------\n",
      "\n",
      "Torrent name: Om Books International - 365 Tales from Indian Mythology - 2018\n",
      "hash: e1316c33969d6e6bbf8585cba822c0bdb49b9d17\n",
      "Seeds: 0\n",
      "File size: 304.29MB\n",
      "Download speed: 0.00B/s\n",
      "\n",
      "---------------\n",
      "\n",
      "Torrent name: JUY-664 Former Cabin Attendant Madonna Exclusive Third Bullet! ! Back Drama X Super Nice Ass Fetish! ! My Father&#039;s Bark Is Barking On My Bossy Mother&#039;s Cock During His Three Days On Business Trips! ! Haneda Tsubasa\n",
      "hash: 833a86053d14ab9a94af1ac55fa1e41057f959aa\n",
      "Seeds: 0\n",
      "File size: 1.77GB\n",
      "Download speed: 0.00B/s\n",
      "\n",
      "---------------\n",
      "\n",
      "Torrent name: [FreeCoursesOnline.Me] [ATHLEANX] The ATHLEAN-X Training System - [FCO]\n",
      "hash: 46c512933fd58a0cdb2e4989749ee046ffe6e25e\n",
      "Seeds: 0\n",
      "File size: 2.47GB\n",
      "Download speed: 0.00B/s\n",
      "\n",
      "---------------\n",
      "\n",
      "Torrent name: Jackass The Movie 2002 [ UnRated ] HQ By Cool Release\n",
      "hash: abadbe02fd7fc653578492601d13cc423071976d\n",
      "Seeds: 0\n",
      "File size: 695.27MB\n",
      "Download speed: 0.00B/s\n",
      "\n",
      "---------------\n",
      "\n",
      "Torrent name: Schnick Schnack Schnuck (Maike Brochhaus, KalkPostPornProduction) (2015) WEB-DL, 720p\n",
      "hash: 9135ffce9dd4f7b898a4750716627a5d80947042\n",
      "Seeds: 0\n",
      "File size: 1.26GB\n",
      "Download speed: 0.00B/s\n",
      "\n",
      "---------------\n",
      "\n",
      "Torrent name: [FreeCoursesOnline.Me] ATHLEANX - Inferno Max Shred - Jeff Cavaliere\n",
      "hash: 390fcd99aa77d7f7f15b79bf80152c382aa2e0c4\n",
      "Seeds: 0\n",
      "File size: 2.85GB\n",
      "Download speed: 0.00B/s\n",
      "\n",
      "---------------\n",
      "\n",
      "Torrent name: Happiest Season (2020) [1080p] [YTS.MX]\n",
      "hash: 7b2fe88b526705b652ad339927e90387ddaf5c54\n",
      "Seeds: 0\n",
      "File size: 1.88GB\n",
      "Download speed: 0.00B/s\n",
      "\n",
      "---------------\n",
      "\n",
      "Torrent name: Digimon.Adventure.Tri.Reunion.Part.1.2015.720p.BluRay.x264-CiNEFiLE[EtHD]\n",
      "hash: 974e7f26a1c63b43372074fc8ef820bf78831200\n",
      "Seeds: 0\n",
      "File size: 3.28GB\n",
      "Download speed: 0.00B/s\n",
      "\n",
      "---------------\n",
      "\n",
      "Torrent name: Sketchy\n",
      "hash: aa2ca43080e9810d433b2cf43d286fa35914d7ec\n",
      "Seeds: 0\n",
      "File size: 10.48GB\n",
      "Download speed: 0.00B/s\n",
      "\n",
      "---------------\n",
      "\n",
      "Torrent name: [TTC Video] Bob Brier - The History of Ancient Egypt\n",
      "hash: b0c2181abd7812a2f0de699ec59b04fdc0b7ba12\n",
      "Seeds: 3\n",
      "File size: 37.53GB\n",
      "Download speed: 0.00B/s\n",
      "\n",
      "---------------\n",
      "\n",
      "Torrent name: Sketchy Medical Pathology 2017\n",
      "hash: 2d87a80dafad1f28d271a0092f502e01d6a0a361\n",
      "Seeds: 0\n",
      "File size: 9.37GB\n",
      "Download speed: 0.00B/s\n",
      "\n",
      "---------------\n",
      "\n",
      "Torrent name: The Sandlot (1993) [1080p] [YTS.MX]\n",
      "hash: 5cbfb61d7d9132daee4d8b6c22bd80eadb82a373\n",
      "Seeds: 0\n",
      "File size: 1.40GB\n",
      "Download speed: 0.00B/s\n",
      "\n",
      "---------------\n",
      "\n"
     ]
    }
   ],
   "source": [
    "def get_size_format(b, factor=1024, suffix=\"B\"):\n",
    "    \"\"\"\n",
    "    Scale bytes to its proper byte format\n",
    "    e.g:\n",
    "        1253656 => '1.20MB'\n",
    "        1253656678 => '1.17GB'\n",
    "    \"\"\"\n",
    "    for unit in [\"\", \"K\", \"M\", \"G\", \"T\", \"P\", \"E\", \"Z\"]:\n",
    "        if b < factor:\n",
    "            return f\"{b:.2f}{unit}{suffix}\"\n",
    "        b /= factor\n",
    "    return f\"{b:.2f}Y{suffix}\"\n",
    "\n",
    "# return list of torrents\n",
    "torrents = qb.torrents()\n",
    "\n",
    "for torrent in torrents:\n",
    "    print(\"Torrent name:\", torrent[\"name\"])\n",
    "    print(\"hash:\", torrent[\"hash\"])\n",
    "    print(\"Seeds:\", torrent[\"num_seeds\"])\n",
    "    print(\"File size:\", get_size_format(torrent[\"total_size\"]))\n",
    "    print(\"Download speed:\", get_size_format(torrent[\"dlspeed\"]) + \"/s\")\n",
    "    print(\"\\n---------------\\n\")"
   ]
  },
  {
   "cell_type": "code",
   "execution_count": 13,
   "metadata": {},
   "outputs": [
    {
     "data": {
      "text/plain": [
       "{}"
      ]
     },
     "execution_count": 13,
     "metadata": {},
     "output_type": "execute_result"
    }
   ],
   "source": [
    "qb.resume_all()"
   ]
  },
  {
   "cell_type": "code",
   "execution_count": null,
   "metadata": {},
   "outputs": [],
   "source": []
  }
 ],
 "metadata": {
  "kernelspec": {
   "display_name": "Python 3",
   "language": "python",
   "name": "python3"
  },
  "language_info": {
   "codemirror_mode": {
    "name": "ipython",
    "version": 3
   },
   "file_extension": ".py",
   "mimetype": "text/x-python",
   "name": "python",
   "nbconvert_exporter": "python",
   "pygments_lexer": "ipython3",
   "version": "3.7.1"
  }
 },
 "nbformat": 4,
 "nbformat_minor": 2
}
