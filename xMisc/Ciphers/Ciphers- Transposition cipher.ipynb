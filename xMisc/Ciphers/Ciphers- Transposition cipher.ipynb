{
 "cells": [
  {
   "cell_type": "markdown",
   "metadata": {},
   "source": [
    "Use this regex to get rid of numbering at start of code `^\\s*\\d*.\\s?`\n",
    "\n",
    "https://inventwithpython.com/cracking/chapter7.html"
   ]
  },
  {
   "cell_type": "code",
   "execution_count": 35,
   "metadata": {},
   "outputs": [
    {
     "name": "stdout",
     "output_type": "stream",
     "text": [
      "Cenoonommstmme oo snnio. s s c|\n"
     ]
    }
   ],
   "source": [
    "# Transposition Cipher Encryption\n",
    "# https://www.nostarch.com/crackingcodes/ (BSD Licensed)\n",
    "\n",
    "import pyperclip\n",
    "\n",
    "def main():\n",
    "    myMessage = 'Common sense is not so common.'\n",
    "    myKey = 8\n",
    "\n",
    "    ciphertext = encryptMessage(myKey, myMessage)\n",
    "\n",
    "    # Print the encrypted string in ciphertext to the screen, with\n",
    "    # a | (\"pipe\" character) after it in case there are spaces at\n",
    "    # the end of the encrypted message:\n",
    "    print(ciphertext + '|')\n",
    "\n",
    "    # Copy the encrypted string in ciphertext to the clipboard:\n",
    "    pyperclip.copy(ciphertext)\n",
    "\n",
    "\n",
    "def encryptMessage(key, message):\n",
    "    # Each string in ciphertext represents a column in the grid:\n",
    "    ciphertext = [''] * key\n",
    "\n",
    "    # Loop through each column in ciphertext:\n",
    "    for column in range(key):\n",
    "        currentIndex = column\n",
    "\n",
    "        # Keep looping until currentIndex goes past the message length:\n",
    "        while currentIndex < len(message):\n",
    "            # Place the character at currentIndex in message at the\n",
    "            # end of the current column in the ciphertext list:\n",
    "            ciphertext[column] += message[currentIndex]\n",
    "\n",
    "            # Move currentIndex over:\n",
    "            currentIndex += key\n",
    "    # print(ciphertext)\n",
    "    # Convert the ciphertext list into a single string value and return it:\n",
    "    return ''.join(ciphertext)\n",
    "\n",
    "\n",
    "# If transpositionEncrypt.py is run (instead of imported as a module) call\n",
    "# the main() function:\n",
    "if __name__ == '__main__':\n",
    "    main()"
   ]
  },
  {
   "cell_type": "code",
   "execution_count": 36,
   "metadata": {},
   "outputs": [
    {
     "name": "stdout",
     "output_type": "stream",
     "text": [
      "Common sense is not so common.|\n"
     ]
    }
   ],
   "source": [
    "# Transposition Cipher Decryption\n",
    "# https://www.nostarch.com/crackingcodes/ (BSD Licensed)\n",
    "\n",
    "import math, pyperclip\n",
    "\n",
    "def main():\n",
    "    myMessage = 'Cenoonommstmme oo snnio. s s c'\n",
    "    myKey = 8\n",
    "\n",
    "    plaintext = decryptMessage(myKey, myMessage)\n",
    "\n",
    "    # Print with a | (called \"pipe\" character) after it in case\n",
    "    # there are spaces at the end of the decrypted message:\n",
    "    print(plaintext + '|')\n",
    "\n",
    "    pyperclip.copy(plaintext)\n",
    "\n",
    "\n",
    "def decryptMessage(key, message):\n",
    "    # The transposition decrypt function will simulate the \"columns\" and\n",
    "    # \"rows\" of the grid that the plaintext is written on by using a list\n",
    "    # of strings. First, we need to calculate a few values.\n",
    "\n",
    "    # The number of \"columns\" in our transposition grid:\n",
    "    numOfColumns = int(math.ceil(len(message) / float(key)))\n",
    "    # The number of \"rows\" in our grid:\n",
    "    numOfRows = key\n",
    "    # The number of \"shaded boxes\" in the last \"column\" of the grid:\n",
    "    numOfShadedBoxes = (numOfColumns * numOfRows) - len(message)\n",
    "\n",
    "    # Each string in plaintext represents a column in the grid:\n",
    "    plaintext = [''] * numOfColumns\n",
    "\n",
    "    # The column and row variables point to where in the grid the next\n",
    "    # character in the encrypted message will go:\n",
    "    column = 0\n",
    "    row = 0\n",
    "\n",
    "    for symbol in message:\n",
    "        plaintext[column] += symbol\n",
    "        column += 1 # Point to the next column.\n",
    "\n",
    "        # If there are no more columns OR we're at a shaded box, go back\n",
    "        # to the first column and the next row:\n",
    "        if (column == numOfColumns) or (column == numOfColumns - 1 and row >= numOfRows - numOfShadedBoxes):\n",
    "            column = 0\n",
    "            row += 1\n",
    "    # print(plaintext)\n",
    "    return ''.join(plaintext)\n",
    "\n",
    "\n",
    "# If transpositionDecrypt.py is run (instead of imported as a module),\n",
    "# call the main() function:\n",
    "if __name__ == '__main__':\n",
    "    main()"
   ]
  },
  {
   "cell_type": "code",
   "execution_count": 37,
   "metadata": {},
   "outputs": [
    {
     "name": "stdout",
     "output_type": "stream",
     "text": [
      "Test #1: \"JEQLDFKJZWALCOYACUPLTRRMLWHOBXQNEAWSLGWAGQQSRSIUIQ...\"\n",
      "Test #2: \"SWRCLUCRDOMLWZKOMAGVOTXUVVEPIOJMSBEQRQOFRGCCKENINV...\"\n",
      "Test #3: \"BIZBPZUIWDUFXAPJTHCMDWEGHYOWKWWWSJYKDQVSFWCJNCOZZA...\"\n",
      "Test #4: \"JEWBCEXVZAILLCHDZJCUTXASSZZRKRPMYGTGHBXPQPBEBVCODM...\"\n",
      "Test #5: \"DMMEDKAHCZJDBNCCCZNENAOSJUKGHGUANOCHFGSEVDOMYHVBRK...\"\n",
      "Test #6: \"WPOWKFRGLWZFRPXYPDUQADOXPGEABHKNMDLYTITYOBEATVLAIB...\"\n",
      "Test #7: \"KVNJOCYPGIUNVLPRZFFAESDUTZRMDKRSSAWQIWXWCPGWUISLHP...\"\n",
      "Test #8: \"RMVZKCBLEFVZSLTEUGCQRJUWQWQILELVNTGHONBIXNJGTRMGHH...\"\n",
      "Test #9: \"PVHJOFQJRGXYXFFRRJZTQXRFLWVHPQSHNYOZRJSKJFNRIGQYCH...\"\n",
      "Test #10: \"CFWPWYEKXSREXTZZLITJIXIXESHFJCSPLVZQTMWBRTSYBEDCHK...\"\n",
      "Test #11: \"QNUZXADCRFYBODYWYJZTPFMGYNWNKGYUBCJXHSSPIIWYYRXCXK...\"\n",
      "Test #12: \"DZSEKFURFHNLMFRITPTNQWEVVJVDSBOUUFKXZJNRXHANWCBEYX...\"\n",
      "Test #13: \"FXCAYLCKJIACMGATEPYLHAHVSMTHIHDHNBBNFWVXURLVADSGDB...\"\n",
      "Test #14: \"QKGAZJEFOIWILSENDNVWZUBLSRVHEEDFUSFNMOURJKPAIRWXMG...\"\n",
      "Test #15: \"WHXYUOUIJQLVDKKSZBTPYOHHGAJFUGILNMQAWTMUOICNFIOJXO...\"\n",
      "Test #16: \"GMZMPQAMZDMWCMDMCLUOSWDRJZBVPKYGZDXCWOUVIQLLECWSMU...\"\n",
      "Test #17: \"KPKHHLPUWPSSIOULGKVEFHZOKBFHXUKVSEOWOENOZSNIDELAWR...\"\n",
      "Test #18: \"OYLFXXZENDFGSXTEAHGHPBNORCFEPBMITILSSJRGDVMNSOMURV...\"\n",
      "Test #19: \"SOCLYBRVDPLNVJKAFDGHCQMXIOPEJSXEAAXNWCCYAGZGLZGZHK...\"\n",
      "Test #20: \"JXJGRBCKZXPUIEXOJUNZEYYSEAEGVOJWIRTSSGPUWPNZUBQNDA...\"\n",
      "Transposition cipher test passed.\n"
     ]
    }
   ],
   "source": [
    "#Transposition Cipher Test\n",
    "# https://www.nostarch.com/crackingcodes/ (BSD Licensed)\n",
    "\n",
    "import random\n",
    "\n",
    "def main():\n",
    "    random.seed(42) # Set the random \"seed\" to a static value.\n",
    "\n",
    "    for i in range(20): # Run 20 tests.\n",
    "        # Generate random messages to test.\n",
    "\n",
    "        # The message will have a random length:\n",
    "        message = 'ABCDEFGHIJKLMNOPQRSTUVWXYZ' * random.randint(4, 40)\n",
    "\n",
    "        # Convert the message string to a list to shuffle it:\n",
    "        message = list(message)\n",
    "        random.shuffle(message)\n",
    "        message = ''.join(message) # Convert the list back to a string.\n",
    "\n",
    "        print('Test #%s: \"%s...\"' % (i + 1, message[:50]))\n",
    "\n",
    "        # Check all possible keys for each message:\n",
    "        for key in range(1, int(len(message)/2)):\n",
    "            encrypted = encryptMessage(key, message)\n",
    "            decrypted = decryptMessage(key, encrypted)\n",
    "\n",
    "            # If the decryption doesn't match the original message, display\n",
    "            # an error message and quit:\n",
    "            if message != decrypted:\n",
    "                print('Mismatch with key %s and message %s.' % (key, message))\n",
    "                print('Decrypted as: ' + decrypted)\n",
    "                sys.exit()\n",
    "\n",
    "    print('Transposition cipher test passed.')\n",
    "\n",
    "\n",
    "# If transpositionTest.py is run (instead of imported as a module) call\n",
    "# the main() function:\n",
    "if __name__ == '__main__':\n",
    "    main()"
   ]
  },
  {
   "cell_type": "code",
   "execution_count": null,
   "metadata": {},
   "outputs": [],
   "source": []
  }
 ],
 "metadata": {
  "kernelspec": {
   "display_name": "Python 3",
   "language": "python",
   "name": "python3"
  },
  "language_info": {
   "codemirror_mode": {
    "name": "ipython",
    "version": 3
   },
   "file_extension": ".py",
   "mimetype": "text/x-python",
   "name": "python",
   "nbconvert_exporter": "python",
   "pygments_lexer": "ipython3",
   "version": "3.7.1"
  }
 },
 "nbformat": 4,
 "nbformat_minor": 2
}
