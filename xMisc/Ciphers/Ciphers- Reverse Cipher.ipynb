{
 "cells": [
  {
   "cell_type": "markdown",
   "metadata": {},
   "source": [
    "https://inventwithpython.com/cracking/chapter4.html"
   ]
  },
  {
   "cell_type": "code",
   "execution_count": 1,
   "metadata": {},
   "outputs": [
    {
     "name": "stdout",
     "output_type": "stream",
     "text": [
      "Enter message: \n",
      ".daed era meht fo owt fi ,terces a peek nac eerhT\n"
     ]
    }
   ],
   "source": [
    "message = input('Enter message: ') or 'Three can keep a secret, if two of them are dead.'\n",
    "translated = ''\n",
    "\n",
    "i = len(message) - 1\n",
    "while i >= 0:\n",
    "    translated = translated + message[i]\n",
    "    i = i - 1\n",
    "    \n",
    "print(translated)"
   ]
  },
  {
   "cell_type": "code",
   "execution_count": null,
   "metadata": {},
   "outputs": [],
   "source": []
  }
 ],
 "metadata": {
  "kernelspec": {
   "display_name": "Python 3",
   "language": "python",
   "name": "python3"
  },
  "language_info": {
   "codemirror_mode": {
    "name": "ipython",
    "version": 3
   },
   "file_extension": ".py",
   "mimetype": "text/x-python",
   "name": "python",
   "nbconvert_exporter": "python",
   "pygments_lexer": "ipython3",
   "version": "3.7.1"
  }
 },
 "nbformat": 4,
 "nbformat_minor": 2
}
