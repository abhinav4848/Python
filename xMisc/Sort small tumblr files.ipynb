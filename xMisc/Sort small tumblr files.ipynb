{
 "cells": [
  {
   "cell_type": "markdown",
   "metadata": {},
   "source": [
    "# Regex to find smaller images:\n",
    "`tumblr_.*_\\d{3,4}(?:-\\d)?(-\\d{3,4}x\\d{3,4})\\.(gif|png|jpg)`"
   ]
  },
  {
   "cell_type": "code",
   "execution_count": 36,
   "metadata": {},
   "outputs": [],
   "source": [
    "import os\n",
    "import re\n",
    "\n",
    "if not os.path.basename(os.getcwd()) == 'tumblrs':\n",
    "    os.chdir(os.path.join(os.getcwd(), 'tumblrs'))\n",
    "\n",
    "try:\n",
    "    os.makedirs('smalls/gif')\n",
    "    os.makedirs('smalls/png')\n",
    "    os.makedirs('smalls/jpg')\n",
    "except Exception as e:\n",
    "    print(e)\n",
    "\n",
    "tumblrex = re.compile(\n",
    "    r'tumblr_.*_\\d{3,4}(?:-\\d)?(-\\d{3,4}x\\d{3,4})\\.(gif|png|jpg)')\n",
    "for f in os.listdir():\n",
    "\n",
    "    # If .DS_Store file is created, ignore it\n",
    "    if f == '.DS_Store':\n",
    "        continue\n",
    "\n",
    "    matchObj = tumblrex.search(f)\n",
    "\n",
    "    if matchObj:\n",
    "        os.rename(f, 'smalls/'+matchObj[2]+'/'+f)\n"
   ]
  }
 ],
 "metadata": {
  "kernelspec": {
   "display_name": "Python 3",
   "language": "python",
   "name": "python3"
  },
  "language_info": {
   "codemirror_mode": {
    "name": "ipython",
    "version": 3
   },
   "file_extension": ".py",
   "mimetype": "text/x-python",
   "name": "python",
   "nbconvert_exporter": "python",
   "pygments_lexer": "ipython3",
   "version": "3.7.1"
  }
 },
 "nbformat": 4,
 "nbformat_minor": 2
}
