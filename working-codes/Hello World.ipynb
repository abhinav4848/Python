{
 "cells": [
  {
   "cell_type": "code",
   "execution_count": 2,
   "metadata": {},
   "outputs": [
    {
     "name": "stdout",
     "output_type": "stream",
     "text": [
      "Hello World\n",
      "What is your name?\n",
      "Abhinav\n",
      "Hi Abhinav\n",
      "The length of your name is \n",
      "7\n",
      "What is your age?\n",
      "23\n",
      "You will be 24 in a year.\n"
     ]
    }
   ],
   "source": [
    "print('Hello World')\n",
    "print('What is your name?') #ask for name\n",
    "myName = input()\n",
    "print('Hi '+ myName)\n",
    "print('The length of your name is ')\n",
    "print(len(myName))\n",
    "print('What is your age?')\n",
    "myAge=input()\n",
    "print('You will be '+str(int(myAge)+1)+' in a year.')"
   ]
  },
  {
   "cell_type": "code",
   "execution_count": 3,
   "metadata": {},
   "outputs": [
    {
     "name": "stdout",
     "output_type": "stream",
     "text": [
      "Wrong Dude\n",
      "done\n"
     ]
    }
   ],
   "source": [
    "myname= 'Abhinava'\n",
    "if myname == 'Abhinav':\n",
    "    print('Hi Abhinav')\n",
    "else:\n",
    "    print('Wrong Dude')\n",
    "print('done')"
   ]
  },
  {
   "cell_type": "code",
   "execution_count": 4,
   "metadata": {},
   "outputs": [
    {
     "name": "stdout",
     "output_type": "stream",
     "text": [
      "Enter a name\n",
      "Abhinav\n",
      "Thanx, Abhinav\n",
      "Done\n"
     ]
    }
   ],
   "source": [
    "print('Enter a name')\n",
    "name = input()\n",
    "if name:\n",
    "    print('Thanx, '+name)\n",
    "else:\n",
    "    print('Hi, no name')\n",
    "print('Done')"
   ]
  },
  {
   "cell_type": "code",
   "execution_count": 5,
   "metadata": {},
   "outputs": [
    {
     "name": "stdout",
     "output_type": "stream",
     "text": [
      "please enter your name\n",
      "Abhinav\n",
      "please enter your name\n",
      "your name\n",
      "thanx, your name\n"
     ]
    }
   ],
   "source": [
    "name = ''\n",
    "while name != 'your name':\n",
    "    print('please enter your name')\n",
    "    name = input()\n",
    "print('thanx, '+name)"
   ]
  },
  {
   "cell_type": "code",
   "execution_count": 6,
   "metadata": {},
   "outputs": [
    {
     "name": "stdout",
     "output_type": "stream",
     "text": [
      "please enter your name\n",
      "abh\n",
      "please enter your name\n",
      "your name\n",
      "thanx, your name\n"
     ]
    }
   ],
   "source": [
    "name = ''\n",
    "while True:\n",
    "    print('please enter your name')\n",
    "    name = input()\n",
    "    if name == 'your name':\n",
    "        break\n",
    "print('thanx, '+name)"
   ]
  },
  {
   "cell_type": "code",
   "execution_count": 7,
   "metadata": {},
   "outputs": [
    {
     "name": "stdout",
     "output_type": "stream",
     "text": [
      "Spam is 1\n",
      "Spam is 2\n",
      "Spam is 4\n",
      "Spam is 5\n",
      "done\n"
     ]
    }
   ],
   "source": [
    "spam = 0\n",
    "while spam < 5:\n",
    "    spam = spam + 1\n",
    "    if spam == 3:\n",
    "        continue\n",
    "    print('Spam is '+str(spam))\n",
    "print('done')"
   ]
  },
  {
   "cell_type": "code",
   "execution_count": 8,
   "metadata": {},
   "outputs": [
    {
     "name": "stdout",
     "output_type": "stream",
     "text": [
      "5050\n"
     ]
    }
   ],
   "source": [
    "total = 0\n",
    "for i in range(101):\n",
    "    total = total + i\n",
    "print(total)"
   ]
  },
  {
   "cell_type": "code",
   "execution_count": 9,
   "metadata": {},
   "outputs": [
    {
     "name": "stdout",
     "output_type": "stream",
     "text": [
      "{' ': 90,\n",
      " \"'\": 1,\n",
      " ',': 4,\n",
      " '.': 4,\n",
      " '0': 3,\n",
      " '1': 2,\n",
      " '5': 1,\n",
      " '6': 1,\n",
      " '9': 1,\n",
      " 'A': 29,\n",
      " 'B': 5,\n",
      " 'C': 10,\n",
      " 'D': 16,\n",
      " 'E': 59,\n",
      " 'F': 6,\n",
      " 'G': 11,\n",
      " 'H': 14,\n",
      " 'I': 38,\n",
      " 'K': 7,\n",
      " 'L': 22,\n",
      " 'M': 19,\n",
      " 'N': 38,\n",
      " 'O': 25,\n",
      " 'P': 19,\n",
      " 'R': 24,\n",
      " 'S': 39,\n",
      " 'T': 43,\n",
      " 'U': 17,\n",
      " 'V': 5,\n",
      " 'W': 6,\n",
      " 'X': 2,\n",
      " 'Y': 13}\n"
     ]
    }
   ],
   "source": [
    "import pprint\n",
    "message = '''Lorem Ipsum is simply dummy text of the printing and typesetting industry. Lorem Ipsum has been the industry\\'s standard dummy text ever since the 1500s, when an unknown printer took a galley of type and scrambled it to make a type specimen book. It has survived not only five centuries, but also the leap into electronic typesetting, remaining essentially unchanged. It was popularised in the 1960s with the release of Letraset sheets containing Lorem Ipsum passages, and more recently with desktop publishing software like Aldus PageMaker including versions of Lorem Ipsum.'''\n",
    "count = {}\n",
    "for character in message.upper():\n",
    "    count.setdefault(character,0)\n",
    "    count[character]+=1\n",
    "#print(pprint.pformat(count))\n",
    "pprint.pprint(count)"
   ]
  },
  {
   "cell_type": "code",
   "execution_count": 11,
   "metadata": {},
   "outputs": [
    {
     "name": "stdout",
     "output_type": "stream",
     "text": [
      "hello hi you are invited to bye at time: 6pm\n"
     ]
    }
   ],
   "source": [
    "name =\"hi\"\n",
    "place=\"bye\"\n",
    "time = \"6pm\"\n",
    "print('hello %s you are invited to %s at time: %s' % (name, place, time))"
   ]
  },
  {
   "cell_type": "code",
   "execution_count": 12,
   "metadata": {},
   "outputs": [
    {
     "name": "stdout",
     "output_type": "stream",
     "text": [
      "['888-444-1344', '432-334-4444']\n"
     ]
    }
   ],
   "source": [
    "import re\n",
    "message = 'call me at 888-444-1344 tom or at 432-334-4444 today'\n",
    "phonereg = re.compile(r'\\d\\d\\d-\\d\\d\\d-\\d\\d\\d\\d')\n",
    "matchobject = phonereg.findall(message)\n",
    "#print(matchobject.group())\n",
    "print(matchobject)"
   ]
  },
  {
   "cell_type": "code",
   "execution_count": null,
   "metadata": {},
   "outputs": [],
   "source": []
  }
 ],
 "metadata": {
  "kernelspec": {
   "display_name": "Python 3",
   "language": "python",
   "name": "python3"
  },
  "language_info": {
   "codemirror_mode": {
    "name": "ipython",
    "version": 3
   },
   "file_extension": ".py",
   "mimetype": "text/x-python",
   "name": "python",
   "nbconvert_exporter": "python",
   "pygments_lexer": "ipython3",
   "version": "3.7.1"
  }
 },
 "nbformat": 4,
 "nbformat_minor": 2
}
