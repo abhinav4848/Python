{
 "cells": [
  {
   "cell_type": "markdown",
   "metadata": {},
   "source": [
    "# Dog "
   ]
  },
  {
   "cell_type": "code",
   "execution_count": 1,
   "metadata": {},
   "outputs": [
    {
     "name": "stdout",
     "output_type": "stream",
     "text": [
      "Woof!, my name is sammy and number is 2\n"
     ]
    }
   ],
   "source": [
    "class Dog():\n",
    "    # class variable\n",
    "    # same for any instance of class\n",
    "    species = 'mammal' # don't define lists here cuz one object can change the list of another object\n",
    "    \n",
    "    def __init__(self,breed,name,spots):\n",
    "        self.breed = breed\n",
    "        self.name=name\n",
    "        self.spots=spots\n",
    "    \n",
    "    def bark(self,number):\n",
    "        print(f'Woof!, my name is {self.name} and number is {number}')\n",
    "\n",
    "mydog = Dog(breed='lab',name='sammy',spots=True)\n",
    "mydog.bark(2)"
   ]
  },
  {
   "cell_type": "markdown",
   "metadata": {},
   "source": [
    "# Circle"
   ]
  },
  {
   "cell_type": "code",
   "execution_count": 3,
   "metadata": {},
   "outputs": [
    {
     "name": "stdout",
     "output_type": "stream",
     "text": [
      "3.14\n",
      "30\n",
      "188.4\n",
      "2826.0\n"
     ]
    }
   ],
   "source": [
    "class Circle():\n",
    "    # class object attribute\n",
    "    pi = 3.14\n",
    "    \n",
    "    def __init__(self,radius=1):\n",
    "        self.radius = radius\n",
    "        # since radius has been assigned already, we can call\n",
    "        # the self.radius or the radius argument itself\n",
    "        self.area = self.radius*self.radius*self.pi\n",
    "        # we can call a class attribute either via self or Class name\n",
    "        self.area = radius*radius*Circle.pi\n",
    "    \n",
    "    def get_circumference(self):\n",
    "        return self.radius*self.pi*2\n",
    "\n",
    "myCircle = Circle(30)\n",
    "print(myCircle.pi)\n",
    "print(myCircle.radius)\n",
    "print(myCircle.get_circumference())\n",
    "print(myCircle.area)"
   ]
  },
  {
   "cell_type": "markdown",
   "metadata": {},
   "source": [
    "# Line\n",
    "Line class methods acceptS coordinates as a pair of tuples and return the slope and distance of the line."
   ]
  },
  {
   "cell_type": "code",
   "execution_count": 10,
   "metadata": {},
   "outputs": [],
   "source": [
    "class Line:\n",
    "    \n",
    "    def __init__(self,coor1,coor2):\n",
    "        self.x1,self.y1 = coor1 # TUPLE UNPACKING\n",
    "        self.x2,self.y2 = coor2\n",
    "    \n",
    "    def distance(self):\n",
    "        return  ((self.x2-self.x1)**2+(self.y2-self.y1)**2)**(1/2)\n",
    "    \n",
    "    def slope(self):\n",
    "        return float((self.y2-self.y1)/(self.x2-self.x1))"
   ]
  },
  {
   "cell_type": "code",
   "execution_count": 11,
   "metadata": {},
   "outputs": [],
   "source": [
    "# EXAMPLE OUTPUT\n",
    "\n",
    "coordinate1 = (3,2)\n",
    "coordinate2 = (8,10)\n",
    "\n",
    "li = Line(coordinate1,coordinate2)"
   ]
  },
  {
   "cell_type": "code",
   "execution_count": 12,
   "metadata": {},
   "outputs": [
    {
     "data": {
      "text/plain": [
       "9.433981132056603"
      ]
     },
     "execution_count": 12,
     "metadata": {},
     "output_type": "execute_result"
    }
   ],
   "source": [
    "li.distance()"
   ]
  },
  {
   "cell_type": "code",
   "execution_count": 13,
   "metadata": {},
   "outputs": [
    {
     "data": {
      "text/plain": [
       "1.6"
      ]
     },
     "execution_count": 13,
     "metadata": {},
     "output_type": "execute_result"
    }
   ],
   "source": [
    "li.slope()"
   ]
  },
  {
   "cell_type": "markdown",
   "metadata": {},
   "source": [
    "________\n",
    "# Cylinder"
   ]
  },
  {
   "cell_type": "code",
   "execution_count": 22,
   "metadata": {},
   "outputs": [],
   "source": [
    "class Cylinder:\n",
    "    pi = 3.14159265359\n",
    "    \n",
    "    def __init__(self,height=1,radius=1):\n",
    "        self.height=height\n",
    "        self.radius=radius\n",
    "        \n",
    "    def volume(self):\n",
    "        return self.pi*self.radius*self.radius*self.height\n",
    "    \n",
    "    def surface_area(self):\n",
    "        return 2*self.pi*self.radius*self.height + 2*self.pi*self.radius**2"
   ]
  },
  {
   "cell_type": "code",
   "execution_count": 23,
   "metadata": {},
   "outputs": [],
   "source": [
    "# EXAMPLE OUTPUT\n",
    "c = Cylinder(2,3)"
   ]
  },
  {
   "cell_type": "code",
   "execution_count": 24,
   "metadata": {},
   "outputs": [
    {
     "data": {
      "text/plain": [
       "56.548667764620006"
      ]
     },
     "execution_count": 24,
     "metadata": {},
     "output_type": "execute_result"
    }
   ],
   "source": [
    "c.volume()"
   ]
  },
  {
   "cell_type": "code",
   "execution_count": 25,
   "metadata": {},
   "outputs": [
    {
     "data": {
      "text/plain": [
       "94.24777960770001"
      ]
     },
     "execution_count": 25,
     "metadata": {},
     "output_type": "execute_result"
    }
   ],
   "source": [
    "c.surface_area()"
   ]
  }
 ],
 "metadata": {
  "kernelspec": {
   "display_name": "Python 3",
   "language": "python",
   "name": "python3"
  },
  "language_info": {
   "codemirror_mode": {
    "name": "ipython",
    "version": 3
   },
   "file_extension": ".py",
   "mimetype": "text/x-python",
   "name": "python",
   "nbconvert_exporter": "python",
   "pygments_lexer": "ipython3",
   "version": "3.7.1"
  }
 },
 "nbformat": 4,
 "nbformat_minor": 1
}
