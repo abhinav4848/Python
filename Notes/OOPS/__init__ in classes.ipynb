{
 "cells": [
  {
   "cell_type": "markdown",
   "metadata": {},
   "source": [
    "### Class for dog"
   ]
  },
  {
   "cell_type": "code",
   "execution_count": 15,
   "metadata": {},
   "outputs": [
    {
     "name": "stdout",
     "output_type": "stream",
     "text": [
      "Woof!, my name is sammy and number is 2\n"
     ]
    }
   ],
   "source": [
    "class Dog():\n",
    "    # class variable\n",
    "    # same for any instance of class\n",
    "    species = 'mammal' # don't define lists here cuz one object can change the list of another object\n",
    "    \n",
    "    def __init__(self,breed,name,spots):\n",
    "        self.breed = breed\n",
    "        self.name=name\n",
    "        self.spots=spots\n",
    "    \n",
    "    def bark(self,number):\n",
    "        print(f'Woof!, my name is {self.name} and number is {number}')\n",
    "\n",
    "mydog = Dog(breed='lab',name='sammy',spots=True)\n",
    "mydog.bark(2)"
   ]
  },
  {
   "cell_type": "markdown",
   "metadata": {},
   "source": [
    "### Class for circle"
   ]
  },
  {
   "cell_type": "code",
   "execution_count": 5,
   "metadata": {},
   "outputs": [
    {
     "name": "stdout",
     "output_type": "stream",
     "text": [
      "3.14\n",
      "30\n",
      "188.4\n",
      "2826.0\n"
     ]
    }
   ],
   "source": [
    "class Circle():\n",
    "    # class object attribute\n",
    "    pi = 3.14\n",
    "    \n",
    "    def __init__(self,radius=1):\n",
    "        self.radius = radius\n",
    "        # since radius has been assigned already, we can call\n",
    "        # the self.radius or the radius argument itself\n",
    "        self.area = self.radius*self.radius*self.pi\n",
    "        self.area = radius*radius*Circle.pi\n",
    "    \n",
    "    def get_circumference(self):\n",
    "        return self.radius*self.pi*2\n",
    "\n",
    "myCircle = Circle(30)\n",
    "print(myCircle.pi)\n",
    "print(myCircle.radius)\n",
    "print(myCircle.get_circumference())\n",
    "print(myCircle.area)"
   ]
  },
  {
   "cell_type": "markdown",
   "metadata": {},
   "source": [
    "# Inheritance\n",
    "When we call a function, python checks in the subclass if that function exists, if not, then it checks parent class."
   ]
  },
  {
   "cell_type": "code",
   "execution_count": 85,
   "metadata": {},
   "outputs": [],
   "source": [
    "class Animal():\n",
    "    def __init__(self,name):\n",
    "        print('Animal created')\n",
    "        self.name=name\n",
    "    \n",
    "    def who_am_i(self):\n",
    "        print('I am an animal')\n",
    "        \n",
    "    def eat(self):\n",
    "        print('I am eating')"
   ]
  },
  {
   "cell_type": "code",
   "execution_count": 86,
   "metadata": {},
   "outputs": [],
   "source": [
    "class Dog(Animal):\n",
    "    # python checks __init__ of dog. If not found, it checks __init__ of Animal\n",
    "    # here, we create our own __init__ so __init__ of Animal will not be run\n",
    "    def __init__(self,name):\n",
    "        # therefore, calling __init__ of Animal cuz we need it \n",
    "        # actually we can call any function that will define self.name = name\n",
    "        Animal.__init__(self,name)\n",
    "        print('Dog created')\n",
    "    \n",
    "    # overriding methods of animal class\n",
    "    def who_am_i(self):\n",
    "        # Animal.who_am_i(self)\n",
    "        print('I am a dog')\n",
    "    \n",
    "    # adding new methods to this class\n",
    "    def bark(self):\n",
    "        print(f'Woof!, said {self.name}')\n",
    "\n",
    "class Cat(Animal):\n",
    "    # if we don't override __init__, then Animal's __init__ is called automatically\n",
    "    def speak(self):\n",
    "        print(f'Meow!, said {self.name}')"
   ]
  },
  {
   "cell_type": "code",
   "execution_count": 87,
   "metadata": {},
   "outputs": [
    {
     "name": "stdout",
     "output_type": "stream",
     "text": [
      "Animal created\n"
     ]
    }
   ],
   "source": [
    "myanimal = Animal('annie')"
   ]
  },
  {
   "cell_type": "code",
   "execution_count": 88,
   "metadata": {},
   "outputs": [
    {
     "data": {
      "text/plain": [
       "'annie'"
      ]
     },
     "execution_count": 88,
     "metadata": {},
     "output_type": "execute_result"
    }
   ],
   "source": [
    "myanimal.name"
   ]
  },
  {
   "cell_type": "code",
   "execution_count": 89,
   "metadata": {},
   "outputs": [
    {
     "name": "stdout",
     "output_type": "stream",
     "text": [
      "I am an animal\n"
     ]
    }
   ],
   "source": [
    "myanimal.who_am_i()"
   ]
  },
  {
   "cell_type": "code",
   "execution_count": 90,
   "metadata": {},
   "outputs": [
    {
     "name": "stdout",
     "output_type": "stream",
     "text": [
      "Animal created\n",
      "Dog created\n"
     ]
    }
   ],
   "source": [
    "doggie = Dog('fido')"
   ]
  },
  {
   "cell_type": "code",
   "execution_count": 91,
   "metadata": {},
   "outputs": [
    {
     "name": "stdout",
     "output_type": "stream",
     "text": [
      "I am a dog\n"
     ]
    }
   ],
   "source": [
    "doggie.who_am_i()"
   ]
  },
  {
   "cell_type": "code",
   "execution_count": 92,
   "metadata": {},
   "outputs": [
    {
     "name": "stdout",
     "output_type": "stream",
     "text": [
      "Woof!, said fido\n"
     ]
    }
   ],
   "source": [
    "doggie.bark()"
   ]
  },
  {
   "cell_type": "code",
   "execution_count": 93,
   "metadata": {},
   "outputs": [
    {
     "name": "stdout",
     "output_type": "stream",
     "text": [
      "Animal created\n"
     ]
    }
   ],
   "source": [
    "cattie = Cat('issac')"
   ]
  },
  {
   "cell_type": "code",
   "execution_count": 94,
   "metadata": {
    "scrolled": false
   },
   "outputs": [
    {
     "name": "stdout",
     "output_type": "stream",
     "text": [
      "Meow!, said issac\n"
     ]
    }
   ],
   "source": [
    "cattie.speak()"
   ]
  },
  {
   "cell_type": "code",
   "execution_count": 50,
   "metadata": {},
   "outputs": [
    {
     "name": "stdout",
     "output_type": "stream",
     "text": [
      "I am an animal\n"
     ]
    }
   ],
   "source": [
    "cattie.who_am_i()"
   ]
  },
  {
   "cell_type": "code",
   "execution_count": null,
   "metadata": {},
   "outputs": [],
   "source": []
  }
 ],
 "metadata": {
  "kernelspec": {
   "display_name": "Python 3",
   "language": "python",
   "name": "python3"
  },
  "language_info": {
   "codemirror_mode": {
    "name": "ipython",
    "version": 3
   },
   "file_extension": ".py",
   "mimetype": "text/x-python",
   "name": "python",
   "nbconvert_exporter": "python",
   "pygments_lexer": "ipython3",
   "version": "3.7.1"
  }
 },
 "nbformat": 4,
 "nbformat_minor": 2
}
