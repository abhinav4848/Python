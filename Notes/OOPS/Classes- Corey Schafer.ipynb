{
 "cells": [
  {
   "cell_type": "markdown",
   "metadata": {},
   "source": [
    "https://www.youtube.com/watch?v=ZDa-Z5JzLYM\n",
    "\n",
    "# Basic Class\n",
    "defining instance variables outside class"
   ]
  },
  {
   "cell_type": "code",
   "execution_count": 152,
   "metadata": {},
   "outputs": [
    {
     "name": "stdout",
     "output_type": "stream",
     "text": [
      "Corey\n",
      "Test\n"
     ]
    }
   ],
   "source": [
    "class Employee:\n",
    "    pass\n",
    "\n",
    "emp1 = Employee()\n",
    "emp2 = Employee()\n",
    "\n",
    "emp1.name = \"Corey\"\n",
    "emp2.name = \"Test\"\n",
    "\n",
    "print(emp1.name)\n",
    "print(emp2.name)"
   ]
  },
  {
   "cell_type": "markdown",
   "metadata": {},
   "source": [
    "# Using constructor\n",
    "using `__init__`\n",
    "\n",
    "also, regular methods in a class automatically take the instance as the first argument"
   ]
  },
  {
   "cell_type": "code",
   "execution_count": 153,
   "metadata": {},
   "outputs": [
    {
     "name": "stdout",
     "output_type": "stream",
     "text": [
      "Corey.Schaffer@company.com\n",
      "Test.User@company.com\n"
     ]
    }
   ],
   "source": [
    "class Employee:\n",
    "    \n",
    "    def __init__(self, first, last):\n",
    "        # instance variables\n",
    "        self.first=first\n",
    "        self.last=last\n",
    "        self.email=first + '.' + last + '@company.com'\n",
    "    \n",
    "    def fullname(self):\n",
    "        return '{} {}'.format(self.first, self.last)\n",
    "\n",
    "emp1 = Employee('Corey', 'Schaffer')\n",
    "emp2 = Employee('Test', 'User')\n",
    "\n",
    "print(emp1.email)\n",
    "print(emp2.email)"
   ]
  },
  {
   "cell_type": "code",
   "execution_count": 154,
   "metadata": {},
   "outputs": [
    {
     "name": "stdout",
     "output_type": "stream",
     "text": [
      "Corey Schaffer\n",
      "Test User\n"
     ]
    }
   ],
   "source": [
    "# normal way to call function\n",
    "print(emp1.fullname())\n",
    "\n",
    "# understandable way to call function\n",
    "# that's why function takes one positional argument which we assign to self\n",
    "print(Employee.fullname(emp2))"
   ]
  },
  {
   "cell_type": "markdown",
   "metadata": {},
   "source": [
    "# Class Variables\n",
    "which are shared among all instances of class.\n",
    "\n",
    "**Changes on line 4,5**"
   ]
  },
  {
   "cell_type": "code",
   "execution_count": 155,
   "metadata": {},
   "outputs": [
    {
     "name": "stdout",
     "output_type": "stream",
     "text": [
      "60000\n",
      "62400\n"
     ]
    }
   ],
   "source": [
    "class Employee:\n",
    "    \n",
    "    # class variable\n",
    "    raise_amount = 1.04 # 4% raise\n",
    "    num_of_employees = 0\n",
    "    \n",
    "    def __init__(self, first, last, pay):\n",
    "        # instance variables\n",
    "        self.first = first\n",
    "        self.last = last\n",
    "        self.pay = pay\n",
    "        self.email = first + '.' + last + '@company.com'\n",
    "        \n",
    "        # for each instance of Employee, we increment this.\n",
    "        # there's no reason why this should be an instance variable\n",
    "        Employee.num_of_employees+=1\n",
    "    \n",
    "    def fullname(self):\n",
    "        return '{} {}'.format(self.first, self.last)\n",
    "    \n",
    "    def apply_raise(self):\n",
    "        self.pay = int(self.pay*self.raise_amount)\n",
    "        # self.pay = int(self.pay*Employee.raise_amount)\n",
    "\n",
    "emp1 = Employee('Corey', 'Schaffer', 60000)\n",
    "emp2 = Employee('Test', 'User', 50000)\n",
    "\n",
    "print(emp1.pay)\n",
    "emp1.apply_raise()\n",
    "print(emp1.pay)"
   ]
  },
  {
   "cell_type": "markdown",
   "metadata": {},
   "source": [
    "#### Why should class variables be accessed through instance of the class?\n",
    "\n",
    "When we ask `self.raise_amount`, Python first checks if value exists in the instance, if not, it checks if value exists in class.\n",
    "\n",
    "but if we use `Employee.raise_amount` in the function, it will use the class value always and we won't have ability to customize the attribute for this individual class"
   ]
  },
  {
   "cell_type": "code",
   "execution_count": 156,
   "metadata": {},
   "outputs": [
    {
     "name": "stdout",
     "output_type": "stream",
     "text": [
      "{'first': 'Corey', 'last': 'Schaffer', 'pay': 62400, 'email': 'Corey.Schaffer@company.com'} \n",
      "\n",
      "{'first': 'Test', 'last': 'User', 'pay': 50000, 'email': 'Test.User@company.com'} \n",
      "\n",
      "{'__module__': '__main__', 'raise_amount': 1.04, 'num_of_employees': 2, '__init__': <function Employee.__init__ at 0x0000023FB0BA9510>, 'fullname': <function Employee.fullname at 0x0000023FB0BA9C80>, 'apply_raise': <function Employee.apply_raise at 0x0000023FB0BA9EA0>, '__dict__': <attribute '__dict__' of 'Employee' objects>, '__weakref__': <attribute '__weakref__' of 'Employee' objects>, '__doc__': None}\n"
     ]
    }
   ],
   "source": [
    "# Namespaces of instances and classes\n",
    "print(emp1.__dict__,'\\n')\n",
    "print(emp2.__dict__,'\\n')\n",
    "print(Employee.__dict__)"
   ]
  },
  {
   "cell_type": "code",
   "execution_count": 157,
   "metadata": {},
   "outputs": [
    {
     "name": "stdout",
     "output_type": "stream",
     "text": [
      "{'first': 'Corey', 'last': 'Schaffer', 'pay': 62400, 'email': 'Corey.Schaffer@company.com', 'raise_amount': 1.06} \n",
      "\n",
      "{'first': 'Test', 'last': 'User', 'pay': 50000, 'email': 'Test.User@company.com'} \n",
      "\n",
      "{'__module__': '__main__', 'raise_amount': 1.05, 'num_of_employees': 2, '__init__': <function Employee.__init__ at 0x0000023FB0BA9510>, 'fullname': <function Employee.fullname at 0x0000023FB0BA9C80>, 'apply_raise': <function Employee.apply_raise at 0x0000023FB0BA9EA0>, '__dict__': <attribute '__dict__' of 'Employee' objects>, '__weakref__': <attribute '__weakref__' of 'Employee' objects>, '__doc__': None}\n"
     ]
    }
   ],
   "source": [
    "# Changing raise_amount\n",
    "Employee.raise_amount = 1.05\n",
    "emp1.raise_amount = 1.06 # there's no pre-existing value so it gets created\n",
    "\n",
    "print(emp1.__dict__,'\\n')\n",
    "print(emp2.__dict__,'\\n')\n",
    "print(Employee.__dict__)"
   ]
  },
  {
   "cell_type": "code",
   "execution_count": 158,
   "metadata": {},
   "outputs": [
    {
     "name": "stdout",
     "output_type": "stream",
     "text": [
      "1.06\n",
      "1.05\n",
      "1.05\n"
     ]
    }
   ],
   "source": [
    "print(emp1.raise_amount)\n",
    "print(emp2.raise_amount)\n",
    "print(Employee.raise_amount)"
   ]
  },
  {
   "cell_type": "markdown",
   "metadata": {},
   "source": [
    "#### checking the `num_of_employees`"
   ]
  },
  {
   "cell_type": "code",
   "execution_count": 159,
   "metadata": {},
   "outputs": [
    {
     "name": "stdout",
     "output_type": "stream",
     "text": [
      "2\n",
      "3\n"
     ]
    }
   ],
   "source": [
    "print(Employee.num_of_employees)\n",
    "emp3 = Employee('Abhinav','Kumar',45000)\n",
    "print(Employee.num_of_employees)"
   ]
  },
  {
   "cell_type": "markdown",
   "metadata": {},
   "source": [
    "# classmethods\n",
    "they take class as the first argument instead of instance which we call `cls`\n",
    "\n",
    "**changes on line 21**"
   ]
  },
  {
   "cell_type": "code",
   "execution_count": 160,
   "metadata": {},
   "outputs": [
    {
     "name": "stdout",
     "output_type": "stream",
     "text": [
      "1.04\n",
      "1.04\n",
      "1.04\n"
     ]
    }
   ],
   "source": [
    "class Employee:\n",
    "    \n",
    "    # class variable\n",
    "    raise_amount = 1.04 # 4% raise\n",
    "    num_of_employees = 0\n",
    "    \n",
    "    def __init__(self, first, last, pay):\n",
    "        # instance variables\n",
    "        self.first = first\n",
    "        self.last = last\n",
    "        self.pay = pay\n",
    "        self.email = first + '.' + last + '@company.com'\n",
    "    \n",
    "    def fullname(self):\n",
    "        return '{} {}'.format(self.first, self.last)\n",
    "    \n",
    "    def apply_raise(self):\n",
    "        self.pay = int(self.pay*self.raise_amount)\n",
    "        # self.pay = int(self.pay*Employee.raise_amount)\n",
    "    \n",
    "    @classmethod\n",
    "    def set_raise_amount(cls, amount):\n",
    "        cls.raise_amount = amount\n",
    "\n",
    "emp1 = Employee('Corey', 'Schaffer', 60000)\n",
    "emp2 = Employee('Test', 'User', 50000)\n",
    "\n",
    "print(emp1.raise_amount)\n",
    "print(emp2.raise_amount)\n",
    "print(Employee.raise_amount)"
   ]
  },
  {
   "cell_type": "code",
   "execution_count": 161,
   "metadata": {},
   "outputs": [
    {
     "name": "stdout",
     "output_type": "stream",
     "text": [
      "1.05\n",
      "1.05\n",
      "1.05\n"
     ]
    }
   ],
   "source": [
    "Employee.set_raise_amount(1.05)\n",
    "## same as\n",
    "# Employee.raise_amount = 1.06\n",
    "## same as\n",
    "# emp1.set_raise_amount = 1.07\n",
    "# but never do this as it's confusion inducing\n",
    "\n",
    "print(emp1.raise_amount)\n",
    "print(emp2.raise_amount)\n",
    "print(Employee.raise_amount)"
   ]
  },
  {
   "cell_type": "markdown",
   "metadata": {},
   "source": [
    "### class methods as alternative constructors\n",
    "**changes on line 10...**"
   ]
  },
  {
   "cell_type": "code",
   "execution_count": 162,
   "metadata": {},
   "outputs": [
    {
     "name": "stdout",
     "output_type": "stream",
     "text": [
      "John.Doe@company.com\n"
     ]
    }
   ],
   "source": [
    "class Employee:\n",
    "    \n",
    "    def __init__(self, first, last, pay):\n",
    "        # instance variables\n",
    "        self.first = first\n",
    "        self.last = last\n",
    "        self.pay = pay\n",
    "        self.email = first + '.' + last + '@company.com'\n",
    "    \n",
    "    @classmethod\n",
    "    def from_string(cls, emp_str):\n",
    "        '''\n",
    "        accepts a hyphenated string in the format \"first-last-pay\"\n",
    "        splits them at the hyphens\n",
    "        makes a class object for this very class\n",
    "        returns the object\n",
    "        '''\n",
    "        first, last, pay = emp_str.split('-')\n",
    "        return cls(first,last,pay)\n",
    "\n",
    "emp_str_1 = \"John-Doe-7000\"\n",
    "emp_str_2 = \"Steven-Smith-3000\"\n",
    "\n",
    "new_emp_1 = Employee.from_string(emp_str_1)\n",
    "print(new_emp_1.email)"
   ]
  },
  {
   "cell_type": "markdown",
   "metadata": {},
   "source": [
    "# staticmethods\n",
    "regular methods automatically pass instance as first argument which we call `self`\n",
    "\n",
    "class methods automatically pass class as first argument which we call `cls`\n",
    "\n",
    "static methods don't pass anything automatically"
   ]
  },
  {
   "cell_type": "code",
   "execution_count": 163,
   "metadata": {},
   "outputs": [
    {
     "name": "stdout",
     "output_type": "stream",
     "text": [
      "True\n"
     ]
    }
   ],
   "source": [
    "class Employee:\n",
    "    \n",
    "    def __init__(self, first, last, pay):\n",
    "        # instance variables\n",
    "        self.first = first\n",
    "        self.last = last\n",
    "        self.pay = pay\n",
    "        self.email = first + '.' + last + '@company.com'\n",
    "    \n",
    "    @staticmethod\n",
    "    def is_workday(day):\n",
    "        if day.weekday() == 5 or day.weekday()==6:\n",
    "            return False\n",
    "        return True\n",
    "\n",
    "emp1 = Employee('Corey', 'Schaffer', 60000)\n",
    "emp2 = Employee('Test', 'User', 50000)\n",
    "\n",
    "import datetime\n",
    "\n",
    "my_date = datetime.date(2016,7,11) # monday\n",
    "print(Employee.is_workday(my_date))"
   ]
  },
  {
   "cell_type": "markdown",
   "metadata": {},
   "source": [
    "# Inheritance - Creating Subclasses"
   ]
  },
  {
   "cell_type": "code",
   "execution_count": 164,
   "metadata": {},
   "outputs": [
    {
     "name": "stdout",
     "output_type": "stream",
     "text": [
      "Corey.Schaffer@company.com\n",
      "Test.User@company.com\n"
     ]
    }
   ],
   "source": [
    "class Employee:\n",
    "    \n",
    "    # class variable\n",
    "    raise_amount = 1.04 # 4% raise\n",
    "    \n",
    "    def __init__(self, first, last, pay):\n",
    "        # instance variables\n",
    "        self.first = first\n",
    "        self.last = last\n",
    "        self.pay = pay\n",
    "        self.email = first + '.' + last + '@company.com'\n",
    "    \n",
    "    def fullname(self):\n",
    "        return '{} {}'.format(self.first, self.last)\n",
    "    \n",
    "    def apply_raise(self):\n",
    "        self.pay = int(self.pay*self.raise_amount)\n",
    "\n",
    "class Developer(Employee):\n",
    "    pass\n",
    "\n",
    "dev1 = Developer('Corey', 'Schaffer', 60000)\n",
    "dev2 = Employee('Test', 'User', 50000)\n",
    "\n",
    "print(dev1.email)\n",
    "print(dev2.email)"
   ]
  },
  {
   "cell_type": "markdown",
   "metadata": {},
   "source": [
    "`__init__` was not found in Developer class so it went up the chain of inheritance, called **Method resolution order** which can be seen by `help(Developer)`"
   ]
  },
  {
   "cell_type": "code",
   "execution_count": 165,
   "metadata": {
    "scrolled": false
   },
   "outputs": [
    {
     "name": "stdout",
     "output_type": "stream",
     "text": [
      "Help on class Developer in module __main__:\n",
      "\n",
      "class Developer(Employee)\n",
      " |  Developer(first, last, pay)\n",
      " |  \n",
      " |  Method resolution order:\n",
      " |      Developer\n",
      " |      Employee\n",
      " |      builtins.object\n",
      " |  \n",
      " |  Methods inherited from Employee:\n",
      " |  \n",
      " |  __init__(self, first, last, pay)\n",
      " |      Initialize self.  See help(type(self)) for accurate signature.\n",
      " |  \n",
      " |  apply_raise(self)\n",
      " |  \n",
      " |  fullname(self)\n",
      " |  \n",
      " |  ----------------------------------------------------------------------\n",
      " |  Data descriptors inherited from Employee:\n",
      " |  \n",
      " |  __dict__\n",
      " |      dictionary for instance variables (if defined)\n",
      " |  \n",
      " |  __weakref__\n",
      " |      list of weak references to the object (if defined)\n",
      " |  \n",
      " |  ----------------------------------------------------------------------\n",
      " |  Data and other attributes inherited from Employee:\n",
      " |  \n",
      " |  raise_amount = 1.04\n",
      "\n"
     ]
    }
   ],
   "source": [
    "help(Developer)"
   ]
  },
  {
   "cell_type": "code",
   "execution_count": 166,
   "metadata": {},
   "outputs": [
    {
     "name": "stdout",
     "output_type": "stream",
     "text": [
      "1.04\n"
     ]
    }
   ],
   "source": [
    "# Using raise_amount supplied by base class\n",
    "print(dev1.raise_amount)"
   ]
  },
  {
   "cell_type": "code",
   "execution_count": 167,
   "metadata": {},
   "outputs": [
    {
     "name": "stdout",
     "output_type": "stream",
     "text": [
      "1.1\n",
      "1.04\n"
     ]
    }
   ],
   "source": [
    "class Employee:\n",
    "    \n",
    "    # class variable\n",
    "    raise_amount = 1.04 # 4% raise\n",
    "    \n",
    "    def __init__(self, first, last, pay):\n",
    "        # instance variables\n",
    "        self.first = first\n",
    "        self.last = last\n",
    "        self.pay = pay\n",
    "        self.email = first + '.' + last + '@company.com'\n",
    "    \n",
    "    def fullname(self):\n",
    "        return '{} {}'.format(self.first, self.last)\n",
    "    \n",
    "    def apply_raise(self):\n",
    "        self.pay = int(self.pay*self.raise_amount)\n",
    "\n",
    "class Developer(Employee):\n",
    "    raise_amount = 1.10\n",
    "\n",
    "dev1 = Developer('Corey', 'Schaffer', 60000)\n",
    "dev2 = Employee('Test', 'User', 50000)\n",
    "\n",
    "# Using raise_amount supplied by subclass\n",
    "print(dev1.raise_amount)\n",
    "print(dev2.raise_amount)"
   ]
  },
  {
   "cell_type": "markdown",
   "metadata": {},
   "source": [
    "## creating more init arguments for Developer\n",
    "using `super()`"
   ]
  },
  {
   "cell_type": "code",
   "execution_count": 168,
   "metadata": {},
   "outputs": [
    {
     "name": "stdout",
     "output_type": "stream",
     "text": [
      "Corey.Schaffer@company.com\n",
      "Python\n"
     ]
    }
   ],
   "source": [
    "class Employee:\n",
    "    \n",
    "    # class variable\n",
    "    raise_amount = 1.04 # 4% raise\n",
    "    \n",
    "    def __init__(self, first, last, pay):\n",
    "        # instance variables\n",
    "        self.first = first\n",
    "        self.last = last\n",
    "        self.pay = pay\n",
    "        self.email = first + '.' + last + '@company.com'\n",
    "    \n",
    "    def fullname(self):\n",
    "        return '{} {}'.format(self.first, self.last)\n",
    "    \n",
    "    def apply_raise(self):\n",
    "        self.pay = int(self.pay*self.raise_amount)\n",
    "\n",
    "class Developer(Employee):\n",
    "    raise_amount = 1.10\n",
    "    \n",
    "    def __init__(self, first, last, pay, prog_lang):\n",
    "        super().__init__(first,last,pay)\n",
    "        # Employee.__init__(self,first,last,pay)\n",
    "        # less maintainable\n",
    "        self.prog_lang = prog_lang\n",
    "    \n",
    "dev1 = Developer('Corey', 'Schaffer', 60000, 'Python')\n",
    "dev2 = Employee('Test', 'User', 50000)\n",
    "\n",
    "print(dev1.email)\n",
    "print(dev1.prog_lang)"
   ]
  },
  {
   "cell_type": "markdown",
   "metadata": {},
   "source": [
    "#### creating manager class just like developer"
   ]
  },
  {
   "cell_type": "code",
   "execution_count": 169,
   "metadata": {},
   "outputs": [],
   "source": [
    "class Manager(Employee):\n",
    "    '''\n",
    "    Supervises a bunch of employees\n",
    "    '''\n",
    "    def __init__(self, first, last, pay, employees=None):\n",
    "        '''\n",
    "        don't pass a mutable datatype as employee\n",
    "        '''\n",
    "        super().__init__(first,last,pay)\n",
    "        if employees is None:\n",
    "            self.employees = []\n",
    "        else:\n",
    "            self.employees = employees\n",
    "            \n",
    "    def add_emp(self,emp):\n",
    "        if emp not in self.employees:\n",
    "            self.employees.append(emp)\n",
    "    \n",
    "    def remove_emp(self,emp):\n",
    "        if emp in self.employees:\n",
    "            self.employees.remove(emp)\n",
    "    \n",
    "    def print_emps(self):\n",
    "        for emp in self.employees:\n",
    "            print('-->',emp.fullname())\n",
    "\n",
    "mgr1 = Manager('Sue','Smith',100000,[dev1])"
   ]
  },
  {
   "cell_type": "code",
   "execution_count": 170,
   "metadata": {},
   "outputs": [
    {
     "name": "stdout",
     "output_type": "stream",
     "text": [
      "Sue.Smith@company.com\n",
      "--> Corey Schaffer\n"
     ]
    }
   ],
   "source": [
    "print(mgr1.email)\n",
    "mgr1.print_emps()"
   ]
  },
  {
   "cell_type": "code",
   "execution_count": 171,
   "metadata": {},
   "outputs": [
    {
     "name": "stdout",
     "output_type": "stream",
     "text": [
      "--> Corey Schaffer\n",
      "--> Test User\n"
     ]
    }
   ],
   "source": [
    "mgr1.add_emp(dev2)\n",
    "mgr1.print_emps()"
   ]
  },
  {
   "cell_type": "code",
   "execution_count": 172,
   "metadata": {},
   "outputs": [
    {
     "name": "stdout",
     "output_type": "stream",
     "text": [
      "--> Corey Schaffer\n"
     ]
    }
   ],
   "source": [
    "mgr1.remove_emp(dev2)\n",
    "mgr1.print_emps()"
   ]
  },
  {
   "cell_type": "markdown",
   "metadata": {},
   "source": [
    "## `isinstance()` and `issubclass()`"
   ]
  },
  {
   "cell_type": "code",
   "execution_count": 173,
   "metadata": {},
   "outputs": [
    {
     "name": "stdout",
     "output_type": "stream",
     "text": [
      "True\n",
      "True\n",
      "False\n"
     ]
    }
   ],
   "source": [
    "print(isinstance(mgr1,Manager))\n",
    "print(isinstance(mgr1,Employee))\n",
    "print(isinstance(mgr1,Developer))"
   ]
  },
  {
   "cell_type": "code",
   "execution_count": 174,
   "metadata": {},
   "outputs": [
    {
     "name": "stdout",
     "output_type": "stream",
     "text": [
      "True\n",
      "True\n",
      "False\n"
     ]
    }
   ],
   "source": [
    "print(issubclass(Manager,Employee))\n",
    "print(issubclass(Developer,Employee))\n",
    "print(issubclass(Manager,Developer))"
   ]
  },
  {
   "cell_type": "markdown",
   "metadata": {},
   "source": [
    "# Special (Magic/Dunder) Methods\n",
    "double underscores aka dunder.\n",
    "\n",
    "thus, dunder init means `__init__`\n",
    "\n",
    "`__repr__` is for developers and provides a fallback output for a missing `__str__`. It should print out a way to create an instance of this class if pasted right into python.\n",
    "\n",
    "`__str__` prints out what we want object to print when we call `print()`\n",
    "\n",
    "without either of these, print will output memory allocation object like `<__main__.Developer object at 0x0000023FB0F4B978>`"
   ]
  },
  {
   "cell_type": "code",
   "execution_count": 175,
   "metadata": {},
   "outputs": [
    {
     "name": "stdout",
     "output_type": "stream",
     "text": [
      "Corey Schaffer: Corey.Schaffer@company.com\n"
     ]
    }
   ],
   "source": [
    "class Employee:\n",
    "    \n",
    "    # class variable\n",
    "    raise_amount = 1.04 # 4% raise\n",
    "    \n",
    "    def __init__(self, first, last, pay):\n",
    "        # instance variables\n",
    "        self.first = first\n",
    "        self.last = last\n",
    "        self.pay = pay\n",
    "        self.email = first + '.' + last + '@company.com'\n",
    "    \n",
    "    def fullname(self):\n",
    "        return '{} {}'.format(self.first, self.last)\n",
    "    \n",
    "    def apply_raise(self):\n",
    "        self.pay = int(self.pay*self.raise_amount)\n",
    "        \n",
    "    def __repr__(self):\n",
    "        return f\"Employee('{self.first}', '{self.last}', {self.pay})\"\n",
    "    \n",
    "    def __str__(self):\n",
    "        return f'{self.fullname()}: {self.email}'\n",
    "    \n",
    "    def __add__(self,other):\n",
    "        # assume both are of same class\n",
    "        return self.pay + other.pay\n",
    "    \n",
    "    def __len__(self):\n",
    "        return len(self.fullname())\n",
    "\n",
    "class Developer(Employee):\n",
    "    raise_amount = 1.10\n",
    "    \n",
    "    def __init__(self, first, last, pay, prog_lang):\n",
    "        super().__init__(first,last,pay)\n",
    "        self.prog_lang = prog_lang\n",
    "    \n",
    "dev1 = Developer('Corey', 'Schaffer', 60000, 'Python')\n",
    "dev2 = Developer('Test', 'User', 50000, 'Java')\n",
    "\n",
    "print(dev1) # checks for __str__"
   ]
  },
  {
   "cell_type": "code",
   "execution_count": 176,
   "metadata": {},
   "outputs": [
    {
     "name": "stdout",
     "output_type": "stream",
     "text": [
      "Corey Schaffer: Corey.Schaffer@company.com\n",
      "Employee('Corey', 'Schaffer', 60000)\n"
     ]
    }
   ],
   "source": [
    "print(str(dev1))\n",
    "print(repr(dev1))"
   ]
  },
  {
   "cell_type": "code",
   "execution_count": 177,
   "metadata": {},
   "outputs": [
    {
     "name": "stdout",
     "output_type": "stream",
     "text": [
      "Employee('Corey', 'Schaffer', 60000)\n",
      "Corey Schaffer: Corey.Schaffer@company.com\n"
     ]
    }
   ],
   "source": [
    "print(dev1.__repr__())\n",
    "print(dev1.__str__())"
   ]
  },
  {
   "cell_type": "code",
   "execution_count": 178,
   "metadata": {},
   "outputs": [
    {
     "name": "stdout",
     "output_type": "stream",
     "text": [
      "110000\n"
     ]
    }
   ],
   "source": [
    "print(dev1+dev2)"
   ]
  },
  {
   "cell_type": "code",
   "execution_count": 179,
   "metadata": {},
   "outputs": [
    {
     "name": "stdout",
     "output_type": "stream",
     "text": [
      "14\n"
     ]
    }
   ],
   "source": [
    "print(len(dev1))"
   ]
  },
  {
   "cell_type": "markdown",
   "metadata": {},
   "source": [
    "#  Property Decorators - Getters, Setters, and Deleters"
   ]
  },
  {
   "cell_type": "code",
   "execution_count": 180,
   "metadata": {},
   "outputs": [
    {
     "name": "stdout",
     "output_type": "stream",
     "text": [
      "Corey.Schaffer@company.com\n"
     ]
    }
   ],
   "source": [
    "class Employee:\n",
    "    \n",
    "    def __init__(self, first, last):\n",
    "        self.first = first\n",
    "        self.last = last\n",
    "        self.email = first + '.' + last + '@company.com'\n",
    "    \n",
    "    def fullname(self):\n",
    "        return '{} {}'.format(self.first, self.last)\n",
    "    \n",
    "emp1 = Employee('Corey', 'Schaffer')\n",
    "\n",
    "print(emp1.email)"
   ]
  },
  {
   "cell_type": "code",
   "execution_count": 181,
   "metadata": {},
   "outputs": [
    {
     "name": "stdout",
     "output_type": "stream",
     "text": [
      "Corey.Schaffer@company.com\n",
      "Jim Schaffer\n"
     ]
    }
   ],
   "source": [
    "emp1.first='Jim'\n",
    "print(emp1.email) # email did not change cuz it was fixed at __init__\n",
    "print(emp1.fullname()) # fullname changed cuz it finds variable everytime"
   ]
  },
  {
   "cell_type": "markdown",
   "metadata": {},
   "source": [
    "## Getter\n",
    "so to make make `email` update itself everytime by latest attribute values but without breaking backwards compatibility, we use `@property` decorator.\n",
    "\n",
    "It allows us to access a method like an attribute"
   ]
  },
  {
   "cell_type": "code",
   "execution_count": 182,
   "metadata": {},
   "outputs": [
    {
     "name": "stdout",
     "output_type": "stream",
     "text": [
      "Corey.Schaffer@company.com\n"
     ]
    }
   ],
   "source": [
    "class Employee:\n",
    "    \n",
    "    def __init__(self, first, last):\n",
    "        self.first = first\n",
    "        self.last = last\n",
    "    \n",
    "    @property\n",
    "    def email(self):\n",
    "        return f'{self.first}.{self.last}@company.com'\n",
    "    \n",
    "    def fullname(self):\n",
    "        return '{} {}'.format(self.first, self.last)\n",
    "    \n",
    "emp1 = Employee('Corey', 'Schaffer')\n",
    "\n",
    "print(emp1.email)"
   ]
  },
  {
   "cell_type": "code",
   "execution_count": 183,
   "metadata": {},
   "outputs": [
    {
     "name": "stdout",
     "output_type": "stream",
     "text": [
      "Jim.Schaffer@company.com\n",
      "Jim Schaffer\n"
     ]
    }
   ],
   "source": [
    "emp1.first='Jim'\n",
    "print(emp1.email)\n",
    "print(emp1.fullname())"
   ]
  },
  {
   "cell_type": "markdown",
   "metadata": {},
   "source": [
    "## Setters\n",
    "we can't set attribute `fullname` cuz it's being used by method fullname().\n",
    "\n",
    "so make it an attribute by decorating with `@property`, then create a function with same name but put `@functionname(dot)setter` decorator"
   ]
  },
  {
   "cell_type": "code",
   "execution_count": 184,
   "metadata": {},
   "outputs": [
    {
     "name": "stdout",
     "output_type": "stream",
     "text": [
      "Corey.Schaffer@company.com\n",
      "Abhinav.Kumar@company.com\n",
      "Delete Name!\n",
      "None.None@company.com\n"
     ]
    }
   ],
   "source": [
    "class Employee:\n",
    "\n",
    "    def __init__(self, first, last):\n",
    "        self.first = first\n",
    "        self.last = last\n",
    "    \n",
    "    @property\n",
    "    def email(self):\n",
    "        return f'{self.first}.{self.last}@company.com'\n",
    "    \n",
    "    @property\n",
    "    def fullname(self):\n",
    "        return '{} {}'.format(self.first, self.last)\n",
    "    \n",
    "    @fullname.setter\n",
    "    def fullname(self, name):\n",
    "        first, last = name.split(' ')\n",
    "        self.first = first\n",
    "        self.last = last\n",
    "        \n",
    "    @fullname.deleter\n",
    "    def fullname(self):\n",
    "        print(\"Delete Name!\")\n",
    "        self.first = None\n",
    "        self.last = None\n",
    "        \n",
    "emp1 = Employee('Corey', 'Schaffer')\n",
    "print(emp1.email)\n",
    "\n",
    "emp1.fullname = \"Abhinav Kumar\"\n",
    "print(emp1.email)\n",
    "\n",
    "del emp1.fullname\n",
    "print(emp1.email)"
   ]
  },
  {
   "cell_type": "code",
   "execution_count": null,
   "metadata": {},
   "outputs": [],
   "source": []
  }
 ],
 "metadata": {
  "kernelspec": {
   "display_name": "Python 3",
   "language": "python",
   "name": "python3"
  },
  "language_info": {
   "codemirror_mode": {
    "name": "ipython",
    "version": 3
   },
   "file_extension": ".py",
   "mimetype": "text/x-python",
   "name": "python",
   "nbconvert_exporter": "python",
   "pygments_lexer": "ipython3",
   "version": "3.7.1"
  }
 },
 "nbformat": 4,
 "nbformat_minor": 2
}
