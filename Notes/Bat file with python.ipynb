{
 "cells": [
  {
   "cell_type": "markdown",
   "metadata": {},
   "source": [
    "# Create The python file and test it"
   ]
  },
  {
   "cell_type": "code",
   "execution_count": 5,
   "metadata": {},
   "outputs": [
    {
     "name": "stdout",
     "output_type": "stream",
     "text": [
      "Overwriting cmdargs.py\n"
     ]
    }
   ],
   "source": [
    "%%writefile cmdargs.py\n",
    "#! python3\n",
    "import sys\n",
    "print('Hello python script')\n",
    "print(sys.argv)\n",
    "print(sys.argv[1:])"
   ]
  },
  {
   "cell_type": "code",
   "execution_count": 6,
   "metadata": {
    "scrolled": true
   },
   "outputs": [
    {
     "name": "stdout",
     "output_type": "stream",
     "text": [
      "Hello python script\n",
      "['cmdargs.py', 'testing']\n",
      "['testing']\n"
     ]
    }
   ],
   "source": [
    "! python cmdargs.py testing"
   ]
  },
  {
   "cell_type": "markdown",
   "metadata": {},
   "source": [
    "# Create the `.bat` file and check the path created"
   ]
  },
  {
   "cell_type": "code",
   "execution_count": 7,
   "metadata": {},
   "outputs": [
    {
     "name": "stdout",
     "output_type": "stream",
     "text": [
      "Creating file run_cmdargs.bat\n"
     ]
    }
   ],
   "source": [
    "import os\n",
    "\n",
    "filename=\"run_cmdargs.bat\"\n",
    "\n",
    "f=open(filename,'w')\n",
    "\n",
    "f.write(\"echo This program runs from anywhere and is echoed by the bat file. && echo Next line will be by the python script. (Video 22 of Automate the boring stuff) && echo =====================================\\n\")\n",
    "f.write(\"@python {filepath} %*\\n\".format(filepath=os.path.join(os.getcwd(), 'cmdargs.py')))\n",
    "f.write(\"@pause\")\n",
    "\n",
    "print('Creating file',filename)\n",
    "f.close()"
   ]
  },
  {
   "cell_type": "code",
   "execution_count": 8,
   "metadata": {
    "scrolled": true
   },
   "outputs": [
    {
     "data": {
      "text/plain": [
       "'C:\\\\Users\\\\abhin\\\\Desktop\\\\GitHub\\\\Python\\\\Notes\\\\cmdargs.py'"
      ]
     },
     "execution_count": 8,
     "metadata": {},
     "output_type": "execute_result"
    }
   ],
   "source": [
    "os.path.join(os.getcwd(), 'cmdargs.py')"
   ]
  },
  {
   "cell_type": "markdown",
   "metadata": {},
   "source": [
    "# Running\n",
    "Use the Run Command (Windows+R) and enter the path to the `.bat` file (full path if the location is not in system paths, else just the file name) and followed by some word."
   ]
  }
 ],
 "metadata": {
  "kernelspec": {
   "display_name": "Python 3",
   "language": "python",
   "name": "python3"
  },
  "language_info": {
   "codemirror_mode": {
    "name": "ipython",
    "version": 3
   },
   "file_extension": ".py",
   "mimetype": "text/x-python",
   "name": "python",
   "nbconvert_exporter": "python",
   "pygments_lexer": "ipython3",
   "version": "3.7.1"
  }
 },
 "nbformat": 4,
 "nbformat_minor": 2
}
