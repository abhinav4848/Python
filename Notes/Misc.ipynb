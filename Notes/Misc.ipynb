{
 "cells": [
  {
   "cell_type": "markdown",
   "metadata": {},
   "source": [
    "# Questions Pending\n",
    "positional-only parameter.\n",
    "\n",
    "mutability"
   ]
  },
  {
   "cell_type": "markdown",
   "metadata": {},
   "source": [
    "# Float Errors"
   ]
  },
  {
   "cell_type": "code",
   "execution_count": 1,
   "metadata": {},
   "outputs": [
    {
     "data": {
      "text/plain": [
       "False"
      ]
     },
     "execution_count": 1,
     "metadata": {},
     "output_type": "execute_result"
    }
   ],
   "source": [
    "float(.1)==float(.3-.2)"
   ]
  },
  {
   "cell_type": "markdown",
   "metadata": {},
   "source": [
    "# Scope of function"
   ]
  },
  {
   "cell_type": "code",
   "execution_count": 2,
   "metadata": {},
   "outputs": [
    {
     "data": {
      "text/plain": [
       "500"
      ]
     },
     "execution_count": 2,
     "metadata": {},
     "output_type": "execute_result"
    }
   ],
   "source": [
    "y=50\n",
    "def multiply(x):\n",
    "    return y*x\n",
    "multiply(10)"
   ]
  },
  {
   "cell_type": "code",
   "execution_count": 3,
   "metadata": {},
   "outputs": [
    {
     "data": {
      "text/plain": [
       "50"
      ]
     },
     "execution_count": 3,
     "metadata": {},
     "output_type": "execute_result"
    }
   ],
   "source": [
    "y"
   ]
  },
  {
   "cell_type": "markdown",
   "metadata": {},
   "source": [
    "# String Multiply"
   ]
  },
  {
   "cell_type": "code",
   "execution_count": 7,
   "metadata": {},
   "outputs": [
    {
     "data": {
      "text/plain": [
       "[3, 4, 5, 6, 3, 4, 5, 6, 3, 4, 5, 6]"
      ]
     },
     "execution_count": 7,
     "metadata": {},
     "output_type": "execute_result"
    }
   ],
   "source": [
    "lister=[3,4,5,6]\n",
    "lister*3"
   ]
  },
  {
   "cell_type": "markdown",
   "metadata": {},
   "source": [
    "# Zen of Python"
   ]
  },
  {
   "cell_type": "code",
   "execution_count": 4,
   "metadata": {},
   "outputs": [
    {
     "name": "stdout",
     "output_type": "stream",
     "text": [
      "The Zen of Python, by Tim Peters\n",
      "\n",
      "Beautiful is better than ugly.\n",
      "Explicit is better than implicit.\n",
      "Simple is better than complex.\n",
      "Complex is better than complicated.\n",
      "Flat is better than nested.\n",
      "Sparse is better than dense.\n",
      "Readability counts.\n",
      "Special cases aren't special enough to break the rules.\n",
      "Although practicality beats purity.\n",
      "Errors should never pass silently.\n",
      "Unless explicitly silenced.\n",
      "In the face of ambiguity, refuse the temptation to guess.\n",
      "There should be one-- and preferably only one --obvious way to do it.\n",
      "Although that way may not be obvious at first unless you're Dutch.\n",
      "Now is better than never.\n",
      "Although never is often better than *right* now.\n",
      "If the implementation is hard to explain, it's a bad idea.\n",
      "If the implementation is easy to explain, it may be a good idea.\n",
      "Namespaces are one honking great idea -- let's do more of those!\n"
     ]
    }
   ],
   "source": [
    "import this"
   ]
  },
  {
   "cell_type": "markdown",
   "metadata": {},
   "source": [
    "# Some advanced stuff"
   ]
  },
  {
   "cell_type": "code",
   "execution_count": 5,
   "metadata": {},
   "outputs": [
    {
     "data": {
      "text/plain": [
       "('B', '5', '\\x00', '^')"
      ]
     },
     "execution_count": 5,
     "metadata": {},
     "output_type": "execute_result"
    }
   ],
   "source": [
    "*map(chr, [66, 53, 0, 94]),"
   ]
  },
  {
   "cell_type": "code",
   "execution_count": 6,
   "metadata": {},
   "outputs": [
    {
     "name": "stdout",
     "output_type": "stream",
     "text": [
      "[(0, '\\x00'), (1, '\\x01'), (2, '\\x02'), (3, '\\x03'), (4, '\\x04'), (5, '\\x05'), (6, '\\x06'), (7, '\\x07'), (8, '\\x08'), (9, '\\t'), (10, '\\n'), (11, '\\x0b'), (12, '\\x0c'), (13, '\\r'), (14, '\\x0e'), (15, '\\x0f'), (16, '\\x10'), (17, '\\x11'), (18, '\\x12'), (19, '\\x13'), (20, '\\x14'), (21, '\\x15'), (22, '\\x16'), (23, '\\x17'), (24, '\\x18'), (25, '\\x19'), (26, '\\x1a'), (27, '\\x1b'), (28, '\\x1c'), (29, '\\x1d')]\n"
     ]
    }
   ],
   "source": [
    "Big=[(i,chr(i)) for i in range(30)]\n",
    "print(Big)"
   ]
  },
  {
   "cell_type": "markdown",
   "metadata": {},
   "source": [
    "# Everything in python is an object"
   ]
  },
  {
   "cell_type": "code",
   "execution_count": 3,
   "metadata": {},
   "outputs": [
    {
     "name": "stdout",
     "output_type": "stream",
     "text": [
      "3\n",
      "3\n",
      "ab\n",
      "ab\n",
      "4\n",
      "4\n"
     ]
    }
   ],
   "source": [
    "print(1+2)\n",
    "# is same as\n",
    "print(int.__add__(1,2))\n",
    "\n",
    "print('a'+'b')\n",
    "# is same as\n",
    "print(str.__add__('a','b'))\n",
    "\n",
    "print(len('test'))\n",
    "# is same as \n",
    "print(str.__len__('test'))"
   ]
  },
  {
   "cell_type": "markdown",
   "metadata": {},
   "source": [
    "# Type Hints\n",
    "Type checking:\n",
    "https://medium.com/@ageitgey/learn-how-to-use-static-type-checking-in-python-3-6-in-10-minutes-12c86d72677b\n",
    "\n",
    "```python\n",
    "from typing import Dict, List\n",
    "```\n",
    "\n",
    "[Typing documentation](https://docs.python.org/3.8/library/typing.html)"
   ]
  },
  {
   "cell_type": "markdown",
   "metadata": {},
   "source": [
    "# Built-in Functions\n",
    "https://docs.python.org/3/library/functions.html\n",
    "\n",
    "| -                                                                                | -                                                                   | -                                                                               | Built-in Functions                                                             | -                                                                       | -                                                                              | -                                                                           |\n",
    "|----------------------------------------------------------------------------------|---------------------------------------------------------------------|---------------------------------------------------------------------------------|--------------------------------------------------------------------------------|-------------------------------------------------------------------------|--------------------------------------------------------------------------------|-----------------------------------------------------------------------------|\n",
    "|           [abs()](https://docs.python.org/3/library/functions.html#abs)          | [any()](https://docs.python.org/3/library/functions.html#any)       | [bin()](https://docs.python.org/3/library/functions.html#bin)                   | [breakpoint()](https://docs.python.org/3/library/functions.html#breakpoint)    | [bytes()](https://docs.python.org/3/library/functions.html#func-bytes)  | [chr()](https://docs.python.org/3/library/functions.html#chr)                  | [compile()](https://docs.python.org/3/library/functions.html#compile)       |\n",
    "|       [delattr()](https://docs.python.org/3/library/functions.html#delattr)      | [dir()](https://docs.python.org/3/library/functions.html#dir)       | [enumerate()](https://docs.python.org/3/library/functions.html#enumerate)       | [exec()](https://docs.python.org/3/library/functions.html#exec)                | [float()](https://docs.python.org/3/library/functions.html#float)       | [frozenset()](https://docs.python.org/3/library/functions.html#func-frozenset) | [globals()](https://docs.python.org/3/library/functions.html#globals)       |\n",
    "|          [hash()](https://docs.python.org/3/library/functions.html#hash)         | [hex()](https://docs.python.org/3/library/functions.html#hex)       | [input()](https://docs.python.org/3/library/functions.html#input)               | [isinstance()](https://docs.python.org/3/library/functions.html#isinstance)    | [iter()](https://docs.python.org/3/library/functions.html#iter)         | [list()](https://docs.python.org/3/library/functions.html#func-list)           | [map()](https://docs.python.org/3/library/functions.html#map)               |\n",
    "| [memoryview()](https://docs.python.org/3/library/functions.html#func-memoryview) | [next()](https://docs.python.org/3/library/functions.html#next)     | [oct()](https://docs.python.org/3/library/functions.html#oct)                   | [ord()](https://docs.python.org/3/library/functions.html#ord)                  | [print()](https://docs.python.org/3/library/functions.html#print)       | [range()](https://docs.python.org/3/library/functions.html#func-range)         | [reversed()](https://docs.python.org/3/library/functions.html#reversed)     |\n",
    "|        [set()](https://docs.python.org/3/library/functions.html#func-set)        | [slice()](https://docs.python.org/3/library/functions.html#slice)   | [staticmethod()](https://docs.python.org/3/library/functions.html#staticmethod) | [sum()](https://docs.python.org/3/library/functions.html#sum)                  | [tuple()](https://docs.python.org/3/library/functions.html#func-tuple)  | [vars()](https://docs.python.org/3/library/functions.html#vars)                | [\\_\\_import\\_\\_()](https://docs.python.org/3/library/functions.html#__import__) |\n",
    "|           [all()](https://docs.python.org/3/library/functions.html#all)          | [ascii()](https://docs.python.org/3/library/functions.html#ascii)   | [bool()](https://docs.python.org/3/library/functions.html#bool)                 | [bytearray()](https://docs.python.org/3/library/functions.html#func-bytearray) | [callable()](https://docs.python.org/3/library/functions.html#callable) | [classmethod()](https://docs.python.org/3/library/functions.html#classmethod)  | [complex()](https://docs.python.org/3/library/functions.html#complex)       |\n",
    "|       [dict()](https://docs.python.org/3/library/functions.html#func-dict)       | [divmod()](https://docs.python.org/3/library/functions.html#divmod) | [eval()](https://docs.python.org/3/library/functions.html#eval)                 | [filter()](https://docs.python.org/3/library/functions.html#filter)            | [format()](https://docs.python.org/3/library/functions.html#format)     | [getattr()](https://docs.python.org/3/library/functions.html#getattr)          | [hasattr()](https://docs.python.org/3/library/functions.html#hasattr)       |\n",
    "|          [help()](https://docs.python.org/3/library/functions.html#help)         | [id()](https://docs.python.org/3/library/functions.html#id)         | [int()](https://docs.python.org/3/library/functions.html#int)                   | [issubclass()](https://docs.python.org/3/library/functions.html#issubclass)    | [len()](https://docs.python.org/3/library/functions.html#len)           | [locals()](https://docs.python.org/3/library/functions.html#locals)            | [max()](https://docs.python.org/3/library/functions.html#max)               |\n",
    "|           [min()](https://docs.python.org/3/library/functions.html#min)          | [object()](https://docs.python.org/3/library/functions.html#object) | [open()](https://docs.python.org/3/library/functions.html#open)                 | [pow()](https://docs.python.org/3/library/functions.html#pow)                  | [property()](https://docs.python.org/3/library/functions.html#property) | [repr()](https://docs.python.org/3/library/functions.html#repr)                | [round()](https://docs.python.org/3/library/functions.html#round)           |\n",
    "|       [setattr()](https://docs.python.org/3/library/functions.html#setattr)      | [sorted()](https://docs.python.org/3/library/functions.html#sorted) | [str()](https://docs.python.org/3/library/functions.html#func-str)              | [super()](https://docs.python.org/3/library/functions.html#super)              | [type()](https://docs.python.org/3/library/functions.html#type)         | [zip()](https://docs.python.org/3/library/functions.html#zip)                  |                                                                             |"
   ]
  },
  {
   "cell_type": "markdown",
   "metadata": {},
   "source": [
    "# Underscores\n",
    "[Read Original](https://hackernoon.com/understanding-the-underscore-of-python-309d1a029edc)\n",
    "\n",
    "[WebArchive](https://web.archive.org/web/20190508150557/https://hackernoon.com/understanding-the-underscore-of-python-309d1a029edc?gi=d2db1559d55c)"
   ]
  },
  {
   "cell_type": "markdown",
   "metadata": {},
   "source": [
    "# Python Containers\n",
    "https://stackoverflow.com/a/11576019/2365231\n",
    "### Built in containers\n",
    "\n",
    "### collections module provides more containers"
   ]
  },
  {
   "cell_type": "markdown",
   "metadata": {},
   "source": [
    "# What exactly are iterator, iterable, and iteration?\n",
    "https://stackoverflow.com/q/9884132/2365231\n",
    "\n",
    "**Iteration** is a general term for taking each item of something, one after another. Any time you use a loop, explicit or implicit, to go over a group of items, that is iteration.\n",
    "\n",
    "In Python, iterable and iterator have specific meanings.\n",
    "\n",
    "An **iterable** is an object that has an `__iter__` method which returns an iterator, or which defines a `__getitem__` method that can take sequential indexes starting from zero (and raises an IndexError when the indexes are no longer valid). So an iterable is an object that you can get an iterator from. It is anything you can call with `iter()` that will return an `ITERATOR:  iter(obj)`\n",
    "\n",
    "An **iterator** is an object with a `next` (Python 2) or `__next__` (Python 3) method. It remembers where it is during iteration."
   ]
  },
  {
   "cell_type": "markdown",
   "metadata": {},
   "source": [
    "# Duck Typing and Asking Forgiveness, Not Permission (EAFP)\n",
    "[Corey Schaffer](https://www.youtube.com/watch?v=x3v9zMX1s4s)\n",
    "\n",
    "It is a term used in dynamic languages.\n",
    "\n",
    "The idea is that you don't need a type in order to invoke an existing method on an object - if a method is defined on it, you can invoke it. Eg: We don't need to check that an object is of `class Duck` before we call its `walk()` or `quack()` methods if they are available. So, an object of `class Person` will also do as long as these methods were defined for that class.\n",
    "\n",
    "The name comes from the phrase \"If it looks like a duck and quacks like a duck, it's a duck\".\n",
    "\n",
    "**Dynamic language**: At runtime, it executes many common programming behaviours that static programming languages would perform during compilation. "
   ]
  },
  {
   "cell_type": "code",
   "execution_count": 30,
   "metadata": {},
   "outputs": [
    {
     "name": "stdout",
     "output_type": "stream",
     "text": [
      "['ArithmeticError', 'AssertionError', 'AttributeError', 'BaseException', 'BlockingIOError', 'BrokenPipeError', 'BufferError', 'BytesWarning', 'ChildProcessError', 'ConnectionAbortedError', 'ConnectionError', 'ConnectionRefusedError', 'ConnectionResetError', 'DeprecationWarning', 'EOFError', 'Ellipsis', 'EnvironmentError', 'Exception', 'False', 'FileExistsError', 'FileNotFoundError', 'FloatingPointError', 'FutureWarning', 'GeneratorExit', 'IOError', 'ImportError', 'ImportWarning', 'IndentationError', 'IndexError', 'InterruptedError', 'IsADirectoryError', 'KeyError', 'KeyboardInterrupt', 'LookupError', 'MemoryError', 'ModuleNotFoundError', 'NameError', 'None', 'NotADirectoryError', 'NotImplemented', 'NotImplementedError', 'OSError', 'OverflowError', 'PendingDeprecationWarning', 'PermissionError', 'ProcessLookupError', 'RecursionError', 'ReferenceError', 'ResourceWarning', 'RuntimeError', 'RuntimeWarning', 'StopAsyncIteration', 'StopIteration', 'SyntaxError', 'SyntaxWarning', 'SystemError', 'SystemExit', 'TabError', 'TimeoutError', 'True', 'TypeError', 'UnboundLocalError', 'UnicodeDecodeError', 'UnicodeEncodeError', 'UnicodeError', 'UnicodeTranslateError', 'UnicodeWarning', 'UserWarning', 'ValueError', 'Warning', 'WindowsError', 'ZeroDivisionError', '__IPYTHON__', '__build_class__', '__debug__', '__doc__', '__import__', '__loader__', '__name__', '__package__', '__spec__', 'abs', 'all', 'any', 'ascii', 'bin', 'bool', 'breakpoint', 'bytearray', 'bytes', 'callable', 'chr', 'classmethod', 'compile', 'complex', 'copyright', 'credits', 'delattr', 'dict', 'dir', 'display', 'divmod', 'enumerate', 'eval', 'exec', 'filter', 'float', 'format', 'frozenset', 'get_ipython', 'getattr', 'globals', 'hasattr', 'hash', 'help', 'hex', 'id', 'input', 'int', 'isinstance', 'issubclass', 'iter', 'len', 'license', 'list', 'locals', 'map', 'max', 'memoryview', 'min', 'next', 'object', 'oct', 'open', 'ord', 'pow', 'print', 'property', 'range', 'repr', 'reversed', 'round', 'set', 'setattr', 'slice', 'sorted', 'staticmethod', 'str', 'sum', 'super', 'tuple', 'type', 'vars', 'zip']\n"
     ]
    }
   ],
   "source": [
    "print(dir(__builtins__))"
   ]
  },
  {
   "cell_type": "code",
   "execution_count": 2,
   "metadata": {},
   "outputs": [
    {
     "data": {
      "text/plain": [
       "['__add__',\n",
       " '__class__',\n",
       " '__contains__',\n",
       " '__delattr__',\n",
       " '__dir__',\n",
       " '__doc__',\n",
       " '__eq__',\n",
       " '__format__',\n",
       " '__ge__',\n",
       " '__getattribute__',\n",
       " '__getitem__',\n",
       " '__getnewargs__',\n",
       " '__gt__',\n",
       " '__hash__',\n",
       " '__init__',\n",
       " '__init_subclass__',\n",
       " '__iter__',\n",
       " '__le__',\n",
       " '__len__',\n",
       " '__lt__',\n",
       " '__mod__',\n",
       " '__mul__',\n",
       " '__ne__',\n",
       " '__new__',\n",
       " '__reduce__',\n",
       " '__reduce_ex__',\n",
       " '__repr__',\n",
       " '__rmod__',\n",
       " '__rmul__',\n",
       " '__setattr__',\n",
       " '__sizeof__',\n",
       " '__str__',\n",
       " '__subclasshook__',\n",
       " 'capitalize',\n",
       " 'casefold',\n",
       " 'center',\n",
       " 'count',\n",
       " 'encode',\n",
       " 'endswith',\n",
       " 'expandtabs',\n",
       " 'find',\n",
       " 'format',\n",
       " 'format_map',\n",
       " 'index',\n",
       " 'isalnum',\n",
       " 'isalpha',\n",
       " 'isascii',\n",
       " 'isdecimal',\n",
       " 'isdigit',\n",
       " 'isidentifier',\n",
       " 'islower',\n",
       " 'isnumeric',\n",
       " 'isprintable',\n",
       " 'isspace',\n",
       " 'istitle',\n",
       " 'isupper',\n",
       " 'join',\n",
       " 'ljust',\n",
       " 'lower',\n",
       " 'lstrip',\n",
       " 'maketrans',\n",
       " 'partition',\n",
       " 'replace',\n",
       " 'rfind',\n",
       " 'rindex',\n",
       " 'rjust',\n",
       " 'rpartition',\n",
       " 'rsplit',\n",
       " 'rstrip',\n",
       " 'split',\n",
       " 'splitlines',\n",
       " 'startswith',\n",
       " 'strip',\n",
       " 'swapcase',\n",
       " 'title',\n",
       " 'translate',\n",
       " 'upper',\n",
       " 'zfill']"
      ]
     },
     "execution_count": 2,
     "metadata": {},
     "output_type": "execute_result"
    }
   ],
   "source": [
    "dir(__doc__)"
   ]
  },
  {
   "cell_type": "code",
   "execution_count": 3,
   "metadata": {},
   "outputs": [],
   "source": [
    "a='3'"
   ]
  },
  {
   "cell_type": "code",
   "execution_count": 4,
   "metadata": {},
   "outputs": [
    {
     "data": {
      "text/plain": [
       "['__add__',\n",
       " '__class__',\n",
       " '__contains__',\n",
       " '__delattr__',\n",
       " '__dir__',\n",
       " '__doc__',\n",
       " '__eq__',\n",
       " '__format__',\n",
       " '__ge__',\n",
       " '__getattribute__',\n",
       " '__getitem__',\n",
       " '__getnewargs__',\n",
       " '__gt__',\n",
       " '__hash__',\n",
       " '__init__',\n",
       " '__init_subclass__',\n",
       " '__iter__',\n",
       " '__le__',\n",
       " '__len__',\n",
       " '__lt__',\n",
       " '__mod__',\n",
       " '__mul__',\n",
       " '__ne__',\n",
       " '__new__',\n",
       " '__reduce__',\n",
       " '__reduce_ex__',\n",
       " '__repr__',\n",
       " '__rmod__',\n",
       " '__rmul__',\n",
       " '__setattr__',\n",
       " '__sizeof__',\n",
       " '__str__',\n",
       " '__subclasshook__',\n",
       " 'capitalize',\n",
       " 'casefold',\n",
       " 'center',\n",
       " 'count',\n",
       " 'encode',\n",
       " 'endswith',\n",
       " 'expandtabs',\n",
       " 'find',\n",
       " 'format',\n",
       " 'format_map',\n",
       " 'index',\n",
       " 'isalnum',\n",
       " 'isalpha',\n",
       " 'isascii',\n",
       " 'isdecimal',\n",
       " 'isdigit',\n",
       " 'isidentifier',\n",
       " 'islower',\n",
       " 'isnumeric',\n",
       " 'isprintable',\n",
       " 'isspace',\n",
       " 'istitle',\n",
       " 'isupper',\n",
       " 'join',\n",
       " 'ljust',\n",
       " 'lower',\n",
       " 'lstrip',\n",
       " 'maketrans',\n",
       " 'partition',\n",
       " 'replace',\n",
       " 'rfind',\n",
       " 'rindex',\n",
       " 'rjust',\n",
       " 'rpartition',\n",
       " 'rsplit',\n",
       " 'rstrip',\n",
       " 'split',\n",
       " 'splitlines',\n",
       " 'startswith',\n",
       " 'strip',\n",
       " 'swapcase',\n",
       " 'title',\n",
       " 'translate',\n",
       " 'upper',\n",
       " 'zfill']"
      ]
     },
     "execution_count": 4,
     "metadata": {},
     "output_type": "execute_result"
    }
   ],
   "source": [
    "dir(a)"
   ]
  },
  {
   "cell_type": "code",
   "execution_count": null,
   "metadata": {},
   "outputs": [],
   "source": []
  }
 ],
 "metadata": {
  "kernelspec": {
   "display_name": "Python 3",
   "language": "python",
   "name": "python3"
  },
  "language_info": {
   "codemirror_mode": {
    "name": "ipython",
    "version": 3
   },
   "file_extension": ".py",
   "mimetype": "text/x-python",
   "name": "python",
   "nbconvert_exporter": "python",
   "pygments_lexer": "ipython3",
   "version": "3.7.1"
  }
 },
 "nbformat": 4,
 "nbformat_minor": 2
}
