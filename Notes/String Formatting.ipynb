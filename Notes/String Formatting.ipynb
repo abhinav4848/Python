{
 "cells": [
  {
   "cell_type": "markdown",
   "metadata": {},
   "source": [
    "# String Formatting\n",
    "https://stackoverflow.com/a/50340297/2365231\n",
    "\n",
    "https://docs.python.org/3/library/string.html#format-specification-mini-language\n",
    "\n",
    "[How do I create a multiline Python string with inline variables?](https://stackoverflow.com/a/10112665/2365231)\n",
    "\n",
    "`.format` is a feature of string. Not `print()`"
   ]
  },
  {
   "cell_type": "markdown",
   "metadata": {},
   "source": [
    "## Numbers"
   ]
  },
  {
   "cell_type": "code",
   "execution_count": 1,
   "metadata": {},
   "outputs": [
    {
     "name": "stdout",
     "output_type": "stream",
     "text": [
      "342,245.34\n"
     ]
    }
   ],
   "source": [
    "# round to 2 decimal points\n",
    "print(\"{:,.2f}\".format(342245.3423))"
   ]
  },
  {
   "cell_type": "code",
   "execution_count": 2,
   "metadata": {},
   "outputs": [
    {
     "name": "stdout",
     "output_type": "stream",
     "text": [
      "x is seven \"9\" \"8\"\n",
      "<class 'str'>\n"
     ]
    }
   ],
   "source": [
    "# swap places of variable\n",
    "x = 'seven \"{1}\" \"{0}\"'.format(8,9)\n",
    "print('x is {}'.format(x))\n",
    "print(type(x))"
   ]
  },
  {
   "cell_type": "code",
   "execution_count": 3,
   "metadata": {},
   "outputs": [
    {
     "data": {
      "text/plain": [
       "'seven \"8        \" \"    12345\"'"
      ]
     },
     "execution_count": 3,
     "metadata": {},
     "output_type": "execute_result"
    }
   ],
   "source": [
    "# add padding of emptiness to the right (<), and to the left (>) till it's 9 digits in length\n",
    "# add the double quotes to visualise the padding better\n",
    "\n",
    "'seven \"{:<9}\" \"{:>9}\"'.format(8,12345)"
   ]
  },
  {
   "cell_type": "code",
   "execution_count": 4,
   "metadata": {},
   "outputs": [
    {
     "data": {
      "text/plain": [
       "'seven \"8000000000000\" \"0000012345678\"'"
      ]
     },
     "execution_count": 4,
     "metadata": {},
     "output_type": "execute_result"
    }
   ],
   "source": [
    "# add padding of 0 to the right (<), and to the left (>) till it's 13 digits in length\n",
    "# can't add padding with other characters\n",
    "\n",
    "'seven \"{:<013}\" \"{:>013}\"'.format(8,12345678)"
   ]
  },
  {
   "cell_type": "code",
   "execution_count": 5,
   "metadata": {},
   "outputs": [
    {
     "data": {
      "text/plain": [
       "'seven \"123456780\" \"000000008\"'"
      ]
     },
     "execution_count": 5,
     "metadata": {},
     "output_type": "execute_result"
    }
   ],
   "source": [
    "# above example but including variable swap\n",
    "\n",
    "'seven \"{1:<09}\" \"{0:>09}\"'.format(8,12345678)"
   ]
  },
  {
   "cell_type": "code",
   "execution_count": 6,
   "metadata": {},
   "outputs": [
    {
     "name": "stdout",
     "output_type": "stream",
     "text": [
      "x is seven 800000000, 000000009\n"
     ]
    }
   ],
   "source": [
    "a = 8\n",
    "b = 9\n",
    "x = f'seven {a:<09}, {b:>09}'\n",
    "print('x is {}'.format(x))"
   ]
  },
  {
   "cell_type": "code",
   "execution_count": 7,
   "metadata": {},
   "outputs": [
    {
     "name": "stdout",
     "output_type": "stream",
     "text": [
      "9,223,372,036,854,775,807\n"
     ]
    }
   ],
   "source": [
    "import sys\n",
    "print('{:,}'.format(sys.maxsize))"
   ]
  },
  {
   "cell_type": "markdown",
   "metadata": {},
   "source": [
    "### Floating Point formatting\n",
    "The general syntax for a format placeholder is: `%[flags][width][.precision]type`"
   ]
  },
  {
   "cell_type": "code",
   "execution_count": 8,
   "metadata": {},
   "outputs": [
    {
     "data": {
      "text/plain": [
       "\"Int: ' 1', Float: '07.67'\""
      ]
     },
     "execution_count": 8,
     "metadata": {},
     "output_type": "execute_result"
    }
   ],
   "source": [
    "\"Int: '%2d', Float: '%05.2f'\" % (1, 7.669)"
   ]
  },
  {
   "cell_type": "markdown",
   "metadata": {},
   "source": [
    "`%2d` means The number will be printed with 2 characters. If the number consists only of one digit, the output is padded with 1 leading blanks.\n",
    "\n",
    "`%05.2f` is a format description for a float number. Like other placeholders, it is introduced with the % character. \n",
    "* `0`: Pad with 0 to satisfy the width\n",
    "* `5`: Width. This number includes the decimal point and all the digits, i.e. before and after the decimal point.\n",
    "Our float number 05.333 has to be formatted with 5 characters. \n",
    "* `2`: Precision of decimal number\n",
    "* `f`: float."
   ]
  },
  {
   "cell_type": "code",
   "execution_count": 9,
   "metadata": {},
   "outputs": [
    {
     "data": {
      "text/plain": [
       "'20.10000'"
      ]
     },
     "execution_count": 9,
     "metadata": {},
     "output_type": "execute_result"
    }
   ],
   "source": [
    "'%.*f' % (5, 20.1)"
   ]
  },
  {
   "cell_type": "code",
   "execution_count": 10,
   "metadata": {},
   "outputs": [
    {
     "data": {
      "text/plain": [
       "1.0"
      ]
     },
     "execution_count": 10,
     "metadata": {},
     "output_type": "execute_result"
    }
   ],
   "source": [
    "import math\n",
    "math.cos(3.4)**2+math.sin(3.4)**2"
   ]
  },
  {
   "cell_type": "markdown",
   "metadata": {},
   "source": [
    "## Strings\n",
    "`F-strings` are faster than the two most commonly used string formatting mechanisms, which are `%` formatting and `str.format()`"
   ]
  },
  {
   "cell_type": "code",
   "execution_count": 11,
   "metadata": {},
   "outputs": [
    {
     "name": "stdout",
     "output_type": "stream",
     "text": [
      "Hello Abhinav you are invited to Sunburn at time: 6pm\n",
      "Hello Abhinav you are invited to Sunburn at time: 6pm\n",
      "Hello Abhinav you are invited to Sunburn at time: 6pm\n"
     ]
    }
   ],
   "source": [
    "name  = \"Abhinav\"\n",
    "place = \"Sunburn\"\n",
    "time  = \"6pm\"\n",
    "print('Hello %s you are invited to %s at time: %s' % (name, place, time))\n",
    "print('Hello {} you are invited to {} at time: {}'.format(name, place, time))\n",
    "print(f'Hello {name} you are invited to {place} at time: {time}')"
   ]
  },
  {
   "cell_type": "code",
   "execution_count": 12,
   "metadata": {},
   "outputs": [
    {
     "name": "stdout",
     "output_type": "stream",
     "text": [
      "September 16, 2021\n"
     ]
    }
   ],
   "source": [
    "import datetime\n",
    " \n",
    "today = datetime.datetime.today()\n",
    "print(f\"{today:%B %d, %Y}\")"
   ]
  },
  {
   "cell_type": "code",
   "execution_count": 13,
   "metadata": {},
   "outputs": [
    {
     "name": "stdout",
     "output_type": "stream",
     "text": [
      "Center align: ##############Lorem Ipsum###############\n",
      "Left Align: Lorem Ipsum-----------------------------\n",
      "Right align: -----------------------------Lorem Ipsum\n"
     ]
    }
   ],
   "source": [
    "# Align string with string() method\n",
    " \n",
    "cstr = \"Lorem Ipsum\"\n",
    "\n",
    "print (\"Center align:\",cstr.center(40, '#'))\n",
    "print (\"Left Align:\", cstr.ljust(40, '-'))\n",
    "print (\"Right align:\", cstr.rjust(40, '-'))"
   ]
  },
  {
   "cell_type": "markdown",
   "metadata": {},
   "source": [
    "# Multi line print"
   ]
  },
  {
   "cell_type": "code",
   "execution_count": 14,
   "metadata": {},
   "outputs": [
    {
     "name": "stdout",
     "output_type": "stream",
     "text": [
      "\n",
      "Hi there.\n",
      "This is a multi\n",
      "line\n",
      "print\n",
      "==========\n",
      "|        |\n",
      "|        |\n",
      "|   BOX  |\n",
      "|        |\n",
      "|        |\n",
      "==========\n",
      "\n"
     ]
    }
   ],
   "source": [
    "print('''\n",
    "Hi there.\n",
    "This is a multi\n",
    "line\n",
    "print\n",
    "==========\n",
    "|        |\n",
    "|        |\n",
    "|   BOX  |\n",
    "|        |\n",
    "|        |\n",
    "==========\n",
    "''')"
   ]
  },
  {
   "cell_type": "markdown",
   "metadata": {},
   "source": [
    "## Print function feature"
   ]
  },
  {
   "cell_type": "code",
   "execution_count": 15,
   "metadata": {},
   "outputs": [
    {
     "name": "stdout",
     "output_type": "stream",
     "text": [
      "my fav number is 3 . How nice 4\n"
     ]
    }
   ],
   "source": [
    "# using comma to insert variable automatically adds spaces.\n",
    "x = '3'\n",
    "y = 4\n",
    "print(\"my fav number is\",x,'.','How nice',y)"
   ]
  },
  {
   "cell_type": "code",
   "execution_count": 16,
   "metadata": {},
   "outputs": [
    {
     "name": "stdout",
     "output_type": "stream",
     "text": [
      "Hi, this is some text with more text and more.\n"
     ]
    }
   ],
   "source": [
    "print(\"Hi, this is some text \"\n",
    "     \"with more text \"\n",
    "     \"and more.\")"
   ]
  },
  {
   "cell_type": "code",
   "execution_count": 17,
   "metadata": {},
   "outputs": [
    {
     "name": "stdout",
     "output_type": "stream",
     "text": [
      ">>> "
     ]
    }
   ],
   "source": [
    "print (\">>> \", end='')"
   ]
  },
  {
   "cell_type": "code",
   "execution_count": 18,
   "metadata": {},
   "outputs": [
    {
     "name": "stdout",
     "output_type": "stream",
     "text": [
      ">>> more text\n"
     ]
    }
   ],
   "source": [
    "print (\">>> \", end='')\n",
    "print('more text')"
   ]
  },
  {
   "cell_type": "code",
   "execution_count": 19,
   "metadata": {},
   "outputs": [
    {
     "name": "stdout",
     "output_type": "stream",
     "text": [
      ">>> \n",
      "more text\n"
     ]
    }
   ],
   "source": [
    "print (\">>> \")\n",
    "print('more text')"
   ]
  },
  {
   "cell_type": "markdown",
   "metadata": {},
   "source": [
    "## Bytes vs Strings:"
   ]
  },
  {
   "cell_type": "code",
   "execution_count": 20,
   "metadata": {},
   "outputs": [
    {
     "name": "stdout",
     "output_type": "stream",
     "text": [
      "b'ABCD'\n",
      "This is string.\n"
     ]
    }
   ],
   "source": [
    "b = bytes([0x41, 0x42, 0x43, 0x44])\n",
    "print(b)\n",
    "s = \"This is string.\"\n",
    "print(s)"
   ]
  },
  {
   "cell_type": "code",
   "execution_count": 21,
   "metadata": {},
   "outputs": [
    {
     "ename": "TypeError",
     "evalue": "can only concatenate str (not \"bytes\") to str",
     "output_type": "error",
     "traceback": [
      "\u001b[1;31m---------------------------------------------------------------------------\u001b[0m",
      "\u001b[1;31mTypeError\u001b[0m                                 Traceback (most recent call last)",
      "\u001b[1;32m<ipython-input-21-9c3249b2294d>\u001b[0m in \u001b[0;36m<module>\u001b[1;34m\u001b[0m\n\u001b[1;32m----> 1\u001b[1;33m \u001b[0ms\u001b[0m\u001b[1;33m+\u001b[0m\u001b[0mb\u001b[0m\u001b[1;33m\u001b[0m\u001b[1;33m\u001b[0m\u001b[0m\n\u001b[0m",
      "\u001b[1;31mTypeError\u001b[0m: can only concatenate str (not \"bytes\") to str"
     ]
    }
   ],
   "source": [
    "s+b"
   ]
  },
  {
   "cell_type": "code",
   "execution_count": 22,
   "metadata": {},
   "outputs": [
    {
     "data": {
      "text/plain": [
       "'This is string.ABCD'"
      ]
     },
     "execution_count": 22,
     "metadata": {},
     "output_type": "execute_result"
    }
   ],
   "source": [
    "s_b = b.decode('utf-8')\n",
    "s+s_b"
   ]
  },
  {
   "cell_type": "code",
   "execution_count": 23,
   "metadata": {},
   "outputs": [
    {
     "data": {
      "text/plain": [
       "b'ABCDThis is string.'"
      ]
     },
     "execution_count": 23,
     "metadata": {},
     "output_type": "execute_result"
    }
   ],
   "source": [
    "b_s = s.encode('utf-8')\n",
    "b+b_s"
   ]
  },
  {
   "cell_type": "code",
   "execution_count": 24,
   "metadata": {},
   "outputs": [
    {
     "data": {
      "text/plain": [
       "b'\\xff\\xfe\\x00\\x00T\\x00\\x00\\x00h\\x00\\x00\\x00i\\x00\\x00\\x00s\\x00\\x00\\x00 \\x00\\x00\\x00i\\x00\\x00\\x00s\\x00\\x00\\x00 \\x00\\x00\\x00s\\x00\\x00\\x00t\\x00\\x00\\x00r\\x00\\x00\\x00i\\x00\\x00\\x00n\\x00\\x00\\x00g\\x00\\x00\\x00.\\x00\\x00\\x00'"
      ]
     },
     "execution_count": 24,
     "metadata": {},
     "output_type": "execute_result"
    }
   ],
   "source": [
    "b32 = s.encode('utf-32')\n",
    "b32"
   ]
  },
  {
   "cell_type": "markdown",
   "metadata": {},
   "source": [
    "# Template string"
   ]
  },
  {
   "cell_type": "code",
   "execution_count": 25,
   "metadata": {},
   "outputs": [
    {
     "name": "stdout",
     "output_type": "stream",
     "text": [
      "Avatar by James Cameron\n"
     ]
    }
   ],
   "source": [
    "from string import Template\n",
    "templ = Template(\"${title} by ${director}\")\n",
    "value = templ.substitute(title=\"Avatar\", director=\"James Cameron\")\n",
    "print(value)"
   ]
  },
  {
   "cell_type": "code",
   "execution_count": 26,
   "metadata": {},
   "outputs": [
    {
     "name": "stdout",
     "output_type": "stream",
     "text": [
      "Titanic by James Cameraman\n"
     ]
    }
   ],
   "source": [
    "data = {\n",
    "    \"title\" : \"Titanic\",\n",
    "    \"director\" : \"James Cameraman\"\n",
    "}\n",
    "value2 = templ.substitute(data)\n",
    "print(value2)"
   ]
  },
  {
   "cell_type": "markdown",
   "metadata": {},
   "source": [
    "# Default input value\n",
    "`raw_input` doesn't exist in python 3"
   ]
  },
  {
   "cell_type": "code",
   "execution_count": 27,
   "metadata": {},
   "outputs": [
    {
     "name": "stdout",
     "output_type": "stream",
     "text": [
      "Enter the inputs : \n",
      "42\n"
     ]
    }
   ],
   "source": [
    "user_input = int(input(\"Enter the inputs : \") or \"42\")\n",
    "print(user_input)"
   ]
  },
  {
   "cell_type": "markdown",
   "metadata": {},
   "source": [
    "# Int to binary and vice versa"
   ]
  },
  {
   "cell_type": "code",
   "execution_count": 28,
   "metadata": {},
   "outputs": [
    {
     "data": {
      "text/plain": [
       "'0b101'"
      ]
     },
     "execution_count": 28,
     "metadata": {},
     "output_type": "execute_result"
    }
   ],
   "source": [
    "bin(5)"
   ]
  },
  {
   "cell_type": "code",
   "execution_count": 29,
   "metadata": {},
   "outputs": [
    {
     "data": {
      "text/plain": [
       "'5'"
      ]
     },
     "execution_count": 29,
     "metadata": {},
     "output_type": "execute_result"
    }
   ],
   "source": [
    "str(0b101)"
   ]
  },
  {
   "cell_type": "code",
   "execution_count": 30,
   "metadata": {},
   "outputs": [
    {
     "data": {
      "text/plain": [
       "5"
      ]
     },
     "execution_count": 30,
     "metadata": {},
     "output_type": "execute_result"
    }
   ],
   "source": [
    "int('0b101',2)"
   ]
  },
  {
   "cell_type": "code",
   "execution_count": 31,
   "metadata": {},
   "outputs": [
    {
     "data": {
      "text/plain": [
       "5"
      ]
     },
     "execution_count": 31,
     "metadata": {},
     "output_type": "execute_result"
    }
   ],
   "source": [
    "int('101',2)"
   ]
  },
  {
   "cell_type": "code",
   "execution_count": null,
   "metadata": {},
   "outputs": [],
   "source": []
  }
 ],
 "metadata": {
  "kernelspec": {
   "display_name": "Python 3",
   "language": "python",
   "name": "python3"
  },
  "language_info": {
   "codemirror_mode": {
    "name": "ipython",
    "version": 3
   },
   "file_extension": ".py",
   "mimetype": "text/x-python",
   "name": "python",
   "nbconvert_exporter": "python",
   "pygments_lexer": "ipython3",
   "version": "3.8.8"
  }
 },
 "nbformat": 4,
 "nbformat_minor": 2
}
