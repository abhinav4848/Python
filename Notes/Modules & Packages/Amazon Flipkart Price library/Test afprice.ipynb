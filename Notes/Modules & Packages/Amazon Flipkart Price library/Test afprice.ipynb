{
 "cells": [
  {
   "cell_type": "markdown",
   "metadata": {},
   "source": [
    "# Test the Url generator script\n",
    "unfortunately google returns search page instead of the product page so these URLs won't work with the rest of the script"
   ]
  },
  {
   "cell_type": "code",
   "execution_count": 1,
   "metadata": {},
   "outputs": [
    {
     "name": "stdout",
     "output_type": "stream",
     "text": [
      "Googling...\n",
      "Googling...\n",
      "Googling...\n",
      "Googling...\n",
      "Googling...\n"
     ]
    },
    {
     "data": {
      "text/plain": [
       "['https://www.amazon.in/b?ie=UTF8&node=6755479031',\n",
       " 'https://www.flipkart.com/cat/p/itme935yfgharjkz',\n",
       " 'https://www.amazon.in/Toys-Games/b?ie=UTF8&node=1350380031',\n",
       " 'https://www.flipkart.com/automotive/car-bike-accessories/car-bike-care/pr?sid=0hx%2Cbwd%2Cbyn',\n",
       " 'https://www.amazon.in/Hero-Splendor-PLUS-Cover-Black/dp/B01LXVRJKH']"
      ]
     },
     "execution_count": 1,
     "metadata": {},
     "output_type": "execute_result"
    }
   ],
   "source": [
    "from afprice import searchToUrl\n",
    "terms = ['dog', 'cat', 'toy', 'bike', 'hero honda']\n",
    "sites = ['Amazon', 'Flipkart', 'Amazon', 'Flipkart', 'Amazon']\n",
    "urls = [searchToUrl.searchToUrl(term, site) for term, site in zip(terms, sites)]\n",
    "urls"
   ]
  },
  {
   "cell_type": "markdown",
   "metadata": {},
   "source": [
    "# Test the actual output\n",
    "If needed, use these URLs\n",
    "\n",
    "```python\n",
    "urls = ['https://www.amazon.in/dp/B07M9FDGJQ/',\n",
    "        'http://dl.flipkart.com/dl/honor-9n-sapphire-blue-64-gb/p/itmf9pgsehv6nmss']\n",
    "```"
   ]
  },
  {
   "cell_type": "code",
   "execution_count": 7,
   "metadata": {},
   "outputs": [],
   "source": [
    "import afprice\n",
    "urls = ['https://www.amazon.in/dp/B07M9FDGJQ/',\n",
    "        'http://dl.flipkart.com/dl/honor-9n-sapphire-blue-64-gb/p/itmf9pgsehv6nmss']"
   ]
  },
  {
   "cell_type": "code",
   "execution_count": 8,
   "metadata": {},
   "outputs": [
    {
     "name": "stdout",
     "output_type": "stream",
     "text": [
      "USING RETURNS\n",
      "{'price': '₹\\xa050,480.00', 'name': 'ASUS F570 ( AMD Quad Core R5-2500 /8 GB/1TB / 15.6\" FHD/ Windows 10/ 4GB GTX 1050) Gaming Laptop F570ZD- DM226T ( Black /1.9 kg)'}\n",
      "\n",
      "{'price': '₹8,999', 'name': 'Honor 9N (Midnight Black, 64 GB)\\xa0\\xa0(4 GB RAM)'}\n",
      "\n"
     ]
    }
   ],
   "source": [
    "print(\"USING RETURNS\")\n",
    "for url in urls:\n",
    "    print(afprice.main(url, True))\n",
    "    print()"
   ]
  },
  {
   "cell_type": "code",
   "execution_count": 9,
   "metadata": {},
   "outputs": [
    {
     "name": "stdout",
     "output_type": "stream",
     "text": [
      "USING PRINTS\n",
      "ASUS F570 ( AMD Quad Core R5-2500 /8 GB/1TB / 15.6\" FHD/ Windows 10/ 4GB GTX 1050) Gaming Laptop F570ZD- DM226T ( Black /1.9 kg) costs Rs. ₹ 50,480.00\n",
      "\n",
      "Honor 9N (Midnight Black, 64 GB)  (4 GB RAM) costs Rs. ₹8,999\n",
      "\n"
     ]
    }
   ],
   "source": [
    "print(\"USING PRINTS\")\n",
    "for url in urls:\n",
    "    afprice.main(url, False)\n",
    "    print()"
   ]
  },
  {
   "cell_type": "code",
   "execution_count": null,
   "metadata": {},
   "outputs": [],
   "source": []
  }
 ],
 "metadata": {
  "kernelspec": {
   "display_name": "Python 3",
   "language": "python",
   "name": "python3"
  },
  "language_info": {
   "codemirror_mode": {
    "name": "ipython",
    "version": 3
   },
   "file_extension": ".py",
   "mimetype": "text/x-python",
   "name": "python",
   "nbconvert_exporter": "python",
   "pygments_lexer": "ipython3",
   "version": "3.7.1"
  }
 },
 "nbformat": 4,
 "nbformat_minor": 2
}
