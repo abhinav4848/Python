{
 "cells": [
  {
   "cell_type": "code",
   "execution_count": 1,
   "metadata": {},
   "outputs": [],
   "source": [
    "import afprice\n",
    "\n",
    "urls = ['https://www.amazon.in/dp/B07M9FDGJQ/',\n",
    "        'http://dl.flipkart.com/dl/honor-9n-sapphire-blue-64-gb/p/itmf9pgsehv6nmss']"
   ]
  },
  {
   "cell_type": "code",
   "execution_count": 5,
   "metadata": {},
   "outputs": [
    {
     "name": "stdout",
     "output_type": "stream",
     "text": [
      "USING RETURNS\n",
      "{'price': '₹\\xa050,500.00', 'name': 'ASUS F570 ( AMD Quad Core R5-2500 /8 GB/1TB / 15.6\" FHD/ Windows 10/ 4GB GTX 1050) Gaming Laptop F570ZD- DM226T ( Black /1.9 kg)'}\n",
      "\n",
      "{'price': '₹8,999', 'name': 'Honor 9N (Midnight Black, 64 GB)\\xa0\\xa0(4 GB RAM)'}\n",
      "\n"
     ]
    }
   ],
   "source": [
    "print(\"USING RETURNS\")\n",
    "for url in urls:\n",
    "    print(afprice.main(url, True))\n",
    "    print()"
   ]
  },
  {
   "cell_type": "code",
   "execution_count": 6,
   "metadata": {},
   "outputs": [
    {
     "name": "stdout",
     "output_type": "stream",
     "text": [
      "USING PRINTS\n",
      "ASUS F570 ( AMD Quad Core R5-2500 /8 GB/1TB / 15.6\" FHD/ Windows 10/ 4GB GTX 1050) Gaming Laptop F570ZD- DM226T ( Black /1.9 kg) costs Rs. ₹ 50,500.00\n",
      "\n",
      "Honor 9N (Midnight Black, 64 GB)  (4 GB RAM) costs Rs. ₹8,999\n",
      "\n"
     ]
    }
   ],
   "source": [
    "print(\"USING PRINTS\")\n",
    "for url in urls:\n",
    "    afprice.main(url, False)\n",
    "    print()"
   ]
  },
  {
   "cell_type": "code",
   "execution_count": null,
   "metadata": {},
   "outputs": [],
   "source": []
  }
 ],
 "metadata": {
  "kernelspec": {
   "display_name": "Python 3",
   "language": "python",
   "name": "python3"
  },
  "language_info": {
   "codemirror_mode": {
    "name": "ipython",
    "version": 3
   },
   "file_extension": ".py",
   "mimetype": "text/x-python",
   "name": "python",
   "nbconvert_exporter": "python",
   "pygments_lexer": "ipython3",
   "version": "3.7.1"
  }
 },
 "nbformat": 4,
 "nbformat_minor": 2
}
