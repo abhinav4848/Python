{
 "cells": [
  {
   "cell_type": "code",
   "execution_count": 10,
   "metadata": {},
   "outputs": [
    {
     "name": "stdout",
     "output_type": "stream",
     "text": [
      "Overwriting example.csv\n"
     ]
    }
   ],
   "source": [
    "%%writefile example.csv\n",
    "1,03/02/2019,Abhinav\n",
    "2,04/12/2018, Elon Musk\n",
    "3,02/08/1999, Bill Gates"
   ]
  },
  {
   "cell_type": "code",
   "execution_count": 11,
   "metadata": {},
   "outputs": [
    {
     "name": "stdout",
     "output_type": "stream",
     "text": [
      "['1', '03/02/2019', 'Abhinav']\n",
      "['2', '04/12/2018', ' Elon Musk']\n",
      "['3', '02/08/1999', ' Bill Gates']\n",
      "\n",
      "3 02/08/1999  Bill Gates\n"
     ]
    }
   ],
   "source": [
    "import csv\n",
    "with open('example.csv') as csvfile:\n",
    "    readCSV = csv.reader(csvfile, delimiter=',')\n",
    "    \n",
    "    for row in readCSV:\n",
    "        # data is output as string. Convert accordingly\n",
    "        print(row)\n",
    "        # once the for loop runs, the last used row is value of row\n",
    "    print('\\n'+row[0],row[1],row[2])"
   ]
  },
  {
   "cell_type": "code",
   "execution_count": 17,
   "metadata": {},
   "outputs": [
    {
     "name": "stdout",
     "output_type": "stream",
     "text": [
      "['03/02/2019', '04/12/2018', '02/08/1999']\n",
      "['Abhinav', ' Elon Musk', ' Bill Gates']\n"
     ]
    }
   ],
   "source": [
    "with open('example.csv') as csvfile:\n",
    "    readCSV = csv.reader(csvfile, delimiter=',')\n",
    "    \n",
    "    dates = []\n",
    "    names = []\n",
    "    \n",
    "    for row in readCSV:\n",
    "        dates.append(row[1])\n",
    "        names.append(row[2])\n",
    "    \n",
    "    print(dates)\n",
    "    print(names)"
   ]
  },
  {
   "cell_type": "code",
   "execution_count": null,
   "metadata": {},
   "outputs": [],
   "source": []
  }
 ],
 "metadata": {
  "kernelspec": {
   "display_name": "Python 3",
   "language": "python",
   "name": "python3"
  },
  "language_info": {
   "codemirror_mode": {
    "name": "ipython",
    "version": 3
   },
   "file_extension": ".py",
   "mimetype": "text/x-python",
   "name": "python",
   "nbconvert_exporter": "python",
   "pygments_lexer": "ipython3",
   "version": "3.7.1"
  }
 },
 "nbformat": 4,
 "nbformat_minor": 2
}
