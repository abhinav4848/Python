{
 "cells": [
  {
   "cell_type": "code",
   "execution_count": 4,
   "metadata": {},
   "outputs": [],
   "source": [
    "import os\n",
    "from selenium import webdriver\n",
    "browser = webdriver.Chrome(executable_path=os.path.join(os.getcwd(),'webdriver','chromedriver.exe'))\n",
    "browser.get('https://abhinavkr.ga/')\n",
    "\n",
    "elem = browser.find_element_by_css_selector('body > div:nth-child(5) > div > div > div.col-md-4.mt-sm-2 > div > div > p.card-text > a:nth-child(11)')\n",
    "elem.click()"
   ]
  },
  {
   "cell_type": "code",
   "execution_count": 3,
   "metadata": {},
   "outputs": [
    {
     "name": "stdout",
     "output_type": "stream",
     "text": [
      "Abhinav Kumar\n",
      "Abhinav Kumar\n",
      "Medical student by day, Programmer by night.\n",
      "Hi, I'm Abhinav, and this. is. My bio: I've studied from St. Paul's School, Darjeeling and Modern School, Barakhamba Road, New Delhi. Currenly, I'm studying MBBS at Kasturba Medical College, Mangalore, Manipal University.\n",
      "I have a long time interest in computers. Especially because of how much they can automate the task and respond to your instructions just the way you want them to. And that a good purpose program can spread to masses far beyond what is otherwise possible without technology. I was forever uncertain about taking Engineering as an undergraduate course because of rampant rise in unemployed young engineers. No one way that I looked at had a scope of a successful life, at the time when I had to make my career choice. So going in my successful parents' footsteps, I took up medicine in Undergraduation. Time went on and for the first time ever in college, I got unrestricted access to the internet and rediscovered my interest in programming and web designing.\n",
      "So for now, I've decided to complete this degree. In 2018, I'm in my final semester of MBBS. Soon I'll be free to pursue what I enjoy without any worry of exams.\n",
      "Video Editing\n",
      "I've worked on a few videos for my college. Namely:\n",
      "Ganesh Chaturthi Trailer\n",
      "Interclass Teaser\n",
      "Profs interview\n",
      "Farewell Video\n",
      "And my own youtube channel which I hope takes off some day with enough hard work:\n",
      "Thrown In the Deep\n",
      "Web Designing\n",
      "In my free time and in between exams, I take online courses on full stack programming, some of my works which I made for the college are:\n",
      "Interclass Competion Scoreboard\n",
      "College Magazine Online\n",
      "One for my School:\n",
      "St. Paul's School, Darjeeling\n",
      "Programming Skills\n",
      "Moderate: Java, PHP, HTML, CSS\n",
      "Beginner: Javascript, MySQL, GIT, Sublime Text\n",
      "CMS: Wordpress, MediaWiki\n",
      "Video Editing Skills\n",
      "Moderate: Adobe Premiere Pro\n",
      "Beginner: Adobe After Effects\n",
      "Contact Me\n",
      "Phone Numbers\n",
      "+91-9535059840 (Call)\n",
      "+91-8210584457 (Call)\n",
      "+91-9582905360 (WhatsApp)\n",
      "\n",
      "My Business Card\n",
      "Click image to Download\n",
      "Drop me a message\n",
      "Submit\n",
      "Social Media Links\n",
      "Created by Abhinav Kumar. 2018.\n"
     ]
    }
   ],
   "source": [
    "elem = browser.find_element_by_css_selector('html').text\n",
    "print(elem)"
   ]
  },
  {
   "cell_type": "code",
   "execution_count": null,
   "metadata": {},
   "outputs": [],
   "source": []
  }
 ],
 "metadata": {
  "kernelspec": {
   "display_name": "Python 3",
   "language": "python",
   "name": "python3"
  },
  "language_info": {
   "codemirror_mode": {
    "name": "ipython",
    "version": 3
   },
   "file_extension": ".py",
   "mimetype": "text/x-python",
   "name": "python",
   "nbconvert_exporter": "python",
   "pygments_lexer": "ipython3",
   "version": "3.7.1"
  }
 },
 "nbformat": 4,
 "nbformat_minor": 2
}
