{
 "cells": [
  {
   "cell_type": "code",
   "execution_count": 1,
   "metadata": {},
   "outputs": [
    {
     "name": "stdout",
     "output_type": "stream",
     "text": [
      "800.420.7240\n",
      "415.863.9900\n",
      "415.863.9950\n",
      "info@nostarch.com\n",
      "media@nostarch.com\n",
      "academic@nostarch.com\n",
      "info@nostarch.com\n"
     ]
    }
   ],
   "source": [
    "#! python 3\n",
    "\n",
    "import re, pyperclip\n",
    "\n",
    "# Create a regex for phone numbers\n",
    "phoneRegex = re.compile(r'''\n",
    "# 133-544-3333, 444-44444, (432)-445-8888, 555-0000 ext 23455, ext. 12345, x12354\n",
    "(\n",
    "((\\d{3})|(\\(\\d{3}\\)))?    # area code (optionl)\n",
    "(\\s|-|\\.)    # first separator\n",
    "(\\d{3})    # first 3 digits\n",
    "(\\s|-|\\.)      # separator\n",
    "(\\d{4})    # last 4 digits\n",
    "(((ext(\\.)?\\s)|x)    # extension-word part (optional)\n",
    "(\\d{2,5}))?    # extension-number part (optional)\n",
    ")\n",
    "''',re.VERBOSE)\n",
    "\n",
    "# create a regex for emails\n",
    "emailRegex = re.compile(r'''\n",
    "[a-zA-Z0-9-.+]+  #name part\n",
    "@\n",
    "[a-zA-Z0-9-.+]+ #domain-name part\n",
    "''', re.VERBOSE)\n",
    "\n",
    "# get the text off the clipboard\n",
    "# text = pyperclip.paste()\n",
    "text = '''No Starch Press, Inc.\n",
    "245 8th Street\n",
    "San Francisco, CA 94103 USA\n",
    "Phone: 800.420.7240 or +1 415.863.9900 (9 a.m. to 5 p.m., M-F, PST)\n",
    "Fax: +1 415.863.9950\n",
    "\n",
    "Reach Us by Email\n",
    "General inquiries: info@nostarch.com\n",
    "Media requests: media@nostarch.com\n",
    "Academic requests: academic@nostarch.com (Please see this page for academic review requests)\n",
    "Help with your order: info@nostarch.com'''\n",
    "\n",
    "# Extract the email/phone from this text\n",
    "extractedPhone = phoneRegex.findall(text)\n",
    "extractedEmail = emailRegex.findall(text)\n",
    "\n",
    "allPhoneNumbers = []\n",
    "for phoneNumbers in extractedPhone:\n",
    "    allPhoneNumbers.append(phoneNumbers[0])\n",
    "# Copy the extracted email/phone onto the clipboard\n",
    "results = '\\n'.join(allPhoneNumbers)+'\\n'+'\\n'.join(extractedEmail)\n",
    "pyperclip.copy(results)\n",
    "print(results)\n"
   ]
  },
  {
   "cell_type": "code",
   "execution_count": null,
   "metadata": {},
   "outputs": [],
   "source": []
  }
 ],
 "metadata": {
  "kernelspec": {
   "display_name": "Python 3",
   "language": "python",
   "name": "python3"
  },
  "language_info": {
   "codemirror_mode": {
    "name": "ipython",
    "version": 3
   },
   "file_extension": ".py",
   "mimetype": "text/x-python",
   "name": "python",
   "nbconvert_exporter": "python",
   "pygments_lexer": "ipython3",
   "version": "3.7.1"
  }
 },
 "nbformat": 4,
 "nbformat_minor": 2
}
