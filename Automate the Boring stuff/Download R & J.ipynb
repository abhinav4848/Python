{
 "cells": [
  {
   "cell_type": "code",
   "execution_count": 2,
   "metadata": {},
   "outputs": [
    {
     "name": "stdout",
     "output_type": "stream",
     "text": [
      "Status code: 200\n",
      "\n",
      "Length: 178978\n",
      "\n",
      "First 500 bytes: \n",
      "The Project Gutenberg EBook of Romeo and Juliet, by William Shakespeare\r\n",
      "\r\n",
      "This eBook is for the use of anyone anywhere at no cost and with\r\n",
      "almost no restrictions whatsoever.  You may copy it, give it away or\r\n",
      "re-use it under the terms of the Project Gutenberg License included\r\n",
      "with this eBook or online at www.gutenberg.org/license\r\n",
      "\r\n",
      "\r\n",
      "Title: Romeo and Juliet\r\n",
      "\r\n",
      "Author: William Shakespeare\r\n",
      "\r\n",
      "Posting Date: May 25, 2012 [EBook #1112]\r\n",
      "Release Date: November, 1997  [Etext #1112]\r\n",
      "\r\n",
      "Language: Eng\n",
      "\n",
      "Raise for status: None\n",
      "\n",
      "Done.\n"
     ]
    }
   ],
   "source": [
    "#don't save this file as requests.py\n",
    "import requests, pyperclip\n",
    "\n",
    "res = requests.get('https://automatetheboringstuff.com/files/rj.txt')\n",
    "\n",
    "print('Status code: '+str(res.status_code)+'\\n')\n",
    "print('Length: '+str(len(res.text))+'\\n')\n",
    "print('First 500 bytes: \\n'+res.text[:500]+'\\n')\n",
    "print('Raise for status: '+str(res.raise_for_status())+'\\n')\n",
    "\n",
    "playFile = open('romeo and juliet.txt','wb') #write binary\n",
    "for chunk in res.iter_content(100000): # asks bytes of data to iterate over\n",
    "    playFile.write(chunk)\n",
    "playFile.close()\n",
    "\n",
    "print('Done.')"
   ]
  },
  {
   "cell_type": "code",
   "execution_count": null,
   "metadata": {},
   "outputs": [],
   "source": []
  }
 ],
 "metadata": {
  "kernelspec": {
   "display_name": "Python 3",
   "language": "python",
   "name": "python3"
  },
  "language_info": {
   "codemirror_mode": {
    "name": "ipython",
    "version": 3
   },
   "file_extension": ".py",
   "mimetype": "text/x-python",
   "name": "python",
   "nbconvert_exporter": "python",
   "pygments_lexer": "ipython3",
   "version": "3.7.1"
  }
 },
 "nbformat": 4,
 "nbformat_minor": 2
}
