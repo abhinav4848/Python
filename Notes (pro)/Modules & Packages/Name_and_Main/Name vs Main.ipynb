{
 "cells": [
  {
   "cell_type": "markdown",
   "metadata": {},
   "source": [
    "Sometimes when you are importing from a module, you would like to know whether\n",
    "a modules function is being used as an import, or if you are using the original\n",
    ".py file of that module. In this case we can use the:\n",
    "\n",
    "```python\n",
    "if __name__ == \"__main__\":\n",
    "```\n",
    "\n",
    "line to determine this. For example:\n",
    "\n",
    "When your script is run by passing it as a command to the Python interpreter:\n",
    "\n",
    "    python myscript.py\n",
    "\n",
    "all of the code that is at indentation level 0 gets executed. Functions and\n",
    "classes that are defined are, well, defined, but none of their code gets ran.\n",
    "Unlike other languages, there's no main() function that gets run automatically\n",
    "- the main() function is implicitly all the code at the top level.\n",
    "\n",
    "In this case, the top-level code is an if block.  __name__ is a built-in variable\n",
    " which evaluate to the name of the current module. However, if a module is being\n",
    " run directly (as in myscript.py above), then __name__ instead is set to the\n",
    " string \"__main__\". Thus, you can test whether your script is being run directly\n",
    "  or being imported by something else by testing\n",
    "\n",
    "```python\n",
    "if __name__ == \"__main__\":\n",
    "```\n",
    "If that code is being imported into another module, the various function and\n",
    "class definitions will be imported, but the main() code won't get run. As a\n",
    "basic example, consider the following two scripts:\n",
    "```python\n",
    "# file one.py\n",
    "def func():\n",
    "    print(\"func() in one.py\")\n",
    "\n",
    "print(\"top-level in one.py\")\n",
    "\n",
    "if __name__ == \"__main__\":\n",
    "    print(\"one.py is being run directly\")\n",
    "else:\n",
    "    print(\"one.py is being imported into another module\")\n",
    "```\n",
    "and then:\n",
    "```python\n",
    "# file two.py\n",
    "import one\n",
    "\n",
    "print(\"top-level in two.py\")\n",
    "one.func()\n",
    "\n",
    "if __name__ == \"__main__\":\n",
    "    print(\"two.py is being run directly\")\n",
    "else:\n",
    "    print(\"two.py is being imported into another module\")\n",
    "```\n",
    "Now, if you invoke the interpreter as\n",
    "\n",
    "    python one.py\n",
    "\n",
    "The output will be\n",
    "\n",
    "    top-level in one.py\n",
    "\n",
    "one.py is being run directly\n",
    "If you run two.py instead:\n",
    "\n",
    "    python two.py\n",
    "\n",
    "You get\n",
    "\n",
    "  top-level in one.py\n",
    "  one.py is being imported into another module\n",
    "  top-level in two.py\n",
    "  func() in one.py\n",
    "  two.py is being run directly\n",
    "  \n",
    "Thus, when module one gets loaded, its __name__ equals \"one\" instead of __main__.\n"
   ]
  },
  {
   "cell_type": "code",
   "execution_count": 1,
   "metadata": {},
   "outputs": [
    {
     "name": "stdout",
     "output_type": "stream",
     "text": [
      "Overwriting one.py\n"
     ]
    }
   ],
   "source": [
    "%%writefile one.py\n",
    "def func():\n",
    "    print(\"func() ran in one.py\")\n",
    "\n",
    "print(\"top-level print inside of one.py\")\n",
    "\n",
    "if __name__ == \"__main__\":\n",
    "    print(\"one.py is being run directly\")\n",
    "else:\n",
    "    print(\"one.py is being imported into another module\")"
   ]
  },
  {
   "cell_type": "code",
   "execution_count": 2,
   "metadata": {},
   "outputs": [
    {
     "name": "stdout",
     "output_type": "stream",
     "text": [
      "Overwriting two.py\n"
     ]
    }
   ],
   "source": [
    "%%writefile two.py\n",
    "import one\n",
    "\n",
    "print(\"top-level in two.py\")\n",
    "\n",
    "one.func()\n",
    "\n",
    "if __name__ == \"__main__\":\n",
    "    print(\"two.py is being run directly\")\n",
    "else:\n",
    "    print(\"two.py is being imported into another module\")\n"
   ]
  },
  {
   "cell_type": "code",
   "execution_count": null,
   "metadata": {},
   "outputs": [],
   "source": []
  }
 ],
 "metadata": {
  "kernelspec": {
   "display_name": "Python 3",
   "language": "python",
   "name": "python3"
  },
  "language_info": {
   "codemirror_mode": {
    "name": "ipython",
    "version": 3
   },
   "file_extension": ".py",
   "mimetype": "text/x-python",
   "name": "python",
   "nbconvert_exporter": "python",
   "pygments_lexer": "ipython3",
   "version": "3.7.1"
  }
 },
 "nbformat": 4,
 "nbformat_minor": 2
}
