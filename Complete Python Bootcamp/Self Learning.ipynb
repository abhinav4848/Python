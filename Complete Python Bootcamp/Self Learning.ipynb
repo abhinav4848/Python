{
 "cells": [
  {
   "cell_type": "markdown",
   "metadata": {},
   "source": [
    "# Finding Pi"
   ]
  },
  {
   "cell_type": "markdown",
   "metadata": {},
   "source": [
    "**Find PI to the Nth Digit** - Enter a number and have the program generate &pi; (pi) up to that many decimal places. Keep a limit to how far the program will go."
   ]
  },
  {
   "cell_type": "markdown",
   "metadata": {},
   "source": [
    "## Own"
   ]
  },
  {
   "cell_type": "code",
   "execution_count": 18,
   "metadata": {},
   "outputs": [
    {
     "name": "stdout",
     "output_type": "stream",
     "text": [
      "Would you like for pi or e? (max 15): pi\n",
      "How many digits of pi would you like after decimal? (max 15): 30\n",
      "Pi value up to 30 places is 3.141592653589793115997963468544\n",
      "Created by Abhinav, 2019\n"
     ]
    }
   ],
   "source": [
    "import math\n",
    "while True:\n",
    "    try:\n",
    "        p_or_e = input('Would you like for pi or e? (max 15): ')\n",
    "        limit= int(input(f'How many digits of {p_or_e} would you like after decimal? (max 15): '))\n",
    "    except:\n",
    "        print('Sorry, not valid input. Try again')\n",
    "        continue\n",
    "    else:\n",
    "        if p_or_e[0] != 'p' and p_or_e[0] != 'e':\n",
    "            print('please enter pi or e')\n",
    "            continue\n",
    "        elif limit>50 or limit<1:\n",
    "            print('Your choice is out of range. Please choose between 1 and 15.')\n",
    "            continue\n",
    "        else:\n",
    "            if p_or_e[0] =='p':\n",
    "                print('Pi value up to {} places is {:.{}f}'.format(limit, math.pi, limit))\n",
    "            elif p_or_e[0] == 'e':\n",
    "                print('e value up to {} places is {:.{}f}'.format(limit, math.e, limit))\n",
    "            break\n",
    "    finally:\n",
    "        print('Created by Abhinav, 2019')"
   ]
  },
  {
   "cell_type": "markdown",
   "metadata": {},
   "source": [
    "## [Wikipedia](https://en.wikipedia.org/w/index.php?title=Chudnovsky_algorithm&oldid=887860952)"
   ]
  },
  {
   "cell_type": "code",
   "execution_count": 9,
   "metadata": {},
   "outputs": [
    {
     "name": "stdout",
     "output_type": "stream",
     "text": [
      "PI(maxK=70 iterations, gc().prec=1008, disp=1007 digits) =\n",
      "3.141592653589793238462643383279502884197169399375105820974944592307816406286208998628034825342117067982148086513282306647093844609550582231725359408128481117450284102701938521105559644622948954930381964428810975665933446128475648233786783165271201909145648566923460348610454326648213393607260249141273724587006606315588174881520920962829254091715364367892590360011330530548820466521384146951941511609433057270365759591953092186117381932611793105118548074462379962749567351885752724891227938183011949129833673362440656643086021394946395224737190702179860943702770539217176293176752384674818467669405132000568127145263560827785771342757789609173637178721468440901224953430146549585371050792279689258923542019956112129021960864034418159813629774771309960518707211349999998372978049951059731732816096318595024459455346908302642522308253344685035261931188171010003137838752886587533208381420617177669147303598253490428755468731159562863882353787593751957781857780532171226806613001927876611195909216420198938095\n",
      "\n",
      "For greater precision and more digits (takes a few extra seconds) - Try\n",
      "Pi = PI(317,4501,4500)\n",
      "Pi = PI(353,5022,5020)\n"
     ]
    }
   ],
   "source": [
    "from decimal import Decimal as Dec, getcontext as gc\n",
    "\n",
    "def PI(maxK=70, prec=1008, disp=1007): # parameter defaults chosen to gain 1000+ digits within a few seconds\n",
    "    gc().prec = prec\n",
    "    K, M, L, X, S = 6, 1, 13591409, 1, 13591409\n",
    "    for k in range(1, maxK+1):\n",
    "        M = (K**3 - 16*K) * M // k**3 \n",
    "        L += 545140134\n",
    "        X *= -262537412640768000\n",
    "        S += Dec(M * L) / X\n",
    "        K += 12\n",
    "    pi = 426880 * Dec(10005).sqrt() / S\n",
    "    pi = Dec(str(pi)[:disp]) # drop few digits of precision for accuracy\n",
    "    print(\"PI(maxK=%d iterations, gc().prec=%d, disp=%d digits) =\\n%s\" % (maxK, prec, disp, pi))\n",
    "    return pi\n",
    "\n",
    "Pi = PI()\n",
    "print(\"\\nFor greater precision and more digits (takes a few extra seconds) - Try\")\n",
    "print(\"Pi = PI(317,4501,4500)\") \n",
    "print(\"Pi = PI(353,5022,5020)\")"
   ]
  },
  {
   "cell_type": "markdown",
   "metadata": {},
   "source": [
    "### [geekpradd](https://github.com/geekpradd/PythonPi/blob/master/PythonPi.py)"
   ]
  },
  {
   "cell_type": "code",
   "execution_count": 4,
   "metadata": {},
   "outputs": [
    {
     "name": "stdout",
     "output_type": "stream",
     "text": [
      "Welcome to Pi Calculator. In the shell below Enter the number of digits upto which the value of Pi should be calculated or enter quit to exit\n",
      ">>> 21\n",
      "3.141592653589674961834\n",
      ">>> 100\n",
      "3.1415926535896749618344472523936367445289018303831227095206649458770837381153457373282472370877155750\n",
      ">>> quit\n"
     ]
    }
   ],
   "source": [
    "\"\"\"\n",
    "Name: pi.py\n",
    "Purpose: Get the value of Pi to n number of decimal places\n",
    "Author: Pradipta (geekpradd)\n",
    "Algorithm: Chudnovsky Algorithm\n",
    "License: MIT\n",
    "\n",
    "Module Dependencies:\n",
    "\n",
    "Math provides fast square rooting\n",
    "Decimal gives the Decimal data type which is much better than Float\n",
    "sys is needed to set the depth for recursion.\n",
    "\"\"\"\n",
    "from __future__ import print_function\n",
    "import math, sys\n",
    "from decimal import *\n",
    "getcontext().rounding = ROUND_FLOOR\n",
    "sys.setrecursionlimit(100000)\n",
    "\n",
    "python2 = sys.version_info[0] == 2\n",
    "if python2:\n",
    "    input = raw_input\n",
    "\n",
    "def factorial(n):\n",
    "    \"\"\"\n",
    "    Return the Factorial of a number using recursion\n",
    "\n",
    "    Parameters:\n",
    "    n -- Number to get factorial of\n",
    "    \"\"\"\n",
    "    if not n:\n",
    "        return 1\n",
    "    return n*factorial(n-1)\n",
    "\n",
    "\n",
    "def getIteratedValue(k):\n",
    "    \"\"\"\n",
    "    Return the Iterations as given in the Chudnovsky Algorithm.\n",
    "    k iterations gives k-1 decimal places.. Since we need k decimal places\n",
    "    make iterations equal to k+1\n",
    "    \n",
    "    Parameters:\n",
    "    k  -- Number of Decimal Digits to get\n",
    "    \"\"\"\n",
    "    k = k+1\n",
    "    getcontext().prec = k\n",
    "    sum=0\n",
    "    for k in range(k):\n",
    "        first = factorial(6*k)*(13591409+545140134*k)\n",
    "        down = factorial(3*k)*(factorial(k))**3*(640320**(3*k))\n",
    "        sum += first/down \n",
    "    return Decimal(sum) \n",
    "\n",
    "def getValueOfPi(k):\n",
    "    \"\"\"\n",
    "    Returns the calculated value of Pi using the iterated value of the loop\n",
    "    and some division as given in the Chudnovsky Algorithm\n",
    "\n",
    "    Parameters:\n",
    "    k -- Number of Decimal Digits upto which the value of Pi should be calculated\n",
    "    \"\"\"\n",
    "    iter = getIteratedValue(k)\n",
    "    up = 426880*math.sqrt(10005)\n",
    "    pi = Decimal(up)/iter \n",
    "    \n",
    "    return pi\n",
    "\n",
    "\n",
    "def shell():\n",
    "    \"\"\"\n",
    "    Console Function to create the interactive Shell.\n",
    "    Runs only when __name__ == __main__ that is when the script is being called directly\n",
    "\n",
    "    No return value and Parameters\n",
    "    \"\"\"\n",
    "    print (\"Welcome to Pi Calculator. In the shell below Enter the number of digits upto which the value of Pi should be calculated or enter quit to exit\")\n",
    "\n",
    "    while True:\n",
    "        print (\">>> \", end='')\n",
    "        entry = input()\n",
    "        if entry == \"quit\":\n",
    "            break\n",
    "        if not entry.isdigit():\n",
    "            print (\"You did not enter a number. Try again\")\n",
    "        else:\n",
    "            print (getValueOfPi(int(entry)))\n",
    "\n",
    "if __name__=='__main__':\n",
    "    shell()"
   ]
  },
  {
   "cell_type": "code",
   "execution_count": 3,
   "metadata": {
    "scrolled": false
   },
   "outputs": [
    {
     "data": {
      "text/plain": [
       "['BasicContext',\n",
       " 'Clamped',\n",
       " 'Context',\n",
       " 'ConversionSyntax',\n",
       " 'Decimal',\n",
       " 'DecimalException',\n",
       " 'DecimalTuple',\n",
       " 'DefaultContext',\n",
       " 'DivisionByZero',\n",
       " 'DivisionImpossible',\n",
       " 'DivisionUndefined',\n",
       " 'ExtendedContext',\n",
       " 'FloatOperation',\n",
       " 'HAVE_THREADS',\n",
       " 'Inexact',\n",
       " 'InvalidContext',\n",
       " 'InvalidOperation',\n",
       " 'MAX_EMAX',\n",
       " 'MAX_PREC',\n",
       " 'MIN_EMIN',\n",
       " 'MIN_ETINY',\n",
       " 'Overflow',\n",
       " 'ROUND_05UP',\n",
       " 'ROUND_CEILING',\n",
       " 'ROUND_DOWN',\n",
       " 'ROUND_FLOOR',\n",
       " 'ROUND_HALF_DOWN',\n",
       " 'ROUND_HALF_EVEN',\n",
       " 'ROUND_HALF_UP',\n",
       " 'ROUND_UP',\n",
       " 'Rounded',\n",
       " 'Subnormal',\n",
       " 'Underflow',\n",
       " '__builtins__',\n",
       " '__cached__',\n",
       " '__doc__',\n",
       " '__file__',\n",
       " '__libmpdec_version__',\n",
       " '__loader__',\n",
       " '__name__',\n",
       " '__package__',\n",
       " '__spec__',\n",
       " '__version__',\n",
       " 'getcontext',\n",
       " 'localcontext',\n",
       " 'setcontext']"
      ]
     },
     "execution_count": 3,
     "metadata": {},
     "output_type": "execute_result"
    }
   ],
   "source": [
    "from decimal import *\n",
    "dir(decimal)"
   ]
  },
  {
   "cell_type": "code",
   "execution_count": 7,
   "metadata": {},
   "outputs": [
    {
     "data": {
      "text/plain": [
       "Context(prec=28, rounding=ROUND_HALF_EVEN, Emin=-999999, Emax=999999, capitals=1, clamp=0, flags=[], traps=[InvalidOperation, DivisionByZero, Overflow])"
      ]
     },
     "execution_count": 7,
     "metadata": {},
     "output_type": "execute_result"
    }
   ],
   "source": [
    "getcontext()"
   ]
  },
  {
   "cell_type": "code",
   "execution_count": 21,
   "metadata": {},
   "outputs": [
    {
     "data": {
      "text/plain": [
       "Decimal('7.33')"
      ]
     },
     "execution_count": 21,
     "metadata": {},
     "output_type": "execute_result"
    }
   ],
   "source": [
    "Decimal('7.325').quantize(Decimal('.60'), rounding=ROUND_UP)"
   ]
  },
  {
   "cell_type": "code",
   "execution_count": 24,
   "metadata": {},
   "outputs": [
    {
     "data": {
      "text/plain": [
       "3"
      ]
     },
     "execution_count": 24,
     "metadata": {},
     "output_type": "execute_result"
    }
   ],
   "source": [
    "import sys\n",
    "sys.version_info[0]"
   ]
  },
  {
   "cell_type": "code",
   "execution_count": 25,
   "metadata": {},
   "outputs": [
    {
     "name": "stdout",
     "output_type": "stream",
     "text": [
      ">>> "
     ]
    }
   ],
   "source": [
    "print (\">>> \", end='')"
   ]
  },
  {
   "cell_type": "code",
   "execution_count": 26,
   "metadata": {},
   "outputs": [
    {
     "name": "stdout",
     "output_type": "stream",
     "text": [
      ">>> more text\n"
     ]
    }
   ],
   "source": [
    "print (\">>> \", end='')\n",
    "print('more text')"
   ]
  },
  {
   "cell_type": "code",
   "execution_count": 34,
   "metadata": {
    "scrolled": true
   },
   "outputs": [
    {
     "name": "stdout",
     "output_type": "stream",
     "text": [
      ">>> \n",
      "more text\n"
     ]
    }
   ],
   "source": [
    "print (\">>> \")\n",
    "print('more text')"
   ]
  },
  {
   "cell_type": "markdown",
   "metadata": {},
   "source": [
    "### Another attempt at solving Pi"
   ]
  },
  {
   "cell_type": "code",
   "execution_count": 41,
   "metadata": {},
   "outputs": [
    {
     "name": "stdout",
     "output_type": "stream",
     "text": [
      "Enter the number of decimals to calculate to: 20\n",
      "3.14159265358979323846\n"
     ]
    }
   ],
   "source": [
    "#!/usr/bin/env python3\n",
    "\n",
    "# Find PI to the Nth Digit\n",
    "# Have the user enter a number 'n'\n",
    "# and print out PI to the 'n'th digit\n",
    "\n",
    "# https://rosettacode.org/wiki/Pi#Python\n",
    "\n",
    "def calcPi(limit):  # Generator function\n",
    "    \"\"\"\n",
    "    Prints out the digits of PI\n",
    "    until it reaches the given limit\n",
    "    \"\"\"\n",
    "\n",
    "    q, r, t, k, n, l = 1, 0, 1, 1, 3, 3\n",
    "\n",
    "    decimal = limit\n",
    "    counter = 0\n",
    "\n",
    "    while counter != decimal + 1:\n",
    "            if 4 * q + r - t < n * t:\n",
    "                    # yield digit\n",
    "                    yield n\n",
    "                    # insert period after first digit\n",
    "                    if counter == 0:\n",
    "                            yield '.'\n",
    "                    # end\n",
    "                    if decimal == counter:\n",
    "                            print('')\n",
    "                            break\n",
    "                    counter += 1\n",
    "                    nr = 10 * (r - n * t)\n",
    "                    n = ((10 * (3 * q + r)) // t) - 10 * n\n",
    "                    q *= 10\n",
    "                    r = nr\n",
    "            else:\n",
    "                    nr = (2 * q + r) * l\n",
    "                    nn = (q * (7 * k) + 2 + (r * l)) // (t * l)\n",
    "                    q *= k\n",
    "                    t *= l\n",
    "                    l += 2\n",
    "                    k += 1\n",
    "                    n = nn\n",
    "                    r = nr\n",
    "\n",
    "\n",
    "def main():  # Wrapper function\n",
    "\n",
    "    # Calls CalcPi with the given limit\n",
    "    pi_digits = calcPi(int(input(\n",
    "        \"Enter the number of decimals to calculate to: \")))\n",
    "\n",
    "    i = 0\n",
    "\n",
    "    # Prints the output of calcPi generator function\n",
    "    # Inserts a newline after every 40th number\n",
    "    for d in pi_digits:\n",
    "            print(d, end='')\n",
    "            i += 1\n",
    "            if i == 40:\n",
    "                print(\"\")\n",
    "                i = 0\n",
    "\n",
    "if __name__ == '__main__':\n",
    "    main()"
   ]
  },
  {
   "cell_type": "markdown",
   "metadata": {},
   "source": [
    "# Calculating Factorial"
   ]
  },
  {
   "cell_type": "code",
   "execution_count": 52,
   "metadata": {},
   "outputs": [
    {
     "data": {
      "text/plain": [
       "[1, 1, 2, 6, 24, 120]"
      ]
     },
     "execution_count": 52,
     "metadata": {},
     "output_type": "execute_result"
    }
   ],
   "source": [
    "def factorial(n):\n",
    "    factorials = [1]\n",
    "    for i in range(1, n + 1):\n",
    "        factorials.append(factorials[i - 1] * i)\n",
    "    return factorials\n",
    "\n",
    "factorial(5)"
   ]
  },
  {
   "cell_type": "markdown",
   "metadata": {},
   "source": [
    "# Fibonacci Sequence \n",
    "Enter a number and have the program generate the Fibonacci sequence to that number or to the Nth number."
   ]
  },
  {
   "cell_type": "code",
   "execution_count": 12,
   "metadata": {},
   "outputs": [
    {
     "name": "stdout",
     "output_type": "stream",
     "text": [
      "How many numbers do you need? 10\n",
      "1, 1, 2, 3, 5, 8, 13, 21, 34, 55\n"
     ]
    }
   ],
   "source": [
    "#!/usr/bin/env python3\n",
    "\n",
    "# Fibonacci Sequence Generator\n",
    "# Have the user enter a number and\n",
    "# generate a fibonacci sequence\n",
    "# which size is equivalent to that number.\n",
    "\n",
    "\n",
    "def fibSequence(n):\n",
    "    \"\"\"\n",
    "    Generates a fibonacci sequence\n",
    "    with the size of n\n",
    "    \"\"\"\n",
    "    assert n > 0\n",
    "\n",
    "    series = [1]\n",
    "\n",
    "    while len(series) < n:\n",
    "        if len(series) == 1:\n",
    "            series.append(1)\n",
    "        else:\n",
    "            series.append(series[-1] + series[-2])\n",
    "\n",
    "    for i in range(len(series)):  # Convert the numbers to strings\n",
    "        series[i] = str(series[i])\n",
    "\n",
    "    return(', '.join(series))  # Return the sequence seperated by commas\n",
    "    \n",
    "\n",
    "\n",
    "def main():  # Wrapper function\n",
    "\n",
    "    print(fibSequence(int(input('How many numbers do you need? '))))\n",
    "\n",
    "if __name__ == '__main__':\n",
    "    main()"
   ]
  },
  {
   "cell_type": "code",
   "execution_count": 64,
   "metadata": {},
   "outputs": [
    {
     "name": "stdout",
     "output_type": "stream",
     "text": [
      "0.01600000000325963\n"
     ]
    }
   ],
   "source": [
    "# first fibonacci number is '1'. Not 0\n",
    "class Fib():\n",
    "    def __init__(self):\n",
    "        self.fibs=[0,1]\n",
    "    def __call__(self,n):\n",
    "        fibs=self.fibs\n",
    "        try:\n",
    "            f = fibs[n]\n",
    "        except IndexError:\n",
    "            m = len(fibs)\n",
    "            for i in range(m, n+1):\n",
    "                fibs.append(fibs[-1] + fibs[-2])\n",
    "            f = fibs[-1]\n",
    "        return f\n",
    "lastingfib=Fib()\n",
    "\n",
    "import time\n",
    "t0=time.monotonic();\n",
    "lastingfib(10000)\n",
    "print(time.monotonic()-t0)"
   ]
  },
  {
   "cell_type": "markdown",
   "metadata": {},
   "source": [
    "# Leetcode \n",
    "## Challenge 1\n",
    "https://leetcode.com/problems/two-sum/"
   ]
  },
  {
   "cell_type": "code",
   "execution_count": 8,
   "metadata": {},
   "outputs": [
    {
     "data": {
      "text/plain": [
       "[0, 1]"
      ]
     },
     "execution_count": 8,
     "metadata": {},
     "output_type": "execute_result"
    }
   ],
   "source": [
    "def twoSum(nums, target):\n",
    "    n = len(nums)\n",
    "    for i in range(n):\n",
    "        for j in range(i+1,n):\n",
    "            if nums[i]+nums[j] == target:\n",
    "                return [i,j]\n",
    "twoSum([2,7,11,15], 9)"
   ]
  },
  {
   "cell_type": "code",
   "execution_count": 19,
   "metadata": {},
   "outputs": [],
   "source": [
    "class Solution:\n",
    "    def twoSum(self, nums, target):\n",
    "\n",
    "        # Numbers that are needed to meet the target will be stored here along with an index of a complementary number.\n",
    "        wanted_nums = {} # empty dictionary\n",
    "\n",
    "        # Interating through numbers list\n",
    "        for i in range(len(nums)):\n",
    "\n",
    "            # If number in wanted_nums it means we've got the sum!\n",
    "            # returns the largest index for a number that has repeated in nums[]\n",
    "            if nums[i] in wanted_nums:\n",
    "                print([wanted_nums[nums[i]], i])\n",
    "                return wanted_nums\n",
    "\n",
    "            # If not, we store the difference (so the number we seek) as key, along with an index as its value\n",
    "            else:\n",
    "                wanted_nums[target - nums[i]] = i\n",
    "                # eg: if we need 1 at 8th index--> we make 1 the key, 8 its value"
   ]
  },
  {
   "cell_type": "code",
   "execution_count": 20,
   "metadata": {},
   "outputs": [
    {
     "name": "stdout",
     "output_type": "stream",
     "text": [
      "[0, 10]\n"
     ]
    },
    {
     "data": {
      "text/plain": [
       "{1: 0, -4: 1, -8: 2, -12: 3, -29: 4, -40: 5, -53: 6, -9: 7, -31: 8, -51: 9}"
      ]
     },
     "execution_count": 20,
     "metadata": {},
     "output_type": "execute_result"
    }
   ],
   "source": [
    "a = Solution()\n",
    "a.twoSum([2,7,11,15,32,43,56,12,34,54,1], 3)"
   ]
  },
  {
   "cell_type": "code",
   "execution_count": 27,
   "metadata": {},
   "outputs": [
    {
     "data": {
      "text/plain": [
       "100"
      ]
     },
     "execution_count": 27,
     "metadata": {},
     "output_type": "execute_result"
    }
   ],
   "source": [
    "len(range(0,1000,10))"
   ]
  },
  {
   "cell_type": "code",
   "execution_count": 76,
   "metadata": {},
   "outputs": [
    {
     "data": {
      "text/plain": [
       "3"
      ]
     },
     "execution_count": 76,
     "metadata": {},
     "output_type": "execute_result"
    }
   ],
   "source": [
    "len(range(5,10,2))"
   ]
  },
  {
   "cell_type": "markdown",
   "metadata": {},
   "source": [
    "# Linked Lists"
   ]
  },
  {
   "cell_type": "code",
   "execution_count": 3,
   "metadata": {},
   "outputs": [
    {
     "name": "stdout",
     "output_type": "stream",
     "text": [
      "Mon\n",
      "Tue\n",
      "Wed\n"
     ]
    }
   ],
   "source": [
    "class Node:\n",
    "    def __init__(self, dataval=None):\n",
    "        self.dataval = dataval\n",
    "        self.nextval = None\n",
    "\n",
    "class SLinkedList:\n",
    "    def __init__(self):\n",
    "        self.headval = None\n",
    "\n",
    "    def listprint(self):\n",
    "        printval = self.headval\n",
    "        while printval is not None:\n",
    "            print (printval.dataval)\n",
    "            printval = printval.nextval\n",
    "\n",
    "list = SLinkedList()\n",
    "list.headval = Node(\"Mon\")\n",
    "e2 = Node(\"Tue\")\n",
    "e3 = Node(\"Wed\")\n",
    "\n",
    "# Link first Node to second node\n",
    "list.headval.nextval = e2\n",
    "\n",
    "# Link second Node to third node\n",
    "e2.nextval = e3\n",
    "\n",
    "list.listprint()"
   ]
  },
  {
   "cell_type": "markdown",
   "metadata": {},
   "source": [
    "# Caeser Cypher"
   ]
  },
  {
   "cell_type": "code",
   "execution_count": 29,
   "metadata": {},
   "outputs": [
    {
     "name": "stdout",
     "output_type": "stream",
     "text": [
      "Text  : g fmnc wms bgblr rpylqjyrc gr zw fylb. rfyrq ufyr amknsrcpq ypc dmp. bmgle gr gl zw fylb gq glcddgagclr ylb rfyr'q ufw rfgq rcvr gq qm jmle. sqgle qrpgle.kyicrpylq() gq pcamkkclbcb. lmu ynnjw ml rfc spj\n",
      "Shift : 2\n",
      "Cipher: i hope you didnt translate it by hand. thats what computers are for. doing it in by hand is inefficient and that's why this text is so long. using string.maketrans() is recommended. now apply on the url\n"
     ]
    }
   ],
   "source": [
    "# caesar cypher\n",
    "def encrypt(text,s): \n",
    "    result = \"\" \n",
    "  \n",
    "    # traverse text \n",
    "    for i in range(len(text)): \n",
    "        char = text[i] \n",
    "  \n",
    "        # Encrypt uppercase characters \n",
    "        if (char.isupper()): \n",
    "            result += chr((ord(char) + s-65) % 26 + 65) \n",
    "  \n",
    "        # Encrypt lowercase characters \n",
    "        elif (char.islower()): \n",
    "            result += chr((ord(char) + s - 97) % 26 + 97)\n",
    "        \n",
    "        # leave the rest as is\n",
    "        else:\n",
    "            result +=char\n",
    "  \n",
    "    return result \n",
    "  \n",
    "#check the above function \n",
    "text = \"g fmnc wms bgblr rpylqjyrc gr zw fylb. rfyrq ufyr amknsrcpq ypc dmp. bmgle gr gl zw fylb gq glcddgagclr ylb rfyr'q ufw rfgq rcvr gq qm jmle. sqgle qrpgle.kyicrpylq() gq pcamkkclbcb. lmu ynnjw ml rfc spj\"\n",
    "s = 2\n",
    "print(\"Text  : \" + text )\n",
    "print(\"Shift : \" + str(s))\n",
    "print(\"Cipher: \" + encrypt(text,s))"
   ]
  },
  {
   "cell_type": "markdown",
   "metadata": {},
   "source": [
    "# Convert Text to Number"
   ]
  },
  {
   "cell_type": "code",
   "execution_count": 53,
   "metadata": {},
   "outputs": [],
   "source": [
    "from string import ascii_lowercase\n",
    "LETTERS = {letter: str(index) for index, letter in enumerate(ascii_lowercase, start=1)} \n",
    "\n",
    "def alphabet_position(text):\n",
    "    text = text.lower()\n",
    "\n",
    "    numbers = [LETTERS[character] for character in text if character in LETTERS]\n",
    "\n",
    "    return ' '.join(numbers) # numbers is of type 'list'"
   ]
  },
  {
   "cell_type": "code",
   "execution_count": 54,
   "metadata": {},
   "outputs": [
    {
     "data": {
      "text/plain": [
       "'20 8 5 19 21 14 19 5 20 19 5 20 19 1 20 20 23 5 12 22 5 15 3 12 15 3 11'"
      ]
     },
     "execution_count": 54,
     "metadata": {},
     "output_type": "execute_result"
    }
   ],
   "source": [
    "alphabet_position(\"The sunset sets at twelve o' clock.\")"
   ]
  },
  {
   "cell_type": "code",
   "execution_count": 45,
   "metadata": {
    "scrolled": true
   },
   "outputs": [
    {
     "data": {
      "text/plain": [
       "{'a': '1',\n",
       " 'b': '2',\n",
       " 'c': '3',\n",
       " 'd': '4',\n",
       " 'e': '5',\n",
       " 'f': '6',\n",
       " 'g': '7',\n",
       " 'h': '8',\n",
       " 'i': '9',\n",
       " 'j': '10',\n",
       " 'k': '11',\n",
       " 'l': '12',\n",
       " 'm': '13',\n",
       " 'n': '14',\n",
       " 'o': '15',\n",
       " 'p': '16',\n",
       " 'q': '17',\n",
       " 'r': '18',\n",
       " 's': '19',\n",
       " 't': '20',\n",
       " 'u': '21',\n",
       " 'v': '22',\n",
       " 'w': '23',\n",
       " 'x': '24',\n",
       " 'y': '25',\n",
       " 'z': '26'}"
      ]
     },
     "execution_count": 45,
     "metadata": {},
     "output_type": "execute_result"
    }
   ],
   "source": [
    "LETTERS"
   ]
  },
  {
   "cell_type": "code",
   "execution_count": 41,
   "metadata": {},
   "outputs": [
    {
     "name": "stdout",
     "output_type": "stream",
     "text": [
      "{'a': '1', 'b': '2', 'c': '3', 'd': '4', 'e': '5', 'f': '6', 'g': '7', 'h': '8', 'i': '9', 'j': '10', 'k': '11', 'l': '12', 'm': '13', 'n': '14', 'o': '15', 'p': '16', 'q': '17', 'r': '18', 's': '19', 't': '20', 'u': '21', 'v': '22', 'w': '23', 'x': '24', 'y': '25', 'z': '26'}\n"
     ]
    }
   ],
   "source": [
    "dicti={}\n",
    "for index, letter in enumerate(ascii_lowercase, start=1):\n",
    "    dicti[letter]=str(index)\n",
    "print(dicti)"
   ]
  },
  {
   "cell_type": "code",
   "execution_count": 64,
   "metadata": {},
   "outputs": [
    {
     "name": "stdout",
     "output_type": "stream",
     "text": [
      "8 9 20 8 5 18 5 8 15 23 4 15 25 15 21 4 15\n",
      "8 9 20 8 5 18 5 8 15 23 4 15 25 15 21 4 15\n"
     ]
    }
   ],
   "source": [
    "text='hi there how do you do'\n",
    "print(' '.join(str(ord(c) - 96) for c in text.lower() if c.isalpha())) # generator type\n",
    "\n",
    "# better practice\n",
    "# saves effort on lowercasing every character in every loop\n",
    "# avoids use of magic number 96\n",
    "print(\" \".join([str(ord(l.lower()) - ord('a') + 1) for l in text if l.isalpha()]))"
   ]
  },
  {
   "cell_type": "markdown",
   "metadata": {},
   "source": [
    "# Find total number of vowels"
   ]
  },
  {
   "cell_type": "code",
   "execution_count": 77,
   "metadata": {},
   "outputs": [
    {
     "name": "stdout",
     "output_type": "stream",
     "text": [
      "16\n"
     ]
    }
   ],
   "source": [
    "s='dgawsenufinasv ufnvf PAFUWEGFDuiuaeufwenvsd'\n",
    "length = 0\n",
    "for i in s:\n",
    "    i=i.lower()\n",
    "    if i =='a' or i =='e' or i =='i' or i =='o' or i =='u':\n",
    "        length+=1\n",
    "print(length)"
   ]
  },
  {
   "cell_type": "markdown",
   "metadata": {},
   "source": [
    "# Find occurence of a sequence of characters"
   ]
  },
  {
   "cell_type": "code",
   "execution_count": 179,
   "metadata": {},
   "outputs": [
    {
     "name": "stdout",
     "output_type": "stream",
     "text": [
      "2\n"
     ]
    }
   ],
   "source": [
    "s='azcbobobegghakl'\n",
    "times = 0\n",
    "for i in range(len(s)):\n",
    "    if s[i:i+3:1] == 'bob':\n",
    "        times+=1\n",
    "print(times)"
   ]
  },
  {
   "cell_type": "markdown",
   "metadata": {},
   "source": [
    "# Find longest alphabetical substring"
   ]
  },
  {
   "cell_type": "code",
   "execution_count": 177,
   "metadata": {},
   "outputs": [
    {
     "name": "stdout",
     "output_type": "stream",
     "text": [
      "beggh\n"
     ]
    }
   ],
   "source": [
    "s = 'azcbobobegghakl'\n",
    "longest = ''\n",
    "for i in range(len(s)):\n",
    "    temp_longest=s[i]\n",
    "    for j in range(i+1,len(s)):\n",
    "        if s[i]<=s[j]:\n",
    "            temp_longest+=s[j]\n",
    "            i+=1\n",
    "        else:\n",
    "            break\n",
    "    if len(temp_longest)>len(longest):\n",
    "        longest = temp_longest\n",
    "print(longest)"
   ]
  },
  {
   "cell_type": "markdown",
   "metadata": {},
   "source": [
    "# Square Root Guesser"
   ]
  },
  {
   "cell_type": "code",
   "execution_count": 11,
   "metadata": {},
   "outputs": [
    {
     "name": "stdout",
     "output_type": "stream",
     "text": [
      "succeeded: 4.999999999999998\n"
     ]
    }
   ],
   "source": [
    "x = 25\n",
    "epsilon = 0.01\n",
    "step = 0.1\n",
    "guess = 0.0\n",
    "\n",
    "while abs(guess**2-x) >= epsilon:\n",
    "    if guess <= x:\n",
    "        guess += step\n",
    "    else:\n",
    "        break\n",
    "\n",
    "if abs(guess**2 - x) >= epsilon:\n",
    "    print('failed')\n",
    "else:\n",
    "    print('succeeded: ' + str(guess))"
   ]
  },
  {
   "cell_type": "markdown",
   "metadata": {},
   "source": [
    "# Bisection search"
   ]
  },
  {
   "cell_type": "code",
   "execution_count": 9,
   "metadata": {},
   "outputs": [
    {
     "name": "stdout",
     "output_type": "stream",
     "text": [
      "Please think of a number between 0 and 100!\n",
      "Is your secret number 50 ?\n",
      "Enter 'h' to indicate the guess is too high. Enter 'l' to indicate the guess is too low. Enter 'c' to indicate I guessed correctly. h\n",
      "Is your secret number 25 ?\n",
      "Enter 'h' to indicate the guess is too high. Enter 'l' to indicate the guess is too low. Enter 'c' to indicate I guessed correctly. l\n",
      "Is your secret number 37 ?\n",
      "Enter 'h' to indicate the guess is too high. Enter 'l' to indicate the guess is too low. Enter 'c' to indicate I guessed correctly. \n",
      "Retry\n",
      "Is your secret number 37 ?\n",
      "Enter 'h' to indicate the guess is too high. Enter 'l' to indicate the guess is too low. Enter 'c' to indicate I guessed correctly. l\n",
      "Is your secret number 43 ?\n",
      "Enter 'h' to indicate the guess is too high. Enter 'l' to indicate the guess is too low. Enter 'c' to indicate I guessed correctly. c\n",
      "Game over. Your secret number was:  43\n"
     ]
    }
   ],
   "source": [
    "print('Please think of a number between 0 and 100!')\n",
    "l=0\n",
    "h=100\n",
    "checker=''\n",
    "while checker!='c':\n",
    "    guess=int((l+h)/2)\n",
    "    print('Is your secret number',guess,'?')\n",
    "    checker=input(\"Enter 'h' to indicate the guess is too high. Enter 'l' to indicate the guess is too low. Enter 'c' to indicate I guessed correctly. \")\n",
    "    if checker =='l':\n",
    "        l=guess\n",
    "    elif checker == 'h':\n",
    "        h=guess\n",
    "    elif checker=='c':\n",
    "        print('Game over. Your secret number was: ',guess)\n",
    "    else:\n",
    "        print('Retry')"
   ]
  },
  {
   "cell_type": "markdown",
   "metadata": {},
   "source": [
    "# Tower of Hanoi"
   ]
  },
  {
   "cell_type": "code",
   "execution_count": 61,
   "metadata": {},
   "outputs": [
    {
     "name": "stdout",
     "output_type": "stream",
     "text": [
      "Moving from A to C\n",
      "Moving from A to B\n",
      "Moving from C to B\n",
      "Moving from A to C\n",
      "Moving from B to A\n",
      "Moving from B to C\n",
      "Moving from A to C\n"
     ]
    }
   ],
   "source": [
    "def printMove(fr,to):\n",
    "    print('Moving from',fr,'to',to)\n",
    "def Towers(n,fr,to,spare):\n",
    "    if n==1:\n",
    "        printMove(fr,to)\n",
    "    else:\n",
    "        Towers(n-1,fr,spare,to)\n",
    "        Towers(1,fr,to,spare)\n",
    "        Towers(n-1,spare,to,fr)\n",
    "Towers(3,'A','C','B')"
   ]
  },
  {
   "cell_type": "markdown",
   "metadata": {},
   "source": [
    "# Greatest Common Divisor"
   ]
  },
  {
   "cell_type": "code",
   "execution_count": 100,
   "metadata": {},
   "outputs": [],
   "source": [
    "def gcdIter(a, b):\n",
    "    '''\n",
    "    a, b: positive integers\n",
    "    \n",
    "    returns: a positive integer, the greatest common divisor of a & b.\n",
    "    '''\n",
    "    gcd = a if a<b else b\n",
    "    \n",
    "    \n",
    "#     for n in range(gcd,0,-1):\n",
    "#         if a%n==0 and b%n==0:\n",
    "#             return n\n",
    "    \n",
    "    while not(a%gcd==0 and b%gcd==0):\n",
    "        gcd -=1\n",
    "    return gcd\n",
    "\n",
    "def gcdRecur(a, b):\n",
    "    '''\n",
    "    a, b: positive integers\n",
    "    \n",
    "    returns: a positive integer, the greatest common divisor of a & b.\n",
    "    '''\n",
    "    if b==0:\n",
    "        return a\n",
    "    return gcdRecur(b,a%b)\n",
    "    "
   ]
  },
  {
   "cell_type": "code",
   "execution_count": 101,
   "metadata": {},
   "outputs": [
    {
     "data": {
      "text/plain": [
       "1"
      ]
     },
     "execution_count": 101,
     "metadata": {},
     "output_type": "execute_result"
    }
   ],
   "source": [
    "gcdIter(933,7912)"
   ]
  },
  {
   "cell_type": "code",
   "execution_count": 103,
   "metadata": {},
   "outputs": [
    {
     "data": {
      "text/plain": [
       "3"
      ]
     },
     "execution_count": 103,
     "metadata": {},
     "output_type": "execute_result"
    }
   ],
   "source": [
    "gcdRecur(933,7914)"
   ]
  },
  {
   "cell_type": "markdown",
   "metadata": {},
   "source": [
    "# Recursive Bisection Sort"
   ]
  },
  {
   "cell_type": "code",
   "execution_count": 123,
   "metadata": {},
   "outputs": [
    {
     "data": {
      "text/plain": [
       "True"
      ]
     },
     "execution_count": 123,
     "metadata": {},
     "output_type": "execute_result"
    }
   ],
   "source": [
    "import string\n",
    "def isIn(char, aStr):\n",
    "    '''\n",
    "    char: a single character\n",
    "    aStr: an alphabetized string\n",
    "    \n",
    "    returns: True if char is in aStr; False otherwise\n",
    "    '''\n",
    "    if aStr =='':\n",
    "        return False\n",
    "    else:\n",
    "        length=len(aStr)\n",
    "        current=aStr[length//2]\n",
    "        \n",
    "    if length==1:\n",
    "        return char==aStr\n",
    "    \n",
    "    if current == char:\n",
    "        return True\n",
    "    \n",
    "    elif current<char:\n",
    "        return isIn(char,aStr[(length//2)+1::])\n",
    "    elif current>char:\n",
    "        return isIn(char,aStr[:(length//2):])\n",
    "    else:\n",
    "        return False\n",
    "\n",
    "isIn('e',string.ascii_lowercase)"
   ]
  },
  {
   "cell_type": "code",
   "execution_count": 132,
   "metadata": {},
   "outputs": [],
   "source": [
    "from math import *\n",
    "def polysum(n,s):\n",
    "    '''\n",
    "    n: number of sides\n",
    "    s: length of side\n",
    "    \n",
    "    output: sum of area and perimeter\n",
    "    '''\n",
    "    areaCalc=(0.25*n*s*s)/tan(pi/n)\n",
    "    perimeter=(n*s)**2\n",
    "    return round(areaCalc+perimeter,4)"
   ]
  },
  {
   "cell_type": "code",
   "execution_count": 133,
   "metadata": {},
   "outputs": [
    {
     "data": {
      "text/plain": [
       "37.7321"
      ]
     },
     "execution_count": 133,
     "metadata": {},
     "output_type": "execute_result"
    }
   ],
   "source": [
    "polysum(3,2)"
   ]
  },
  {
   "cell_type": "markdown",
   "metadata": {},
   "source": [
    "# Debt calculate"
   ]
  },
  {
   "cell_type": "markdown",
   "metadata": {},
   "source": [
    "### Minimum monthly payments made"
   ]
  },
  {
   "cell_type": "code",
   "execution_count": 145,
   "metadata": {},
   "outputs": [
    {
     "name": "stdout",
     "output_type": "stream",
     "text": [
      "472.38\n",
      "461.05\n",
      "449.98\n",
      "439.18\n",
      "428.64\n",
      "418.35\n",
      "408.31\n",
      "398.51\n",
      "388.95\n",
      "379.62\n",
      "370.5\n",
      "361.61\n"
     ]
    }
   ],
   "source": [
    "balance = 484\n",
    "annualInterestRate = 0.2\n",
    "monthlyPaymentRate = 0.04\n",
    "\n",
    "monthlyinterestRate=annualInterestRate/12\n",
    "\n",
    "for i in range(12):\n",
    "    # calculate how much is the payment for the month\n",
    "    payment = balance*monthlyPaymentRate\n",
    "    #subtract that payment from balance\n",
    "    balance = balance-payment\n",
    "    #on the remaining balance, calculate the monthly interest\n",
    "    interestAccrued = balance*monthlyinterestRate\n",
    "    # add that interest to the balance\n",
    "    balance = balance+interestAccrued\n",
    "     \n",
    "    print(round(balance,2))"
   ]
  },
  {
   "cell_type": "markdown",
   "metadata": {},
   "source": [
    "### Fixed Monthly payments to clear debt in 12 months"
   ]
  },
  {
   "cell_type": "code",
   "execution_count": 177,
   "metadata": {},
   "outputs": [
    {
     "name": "stdout",
     "output_type": "stream",
     "text": [
      "310\n"
     ]
    }
   ],
   "source": [
    "balance = 3329\n",
    "annualInterestRate = 0.2\n",
    "\n",
    "monthlyinterestRate=annualInterestRate/12\n",
    "payment =0\n",
    "\n",
    "while True:\n",
    "    payment+=10\n",
    "    temp_balance=balance\n",
    "    \n",
    "    for i in range(12):\n",
    "        temp_balance=temp_balance-payment\n",
    "        interestAccrued=temp_balance*monthlyinterestRate\n",
    "        temp_balance=temp_balance+interestAccrued\n",
    "    if temp_balance <=0:\n",
    "        break\n",
    "        \n",
    "print(payment)"
   ]
  },
  {
   "cell_type": "markdown",
   "metadata": {},
   "source": [
    "# Fixed payments using bisection search\n",
    "https://courses.edx.org/courses/course-v1:MITx+6.00.1x+2T2017_2/courseware/0de4fecc5a9a4749923133fcf4de181f/e137765987514da7851a59dedeb5ecec/?child=first"
   ]
  },
  {
   "cell_type": "code",
   "execution_count": 203,
   "metadata": {},
   "outputs": [
    {
     "name": "stdout",
     "output_type": "stream",
     "text": [
      "90324.99\n"
     ]
    }
   ],
   "source": [
    "balance = 999999\n",
    "annualInterestRate = 0.18\n",
    "\n",
    "monthlyinterestRate=annualInterestRate/12\n",
    "l=balance/12\n",
    "h=(balance*(1+monthlyinterestRate)**12)/12.0\n",
    "\n",
    "while True:\n",
    "    temp_balance=balance\n",
    "    guess_pay=(l+h)/2\n",
    "    # print('>>> L,H,Guess',l,h,guess_pay)\n",
    "    for i in range(12):\n",
    "        # subtract that payment from balance\n",
    "        temp_balance = temp_balance-guess_pay\n",
    "        # on the remaining balance, calculate the monthly interest\n",
    "        interestAccrued = temp_balance*monthlyinterestRate\n",
    "        # add that interest to the balance\n",
    "        temp_balance = temp_balance+interestAccrued\n",
    "    \n",
    "    # print('temp',temp_balance)\n",
    "    \n",
    "    # the smaller the compared with value, the faster the code.\n",
    "    # in this case, an error between 0 & 1 is acceptable. \n",
    "    # meaning, year end amount remaining to be paid can be between 0-1 dollars, for the given guess_pay\n",
    "    \n",
    "    if temp_balance>1:\n",
    "        l=guess_pay\n",
    "        # print('l',l)\n",
    "    elif temp_balance<0:\n",
    "        h=guess_pay\n",
    "        # print('h',h)\n",
    "    else:\n",
    "        # print('guess',guess_pay)\n",
    "        print(round(guess_pay,2))\n",
    "        break\n",
    "        \n",
    "#expected: 90325.03"
   ]
  },
  {
   "cell_type": "markdown",
   "metadata": {},
   "source": [
    "# Prime Factorization\n",
    "Have the user enter a number and find all Prime Factors (if there are any) and display them"
   ]
  },
  {
   "cell_type": "markdown",
   "metadata": {},
   "source": [
    "# Odd Tuples returner"
   ]
  },
  {
   "cell_type": "code",
   "execution_count": 238,
   "metadata": {},
   "outputs": [
    {
     "name": "stdout",
     "output_type": "stream",
     "text": [
      "('1', 'a', 'tuple')\n",
      "('2', 'a', 'tuple')\n",
      "('3', 'a', 'tuple')\n"
     ]
    }
   ],
   "source": [
    "def oddTuples1(aTup):\n",
    "    '''\n",
    "    aTup: a tuple\n",
    "    \n",
    "    returns: tuple, every other element of aTup. \n",
    "    '''\n",
    "    newTup=()\n",
    "    for index,val in enumerate(aTup):\n",
    "        if index%2==0:\n",
    "            newTup+=(val,)\n",
    "    return newTup\n",
    "\n",
    "def oddTuples2(aTup):\n",
    "    '''\n",
    "    aTup: a tuple\n",
    "    \n",
    "    returns: tuple, every other element of aTup. \n",
    "    '''\n",
    "    # a placeholder to gather our response\n",
    "    rTup = ()\n",
    "    index = 0\n",
    "\n",
    "    # Idea: Iterate over the elements in aTup, counting by 2\n",
    "    #  (every other element) and adding that element to \n",
    "    #  the result\n",
    "    while index < len(aTup):\n",
    "        rTup += (aTup[index],)\n",
    "        index += 2\n",
    "    return rTup\n",
    "\n",
    "def oddTuples3(aTup):\n",
    "    '''\n",
    "    Another way to solve the problem.\n",
    " \n",
    "    aTup: a tuple\n",
    "     \n",
    "    returns: tuple, every other element of aTup. \n",
    "    '''\n",
    "    # Here is another solution to the problem that uses tuple \n",
    "    #  slicing by 2 to achieve the same result\n",
    "    return aTup[::2]\n",
    "\n",
    "print(oddTuples1(('1', 'am', 'a', 'test', 'tuple')))\n",
    "print(oddTuples2(('2', 'am', 'a', 'test', 'tuple')))\n",
    "print(oddTuples3(('3', 'am', 'a', 'test', 'tuple')))"
   ]
  },
  {
   "cell_type": "markdown",
   "metadata": {},
   "source": [
    "# Fast Fib"
   ]
  },
  {
   "cell_type": "code",
   "execution_count": 2,
   "metadata": {},
   "outputs": [
    {
     "data": {
      "text/plain": [
       "12586269025"
      ]
     },
     "execution_count": 2,
     "metadata": {},
     "output_type": "execute_result"
    }
   ],
   "source": [
    "import math\n",
    "def fib(n):\n",
    "    return round((1/(math.sqrt(5))*(((1+math.sqrt(5))/2)**n-((1-math.sqrt(5))/2)**n)))\n",
    "fib(50)"
   ]
  },
  {
   "cell_type": "markdown",
   "metadata": {},
   "source": [
    "# Song Dictionary"
   ]
  },
  {
   "cell_type": "code",
   "execution_count": 16,
   "metadata": {
    "scrolled": true
   },
   "outputs": [
    {
     "data": {
      "text/plain": [
       "{'i': 30,\n",
       " 'miss': 26,\n",
       " 'you': 30,\n",
       " 'hello': 1,\n",
       " 'there': 1,\n",
       " 'the': 16,\n",
       " 'angel': 1,\n",
       " 'from': 2,\n",
       " 'my': 7,\n",
       " 'nightmare': 1,\n",
       " 'shadow': 1,\n",
       " 'in': 3,\n",
       " 'background': 1,\n",
       " 'of': 3,\n",
       " 'morgue': 1,\n",
       " 'unsuspecting': 1,\n",
       " 'victim': 1,\n",
       " 'darkness': 2,\n",
       " 'valley': 1,\n",
       " 'we': 2,\n",
       " 'can': 2,\n",
       " 'live': 1,\n",
       " 'like': 2,\n",
       " 'jack': 1,\n",
       " 'and': 9,\n",
       " 'sally': 1,\n",
       " 'if': 1,\n",
       " 'want': 1,\n",
       " 'where': 2,\n",
       " 'always': 2,\n",
       " 'find': 1,\n",
       " 'me': 7,\n",
       " \"we'll\": 3,\n",
       " 'have': 1,\n",
       " 'halloween': 1,\n",
       " 'on': 8,\n",
       " 'christmas': 1,\n",
       " 'night': 1,\n",
       " 'wish': 2,\n",
       " 'this': 4,\n",
       " 'never': 2,\n",
       " 'ends': 2,\n",
       " 'are': 1,\n",
       " \"i'm\": 1,\n",
       " 'so': 2,\n",
       " 'sorry': 1,\n",
       " 'cannot': 2,\n",
       " 'sleep': 1,\n",
       " 'dream': 1,\n",
       " 'tonight': 3,\n",
       " 'need': 1,\n",
       " 'somebody': 1,\n",
       " 'sick': 1,\n",
       " 'strange': 1,\n",
       " 'comes': 1,\n",
       " 'creeping': 1,\n",
       " 'haunting': 1,\n",
       " 'every': 1,\n",
       " 'time': 7,\n",
       " 'as': 1,\n",
       " 'stared': 1,\n",
       " 'counted': 1,\n",
       " 'webs': 1,\n",
       " 'all': 1,\n",
       " 'spiders': 1,\n",
       " 'catching': 1,\n",
       " 'things': 1,\n",
       " 'eating': 1,\n",
       " 'their': 1,\n",
       " 'insides': 1,\n",
       " 'indecision': 1,\n",
       " 'to': 1,\n",
       " 'call': 1,\n",
       " 'hear': 1,\n",
       " 'your': 7,\n",
       " 'voice': 7,\n",
       " 'treason': 1,\n",
       " 'will': 1,\n",
       " 'come': 1,\n",
       " 'home': 1,\n",
       " 'stop': 2,\n",
       " 'pain': 2,\n",
       " \"don't\": 6,\n",
       " 'waste': 6,\n",
       " \"you're\": 6,\n",
       " 'already': 6,\n",
       " 'inside': 6,\n",
       " 'head': 6}"
      ]
     },
     "execution_count": 16,
     "metadata": {},
     "output_type": "execute_result"
    }
   ],
   "source": [
    "# make a string into a list of words\n",
    "import re\n",
    "\n",
    "song_str = \"\"\"I miss you, miss you\n",
    "Hello there \n",
    "The angel from my nightmare\n",
    "The shadow in the background of the morgue\n",
    "The unsuspecting victim \n",
    "Of darkness in the valley\n",
    "We can live like Jack and Sally if we want\n",
    "Where you can always find me\n",
    "And we'll have Halloween on Christmas\n",
    "And in the night we'll wish this never ends\n",
    "We'll wish this never ends\n",
    "I miss you, I miss you\n",
    "I miss you I miss you\n",
    "Where are you?\n",
    "And I'm so sorry\n",
    "I cannot sleep I cannot dream tonight\n",
    "I need somebody and always\n",
    "This sick strange darkness\n",
    "Comes creeping on so haunting every time\n",
    "And as I stared I counted\n",
    "The Webs from all the spiders\n",
    "Catching things and eating their insides\n",
    "Like indecision to call you\n",
    "And hear your voice of treason\n",
    "Will you come home and stop the pain tonight\n",
    "Stop this pain tonight\n",
    "Don't waste your time on me \n",
    "You're already the voice inside my head (I miss you, I miss you)\n",
    "Don't waste your time on me \n",
    "You're already the voice inside my head (I miss you, I miss you)\n",
    "Don't waste your time on me \n",
    "You're already the voice inside my head (I miss you, I miss you)\n",
    "Don't waste your time on me \n",
    "You're already the voice inside my head (I miss you, I miss you)\n",
    "Don't waste your time on me \n",
    "You're already the voice inside my head (I miss you, I miss you)\n",
    "Don't waste your time on me \n",
    "You're already the voice inside my head (I miss you, I miss you)\n",
    "I miss you, I miss you\n",
    "I miss you, I miss you\n",
    "I miss you, I miss you\n",
    "I miss you, I miss you\"\"\"\n",
    "song_List = re.sub(\"[^\\w\\']\", \" \",  song_str.lower()).split()\n",
    "\n",
    "frequency={}\n",
    "for word in song_List:\n",
    "    if word in frequency:\n",
    "        frequency[word]+=1\n",
    "    else:\n",
    "        frequency[word]=1\n",
    "frequency\n",
    "    "
   ]
  },
  {
   "cell_type": "code",
   "execution_count": 28,
   "metadata": {},
   "outputs": [
    {
     "data": {
      "text/plain": [
       "[1, 7, 5, 4, '3', '18d', 10, 0]"
      ]
     },
     "execution_count": 28,
     "metadata": {},
     "output_type": "execute_result"
    }
   ],
   "source": [
    "def biggest(aDict):\n",
    "    '''\n",
    "    aDict: A dictionary, where all the values are lists.\n",
    "\n",
    "    returns: The key with the largest number of values associated with it\n",
    "    '''\n",
    "#     longestlength=0\n",
    "#     for key, value in aDict.items():\n",
    "#         if len(value)>longestlength:\n",
    "#             longestlength=len(value)\n",
    "#             longestkey=key     \n",
    "#     return (longestkey)\n",
    "\n",
    "#     return max(aDict)\n",
    "\n",
    "    for i in aDict:\n",
    "        if aDict[i] == max(aDict.values()):\n",
    "            break\n",
    "    return max(aDict.values())\n",
    "\n",
    "\n",
    "biggest({'b': [1, 7, 5, 4, '3', '18d', 10, 0], 'a': []})"
   ]
  }
 ],
 "metadata": {
  "kernelspec": {
   "display_name": "Python 3",
   "language": "python",
   "name": "python3"
  },
  "language_info": {
   "codemirror_mode": {
    "name": "ipython",
    "version": 3
   },
   "file_extension": ".py",
   "mimetype": "text/x-python",
   "name": "python",
   "nbconvert_exporter": "python",
   "pygments_lexer": "ipython3",
   "version": "3.7.1"
  }
 },
 "nbformat": 4,
 "nbformat_minor": 2
}
